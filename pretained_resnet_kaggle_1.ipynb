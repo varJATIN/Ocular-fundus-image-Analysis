{
  "nbformat": 4,
  "nbformat_minor": 0,
  "metadata": {
    "colab": {
      "name": "pretained_resnet_kaggle.ipynb",
      "provenance": [],
      "collapsed_sections": [],
      "authorship_tag": "ABX9TyM4wnLVlYrp7yG/Ydcv6LqT"
    },
    "kernelspec": {
      "name": "python3",
      "display_name": "Python 3"
    },
    "language_info": {
      "name": "python"
    },
    "accelerator": "GPU"
  },
  "cells": [
    {
      "cell_type": "code",
      "metadata": {
        "id": "BVA_ISwfVldq"
      },
      "source": [
        "import os\n",
        "import sys\n",
        "import random\n",
        "import IPython\n",
        "\n",
        "from sklearn.utils import shuffle\n",
        "from sklearn.model_selection import train_test_split\n",
        "\n",
        "import numpy as np\n",
        "import pandas as pd\n",
        "import cv2\n",
        "import matplotlib.pyplot as plt\n",
        "\n",
        "import tensorflow as tf\n",
        "from tensorflow import keras\n",
        "\n",
        "from sklearn.utils import shuffle\n",
        "from sklearn.datasets import make_classification\n",
        "from sklearn.metrics import plot_confusion_matrix,confusion_matrix\n",
        "\n",
        "from matplotlib.pyplot import imread\n",
        "from cv2 import resize\n",
        "\n",
        "from keras import layers\n",
        "from keras.layers import Input, Add, Dense, Activation, ZeroPadding2D, BatchNormalization, Flatten, Conv2D, AveragePooling2D, MaxPooling2D, Dropout\n",
        "from keras.models import Model, load_model\n",
        "from keras.preprocessing import image\n",
        "from keras.utils import layer_utils\n",
        "from keras.utils.data_utils import get_file\n",
        "from keras.applications.imagenet_utils import preprocess_input\n",
        "import pydot\n",
        "from keras.utils.vis_utils import model_to_dot\n",
        "from keras.utils import plot_model\n",
        "from sklearn.preprocessing import OneHotEncoder\n",
        "\n",
        "from keras.initializers import glorot_uniform\n",
        "import scipy.misc\n",
        "from matplotlib.pyplot import imshow\n",
        "\n",
        "random.seed = 2\n",
        "#np.random.seed = 2\n",
        "tf.seed = 2\n",
        "tf.random.set_seed(2)"
      ],
      "execution_count": 31,
      "outputs": []
    },
    {
      "cell_type": "code",
      "metadata": {
        "id": "T4JGMPJ4ZH6Z",
        "colab": {
          "base_uri": "https://localhost:8080/"
        },
        "outputId": "3abd6d73-ab0d-4fb7-d2b8-63bd50602da1"
      },
      "source": [
        "from google.colab import drive\n",
        "drive.mount('/content/drive')"
      ],
      "execution_count": 2,
      "outputs": [
        {
          "output_type": "stream",
          "text": [
            "Mounted at /content/drive\n"
          ],
          "name": "stdout"
        }
      ]
    },
    {
      "cell_type": "markdown",
      "metadata": {
        "id": "a4nO1Cje8RPD"
      },
      "source": [
        "## Read, Split train_val & oversample train set\n"
      ]
    },
    {
      "cell_type": "code",
      "metadata": {
        "id": "rGwjyKXsZKCh",
        "colab": {
          "base_uri": "https://localhost:8080/",
          "height": 197
        },
        "outputId": "b7c047c8-4776-4963-88f2-a7ea57d24a5b"
      },
      "source": [
        "dataset_images_location = \"/content/drive/My Drive/IDRid/B. Disease Grading/1. Original Images/a. Training Set\"\n",
        "dataset_groundtruth_location = \"/content/drive/MyDrive/IDRid/B. Disease Grading/2. Groundtruths/a. IDRiD_Disease Grading_Training Labels.csv\"\n",
        "\n",
        "df = pd.read_csv(dataset_groundtruth_location)\n",
        "df_ = pd.DataFrame();\n",
        "df_['Image name'] = df['Image name']\n",
        "df_['Retinopathy grade'] = df['Retinopathy grade']\n",
        "\n",
        "train_df, val_df = train_test_split(df_, test_size = 0.1, random_state = 415);\n",
        "train_df.head()"
      ],
      "execution_count": 3,
      "outputs": [
        {
          "output_type": "execute_result",
          "data": {
            "text/html": [
              "<div>\n",
              "<style scoped>\n",
              "    .dataframe tbody tr th:only-of-type {\n",
              "        vertical-align: middle;\n",
              "    }\n",
              "\n",
              "    .dataframe tbody tr th {\n",
              "        vertical-align: top;\n",
              "    }\n",
              "\n",
              "    .dataframe thead th {\n",
              "        text-align: right;\n",
              "    }\n",
              "</style>\n",
              "<table border=\"1\" class=\"dataframe\">\n",
              "  <thead>\n",
              "    <tr style=\"text-align: right;\">\n",
              "      <th></th>\n",
              "      <th>Image name</th>\n",
              "      <th>Retinopathy grade</th>\n",
              "    </tr>\n",
              "  </thead>\n",
              "  <tbody>\n",
              "    <tr>\n",
              "      <th>118</th>\n",
              "      <td>IDRiD_119</td>\n",
              "      <td>4</td>\n",
              "    </tr>\n",
              "    <tr>\n",
              "      <th>391</th>\n",
              "      <td>IDRiD_392</td>\n",
              "      <td>4</td>\n",
              "    </tr>\n",
              "    <tr>\n",
              "      <th>41</th>\n",
              "      <td>IDRiD_042</td>\n",
              "      <td>2</td>\n",
              "    </tr>\n",
              "    <tr>\n",
              "      <th>44</th>\n",
              "      <td>IDRiD_045</td>\n",
              "      <td>2</td>\n",
              "    </tr>\n",
              "    <tr>\n",
              "      <th>216</th>\n",
              "      <td>IDRiD_217</td>\n",
              "      <td>0</td>\n",
              "    </tr>\n",
              "  </tbody>\n",
              "</table>\n",
              "</div>"
            ],
            "text/plain": [
              "    Image name  Retinopathy grade\n",
              "118  IDRiD_119                  4\n",
              "391  IDRiD_392                  4\n",
              "41   IDRiD_042                  2\n",
              "44   IDRiD_045                  2\n",
              "216  IDRiD_217                  0"
            ]
          },
          "metadata": {
            "tags": []
          },
          "execution_count": 3
        }
      ]
    },
    {
      "cell_type": "code",
      "metadata": {
        "id": "iBQvx2YKsp-s"
      },
      "source": [
        "def balance_data(class_size, df):\n",
        "    train_df = df.groupby(['Retinopathy grade']).apply(lambda x: x.sample(class_size, replace = True)).reset_index(drop = True)\n",
        "    train_df = train_df.sample(frac=1).reset_index(drop=True)\n",
        "    print('New Data Size:', train_df.shape[0], 'Old Size:', df.shape[0])\n",
        "    train_df['Retinopathy grade'].hist(figsize = (10, 5))\n",
        "    return train_df"
      ],
      "execution_count": 4,
      "outputs": []
    },
    {
      "cell_type": "code",
      "metadata": {
        "id": "4oYr0b2iZNEc",
        "colab": {
          "base_uri": "https://localhost:8080/",
          "height": 355
        },
        "outputId": "a36bd0a3-fe65-4f6b-cfc1-22b315c159f4"
      },
      "source": [
        "train_df = balance_data(train_df.pivot_table(index='Retinopathy grade', aggfunc=len).max().max(),train_df) # I will oversample such that all classes have the same number of images as the maximum\n",
        "train_df['Retinopathy grade'].hist(figsize = (10, 5))"
      ],
      "execution_count": 5,
      "outputs": [
        {
          "output_type": "stream",
          "text": [
            "New Data Size: 600 Old Size: 371\n"
          ],
          "name": "stdout"
        },
        {
          "output_type": "execute_result",
          "data": {
            "text/plain": [
              "<matplotlib.axes._subplots.AxesSubplot at 0x7ff854cdd090>"
            ]
          },
          "metadata": {
            "tags": []
          },
          "execution_count": 5
        },
        {
          "output_type": "display_data",
          "data": {
            "image/png": "[encoded data removed]",
            "text/plain": [
              "<Figure size 720x360 with 1 Axes>"
            ]
          },
          "metadata": {
            "tags": [],
            "needs_background": "light"
          }
        }
      ]
    },
    {
      "cell_type": "code",
      "metadata": {
        "id": "rtaZWtRNZSJl",
        "colab": {
          "base_uri": "https://localhost:8080/"
        },
        "outputId": "a4a52b68-f11e-42f3-e788-5cbfcfe55591"
      },
      "source": [
        "image_names = train_df['Image name'];\n",
        "im_size = 224;\n",
        "\n",
        "train_labels = [];\n",
        "for label in train_df['Retinopathy grade']:\n",
        "    for i in range(5): # 5 times for data augmentation\n",
        "        train_labels.append(label)\n",
        "\n",
        "print(\"len of labels \",len(train_labels))\n",
        "\n",
        "train_images= np.zeros((5*len(train_df['Image name']),224,224,3))\n",
        "rot=[-6,-5,-4,-3,-2,2,3,4,5,6]\n",
        "index=0\n",
        "for image_name in image_names:\n",
        "    #read image\n",
        "    img = cv2.imread(dataset_images_location + '/' + image_name + \".jpg\");\n",
        "    img = cv2.resize(img, (im_size, im_size));\n",
        "    #load into array\n",
        "    train_images[index] = img\n",
        "    train_images[index + 1] = np.flip(img, axis = 0)\n",
        "    train_images[index + 2] = np.flip(img, axis = 1)\n",
        "    train_images[index + 3] = np.rot90(np.rot90(img))\n",
        "    train_images[index + 4] = scipy.ndimage.rotate(img, random.choice(rot), reshape = False)\n",
        "    index = index + 5\n",
        "\n",
        "\n",
        "train_images = train_images.astype('float32') / np.max(train_images)\n",
        "train_labels = np.array(train_labels, ndmin = 2)\n",
        "train_labels = np.transpose(train_labels)\n",
        "\n",
        "enc = OneHotEncoder(categories='auto', drop=None, sparse=False, dtype = np.int, handle_unknown='error')\n",
        "enc.fit(train_labels)\n",
        "train_labels = enc.transform(train_labels)\n",
        "\n",
        "print(train_images.shape)\n",
        "print(train_labels.shape) \n",
        "train_labels[0:5]"
      ],
      "execution_count": 6,
      "outputs": [
        {
          "output_type": "stream",
          "text": [
            "len of labels  3000\n",
            "(3000, 224, 224, 3)\n",
            "(3000, 5)\n"
          ],
          "name": "stdout"
        },
        {
          "output_type": "execute_result",
          "data": {
            "text/plain": [
              "array([[0, 1, 0, 0, 0],\n",
              "       [0, 1, 0, 0, 0],\n",
              "       [0, 1, 0, 0, 0],\n",
              "       [0, 1, 0, 0, 0],\n",
              "       [0, 1, 0, 0, 0]])"
            ]
          },
          "metadata": {
            "tags": []
          },
          "execution_count": 6
        }
      ]
    },
    {
      "cell_type": "markdown",
      "metadata": {
        "id": "q1hIjG0K8K5-"
      },
      "source": [
        "## Read and undersample test_df\n",
        "\n",
        "---\n",
        "\n",
        "\n"
      ]
    },
    {
      "cell_type": "code",
      "metadata": {
        "id": "eNDJgE_hZ-Y2",
        "colab": {
          "base_uri": "https://localhost:8080/"
        },
        "outputId": "4e1cad6a-7e2a-481e-c5eb-fde281aab970"
      },
      "source": [
        "test_images_location = \"/content/drive/My Drive/IDRid/B. Disease Grading/1. Original Images/b. Testing Set\"\n",
        "test_groundtruth_location = \"/content/drive/MyDrive/IDRid/B. Disease Grading/2. Groundtruths/b. IDRiD_Disease Grading_Testing Labels.csv\"\n",
        "\n",
        "test_df = pd.read_csv(test_groundtruth_location)\n",
        "test_df_ = pd.DataFrame();\n",
        "test_df_['Image name'] = test_df['Image name']\n",
        "test_df_['Retinopathy grade'] = test_df['Retinopathy grade']\n",
        "test_df = test_df_\n",
        "print(test_df.head())"
      ],
      "execution_count": 7,
      "outputs": [
        {
          "output_type": "stream",
          "text": [
            "  Image name  Retinopathy grade\n",
            "0  IDRiD_001                  4\n",
            "1  IDRiD_002                  4\n",
            "2  IDRiD_003                  4\n",
            "3  IDRiD_004                  4\n",
            "4  IDRiD_005                  4\n"
          ],
          "name": "stdout"
        }
      ]
    },
    {
      "cell_type": "code",
      "metadata": {
        "id": "AzG9ra1iaCJu"
      },
      "source": [
        "#undersample\n",
        "#test_df = balance_data(test_df.pivot_table(index='Retinopathy grade', aggfunc=len).min().min(),test_df) # I will oversample such that all classes have the same number of images as the maximum\n",
        "#test_df['Retinopathy grade'].hist(figsize = (10, 5))"
      ],
      "execution_count": null,
      "outputs": []
    },
    {
      "cell_type": "code",
      "metadata": {
        "colab": {
          "base_uri": "https://localhost:8080/"
        },
        "id": "6dLGRkaU8KIi",
        "outputId": "837eec6a-ae02-44b9-cb23-bfcc88af479d"
      },
      "source": [
        "test_image_names = [];\n",
        "test_image_names = test_df['Image name'];\n",
        "print(\"len of test set \",len(test_image_names))\n",
        "im_size = 224;\n",
        "\n",
        "test_labels = [];\n",
        "test_labels = test_df['Retinopathy grade'];\n",
        "\n",
        "test_images = []\n",
        "for image_name in test_image_names:\n",
        "    img = cv2.imread(test_images_location + '/' + image_name + \".jpg\");\n",
        "    img = cv2.resize(img, (im_size, im_size));\n",
        "    test_images.append(img);\n",
        "\n",
        "test_images = np.array(test_images)\n",
        "test_images = test_images.astype('float32') / np.max(test_images)\n",
        "test_labels = np.array(test_labels, ndmin = 2)\n",
        "test_labels = np.transpose(test_labels)\n",
        "\n",
        "#enc = OneHotEncoder(categories='auto', drop=None, sparse=False, dtype = np.int, handle_unknown='error')\n",
        "test_labels = enc.transform(test_labels)\n",
        "\n",
        "print(test_images.shape)\n",
        "print(test_labels.shape) "
      ],
      "execution_count": 8,
      "outputs": [
        {
          "output_type": "stream",
          "text": [
            "len of test set  103\n",
            "(103, 224, 224, 3)\n",
            "(103, 5)\n"
          ],
          "name": "stdout"
        }
      ]
    },
    {
      "cell_type": "code",
      "metadata": {
        "colab": {
          "base_uri": "https://localhost:8080/"
        },
        "id": "VduG3Nv59YCH",
        "outputId": "d6c7df9d-a017-427c-ad3f-802746ca16b1"
      },
      "source": [
        "val_image_names = [];\n",
        "val_image_names = val_df['Image name'];\n",
        "print(\"len of test set \",len(val_image_names))\n",
        "im_size = 224;\n",
        "\n",
        "val_labels = [];\n",
        "val_labels = val_df['Retinopathy grade'];\n",
        "\n",
        "val_images = []\n",
        "for image_name in val_image_names:\n",
        "    img = cv2.imread(dataset_images_location + '/' + image_name + \".jpg\");\n",
        "    img = cv2.resize(img, (im_size, im_size));\n",
        "    val_images.append(img);\n",
        "\n",
        "val_images = np.array(val_images)\n",
        "val_images = val_images.astype('float32') / np.max(val_images)\n",
        "val_labels = np.array(val_labels, ndmin = 2)\n",
        "val_labels = np.transpose(val_labels)\n",
        "\n",
        "#enc = OneHotEncoder(categories='auto', drop=None, sparse=False, dtype = np.int, handle_unknown='error')\n",
        "#use encoder fitted on train data for both val and test data\n",
        "val_labels = enc.transform(val_labels)\n",
        "\n",
        "print(val_images.shape)\n",
        "print(val_labels.shape) "
      ],
      "execution_count": 9,
      "outputs": [
        {
          "output_type": "stream",
          "text": [
            "len of test set  42\n",
            "(42, 224, 224, 3)\n",
            "(42, 5)\n"
          ],
          "name": "stdout"
        }
      ]
    },
    {
      "cell_type": "code",
      "metadata": {
        "colab": {
          "base_uri": "https://localhost:8080/"
        },
        "id": "RrMaIH8_9N1_",
        "outputId": "9c8899d3-5f68-4a34-cd96-6d0512237192"
      },
      "source": [
        "from sklearn.utils import shuffle\n",
        "\n",
        "train_images, train_labels = shuffle(train_images, train_labels, random_state = 1)\n",
        "# If train and test are from respective sets\n",
        "print(\"train x size \",train_images.shape)\n",
        "print(\"train y size \",train_labels.shape)\n",
        "print(\"test x size \",test_images.shape)\n",
        "print(\"test y size \",test_labels.shape)\n",
        "print(\"val x size \",val_images.shape)\n",
        "print(\"val y size \",val_labels.shape)"
      ],
      "execution_count": 10,
      "outputs": [
        {
          "output_type": "stream",
          "text": [
            "train x size  (3000, 224, 224, 3)\n",
            "train y size  (3000, 5)\n",
            "test x size  (103, 224, 224, 3)\n",
            "test y size  (103, 5)\n",
            "val x size  (42, 224, 224, 3)\n",
            "val y size  (42, 5)\n"
          ],
          "name": "stdout"
        }
      ]
    },
    {
      "cell_type": "code",
      "metadata": {
        "id": "el5YmmaNDWMn"
      },
      "source": [
        "from keras.models import Sequential\n",
        "#from keras.applications.resnet50 import ResNet50\n",
        "from keras.models import Model\n",
        "from keras.models import model_from_json\n",
        "#base_model = ResNet50(include_top=False,weights=None,input_shape=(224,224,3))\n",
        "\n",
        "json_file = open(\"/content/drive/My Drive/IDRid/model_gradingNew.json\", 'r')\n",
        "loaded_model_json = json_file.read()\n",
        "json_file.close()\n",
        "\n",
        "base_model=model_from_json(loaded_model_json)\n",
        "base_model.load_weights(\"/content/drive/My Drive/IDRid/model_gradingNew.h5\")"
      ],
      "execution_count": 33,
      "outputs": []
    },
    {
      "cell_type": "code",
      "metadata": {
        "id": "7ixGFpjQE5hw"
      },
      "source": [
        "#base_model.summary()"
      ],
      "execution_count": 34,
      "outputs": []
    },
    {
      "cell_type": "code",
      "metadata": {
        "colab": {
          "base_uri": "https://localhost:8080/",
          "height": 496
        },
        "id": "S4-NOYLGGPeZ",
        "outputId": "f4df303b-7875-467b-fd1a-7c44a453be23"
      },
      "source": [
        "layers=base_model.layers\n",
        "last_layers=[]\n",
        "#add last layers name\n",
        "for i in range(14):\n",
        "  last_layers.append(layers[-i-1].name)\n",
        "\n",
        "set_trainable = False\n",
        "for layer in base_model.layers:\n",
        "    if layer.name in last_layers:\n",
        "        set_trainable = True\n",
        "    if set_trainable:\n",
        "        layer.trainable = True\n",
        "    else:\n",
        "        layer.trainable = False\n",
        "\n",
        "layers = [(layer, layer.name, layer.trainable) for layer in base_model.layers]\n",
        "pd.DataFrame(layers, columns=['Layer Type', 'Layer Name', 'Layer Trainable']).tail(15)"
      ],
      "execution_count": 35,
      "outputs": [
        {
          "output_type": "execute_result",
          "data": {
            "text/html": [
              "<div>\n",
              "<style scoped>\n",
              "    .dataframe tbody tr th:only-of-type {\n",
              "        vertical-align: middle;\n",
              "    }\n",
              "\n",
              "    .dataframe tbody tr th {\n",
              "        vertical-align: top;\n",
              "    }\n",
              "\n",
              "    .dataframe thead th {\n",
              "        text-align: right;\n",
              "    }\n",
              "</style>\n",
              "<table border=\"1\" class=\"dataframe\">\n",
              "  <thead>\n",
              "    <tr style=\"text-align: right;\">\n",
              "      <th></th>\n",
              "      <th>Layer Type</th>\n",
              "      <th>Layer Name</th>\n",
              "      <th>Layer Trainable</th>\n",
              "    </tr>\n",
              "  </thead>\n",
              "  <tbody>\n",
              "    <tr>\n",
              "      <th>213</th>\n",
              "      <td>&lt;tensorflow.python.keras.layers.core.Dropout o...</td>\n",
              "      <td>dropout_96</td>\n",
              "      <td>False</td>\n",
              "    </tr>\n",
              "    <tr>\n",
              "      <th>214</th>\n",
              "      <td>&lt;tensorflow.python.keras.layers.convolutional....</td>\n",
              "      <td>conv2d_104</td>\n",
              "      <td>True</td>\n",
              "    </tr>\n",
              "    <tr>\n",
              "      <th>215</th>\n",
              "      <td>&lt;tensorflow.python.keras.layers.normalization_...</td>\n",
              "      <td>batch_normalization_104</td>\n",
              "      <td>True</td>\n",
              "    </tr>\n",
              "    <tr>\n",
              "      <th>216</th>\n",
              "      <td>&lt;tensorflow.python.keras.layers.core.Activatio...</td>\n",
              "      <td>activation_96</td>\n",
              "      <td>True</td>\n",
              "    </tr>\n",
              "    <tr>\n",
              "      <th>217</th>\n",
              "      <td>&lt;tensorflow.python.keras.layers.core.Dropout o...</td>\n",
              "      <td>dropout_97</td>\n",
              "      <td>True</td>\n",
              "    </tr>\n",
              "    <tr>\n",
              "      <th>218</th>\n",
              "      <td>&lt;tensorflow.python.keras.layers.convolutional....</td>\n",
              "      <td>conv2d_105</td>\n",
              "      <td>True</td>\n",
              "    </tr>\n",
              "    <tr>\n",
              "      <th>219</th>\n",
              "      <td>&lt;tensorflow.python.keras.layers.normalization_...</td>\n",
              "      <td>batch_normalization_105</td>\n",
              "      <td>True</td>\n",
              "    </tr>\n",
              "    <tr>\n",
              "      <th>220</th>\n",
              "      <td>&lt;tensorflow.python.keras.layers.merge.Add obje...</td>\n",
              "      <td>add_31</td>\n",
              "      <td>True</td>\n",
              "    </tr>\n",
              "    <tr>\n",
              "      <th>221</th>\n",
              "      <td>&lt;tensorflow.python.keras.layers.core.Activatio...</td>\n",
              "      <td>activation_97</td>\n",
              "      <td>True</td>\n",
              "    </tr>\n",
              "    <tr>\n",
              "      <th>222</th>\n",
              "      <td>&lt;tensorflow.python.keras.layers.core.Dropout o...</td>\n",
              "      <td>dropout_98</td>\n",
              "      <td>True</td>\n",
              "    </tr>\n",
              "    <tr>\n",
              "      <th>223</th>\n",
              "      <td>&lt;tensorflow.python.keras.layers.pooling.Averag...</td>\n",
              "      <td>avg_pool</td>\n",
              "      <td>True</td>\n",
              "    </tr>\n",
              "    <tr>\n",
              "      <th>224</th>\n",
              "      <td>&lt;tensorflow.python.keras.layers.core.Dropout o...</td>\n",
              "      <td>dropout_99</td>\n",
              "      <td>True</td>\n",
              "    </tr>\n",
              "    <tr>\n",
              "      <th>225</th>\n",
              "      <td>&lt;tensorflow.python.keras.layers.core.Flatten o...</td>\n",
              "      <td>flatten_1</td>\n",
              "      <td>True</td>\n",
              "    </tr>\n",
              "    <tr>\n",
              "      <th>226</th>\n",
              "      <td>&lt;tensorflow.python.keras.layers.core.Dense obj...</td>\n",
              "      <td>dense_1</td>\n",
              "      <td>True</td>\n",
              "    </tr>\n",
              "    <tr>\n",
              "      <th>227</th>\n",
              "      <td>&lt;tensorflow.python.keras.layers.core.Dense obj...</td>\n",
              "      <td>fc5</td>\n",
              "      <td>True</td>\n",
              "    </tr>\n",
              "  </tbody>\n",
              "</table>\n",
              "</div>"
            ],
            "text/plain": [
              "                                            Layer Type  ... Layer Trainable\n",
              "213  <tensorflow.python.keras.layers.core.Dropout o...  ...           False\n",
              "214  <tensorflow.python.keras.layers.convolutional....  ...            True\n",
              "215  <tensorflow.python.keras.layers.normalization_...  ...            True\n",
              "216  <tensorflow.python.keras.layers.core.Activatio...  ...            True\n",
              "217  <tensorflow.python.keras.layers.core.Dropout o...  ...            True\n",
              "218  <tensorflow.python.keras.layers.convolutional....  ...            True\n",
              "219  <tensorflow.python.keras.layers.normalization_...  ...            True\n",
              "220  <tensorflow.python.keras.layers.merge.Add obje...  ...            True\n",
              "221  <tensorflow.python.keras.layers.core.Activatio...  ...            True\n",
              "222  <tensorflow.python.keras.layers.core.Dropout o...  ...            True\n",
              "223  <tensorflow.python.keras.layers.pooling.Averag...  ...            True\n",
              "224  <tensorflow.python.keras.layers.core.Dropout o...  ...            True\n",
              "225  <tensorflow.python.keras.layers.core.Flatten o...  ...            True\n",
              "226  <tensorflow.python.keras.layers.core.Dense obj...  ...            True\n",
              "227  <tensorflow.python.keras.layers.core.Dense obj...  ...            True\n",
              "\n",
              "[15 rows x 3 columns]"
            ]
          },
          "metadata": {
            "tags": []
          },
          "execution_count": 35
        }
      ]
    },
    {
      "cell_type": "code",
      "metadata": {
        "colab": {
          "base_uri": "https://localhost:8080/"
        },
        "id": "J6p1TxOsG65S",
        "outputId": "e99e1508-3021-47a1-c223-816aef54b348"
      },
      "source": [
        "print(\"weights:\", len(base_model.weights))\n",
        "print(\"trainable_weights:\", len(base_model.trainable_weights))\n",
        "print(\"non_trainable_weights:\", len(base_model.non_trainable_weights))"
      ],
      "execution_count": 36,
      "outputs": [
        {
          "output_type": "stream",
          "text": [
            "weights: 322\n",
            "trainable_weights: 12\n",
            "non_trainable_weights: 310\n"
          ],
          "name": "stdout"
        }
      ]
    },
    {
      "cell_type": "code",
      "metadata": {
        "colab": {
          "base_uri": "https://localhost:8080/"
        },
        "id": "2yflZSRXezo6",
        "outputId": "88d401bf-93ec-459d-af69-8d1485a6844d"
      },
      "source": [
        "from keras.utils.layer_utils import count_params\n",
        "\n",
        "trainable_count = count_params(base_model.trainable_weights)\n",
        "non_trainable_count = count_params(base_model.non_trainable_weights)\n",
        "\n",
        "print('Total params: {:,}'.format(trainable_count + non_trainable_count))\n",
        "print('Trainable params: {:,}'.format(trainable_count))\n",
        "print('Non-trainable params: {:,}'.format(non_trainable_count))"
      ],
      "execution_count": 37,
      "outputs": [
        {
          "output_type": "stream",
          "text": [
            "Total params: 25,947,781\n",
            "Trainable params: 5,775,621\n",
            "Non-trainable params: 20,172,160\n"
          ],
          "name": "stdout"
        }
      ]
    },
    {
      "cell_type": "code",
      "metadata": {
        "colab": {
          "base_uri": "https://localhost:8080/"
        },
        "id": "LDL_FZsBfQ8D",
        "outputId": "ec0e699d-4ca6-47a4-a0a7-6f8d04361bd6"
      },
      "source": [
        "output=base_model.layers[-3].output\n",
        "model_wot=Model(base_model.input,output)\n",
        "model= Sequential()#\n",
        "model.add(model_wot)\n",
        "model.add(Dense(256, activation='relu'))\n",
        "model.add(Dropout(0.3))\n",
        "model.add(Dense(128, activation='relu'))\n",
        "model.add(Dropout(0.3))\n",
        "model.add(Dense(5, activation='softmax'))\n",
        "model.summary()"
      ],
      "execution_count": 51,
      "outputs": [
        {
          "output_type": "stream",
          "text": [
            "Model: \"sequential_5\"\n",
            "_________________________________________________________________\n",
            "Layer (type)                 Output Shape              Param #   \n",
            "=================================================================\n",
            "model_5 (Functional)         (None, 18432)             23587712  \n",
            "_________________________________________________________________\n",
            "dense_13 (Dense)             (None, 256)               4718848   \n",
            "_________________________________________________________________\n",
            "dropout_8 (Dropout)          (None, 256)               0         \n",
            "_________________________________________________________________\n",
            "dense_14 (Dense)             (None, 128)               32896     \n",
            "_________________________________________________________________\n",
            "dropout_9 (Dropout)          (None, 128)               0         \n",
            "_________________________________________________________________\n",
            "dense_15 (Dense)             (None, 5)                 645       \n",
            "=================================================================\n",
            "Total params: 28,340,101\n",
            "Trainable params: 8,167,941\n",
            "Non-trainable params: 20,172,160\n",
            "_________________________________________________________________\n"
          ],
          "name": "stdout"
        }
      ]
    },
    {
      "cell_type": "code",
      "metadata": {
        "colab": {
          "base_uri": "https://localhost:8080/"
        },
        "id": "WM0sucWx8c2S",
        "outputId": "07115ff9-18ba-428e-8fdb-50b70ab2a23d"
      },
      "source": [
        "random.seed = 2\n",
        "tf.seed = 2\n",
        "tf.random.set_seed(2)\n",
        "model.compile(loss='categorical_crossentropy',\n",
        "              optimizer=keras.optimizers.RMSprop(lr=1e-5),\n",
        "              metrics=['accuracy'])\n",
        "early_stopping= tf.keras.callbacks.EarlyStopping(monitor = 'accuracy', min_delta = 0.01, patience = 10)\n",
        "hist=model.fit(train_images, train_labels, epochs = 100, batch_size = 32, validation_data = (val_images, val_labels), callbacks = [early_stopping], shuffle = True);"
      ],
      "execution_count": 52,
      "outputs": [
        {
          "output_type": "stream",
          "text": [
            "Epoch 1/100\n",
            "94/94 [==============================] - 21s 179ms/step - loss: 1.9020 - accuracy: 0.2547 - val_loss: 1.4669 - val_accuracy: 0.3333\n",
            "Epoch 2/100\n",
            "94/94 [==============================] - 16s 165ms/step - loss: 1.4520 - accuracy: 0.3883 - val_loss: 1.3775 - val_accuracy: 0.4048\n",
            "Epoch 3/100\n",
            "94/94 [==============================] - 16s 167ms/step - loss: 1.3621 - accuracy: 0.4185 - val_loss: 1.4712 - val_accuracy: 0.3095\n",
            "Epoch 4/100\n",
            "94/94 [==============================] - 16s 168ms/step - loss: 1.2365 - accuracy: 0.4839 - val_loss: 1.3544 - val_accuracy: 0.4286\n",
            "Epoch 5/100\n",
            "94/94 [==============================] - 16s 169ms/step - loss: 1.1415 - accuracy: 0.5331 - val_loss: 1.4234 - val_accuracy: 0.4286\n",
            "Epoch 6/100\n",
            "94/94 [==============================] - 16s 169ms/step - loss: 1.0880 - accuracy: 0.5456 - val_loss: 1.2515 - val_accuracy: 0.4286\n",
            "Epoch 7/100\n",
            "94/94 [==============================] - 16s 168ms/step - loss: 1.0496 - accuracy: 0.5812 - val_loss: 1.3852 - val_accuracy: 0.4048\n",
            "Epoch 8/100\n",
            "94/94 [==============================] - 16s 168ms/step - loss: 0.9987 - accuracy: 0.6068 - val_loss: 1.3536 - val_accuracy: 0.4762\n",
            "Epoch 9/100\n",
            "94/94 [==============================] - 16s 168ms/step - loss: 0.9563 - accuracy: 0.6172 - val_loss: 1.5445 - val_accuracy: 0.4762\n",
            "Epoch 10/100\n",
            "94/94 [==============================] - 16s 169ms/step - loss: 0.8802 - accuracy: 0.6542 - val_loss: 1.5404 - val_accuracy: 0.4524\n",
            "Epoch 11/100\n",
            "94/94 [==============================] - 16s 169ms/step - loss: 0.8316 - accuracy: 0.6717 - val_loss: 1.4421 - val_accuracy: 0.4762\n",
            "Epoch 12/100\n",
            "94/94 [==============================] - 16s 169ms/step - loss: 0.8101 - accuracy: 0.6778 - val_loss: 1.6663 - val_accuracy: 0.4286\n",
            "Epoch 13/100\n",
            "94/94 [==============================] - 16s 169ms/step - loss: 0.8077 - accuracy: 0.6887 - val_loss: 1.4752 - val_accuracy: 0.4762\n",
            "Epoch 14/100\n",
            "94/94 [==============================] - 16s 168ms/step - loss: 0.7723 - accuracy: 0.7085 - val_loss: 1.6267 - val_accuracy: 0.4762\n",
            "Epoch 15/100\n",
            "94/94 [==============================] - 16s 169ms/step - loss: 0.7294 - accuracy: 0.7208 - val_loss: 1.6657 - val_accuracy: 0.5000\n",
            "Epoch 16/100\n",
            "94/94 [==============================] - 16s 169ms/step - loss: 0.7102 - accuracy: 0.7228 - val_loss: 1.6795 - val_accuracy: 0.5000\n",
            "Epoch 17/100\n",
            "94/94 [==============================] - 16s 168ms/step - loss: 0.6857 - accuracy: 0.7331 - val_loss: 1.6852 - val_accuracy: 0.4762\n",
            "Epoch 18/100\n",
            "94/94 [==============================] - 16s 169ms/step - loss: 0.6952 - accuracy: 0.7301 - val_loss: 1.8010 - val_accuracy: 0.4762\n",
            "Epoch 19/100\n",
            "94/94 [==============================] - 16s 169ms/step - loss: 0.6570 - accuracy: 0.7380 - val_loss: 1.7800 - val_accuracy: 0.4524\n",
            "Epoch 20/100\n",
            "94/94 [==============================] - 16s 169ms/step - loss: 0.6278 - accuracy: 0.7717 - val_loss: 1.9203 - val_accuracy: 0.4286\n",
            "Epoch 21/100\n",
            "94/94 [==============================] - 16s 169ms/step - loss: 0.6118 - accuracy: 0.7716 - val_loss: 1.9024 - val_accuracy: 0.4524\n",
            "Epoch 22/100\n",
            "94/94 [==============================] - 16s 169ms/step - loss: 0.5778 - accuracy: 0.7893 - val_loss: 1.7783 - val_accuracy: 0.4762\n",
            "Epoch 23/100\n",
            "94/94 [==============================] - 16s 169ms/step - loss: 0.5661 - accuracy: 0.7868 - val_loss: 1.9677 - val_accuracy: 0.4524\n",
            "Epoch 24/100\n",
            "94/94 [==============================] - 16s 168ms/step - loss: 0.5538 - accuracy: 0.7927 - val_loss: 2.1079 - val_accuracy: 0.4524\n",
            "Epoch 25/100\n",
            "94/94 [==============================] - 16s 169ms/step - loss: 0.5001 - accuracy: 0.8353 - val_loss: 1.8653 - val_accuracy: 0.4524\n",
            "Epoch 26/100\n",
            "94/94 [==============================] - 16s 169ms/step - loss: 0.4960 - accuracy: 0.8240 - val_loss: 2.1076 - val_accuracy: 0.4524\n",
            "Epoch 27/100\n",
            "94/94 [==============================] - 16s 168ms/step - loss: 0.5098 - accuracy: 0.8252 - val_loss: 2.0553 - val_accuracy: 0.4762\n",
            "Epoch 28/100\n",
            "94/94 [==============================] - 16s 169ms/step - loss: 0.5035 - accuracy: 0.8127 - val_loss: 2.0893 - val_accuracy: 0.4524\n",
            "Epoch 29/100\n",
            "94/94 [==============================] - 16s 169ms/step - loss: 0.4637 - accuracy: 0.8310 - val_loss: 1.9230 - val_accuracy: 0.4762\n",
            "Epoch 30/100\n",
            "94/94 [==============================] - 16s 169ms/step - loss: 0.4409 - accuracy: 0.8351 - val_loss: 2.2205 - val_accuracy: 0.4286\n",
            "Epoch 31/100\n",
            "94/94 [==============================] - 16s 169ms/step - loss: 0.4397 - accuracy: 0.8463 - val_loss: 2.3899 - val_accuracy: 0.4286\n",
            "Epoch 32/100\n",
            "94/94 [==============================] - 16s 169ms/step - loss: 0.4135 - accuracy: 0.8522 - val_loss: 2.1250 - val_accuracy: 0.4524\n",
            "Epoch 33/100\n",
            "94/94 [==============================] - 16s 169ms/step - loss: 0.3982 - accuracy: 0.8638 - val_loss: 2.1814 - val_accuracy: 0.4524\n",
            "Epoch 34/100\n",
            "94/94 [==============================] - 16s 169ms/step - loss: 0.3998 - accuracy: 0.8624 - val_loss: 2.1270 - val_accuracy: 0.4524\n",
            "Epoch 35/100\n",
            "94/94 [==============================] - 16s 169ms/step - loss: 0.3916 - accuracy: 0.8645 - val_loss: 2.3422 - val_accuracy: 0.4524\n",
            "Epoch 36/100\n",
            "94/94 [==============================] - 16s 169ms/step - loss: 0.3597 - accuracy: 0.8745 - val_loss: 2.5868 - val_accuracy: 0.4286\n",
            "Epoch 37/100\n",
            "94/94 [==============================] - 16s 169ms/step - loss: 0.3633 - accuracy: 0.8622 - val_loss: 2.2896 - val_accuracy: 0.4524\n",
            "Epoch 38/100\n",
            "94/94 [==============================] - 16s 169ms/step - loss: 0.3546 - accuracy: 0.8713 - val_loss: 2.4527 - val_accuracy: 0.4286\n",
            "Epoch 39/100\n",
            "94/94 [==============================] - 16s 169ms/step - loss: 0.3238 - accuracy: 0.8883 - val_loss: 2.3996 - val_accuracy: 0.4524\n",
            "Epoch 40/100\n",
            "94/94 [==============================] - 16s 169ms/step - loss: 0.3321 - accuracy: 0.8874 - val_loss: 2.4342 - val_accuracy: 0.4524\n",
            "Epoch 41/100\n",
            "94/94 [==============================] - 16s 169ms/step - loss: 0.3222 - accuracy: 0.8920 - val_loss: 2.5516 - val_accuracy: 0.4524\n",
            "Epoch 42/100\n",
            "94/94 [==============================] - 16s 169ms/step - loss: 0.3291 - accuracy: 0.8925 - val_loss: 2.4921 - val_accuracy: 0.4524\n",
            "Epoch 43/100\n",
            "94/94 [==============================] - 16s 169ms/step - loss: 0.3082 - accuracy: 0.8893 - val_loss: 2.3174 - val_accuracy: 0.4762\n",
            "Epoch 44/100\n",
            "94/94 [==============================] - 16s 169ms/step - loss: 0.2776 - accuracy: 0.8994 - val_loss: 2.5181 - val_accuracy: 0.4524\n",
            "Epoch 45/100\n",
            "94/94 [==============================] - 16s 169ms/step - loss: 0.2642 - accuracy: 0.9058 - val_loss: 2.5527 - val_accuracy: 0.4524\n",
            "Epoch 46/100\n",
            "94/94 [==============================] - 16s 169ms/step - loss: 0.2723 - accuracy: 0.9127 - val_loss: 2.5718 - val_accuracy: 0.4524\n",
            "Epoch 47/100\n",
            "94/94 [==============================] - 16s 169ms/step - loss: 0.2547 - accuracy: 0.9174 - val_loss: 2.6314 - val_accuracy: 0.4524\n",
            "Epoch 48/100\n",
            "94/94 [==============================] - 16s 169ms/step - loss: 0.2986 - accuracy: 0.8983 - val_loss: 2.6500 - val_accuracy: 0.4524\n",
            "Epoch 49/100\n",
            "94/94 [==============================] - 16s 169ms/step - loss: 0.2677 - accuracy: 0.9104 - val_loss: 2.6711 - val_accuracy: 0.4286\n",
            "Epoch 50/100\n",
            "94/94 [==============================] - 16s 169ms/step - loss: 0.2506 - accuracy: 0.9126 - val_loss: 2.5620 - val_accuracy: 0.4524\n",
            "Epoch 51/100\n",
            "94/94 [==============================] - 16s 169ms/step - loss: 0.2419 - accuracy: 0.9227 - val_loss: 2.7115 - val_accuracy: 0.4286\n",
            "Epoch 52/100\n",
            "94/94 [==============================] - 16s 169ms/step - loss: 0.2382 - accuracy: 0.9202 - val_loss: 2.4616 - val_accuracy: 0.4524\n",
            "Epoch 53/100\n",
            "94/94 [==============================] - 16s 169ms/step - loss: 0.2106 - accuracy: 0.9276 - val_loss: 2.6584 - val_accuracy: 0.4524\n",
            "Epoch 54/100\n",
            "94/94 [==============================] - 16s 169ms/step - loss: 0.1938 - accuracy: 0.9372 - val_loss: 2.7993 - val_accuracy: 0.4286\n",
            "Epoch 55/100\n",
            "94/94 [==============================] - 16s 169ms/step - loss: 0.2126 - accuracy: 0.9352 - val_loss: 2.7850 - val_accuracy: 0.4286\n",
            "Epoch 56/100\n",
            "94/94 [==============================] - 16s 169ms/step - loss: 0.1971 - accuracy: 0.9384 - val_loss: 2.9309 - val_accuracy: 0.4286\n",
            "Epoch 57/100\n",
            "94/94 [==============================] - 16s 169ms/step - loss: 0.1905 - accuracy: 0.9391 - val_loss: 2.7001 - val_accuracy: 0.4762\n",
            "Epoch 58/100\n",
            "94/94 [==============================] - 16s 169ms/step - loss: 0.1974 - accuracy: 0.9364 - val_loss: 2.6267 - val_accuracy: 0.5238\n",
            "Epoch 59/100\n",
            "94/94 [==============================] - 16s 169ms/step - loss: 0.1862 - accuracy: 0.9383 - val_loss: 2.9127 - val_accuracy: 0.4524\n",
            "Epoch 60/100\n",
            "94/94 [==============================] - 16s 169ms/step - loss: 0.1890 - accuracy: 0.9298 - val_loss: 2.8349 - val_accuracy: 0.4524\n",
            "Epoch 61/100\n",
            "94/94 [==============================] - 16s 169ms/step - loss: 0.1872 - accuracy: 0.9319 - val_loss: 2.7579 - val_accuracy: 0.4524\n",
            "Epoch 62/100\n",
            "94/94 [==============================] - 16s 169ms/step - loss: 0.1860 - accuracy: 0.9374 - val_loss: 2.6448 - val_accuracy: 0.4762\n",
            "Epoch 63/100\n",
            "94/94 [==============================] - 16s 169ms/step - loss: 0.1986 - accuracy: 0.9298 - val_loss: 2.7637 - val_accuracy: 0.5000\n",
            "Epoch 64/100\n",
            "94/94 [==============================] - 16s 169ms/step - loss: 0.1551 - accuracy: 0.9480 - val_loss: 2.6718 - val_accuracy: 0.5714\n",
            "Epoch 65/100\n",
            "94/94 [==============================] - 16s 169ms/step - loss: 0.1773 - accuracy: 0.9381 - val_loss: 3.1385 - val_accuracy: 0.4762\n",
            "Epoch 66/100\n",
            "94/94 [==============================] - 16s 170ms/step - loss: 0.1519 - accuracy: 0.9560 - val_loss: 2.9335 - val_accuracy: 0.4762\n",
            "Epoch 67/100\n",
            "94/94 [==============================] - 16s 169ms/step - loss: 0.1490 - accuracy: 0.9518 - val_loss: 3.3656 - val_accuracy: 0.4286\n",
            "Epoch 68/100\n",
            "94/94 [==============================] - 16s 169ms/step - loss: 0.1445 - accuracy: 0.9530 - val_loss: 2.9624 - val_accuracy: 0.4762\n",
            "Epoch 69/100\n",
            "94/94 [==============================] - 16s 168ms/step - loss: 0.1466 - accuracy: 0.9553 - val_loss: 3.0027 - val_accuracy: 0.5000\n",
            "Epoch 70/100\n",
            "94/94 [==============================] - 16s 169ms/step - loss: 0.1423 - accuracy: 0.9561 - val_loss: 2.8689 - val_accuracy: 0.4524\n",
            "Epoch 71/100\n",
            "94/94 [==============================] - 16s 169ms/step - loss: 0.1476 - accuracy: 0.9480 - val_loss: 3.2512 - val_accuracy: 0.4524\n",
            "Epoch 72/100\n",
            "94/94 [==============================] - 16s 169ms/step - loss: 0.1474 - accuracy: 0.9484 - val_loss: 3.1024 - val_accuracy: 0.4762\n",
            "Epoch 73/100\n",
            "94/94 [==============================] - 16s 169ms/step - loss: 0.1429 - accuracy: 0.9529 - val_loss: 3.4161 - val_accuracy: 0.4286\n",
            "Epoch 74/100\n",
            "94/94 [==============================] - 16s 169ms/step - loss: 0.1280 - accuracy: 0.9587 - val_loss: 3.1170 - val_accuracy: 0.4762\n",
            "Epoch 75/100\n",
            "94/94 [==============================] - 16s 169ms/step - loss: 0.1223 - accuracy: 0.9607 - val_loss: 3.4730 - val_accuracy: 0.4524\n",
            "Epoch 76/100\n",
            "94/94 [==============================] - 16s 169ms/step - loss: 0.1281 - accuracy: 0.9569 - val_loss: 3.1147 - val_accuracy: 0.4762\n",
            "Epoch 77/100\n",
            "94/94 [==============================] - 16s 169ms/step - loss: 0.1126 - accuracy: 0.9703 - val_loss: 3.1817 - val_accuracy: 0.4762\n",
            "Epoch 78/100\n",
            "94/94 [==============================] - 16s 169ms/step - loss: 0.1268 - accuracy: 0.9585 - val_loss: 3.2713 - val_accuracy: 0.5238\n",
            "Epoch 79/100\n",
            "94/94 [==============================] - 16s 169ms/step - loss: 0.1195 - accuracy: 0.9620 - val_loss: 3.4407 - val_accuracy: 0.5000\n",
            "Epoch 80/100\n",
            "94/94 [==============================] - 16s 169ms/step - loss: 0.1171 - accuracy: 0.9623 - val_loss: 3.4208 - val_accuracy: 0.5000\n",
            "Epoch 81/100\n",
            "94/94 [==============================] - 16s 169ms/step - loss: 0.1171 - accuracy: 0.9620 - val_loss: 3.5244 - val_accuracy: 0.4286\n",
            "Epoch 82/100\n",
            "94/94 [==============================] - 16s 169ms/step - loss: 0.1082 - accuracy: 0.9630 - val_loss: 3.5887 - val_accuracy: 0.4524\n",
            "Epoch 83/100\n",
            "94/94 [==============================] - 16s 169ms/step - loss: 0.1144 - accuracy: 0.9648 - val_loss: 3.4249 - val_accuracy: 0.4762\n",
            "Epoch 84/100\n",
            "94/94 [==============================] - 16s 169ms/step - loss: 0.1101 - accuracy: 0.9639 - val_loss: 3.4699 - val_accuracy: 0.4762\n",
            "Epoch 85/100\n",
            "94/94 [==============================] - 16s 169ms/step - loss: 0.1184 - accuracy: 0.9591 - val_loss: 3.8294 - val_accuracy: 0.4286\n",
            "Epoch 86/100\n",
            "94/94 [==============================] - 16s 169ms/step - loss: 0.1108 - accuracy: 0.9654 - val_loss: 3.6918 - val_accuracy: 0.4286\n",
            "Epoch 87/100\n",
            "94/94 [==============================] - 16s 169ms/step - loss: 0.1072 - accuracy: 0.9646 - val_loss: 3.4928 - val_accuracy: 0.5000\n"
          ],
          "name": "stdout"
        }
      ]
    },
    {
      "cell_type": "code",
      "metadata": {
        "colab": {
          "base_uri": "https://localhost:8080/",
          "height": 281
        },
        "id": "vGCjihV6fruL",
        "outputId": "07fece42-e73c-4b07-cefc-eef7993ec2e6"
      },
      "source": [
        "plt.plot(hist.history['loss'][0:],label=\"{} layers\".format(3))\n",
        "plt.legend()\n",
        "plt.title('loss')\n",
        "plt.show()"
      ],
      "execution_count": 53,
      "outputs": [
        {
          "output_type": "display_data",
          "data": {
            "image/png": "[encoded data removed]",
            "text/plain": [
              "<Figure size 432x288 with 1 Axes>"
            ]
          },
          "metadata": {
            "tags": [],
            "needs_background": "light"
          }
        }
      ]
    },
    {
      "cell_type": "code",
      "metadata": {
        "colab": {
          "base_uri": "https://localhost:8080/",
          "height": 423
        },
        "id": "H_VvxJUck2G1",
        "outputId": "8fc1fa24-4863-4cca-cc5b-e230f1e40539"
      },
      "source": [
        "preds = model.evaluate(test_images, test_labels)\n",
        "print(\"Loss = \" + str(preds[0]))\n",
        "print(\"Test accuracy = \" + str(preds[1]))\n",
        "pred_y_=model.predict(test_images)\n",
        "cm=confusion_matrix(np.argmax(test_labels,axis=1),np.argmax(pred_y_,axis=1))\n",
        "print(cm)\n",
        "plt.imshow(cm, cmap='binary')"
      ],
      "execution_count": 54,
      "outputs": [
        {
          "output_type": "stream",
          "text": [
            "4/4 [==============================] - 0s 83ms/step - loss: 3.6906 - accuracy: 0.3883\n",
            "Loss = 3.6906094551086426\n",
            "Test accuracy = 0.3883495032787323\n",
            "[[18  0 11  1  4]\n",
            " [ 3  0  1  0  1]\n",
            " [ 5  2 13  2 10]\n",
            " [ 3  0  6  4  6]\n",
            " [ 5  0  2  1  5]]\n"
          ],
          "name": "stdout"
        },
        {
          "output_type": "execute_result",
          "data": {
            "text/plain": [
              "<matplotlib.image.AxesImage at 0x7ff7e2dba150>"
            ]
          },
          "metadata": {
            "tags": []
          },
          "execution_count": 54
        },
        {
          "output_type": "display_data",
          "data": {
            "image/png": "[encoded data removed]",
            "text/plain": [
              "<Figure size 432x288 with 1 Axes>"
            ]
          },
          "metadata": {
            "tags": [],
            "needs_background": "light"
          }
        }
      ]
    },
    {
      "cell_type": "code",
      "metadata": {
        "colab": {
          "base_uri": "https://localhost:8080/",
          "height": 370
        },
        "id": "bH4A_QeSlEaP",
        "outputId": "c0441c6e-66eb-4052-a056-a132adba6370"
      },
      "source": [
        "pred_y_=model.predict(val_images)\n",
        "cm=confusion_matrix(np.argmax(val_labels,axis=1),np.argmax(pred_y_,axis=1))\n",
        "print(cm)\n",
        "plt.imshow(cm, cmap='binary') \n",
        "score=accuracy_score(np.argmax(val_labels,axis=1),np.argmax(pred_y_,axis=1))\n",
        "print(score,\" acuracy\")"
      ],
      "execution_count": 55,
      "outputs": [
        {
          "output_type": "stream",
          "text": [
            "[[13  0  0  0  1]\n",
            " [ 0  0  0  0  0]\n",
            " [ 5  0  6  4  4]\n",
            " [ 1  0  2  0  2]\n",
            " [ 1  1  0  0  2]]\n",
            "0.5  acuracy\n"
          ],
          "name": "stdout"
        },
        {
          "output_type": "display_data",
          "data": {
            "image/png": "[encoded data removed]",
            "text/plain": [
              "<Figure size 432x288 with 1 Axes>"
            ]
          },
          "metadata": {
            "tags": [],
            "needs_background": "light"
          }
        }
      ]
    },
    {
      "cell_type": "code",
      "metadata": {
        "colab": {
          "base_uri": "https://localhost:8080/",
          "height": 370
        },
        "id": "y1hftLeGlLOb",
        "outputId": "4407d027-d030-4ffe-cf6d-3bbec8c92359"
      },
      "source": [
        "pred_y_=model.predict(train_images)\n",
        "cm=confusion_matrix(np.argmax(train_labels,axis=1),np.argmax(pred_y_,axis=1))\n",
        "print(cm)\n",
        "plt.imshow(cm, cmap='binary') "
      ],
      "execution_count": 56,
      "outputs": [
        {
          "output_type": "stream",
          "text": [
            "[[574   0  21   0   5]\n",
            " [ 33 494  56   0  17]\n",
            " [ 10   1 557  11  21]\n",
            " [ 27   2  58 451  62]\n",
            " [  0   0   2   0 598]]\n"
          ],
          "name": "stdout"
        },
        {
          "output_type": "execute_result",
          "data": {
            "text/plain": [
              "<matplotlib.image.AxesImage at 0x7ff7e3c57310>"
            ]
          },
          "metadata": {
            "tags": []
          },
          "execution_count": 56
        },
        {
          "output_type": "display_data",
          "data": {
            "image/png": "[encoded data removed]",
            "text/plain": [
              "<Figure size 432x288 with 1 Axes>"
            ]
          },
          "metadata": {
            "tags": [],
            "needs_background": "light"
          }
        }
      ]
    },
    {
      "cell_type": "code",
      "metadata": {
        "colab": {
          "base_uri": "https://localhost:8080/"
        },
        "id": "xPSDfyHmlWeN",
        "outputId": "3e0863f8-d599-48b2-b855-717f7b053897"
      },
      "source": [
        "from sklearn.metrics import precision_score,accuracy_score\n",
        "score=accuracy_score(np.argmax(train_labels,axis=1),np.argmax(pred_y_,axis=1))\n",
        "print(score,\" acuracy\")"
      ],
      "execution_count": 57,
      "outputs": [
        {
          "output_type": "stream",
          "text": [
            "0.8913333333333333  acuracy\n"
          ],
          "name": "stdout"
        }
      ]
    },
    {
      "cell_type": "code",
      "metadata": {
        "id": "wTHuSdzdweGE",
        "colab": {
          "base_uri": "https://localhost:8080/",
          "height": 379
        },
        "outputId": "08b4ed86-050b-4d10-e67d-cfe5527a57c0"
      },
      "source": [
        "from tensorflow.keras.preprocessing.image import ImageDataGenerator\n",
        "import multiprocessing\n",
        "import tools.image as T\n",
        "\n",
        "pool = multiprocessing.Pool(processes=5)\n",
        "\n",
        "train_datagen = T.ImageDataGenerator(\n",
        "    rescale=1./255,\n",
        "    shear_range=0.2,\n",
        "    zoom_range=0.2,\n",
        "    horizontal_flip=True,\n",
        "    pool=pool)\n",
        "train_generator = train_datagen.flow_from_dataframe(\n",
        "    'data/train',\n",
        "    target_size=(150, 150),\n",
        "    batch_size=32,\n",
        "    class_mode='binary')"
      ],
      "execution_count": 50,
      "outputs": [
        {
          "output_type": "error",
          "ename": "ModuleNotFoundError",
          "evalue": "ignored",
          "traceback": [
            "\u001b[0;31m---------------------------------------------------------------------------\u001b[0m",
            "\u001b[0;31mModuleNotFoundError\u001b[0m                       Traceback (most recent call last)",
            "\u001b[0;32m<ipython-input-50-58b7f914aec0>\u001b[0m in \u001b[0;36m<module>\u001b[0;34m()\u001b[0m\n\u001b[1;32m      1\u001b[0m \u001b[0;32mfrom\u001b[0m \u001b[0mtensorflow\u001b[0m\u001b[0;34m.\u001b[0m\u001b[0mkeras\u001b[0m\u001b[0;34m.\u001b[0m\u001b[0mpreprocessing\u001b[0m\u001b[0;34m.\u001b[0m\u001b[0mimage\u001b[0m \u001b[0;32mimport\u001b[0m \u001b[0mImageDataGenerator\u001b[0m\u001b[0;34m\u001b[0m\u001b[0;34m\u001b[0m\u001b[0m\n\u001b[1;32m      2\u001b[0m \u001b[0;32mimport\u001b[0m \u001b[0mmultiprocessing\u001b[0m\u001b[0;34m\u001b[0m\u001b[0;34m\u001b[0m\u001b[0m\n\u001b[0;32m----> 3\u001b[0;31m \u001b[0;32mimport\u001b[0m \u001b[0mtools\u001b[0m\u001b[0;34m.\u001b[0m\u001b[0mimage\u001b[0m \u001b[0;32mas\u001b[0m \u001b[0mT\u001b[0m\u001b[0;34m\u001b[0m\u001b[0;34m\u001b[0m\u001b[0m\n\u001b[0m\u001b[1;32m      4\u001b[0m \u001b[0;34m\u001b[0m\u001b[0m\n\u001b[1;32m      5\u001b[0m \u001b[0mpool\u001b[0m \u001b[0;34m=\u001b[0m \u001b[0mmultiprocessing\u001b[0m\u001b[0;34m.\u001b[0m\u001b[0mPool\u001b[0m\u001b[0;34m(\u001b[0m\u001b[0mprocesses\u001b[0m\u001b[0;34m=\u001b[0m\u001b[0;36m5\u001b[0m\u001b[0;34m)\u001b[0m\u001b[0;34m\u001b[0m\u001b[0;34m\u001b[0m\u001b[0m\n",
            "\u001b[0;31mModuleNotFoundError\u001b[0m: No module named 'tools.image'",
            "",
            "\u001b[0;31m---------------------------------------------------------------------------\u001b[0;32m\nNOTE: If your import is failing due to a missing package, you can\nmanually install dependencies using either !pip or !apt.\n\nTo view examples of installing some common dependencies, click the\n\"Open Examples\" button below.\n\u001b[0;31m---------------------------------------------------------------------------\u001b[0m\n"
          ]
        }
      ]
    },
    {
      "cell_type": "code",
      "metadata": {
        "colab": {
          "base_uri": "https://localhost:8080/"
        },
        "id": "bC7qrthnLQbF",
        "outputId": "f3eb5a33-c37b-43c8-8d3d-1bd83a253932"
      },
      "source": [
        "pip install tools"
      ],
      "execution_count": 49,
      "outputs": [
        {
          "output_type": "stream",
          "text": [
            "Collecting tools\n",
            "  Downloading https://files.pythonhosted.org/packages/de/20/2a2dddb083fd0ce56b453cf016768b2c49f3c0194090500f78865b7d110c/tools-0.1.9.tar.gz\n",
            "Collecting pytils\n",
            "\u001b[?25l  Downloading https://files.pythonhosted.org/packages/c6/c1/12b556b5bb393ce5130d57af862d045f57fee764797c0fe837e49cb2a5da/pytils-0.3.tar.gz (89kB)\n",
            "\u001b[K     |████████████████████████████████| 92kB 7.0MB/s \n",
            "\u001b[?25hRequirement already satisfied: six in /usr/local/lib/python3.7/dist-packages (from tools) (1.15.0)\n",
            "Requirement already satisfied: lxml in /usr/local/lib/python3.7/dist-packages (from tools) (4.2.6)\n",
            "Building wheels for collected packages: tools, pytils\n",
            "  Building wheel for tools (setup.py) ... \u001b[?25l\u001b[?25hdone\n",
            "  Created wheel for tools: filename=tools-0.1.9-cp37-none-any.whl size=46760 sha256=b524afe4aeab38a943be3bc02ba4456e99d3deb81268ad55489b1f3df2659f3b\n",
            "  Stored in directory: /root/.cache/pip/wheels/87/67/9b/1ca7dcb0b9ebfdc23a00c85a0644abb6fb14f9159a0df8e067\n",
            "  Building wheel for pytils (setup.py) ... \u001b[?25l\u001b[?25hdone\n",
            "  Created wheel for pytils: filename=pytils-0.3-cp37-none-any.whl size=40356 sha256=b6645ecdf1662fc7f556772379546bcc6c6707f0f8f17f49e1d4d82ad5eafbf5\n",
            "  Stored in directory: /root/.cache/pip/wheels/d6/f9/dc/4f07d8ee40d9cfca9973b3f4aeff99d0bb69900e5f3dffbf32\n",
            "Successfully built tools pytils\n",
            "Installing collected packages: pytils, tools\n",
            "Successfully installed pytils-0.3 tools-0.1.9\n"
          ],
          "name": "stdout"
        }
      ]
    },
    {
      "cell_type": "code",
      "metadata": {
        "id": "m4YWOQR7YUcH"
      },
      "source": [
        ""
      ],
      "execution_count": null,
      "outputs": []
    }
  ]
}