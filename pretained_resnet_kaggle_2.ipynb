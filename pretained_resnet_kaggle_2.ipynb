{
  "nbformat": 4,
  "nbformat_minor": 0,
  "metadata": {
    "colab": {
      "name": "pretained_resnet_kaggle.ipynb",
      "provenance": [],
      "collapsed_sections": [],
      "authorship_tag": "ABX9TyMSXE4xuAa7Pro/6xBi9kYO"
    },
    "kernelspec": {
      "name": "python3",
      "display_name": "Python 3"
    },
    "language_info": {
      "name": "python"
    },
    "accelerator": "GPU"
  },
  "cells": [
    {
      "cell_type": "code",
      "metadata": {
        "id": "BVA_ISwfVldq"
      },
      "source": [
        "import os\n",
        "import sys\n",
        "import random\n",
        "import IPython\n",
        "\n",
        "from sklearn.utils import shuffle\n",
        "from sklearn.model_selection import train_test_split\n",
        "\n",
        "import numpy as np\n",
        "import pandas as pd\n",
        "import cv2\n",
        "import matplotlib.pyplot as plt\n",
        "\n",
        "import tensorflow as tf\n",
        "from tensorflow import keras\n",
        "\n",
        "from sklearn.utils import shuffle\n",
        "from sklearn.datasets import make_classification\n",
        "from sklearn.metrics import plot_confusion_matrix,confusion_matrix\n",
        "\n",
        "from matplotlib.pyplot import imread\n",
        "from cv2 import resize\n",
        "\n",
        "from keras import layers\n",
        "from keras.layers import Input, Add, Dense, Activation, ZeroPadding2D, BatchNormalization, Flatten, Conv2D, AveragePooling2D, MaxPooling2D, Dropout\n",
        "from keras.models import Model, load_model\n",
        "from keras.preprocessing import image\n",
        "from keras.utils import layer_utils\n",
        "from keras.utils.data_utils import get_file\n",
        "from keras.applications.imagenet_utils import preprocess_input\n",
        "import pydot\n",
        "from keras.utils.vis_utils import model_to_dot\n",
        "from keras.utils import plot_model\n",
        "from sklearn.preprocessing import OneHotEncoder\n",
        "\n",
        "from keras.initializers import glorot_uniform\n",
        "import scipy.misc\n",
        "from matplotlib.pyplot import imshow\n",
        "\n",
        "random.seed = 2\n",
        "#np.random.seed = 2\n",
        "tf.seed = 2\n",
        "tf.random.set_seed(2)"
      ],
      "execution_count": 1,
      "outputs": []
    },
    {
      "cell_type": "code",
      "metadata": {
        "id": "T4JGMPJ4ZH6Z",
        "colab": {
          "base_uri": "https://localhost:8080/"
        },
        "outputId": "690ed741-972d-4563-e217-ab082daa3c85"
      },
      "source": [
        "from google.colab import drive\n",
        "drive.mount('/content/drive')"
      ],
      "execution_count": 2,
      "outputs": [
        {
          "output_type": "stream",
          "text": [
            "Mounted at /content/drive\n"
          ],
          "name": "stdout"
        }
      ]
    },
    {
      "cell_type": "markdown",
      "metadata": {
        "id": "a4nO1Cje8RPD"
      },
      "source": [
        "## Read, Split train_val & oversample train set\n"
      ]
    },
    {
      "cell_type": "code",
      "metadata": {
        "id": "rGwjyKXsZKCh",
        "colab": {
          "base_uri": "https://localhost:8080/",
          "height": 197
        },
        "outputId": "674f3607-6413-4776-f7a2-108e6129319b"
      },
      "source": [
        "dataset_images_location = \"/content/drive/My Drive/IDRid/B. Disease Grading/1. Original Images/a. Training Set\"\n",
        "dataset_groundtruth_location = \"/content/drive/MyDrive/IDRid/B. Disease Grading/2. Groundtruths/a. IDRiD_Disease Grading_Training Labels.csv\"\n",
        "\n",
        "df = pd.read_csv(dataset_groundtruth_location)\n",
        "df_ = pd.DataFrame();\n",
        "df_['Image name'] = df['Image name']\n",
        "df_['Retinopathy grade'] = df['Retinopathy grade']\n",
        "\n",
        "train_df, val_df = train_test_split(df_, test_size = 0.1, random_state = 415);\n",
        "train_df.head()"
      ],
      "execution_count": 3,
      "outputs": [
        {
          "output_type": "execute_result",
          "data": {
            "text/html": [
              "<div>\n",
              "<style scoped>\n",
              "    .dataframe tbody tr th:only-of-type {\n",
              "        vertical-align: middle;\n",
              "    }\n",
              "\n",
              "    .dataframe tbody tr th {\n",
              "        vertical-align: top;\n",
              "    }\n",
              "\n",
              "    .dataframe thead th {\n",
              "        text-align: right;\n",
              "    }\n",
              "</style>\n",
              "<table border=\"1\" class=\"dataframe\">\n",
              "  <thead>\n",
              "    <tr style=\"text-align: right;\">\n",
              "      <th></th>\n",
              "      <th>Image name</th>\n",
              "      <th>Retinopathy grade</th>\n",
              "    </tr>\n",
              "  </thead>\n",
              "  <tbody>\n",
              "    <tr>\n",
              "      <th>118</th>\n",
              "      <td>IDRiD_119</td>\n",
              "      <td>4</td>\n",
              "    </tr>\n",
              "    <tr>\n",
              "      <th>391</th>\n",
              "      <td>IDRiD_392</td>\n",
              "      <td>4</td>\n",
              "    </tr>\n",
              "    <tr>\n",
              "      <th>41</th>\n",
              "      <td>IDRiD_042</td>\n",
              "      <td>2</td>\n",
              "    </tr>\n",
              "    <tr>\n",
              "      <th>44</th>\n",
              "      <td>IDRiD_045</td>\n",
              "      <td>2</td>\n",
              "    </tr>\n",
              "    <tr>\n",
              "      <th>216</th>\n",
              "      <td>IDRiD_217</td>\n",
              "      <td>0</td>\n",
              "    </tr>\n",
              "  </tbody>\n",
              "</table>\n",
              "</div>"
            ],
            "text/plain": [
              "    Image name  Retinopathy grade\n",
              "118  IDRiD_119                  4\n",
              "391  IDRiD_392                  4\n",
              "41   IDRiD_042                  2\n",
              "44   IDRiD_045                  2\n",
              "216  IDRiD_217                  0"
            ]
          },
          "metadata": {
            "tags": []
          },
          "execution_count": 3
        }
      ]
    },
    {
      "cell_type": "code",
      "metadata": {
        "id": "iBQvx2YKsp-s"
      },
      "source": [
        "def balance_data(class_size, df):\n",
        "    train_df = df.groupby(['Retinopathy grade']).apply(lambda x: x.sample(class_size, replace = True)).reset_index(drop = True)\n",
        "    train_df = train_df.sample(frac=1).reset_index(drop=True)\n",
        "    print('New Data Size:', train_df.shape[0], 'Old Size:', df.shape[0])\n",
        "    train_df['Retinopathy grade'].hist(figsize = (10, 5))\n",
        "    return train_df"
      ],
      "execution_count": 4,
      "outputs": []
    },
    {
      "cell_type": "code",
      "metadata": {
        "id": "4oYr0b2iZNEc",
        "colab": {
          "base_uri": "https://localhost:8080/",
          "height": 355
        },
        "outputId": "154d38f4-a16a-48cc-8bbc-3c7e066d82c4"
      },
      "source": [
        "train_df = balance_data(train_df.pivot_table(index='Retinopathy grade', aggfunc=len).max().max(),train_df) # I will oversample such that all classes have the same number of images as the maximum\n",
        "train_df['Retinopathy grade'].hist(figsize = (10, 5))"
      ],
      "execution_count": 5,
      "outputs": [
        {
          "output_type": "stream",
          "text": [
            "New Data Size: 600 Old Size: 371\n"
          ],
          "name": "stdout"
        },
        {
          "output_type": "execute_result",
          "data": {
            "text/plain": [
              "<matplotlib.axes._subplots.AxesSubplot at 0x7f2497fcc350>"
            ]
          },
          "metadata": {
            "tags": []
          },
          "execution_count": 5
        },
        {
          "output_type": "display_data",
          "data": {
            "image/png": "[encoded data removed]",
            "text/plain": [
              "<Figure size 720x360 with 1 Axes>"
            ]
          },
          "metadata": {
            "tags": [],
            "needs_background": "light"
          }
        }
      ]
    },
    {
      "cell_type": "code",
      "metadata": {
        "id": "8zjJjS54dhuw"
      },
      "source": [
        "from tensorflow.keras.preprocessing.image import ImageDataGenerator\n",
        "import multiprocessing\n",
        "\n",
        "train_datagen = ImageDataGenerator(\n",
        "    shear_range=0.05,\n",
        "    zoom_range=0.05,\n",
        "    rotation_range=6,\n",
        "    horizontal_flip=True,\n",
        "    vertical_flip=True)"
      ],
      "execution_count": 6,
      "outputs": []
    },
    {
      "cell_type": "code",
      "metadata": {
        "id": "rtaZWtRNZSJl",
        "colab": {
          "base_uri": "https://localhost:8080/"
        },
        "outputId": "ad2667d2-7656-42fc-b682-30468173f981"
      },
      "source": [
        "image_names = train_df['Image name'];\n",
        "im_size = 224;\n",
        "\n",
        "train_labels = [];\n",
        "for label in train_df['Retinopathy grade']:\n",
        "    for i in range(2): # 5 times for data augmentation\n",
        "      train_labels.append(label)\n",
        "\n",
        "print(\"len of labels \",len(train_labels))\n",
        "\n",
        "train_images= np.zeros((2*len(train_df['Image name']),224,224,3))\n",
        "#train_images= np.zeros((len(train_df['Image name']),224,224,3))\n",
        "#rot=[-6,-5,-4,-3,-2,2,3,4,5,6]\n",
        "index=0\n",
        "for image_name in image_names:\n",
        "    #read image\n",
        "    img = cv2.imread(dataset_images_location + '/' + image_name + \".jpg\");\n",
        "    img = cv2.resize(img, (im_size, im_size));\n",
        "    #load into array\n",
        "    train_images[index] = img\n",
        "    #train_images[index + 1] = np.flip(img, axis = 0)\n",
        "    #train_images[index + 2] = np.flip(img, axis = 1)\n",
        "    train_images[index + 1] = np.rot90(np.rot90(img))\n",
        "    #train_images[index + 4] = scipy.ndimage.rotate(img, random.choice(rot), reshape = False)\n",
        "    #index = index + 5\n",
        "    index = index + 2\n",
        "\n",
        "train_images = train_images.astype('float32') / np.max(train_images)\n",
        "train_labels = np.array(train_labels, ndmin = 2)\n",
        "train_labels = np.transpose(train_labels)\n",
        "\n",
        "enc = OneHotEncoder(categories='auto', drop=None, sparse=False, dtype = np.int, handle_unknown='error')\n",
        "enc.fit(train_labels)\n",
        "train_labels = enc.transform(train_labels)\n",
        "\n",
        "print(train_images.shape)\n",
        "print(train_labels.shape) \n",
        "train_labels[0:5]"
      ],
      "execution_count": 16,
      "outputs": [
        {
          "output_type": "stream",
          "text": [
            "len of labels  1200\n",
            "(1200, 224, 224, 3)\n",
            "(1200, 5)\n"
          ],
          "name": "stdout"
        },
        {
          "output_type": "execute_result",
          "data": {
            "text/plain": [
              "array([[0, 0, 0, 0, 1],\n",
              "       [0, 0, 0, 0, 1],\n",
              "       [0, 0, 0, 1, 0],\n",
              "       [0, 0, 0, 1, 0],\n",
              "       [1, 0, 0, 0, 0]])"
            ]
          },
          "metadata": {
            "tags": []
          },
          "execution_count": 16
        }
      ]
    },
    {
      "cell_type": "code",
      "metadata": {
        "id": "SfwtDnwifvR4"
      },
      "source": [
        "train_datagen.fit(train_images)"
      ],
      "execution_count": 17,
      "outputs": []
    },
    {
      "cell_type": "markdown",
      "metadata": {
        "id": "q1hIjG0K8K5-"
      },
      "source": [
        "## Read and undersample test_df\n",
        "\n",
        "---\n",
        "\n",
        "\n"
      ]
    },
    {
      "cell_type": "code",
      "metadata": {
        "id": "eNDJgE_hZ-Y2",
        "colab": {
          "base_uri": "https://localhost:8080/"
        },
        "outputId": "527ad1fc-ec55-4476-a13e-8fbc160dab8d"
      },
      "source": [
        "test_images_location = \"/content/drive/My Drive/IDRid/B. Disease Grading/1. Original Images/b. Testing Set\"\n",
        "test_groundtruth_location = \"/content/drive/MyDrive/IDRid/B. Disease Grading/2. Groundtruths/b. IDRiD_Disease Grading_Testing Labels.csv\"\n",
        "\n",
        "test_df = pd.read_csv(test_groundtruth_location)\n",
        "test_df_ = pd.DataFrame();\n",
        "test_df_['Image name'] = test_df['Image name']\n",
        "test_df_['Retinopathy grade'] = test_df['Retinopathy grade']\n",
        "test_df = test_df_\n",
        "print(test_df.head())"
      ],
      "execution_count": 18,
      "outputs": [
        {
          "output_type": "stream",
          "text": [
            "  Image name  Retinopathy grade\n",
            "0  IDRiD_001                  4\n",
            "1  IDRiD_002                  4\n",
            "2  IDRiD_003                  4\n",
            "3  IDRiD_004                  4\n",
            "4  IDRiD_005                  4\n"
          ],
          "name": "stdout"
        }
      ]
    },
    {
      "cell_type": "code",
      "metadata": {
        "id": "AzG9ra1iaCJu"
      },
      "source": [
        "#undersample\n",
        "#test_df = balance_data(test_df.pivot_table(index='Retinopathy grade', aggfunc=len).min().min(),test_df) # I will oversample such that all classes have the same number of images as the maximum\n",
        "#test_df['Retinopathy grade'].hist(figsize = (10, 5))"
      ],
      "execution_count": 19,
      "outputs": []
    },
    {
      "cell_type": "code",
      "metadata": {
        "colab": {
          "base_uri": "https://localhost:8080/"
        },
        "id": "6dLGRkaU8KIi",
        "outputId": "0dfad2f1-7446-446d-ae58-1d9f10a1fb3d"
      },
      "source": [
        "test_image_names = [];\n",
        "test_image_names = test_df['Image name'];\n",
        "print(\"len of test set \",len(test_image_names))\n",
        "im_size = 224;\n",
        "\n",
        "test_labels = [];\n",
        "test_labels = test_df['Retinopathy grade'];\n",
        "\n",
        "test_images = []\n",
        "for image_name in test_image_names:\n",
        "    img = cv2.imread(test_images_location + '/' + image_name + \".jpg\");\n",
        "    img = cv2.resize(img, (im_size, im_size));\n",
        "    test_images.append(img);\n",
        "\n",
        "test_images = np.array(test_images)\n",
        "test_images = test_images.astype('float32') / np.max(test_images)\n",
        "test_labels = np.array(test_labels, ndmin = 2)\n",
        "test_labels = np.transpose(test_labels)\n",
        "\n",
        "#enc = OneHotEncoder(categories='auto', drop=None, sparse=False, dtype = np.int, handle_unknown='error')\n",
        "test_labels = enc.transform(test_labels)\n",
        "\n",
        "print(test_images.shape)\n",
        "print(test_labels.shape) "
      ],
      "execution_count": 20,
      "outputs": [
        {
          "output_type": "stream",
          "text": [
            "len of test set  103\n",
            "(103, 224, 224, 3)\n",
            "(103, 5)\n"
          ],
          "name": "stdout"
        }
      ]
    },
    {
      "cell_type": "code",
      "metadata": {
        "colab": {
          "base_uri": "https://localhost:8080/"
        },
        "id": "VduG3Nv59YCH",
        "outputId": "f65285c3-3a84-45c4-984d-f92ecefd38d2"
      },
      "source": [
        "val_image_names = [];\n",
        "val_image_names = val_df['Image name'];\n",
        "print(\"len of test set \",len(val_image_names))\n",
        "im_size = 224;\n",
        "\n",
        "val_labels = [];\n",
        "val_labels = val_df['Retinopathy grade'];\n",
        "\n",
        "val_images = []\n",
        "for image_name in val_image_names:\n",
        "    img = cv2.imread(dataset_images_location + '/' + image_name + \".jpg\");\n",
        "    img = cv2.resize(img, (im_size, im_size));\n",
        "    val_images.append(img);\n",
        "\n",
        "val_images = np.array(val_images)\n",
        "val_images = val_images.astype('float32') / np.max(val_images)\n",
        "val_labels = np.array(val_labels, ndmin = 2)\n",
        "val_labels = np.transpose(val_labels)\n",
        "\n",
        "#enc = OneHotEncoder(categories='auto', drop=None, sparse=False, dtype = np.int, handle_unknown='error')\n",
        "#use encoder fitted on train data for both val and test data\n",
        "val_labels = enc.transform(val_labels)\n",
        "\n",
        "print(val_images.shape)\n",
        "print(val_labels.shape) "
      ],
      "execution_count": 21,
      "outputs": [
        {
          "output_type": "stream",
          "text": [
            "len of test set  42\n",
            "(42, 224, 224, 3)\n",
            "(42, 5)\n"
          ],
          "name": "stdout"
        }
      ]
    },
    {
      "cell_type": "code",
      "metadata": {
        "colab": {
          "base_uri": "https://localhost:8080/"
        },
        "id": "RrMaIH8_9N1_",
        "outputId": "18595dbf-a874-4a5a-8e53-b97b3396a00b"
      },
      "source": [
        "from sklearn.utils import shuffle\n",
        "\n",
        "train_images, train_labels = shuffle(train_images, train_labels, random_state = 1)\n",
        "# If train and test are from respective sets\n",
        "print(\"train x size \",train_images.shape)\n",
        "print(\"train y size \",train_labels.shape)\n",
        "print(\"test x size \",test_images.shape)\n",
        "print(\"test y size \",test_labels.shape)\n",
        "print(\"val x size \",val_images.shape)\n",
        "print(\"val y size \",val_labels.shape)"
      ],
      "execution_count": 22,
      "outputs": [
        {
          "output_type": "stream",
          "text": [
            "train x size  (1200, 224, 224, 3)\n",
            "train y size  (1200, 5)\n",
            "test x size  (103, 224, 224, 3)\n",
            "test y size  (103, 5)\n",
            "val x size  (42, 224, 224, 3)\n",
            "val y size  (42, 5)\n"
          ],
          "name": "stdout"
        }
      ]
    },
    {
      "cell_type": "code",
      "metadata": {
        "id": "el5YmmaNDWMn"
      },
      "source": [
        "from keras.models import Sequential\n",
        "#from keras.applications.resnet50 import ResNet50\n",
        "from keras.models import Model\n",
        "from keras.models import model_from_json\n",
        "#base_model = ResNet50(include_top=False,weights=None,input_shape=(224,224,3))\n",
        "\n",
        "json_file = open(\"/content/drive/My Drive/IDRid/model_gradingNew.json\", 'r')\n",
        "loaded_model_json = json_file.read()\n",
        "json_file.close()\n",
        "\n",
        "base_model=model_from_json(loaded_model_json)\n",
        "base_model.load_weights(\"/content/drive/My Drive/IDRid/model_gradingNew.h5\")"
      ],
      "execution_count": 35,
      "outputs": []
    },
    {
      "cell_type": "code",
      "metadata": {
        "id": "7ixGFpjQE5hw"
      },
      "source": [
        "#base_model.summary()"
      ],
      "execution_count": null,
      "outputs": []
    },
    {
      "cell_type": "code",
      "metadata": {
        "colab": {
          "base_uri": "https://localhost:8080/",
          "height": 496
        },
        "id": "S4-NOYLGGPeZ",
        "outputId": "7479aaa2-c828-45d6-f895-0563f2a3b04e"
      },
      "source": [
        "layers=base_model.layers\n",
        "last_layers=[]\n",
        "#add last layers name\n",
        "for i in range(14):\n",
        "  last_layers.append(layers[-i-1].name)\n",
        "\n",
        "set_trainable = False\n",
        "for layer in base_model.layers:\n",
        "    if layer.name in last_layers:\n",
        "        set_trainable = True\n",
        "    if set_trainable:\n",
        "        layer.trainable = True\n",
        "    else:\n",
        "        layer.trainable = False\n",
        "\n",
        "layers = [(layer, layer.name, layer.trainable) for layer in base_model.layers]\n",
        "pd.DataFrame(layers, columns=['Layer Type', 'Layer Name', 'Layer Trainable']).tail(15)"
      ],
      "execution_count": 36,
      "outputs": [
        {
          "output_type": "execute_result",
          "data": {
            "text/html": [
              "<div>\n",
              "<style scoped>\n",
              "    .dataframe tbody tr th:only-of-type {\n",
              "        vertical-align: middle;\n",
              "    }\n",
              "\n",
              "    .dataframe tbody tr th {\n",
              "        vertical-align: top;\n",
              "    }\n",
              "\n",
              "    .dataframe thead th {\n",
              "        text-align: right;\n",
              "    }\n",
              "</style>\n",
              "<table border=\"1\" class=\"dataframe\">\n",
              "  <thead>\n",
              "    <tr style=\"text-align: right;\">\n",
              "      <th></th>\n",
              "      <th>Layer Type</th>\n",
              "      <th>Layer Name</th>\n",
              "      <th>Layer Trainable</th>\n",
              "    </tr>\n",
              "  </thead>\n",
              "  <tbody>\n",
              "    <tr>\n",
              "      <th>213</th>\n",
              "      <td>&lt;tensorflow.python.keras.layers.core.Dropout o...</td>\n",
              "      <td>dropout_96</td>\n",
              "      <td>False</td>\n",
              "    </tr>\n",
              "    <tr>\n",
              "      <th>214</th>\n",
              "      <td>&lt;tensorflow.python.keras.layers.convolutional....</td>\n",
              "      <td>conv2d_104</td>\n",
              "      <td>True</td>\n",
              "    </tr>\n",
              "    <tr>\n",
              "      <th>215</th>\n",
              "      <td>&lt;tensorflow.python.keras.layers.normalization_...</td>\n",
              "      <td>batch_normalization_104</td>\n",
              "      <td>True</td>\n",
              "    </tr>\n",
              "    <tr>\n",
              "      <th>216</th>\n",
              "      <td>&lt;tensorflow.python.keras.layers.core.Activatio...</td>\n",
              "      <td>activation_96</td>\n",
              "      <td>True</td>\n",
              "    </tr>\n",
              "    <tr>\n",
              "      <th>217</th>\n",
              "      <td>&lt;tensorflow.python.keras.layers.core.Dropout o...</td>\n",
              "      <td>dropout_97</td>\n",
              "      <td>True</td>\n",
              "    </tr>\n",
              "    <tr>\n",
              "      <th>218</th>\n",
              "      <td>&lt;tensorflow.python.keras.layers.convolutional....</td>\n",
              "      <td>conv2d_105</td>\n",
              "      <td>True</td>\n",
              "    </tr>\n",
              "    <tr>\n",
              "      <th>219</th>\n",
              "      <td>&lt;tensorflow.python.keras.layers.normalization_...</td>\n",
              "      <td>batch_normalization_105</td>\n",
              "      <td>True</td>\n",
              "    </tr>\n",
              "    <tr>\n",
              "      <th>220</th>\n",
              "      <td>&lt;tensorflow.python.keras.layers.merge.Add obje...</td>\n",
              "      <td>add_31</td>\n",
              "      <td>True</td>\n",
              "    </tr>\n",
              "    <tr>\n",
              "      <th>221</th>\n",
              "      <td>&lt;tensorflow.python.keras.layers.core.Activatio...</td>\n",
              "      <td>activation_97</td>\n",
              "      <td>True</td>\n",
              "    </tr>\n",
              "    <tr>\n",
              "      <th>222</th>\n",
              "      <td>&lt;tensorflow.python.keras.layers.core.Dropout o...</td>\n",
              "      <td>dropout_98</td>\n",
              "      <td>True</td>\n",
              "    </tr>\n",
              "    <tr>\n",
              "      <th>223</th>\n",
              "      <td>&lt;tensorflow.python.keras.layers.pooling.Averag...</td>\n",
              "      <td>avg_pool</td>\n",
              "      <td>True</td>\n",
              "    </tr>\n",
              "    <tr>\n",
              "      <th>224</th>\n",
              "      <td>&lt;tensorflow.python.keras.layers.core.Dropout o...</td>\n",
              "      <td>dropout_99</td>\n",
              "      <td>True</td>\n",
              "    </tr>\n",
              "    <tr>\n",
              "      <th>225</th>\n",
              "      <td>&lt;tensorflow.python.keras.layers.core.Flatten o...</td>\n",
              "      <td>flatten_1</td>\n",
              "      <td>True</td>\n",
              "    </tr>\n",
              "    <tr>\n",
              "      <th>226</th>\n",
              "      <td>&lt;tensorflow.python.keras.layers.core.Dense obj...</td>\n",
              "      <td>dense_1</td>\n",
              "      <td>True</td>\n",
              "    </tr>\n",
              "    <tr>\n",
              "      <th>227</th>\n",
              "      <td>&lt;tensorflow.python.keras.layers.core.Dense obj...</td>\n",
              "      <td>fc5</td>\n",
              "      <td>True</td>\n",
              "    </tr>\n",
              "  </tbody>\n",
              "</table>\n",
              "</div>"
            ],
            "text/plain": [
              "                                            Layer Type  ... Layer Trainable\n",
              "213  <tensorflow.python.keras.layers.core.Dropout o...  ...           False\n",
              "214  <tensorflow.python.keras.layers.convolutional....  ...            True\n",
              "215  <tensorflow.python.keras.layers.normalization_...  ...            True\n",
              "216  <tensorflow.python.keras.layers.core.Activatio...  ...            True\n",
              "217  <tensorflow.python.keras.layers.core.Dropout o...  ...            True\n",
              "218  <tensorflow.python.keras.layers.convolutional....  ...            True\n",
              "219  <tensorflow.python.keras.layers.normalization_...  ...            True\n",
              "220  <tensorflow.python.keras.layers.merge.Add obje...  ...            True\n",
              "221  <tensorflow.python.keras.layers.core.Activatio...  ...            True\n",
              "222  <tensorflow.python.keras.layers.core.Dropout o...  ...            True\n",
              "223  <tensorflow.python.keras.layers.pooling.Averag...  ...            True\n",
              "224  <tensorflow.python.keras.layers.core.Dropout o...  ...            True\n",
              "225  <tensorflow.python.keras.layers.core.Flatten o...  ...            True\n",
              "226  <tensorflow.python.keras.layers.core.Dense obj...  ...            True\n",
              "227  <tensorflow.python.keras.layers.core.Dense obj...  ...            True\n",
              "\n",
              "[15 rows x 3 columns]"
            ]
          },
          "metadata": {
            "tags": []
          },
          "execution_count": 36
        }
      ]
    },
    {
      "cell_type": "code",
      "metadata": {
        "id": "LDL_FZsBfQ8D"
      },
      "source": [
        "\"\"\"\n",
        "output=base_model.layers[-3].output\n",
        "model_wot=Model(base_model.input,output)\n",
        "model= Sequential()#\n",
        "model.add(model_wot)\n",
        "model.add(Dense(128, activation='relu'))\n",
        "model.add(Dropout(0.1))\n",
        "model.add(Dense(256, activation='relu'))\n",
        "model.add(Dropout(0.1))\n",
        "model.add(Dense(5, activation='softmax'))\n",
        "model.summary()\"\"\""
      ],
      "execution_count": null,
      "outputs": []
    },
    {
      "cell_type": "code",
      "metadata": {
        "id": "-92fkrLmmPce"
      },
      "source": [
        "output=Dense(256, activation='relu')(base_model.layers[-3].output)\n",
        "output=Dropout(0.1)(output)\n",
        "output=Dense(5, activation='softmax')(output)\n",
        "model=Model(base_model.input,output)"
      ],
      "execution_count": 37,
      "outputs": []
    },
    {
      "cell_type": "code",
      "metadata": {
        "colab": {
          "base_uri": "https://localhost:8080/"
        },
        "id": "2yflZSRXezo6",
        "outputId": "52f1e1dc-4ff4-4053-d844-238c9b4715ce"
      },
      "source": [
        "from keras.utils.layer_utils import count_params\n",
        "\n",
        "trainable_count = count_params(model.trainable_weights)\n",
        "non_trainable_count = count_params(model.non_trainable_weights)\n",
        "\n",
        "print('Total params: {:,}'.format(trainable_count + non_trainable_count))\n",
        "print('Trainable params: {:,}'.format(trainable_count))\n",
        "print('Non-trainable params: {:,}'.format(non_trainable_count))"
      ],
      "execution_count": 38,
      "outputs": [
        {
          "output_type": "stream",
          "text": [
            "Total params: 28,307,845\n",
            "Trainable params: 8,135,685\n",
            "Non-trainable params: 20,172,160\n"
          ],
          "name": "stdout"
        }
      ]
    },
    {
      "cell_type": "code",
      "metadata": {
        "colab": {
          "base_uri": "https://localhost:8080/"
        },
        "id": "WM0sucWx8c2S",
        "outputId": "fcf822ed-5016-45a6-c1ee-a1c1c96de331"
      },
      "source": [
        "random.seed = 2\n",
        "tf.seed = 2\n",
        "tf.random.set_seed(2)\n",
        "opt = keras.optimizers.Adam(learning_rate = 0.00005, beta_1 = 0.9)\n",
        "model.compile(loss='categorical_crossentropy',\n",
        "              optimizer=opt,\n",
        "              metrics=['accuracy'])\n",
        "early_stopping= tf.keras.callbacks.EarlyStopping(monitor = 'accuracy', min_delta = 0.01, patience = 10)\n",
        "hist=model.fit(train_datagen.flow(train_images, train_labels,batch_size=16,shuffle=True),steps_per_epoch=len(train_images) / 16,\n",
        "               epochs = 100, validation_data = (val_images, val_labels), callbacks = [early_stopping], shuffle = True);"
      ],
      "execution_count": 39,
      "outputs": [
        {
          "output_type": "stream",
          "text": [
            "Epoch 1/100\n",
            "75/75 [==============================] - 25s 262ms/step - loss: 2.1857 - accuracy: 0.3101 - val_loss: 1.5907 - val_accuracy: 0.3333\n",
            "Epoch 2/100\n",
            "75/75 [==============================] - 19s 246ms/step - loss: 1.2775 - accuracy: 0.4644 - val_loss: 1.2156 - val_accuracy: 0.4762\n",
            "Epoch 3/100\n",
            "75/75 [==============================] - 19s 245ms/step - loss: 1.1001 - accuracy: 0.5540 - val_loss: 1.3516 - val_accuracy: 0.4762\n",
            "Epoch 4/100\n",
            "75/75 [==============================] - 19s 246ms/step - loss: 1.0407 - accuracy: 0.5838 - val_loss: 1.6339 - val_accuracy: 0.3810\n",
            "Epoch 5/100\n",
            "75/75 [==============================] - 19s 248ms/step - loss: 0.9349 - accuracy: 0.6504 - val_loss: 1.6902 - val_accuracy: 0.3333\n",
            "Epoch 6/100\n",
            "75/75 [==============================] - 19s 248ms/step - loss: 0.9172 - accuracy: 0.6205 - val_loss: 1.4689 - val_accuracy: 0.5000\n",
            "Epoch 7/100\n",
            "75/75 [==============================] - 19s 246ms/step - loss: 0.8012 - accuracy: 0.7047 - val_loss: 1.3407 - val_accuracy: 0.5714\n",
            "Epoch 8/100\n",
            "75/75 [==============================] - 19s 248ms/step - loss: 0.8201 - accuracy: 0.6863 - val_loss: 1.6293 - val_accuracy: 0.4524\n",
            "Epoch 9/100\n",
            "75/75 [==============================] - 19s 246ms/step - loss: 0.7343 - accuracy: 0.7276 - val_loss: 1.4167 - val_accuracy: 0.5238\n",
            "Epoch 10/100\n",
            "75/75 [==============================] - 19s 247ms/step - loss: 0.7193 - accuracy: 0.7239 - val_loss: 1.7491 - val_accuracy: 0.3810\n",
            "Epoch 11/100\n",
            "75/75 [==============================] - 19s 247ms/step - loss: 0.6634 - accuracy: 0.7565 - val_loss: 1.9351 - val_accuracy: 0.4048\n",
            "Epoch 12/100\n",
            "75/75 [==============================] - 19s 247ms/step - loss: 0.6009 - accuracy: 0.7811 - val_loss: 1.7236 - val_accuracy: 0.3810\n",
            "Epoch 13/100\n",
            "75/75 [==============================] - 19s 246ms/step - loss: 0.5553 - accuracy: 0.8167 - val_loss: 1.6092 - val_accuracy: 0.5714\n",
            "Epoch 14/100\n",
            "75/75 [==============================] - 19s 246ms/step - loss: 0.5517 - accuracy: 0.8096 - val_loss: 1.7876 - val_accuracy: 0.4524\n",
            "Epoch 15/100\n",
            "75/75 [==============================] - 19s 247ms/step - loss: 0.5745 - accuracy: 0.7890 - val_loss: 1.7774 - val_accuracy: 0.4286\n",
            "Epoch 16/100\n",
            "75/75 [==============================] - 19s 247ms/step - loss: 0.5188 - accuracy: 0.8057 - val_loss: 1.8528 - val_accuracy: 0.4762\n",
            "Epoch 17/100\n",
            "75/75 [==============================] - 19s 247ms/step - loss: 0.4477 - accuracy: 0.8346 - val_loss: 1.9498 - val_accuracy: 0.4286\n",
            "Epoch 18/100\n",
            "75/75 [==============================] - 19s 246ms/step - loss: 0.3932 - accuracy: 0.8559 - val_loss: 2.0435 - val_accuracy: 0.4286\n",
            "Epoch 19/100\n",
            "75/75 [==============================] - 19s 246ms/step - loss: 0.4299 - accuracy: 0.8432 - val_loss: 2.0367 - val_accuracy: 0.5476\n",
            "Epoch 20/100\n",
            "75/75 [==============================] - 19s 247ms/step - loss: 0.4220 - accuracy: 0.8557 - val_loss: 2.2417 - val_accuracy: 0.4524\n",
            "Epoch 21/100\n",
            "75/75 [==============================] - 19s 247ms/step - loss: 0.3897 - accuracy: 0.8624 - val_loss: 2.1750 - val_accuracy: 0.4524\n",
            "Epoch 22/100\n",
            "75/75 [==============================] - 19s 246ms/step - loss: 0.3241 - accuracy: 0.8843 - val_loss: 1.8748 - val_accuracy: 0.5714\n",
            "Epoch 23/100\n",
            "75/75 [==============================] - 19s 246ms/step - loss: 0.3085 - accuracy: 0.9025 - val_loss: 2.1836 - val_accuracy: 0.5952\n",
            "Epoch 24/100\n",
            "75/75 [==============================] - 19s 248ms/step - loss: 0.3115 - accuracy: 0.9071 - val_loss: 2.0342 - val_accuracy: 0.5000\n",
            "Epoch 25/100\n",
            "75/75 [==============================] - 19s 246ms/step - loss: 0.2921 - accuracy: 0.9142 - val_loss: 2.1821 - val_accuracy: 0.5000\n",
            "Epoch 26/100\n",
            "75/75 [==============================] - 19s 247ms/step - loss: 0.2600 - accuracy: 0.9028 - val_loss: 1.9851 - val_accuracy: 0.4762\n",
            "Epoch 27/100\n",
            "75/75 [==============================] - 19s 245ms/step - loss: 0.2814 - accuracy: 0.9037 - val_loss: 2.3326 - val_accuracy: 0.4524\n",
            "Epoch 28/100\n",
            "75/75 [==============================] - 19s 245ms/step - loss: 0.2940 - accuracy: 0.8937 - val_loss: 1.9744 - val_accuracy: 0.5714\n",
            "Epoch 29/100\n",
            "75/75 [==============================] - 18s 245ms/step - loss: 0.2368 - accuracy: 0.9122 - val_loss: 2.1283 - val_accuracy: 0.5000\n",
            "Epoch 30/100\n",
            "75/75 [==============================] - 19s 246ms/step - loss: 0.2122 - accuracy: 0.9346 - val_loss: 2.2754 - val_accuracy: 0.4524\n",
            "Epoch 31/100\n",
            "75/75 [==============================] - 19s 247ms/step - loss: 0.2462 - accuracy: 0.8997 - val_loss: 2.2205 - val_accuracy: 0.5000\n",
            "Epoch 32/100\n",
            "75/75 [==============================] - 19s 246ms/step - loss: 0.2101 - accuracy: 0.9387 - val_loss: 2.1574 - val_accuracy: 0.5238\n",
            "Epoch 33/100\n",
            "75/75 [==============================] - 19s 245ms/step - loss: 0.2054 - accuracy: 0.9277 - val_loss: 2.5468 - val_accuracy: 0.4286\n",
            "Epoch 34/100\n",
            "75/75 [==============================] - 19s 246ms/step - loss: 0.2446 - accuracy: 0.9127 - val_loss: 2.5991 - val_accuracy: 0.5238\n",
            "Epoch 35/100\n",
            "75/75 [==============================] - 19s 246ms/step - loss: 0.1606 - accuracy: 0.9534 - val_loss: 2.5821 - val_accuracy: 0.4524\n",
            "Epoch 36/100\n",
            "75/75 [==============================] - 18s 245ms/step - loss: 0.1935 - accuracy: 0.9384 - val_loss: 2.1930 - val_accuracy: 0.5238\n",
            "Epoch 37/100\n",
            "75/75 [==============================] - 19s 246ms/step - loss: 0.2199 - accuracy: 0.9194 - val_loss: 2.1692 - val_accuracy: 0.5476\n",
            "Epoch 38/100\n",
            "75/75 [==============================] - 19s 246ms/step - loss: 0.1667 - accuracy: 0.9528 - val_loss: 2.3195 - val_accuracy: 0.6190\n",
            "Epoch 39/100\n",
            "75/75 [==============================] - 18s 245ms/step - loss: 0.1650 - accuracy: 0.9451 - val_loss: 2.2423 - val_accuracy: 0.5714\n",
            "Epoch 40/100\n",
            "75/75 [==============================] - 19s 246ms/step - loss: 0.1343 - accuracy: 0.9493 - val_loss: 2.7265 - val_accuracy: 0.5000\n",
            "Epoch 41/100\n",
            "75/75 [==============================] - 18s 244ms/step - loss: 0.2063 - accuracy: 0.9256 - val_loss: 2.6196 - val_accuracy: 0.5000\n",
            "Epoch 42/100\n",
            "75/75 [==============================] - 18s 245ms/step - loss: 0.1393 - accuracy: 0.9504 - val_loss: 2.8425 - val_accuracy: 0.4524\n",
            "Epoch 43/100\n",
            "75/75 [==============================] - 18s 245ms/step - loss: 0.1692 - accuracy: 0.9468 - val_loss: 2.8826 - val_accuracy: 0.5238\n",
            "Epoch 44/100\n",
            "75/75 [==============================] - 18s 245ms/step - loss: 0.1504 - accuracy: 0.9411 - val_loss: 2.6564 - val_accuracy: 0.4762\n",
            "Epoch 45/100\n",
            "75/75 [==============================] - 19s 245ms/step - loss: 0.1474 - accuracy: 0.9446 - val_loss: 2.3578 - val_accuracy: 0.5000\n",
            "Epoch 46/100\n",
            "75/75 [==============================] - 18s 244ms/step - loss: 0.1776 - accuracy: 0.9459 - val_loss: 2.8886 - val_accuracy: 0.5000\n",
            "Epoch 47/100\n",
            "75/75 [==============================] - 18s 245ms/step - loss: 0.1406 - accuracy: 0.9570 - val_loss: 2.5823 - val_accuracy: 0.5000\n",
            "Epoch 48/100\n",
            "75/75 [==============================] - 18s 245ms/step - loss: 0.1200 - accuracy: 0.9655 - val_loss: 2.2133 - val_accuracy: 0.5238\n",
            "Epoch 49/100\n",
            "75/75 [==============================] - 19s 245ms/step - loss: 0.1084 - accuracy: 0.9690 - val_loss: 2.4996 - val_accuracy: 0.5714\n"
          ],
          "name": "stdout"
        }
      ]
    },
    {
      "cell_type": "code",
      "metadata": {
        "colab": {
          "base_uri": "https://localhost:8080/",
          "height": 281
        },
        "id": "vGCjihV6fruL",
        "outputId": "a6246e59-3f11-42c1-f39f-57bab7110cc7"
      },
      "source": [
        "plt.plot(hist.history['loss'][0:],label=\"{} layers\".format(3))\n",
        "plt.legend()\n",
        "plt.title('loss')\n",
        "plt.show()"
      ],
      "execution_count": 40,
      "outputs": [
        {
          "output_type": "display_data",
          "data": {
            "image/png": "[encoded data removed]",
            "text/plain": [
              "<Figure size 432x288 with 1 Axes>"
            ]
          },
          "metadata": {
            "tags": [],
            "needs_background": "light"
          }
        }
      ]
    },
    {
      "cell_type": "code",
      "metadata": {
        "colab": {
          "base_uri": "https://localhost:8080/",
          "height": 423
        },
        "id": "H_VvxJUck2G1",
        "outputId": "d6a4ad75-3776-46ee-ad1c-86efc28aeaa4"
      },
      "source": [
        "preds = model.evaluate(test_images, test_labels)\n",
        "print(\"Loss = \" + str(preds[0]))\n",
        "print(\"Test accuracy = \" + str(preds[1]))\n",
        "pred_y_=model.predict(test_images)\n",
        "cm=confusion_matrix(np.argmax(test_labels,axis=1),np.argmax(pred_y_,axis=1))\n",
        "print(cm)\n",
        "plt.imshow(cm, cmap='binary')"
      ],
      "execution_count": 41,
      "outputs": [
        {
          "output_type": "stream",
          "text": [
            "4/4 [==============================] - 1s 165ms/step - loss: 3.1337 - accuracy: 0.3981\n",
            "Loss = 3.1337180137634277\n",
            "Test accuracy = 0.3980582654476166\n",
            "[[19  1  9  2  3]\n",
            " [ 4  0  1  0  0]\n",
            " [ 7  2 11  6  6]\n",
            " [ 4  0  2  8  5]\n",
            " [ 6  0  2  2  3]]\n"
          ],
          "name": "stdout"
        },
        {
          "output_type": "execute_result",
          "data": {
            "text/plain": [
              "<matplotlib.image.AxesImage at 0x7f23dfa060d0>"
            ]
          },
          "metadata": {
            "tags": []
          },
          "execution_count": 41
        },
        {
          "output_type": "display_data",
          "data": {
            "image/png": "[encoded data removed]",
            "text/plain": [
              "<Figure size 432x288 with 1 Axes>"
            ]
          },
          "metadata": {
            "tags": [],
            "needs_background": "light"
          }
        }
      ]
    },
    {
      "cell_type": "code",
      "metadata": {
        "colab": {
          "base_uri": "https://localhost:8080/",
          "height": 370
        },
        "id": "bH4A_QeSlEaP",
        "outputId": "37c1fb16-5505-409e-dc19-6f9d6f2be072"
      },
      "source": [
        "from sklearn.metrics import precision_score,accuracy_score\n",
        "pred_y_=model.predict(val_images)\n",
        "cm=confusion_matrix(np.argmax(val_labels,axis=1),np.argmax(pred_y_,axis=1))\n",
        "print(cm)\n",
        "plt.imshow(cm, cmap='binary') \n",
        "score=accuracy_score(np.argmax(val_labels,axis=1),np.argmax(pred_y_,axis=1))\n",
        "print(score,\" acuracy\")"
      ],
      "execution_count": 42,
      "outputs": [
        {
          "output_type": "stream",
          "text": [
            "[[14  0  0  0  0]\n",
            " [ 0  0  0  0  0]\n",
            " [ 4  0  7  4  4]\n",
            " [ 1  0  2  0  2]\n",
            " [ 0  1  0  0  3]]\n",
            "0.5714285714285714  acuracy\n"
          ],
          "name": "stdout"
        },
        {
          "output_type": "display_data",
          "data": {
            "image/png": "[encoded data removed]",
            "text/plain": [
              "<Figure size 432x288 with 1 Axes>"
            ]
          },
          "metadata": {
            "tags": [],
            "needs_background": "light"
          }
        }
      ]
    },
    {
      "cell_type": "code",
      "metadata": {
        "colab": {
          "base_uri": "https://localhost:8080/",
          "height": 370
        },
        "id": "y1hftLeGlLOb",
        "outputId": "3c443e5f-1150-47b1-b6a3-eb2c03a3c949"
      },
      "source": [
        "pred_y_=model.predict(train_images)\n",
        "cm=confusion_matrix(np.argmax(train_labels,axis=1),np.argmax(pred_y_,axis=1))\n",
        "print(cm)\n",
        "plt.imshow(cm, cmap='binary') "
      ],
      "execution_count": 43,
      "outputs": [
        {
          "output_type": "stream",
          "text": [
            "[[231   0   9   0   0]\n",
            " [  7 209  10   8   6]\n",
            " [  4   1 235   0   0]\n",
            " [  4   0   8 225   3]\n",
            " [  0   0   0   8 232]]\n"
          ],
          "name": "stdout"
        },
        {
          "output_type": "execute_result",
          "data": {
            "text/plain": [
              "<matplotlib.image.AxesImage at 0x7f23df8ddf50>"
            ]
          },
          "metadata": {
            "tags": []
          },
          "execution_count": 43
        },
        {
          "output_type": "display_data",
          "data": {
            "image/png": "[encoded data removed]",
            "text/plain": [
              "<Figure size 432x288 with 1 Axes>"
            ]
          },
          "metadata": {
            "tags": [],
            "needs_background": "light"
          }
        }
      ]
    },
    {
      "cell_type": "code",
      "metadata": {
        "colab": {
          "base_uri": "https://localhost:8080/"
        },
        "id": "xPSDfyHmlWeN",
        "outputId": "a99f8a0d-6d7d-4523-dc96-a3e793848a01"
      },
      "source": [
        "score=accuracy_score(np.argmax(train_labels,axis=1),np.argmax(pred_y_,axis=1))\n",
        "print(score,\" acuracy\")"
      ],
      "execution_count": 44,
      "outputs": [
        {
          "output_type": "stream",
          "text": [
            "0.9433333333333334  acuracy\n"
          ],
          "name": "stdout"
        }
      ]
    },
    {
      "cell_type": "markdown",
      "metadata": {
        "id": "3XwgQbQTcwvZ"
      },
      "source": [
        "## Unfreeze and retrain whole network"
      ]
    },
    {
      "cell_type": "code",
      "metadata": {
        "id": "wTHuSdzdweGE",
        "colab": {
          "base_uri": "https://localhost:8080/"
        },
        "outputId": "e855e63c-a450-4ad8-ba90-f3235d4ad27a"
      },
      "source": [
        "model.trainable=True\n",
        "for layer in model.layers:\n",
        "  if layer.name[0:5]=='batch':\n",
        "    layer.trainable=False\n",
        "trainable_count = count_params(model.trainable_weights)\n",
        "non_trainable_count = count_params(model.non_trainable_weights)\n",
        "\n",
        "print('Total params: {:,}'.format(trainable_count + non_trainable_count))\n",
        "print('Trainable params: {:,}'.format(trainable_count))\n",
        "print('Non-trainable params: {:,}'.format(non_trainable_count))"
      ],
      "execution_count": 45,
      "outputs": [
        {
          "output_type": "stream",
          "text": [
            "Total params: 28,307,845\n",
            "Trainable params: 28,201,605\n",
            "Non-trainable params: 106,240\n"
          ],
          "name": "stdout"
        }
      ]
    },
    {
      "cell_type": "code",
      "metadata": {
        "id": "bC7qrthnLQbF",
        "colab": {
          "base_uri": "https://localhost:8080/"
        },
        "outputId": "1a814742-38aa-4020-8680-64cae1fbe795"
      },
      "source": [
        "random.seed = 2\n",
        "tf.seed = 2\n",
        "tf.random.set_seed(2)\n",
        "opt = keras.optimizers.Adam(learning_rate = 1e-8, beta_1 = 0.9)\n",
        "model.compile(loss='categorical_crossentropy',\n",
        "              optimizer=opt,\n",
        "              metrics=['accuracy'])\n",
        "hist=model.fit(train_datagen.flow(train_images, train_labels,batch_size=16,shuffle=True),steps_per_epoch=len(train_images) / 16,\n",
        "               epochs = 10, validation_data = (val_images, val_labels), shuffle = True);"
      ],
      "execution_count": 46,
      "outputs": [
        {
          "output_type": "stream",
          "text": [
            "Epoch 1/10\n",
            "75/75 [==============================] - 44s 497ms/step - loss: 0.1022 - accuracy: 0.9674 - val_loss: 2.4987 - val_accuracy: 0.5714\n",
            "Epoch 2/10\n",
            "75/75 [==============================] - 36s 480ms/step - loss: 0.0980 - accuracy: 0.9728 - val_loss: 2.5005 - val_accuracy: 0.5714\n",
            "Epoch 3/10\n",
            "75/75 [==============================] - 36s 480ms/step - loss: 0.0897 - accuracy: 0.9766 - val_loss: 2.4993 - val_accuracy: 0.5714\n",
            "Epoch 4/10\n",
            "75/75 [==============================] - 36s 479ms/step - loss: 0.0901 - accuracy: 0.9814 - val_loss: 2.4983 - val_accuracy: 0.5714\n",
            "Epoch 5/10\n",
            "75/75 [==============================] - 36s 481ms/step - loss: 0.0879 - accuracy: 0.9706 - val_loss: 2.4971 - val_accuracy: 0.5714\n",
            "Epoch 6/10\n",
            "75/75 [==============================] - 36s 481ms/step - loss: 0.1079 - accuracy: 0.9673 - val_loss: 2.4969 - val_accuracy: 0.5714\n",
            "Epoch 7/10\n",
            "75/75 [==============================] - 36s 482ms/step - loss: 0.0865 - accuracy: 0.9734 - val_loss: 2.4973 - val_accuracy: 0.5714\n",
            "Epoch 8/10\n",
            "75/75 [==============================] - 36s 482ms/step - loss: 0.1039 - accuracy: 0.9646 - val_loss: 2.4984 - val_accuracy: 0.5714\n",
            "Epoch 9/10\n",
            "75/75 [==============================] - 36s 482ms/step - loss: 0.0978 - accuracy: 0.9744 - val_loss: 2.4990 - val_accuracy: 0.5714\n",
            "Epoch 10/10\n",
            "75/75 [==============================] - 36s 482ms/step - loss: 0.0865 - accuracy: 0.9756 - val_loss: 2.4975 - val_accuracy: 0.5714\n"
          ],
          "name": "stdout"
        }
      ]
    },
    {
      "cell_type": "code",
      "metadata": {
        "id": "m4YWOQR7YUcH",
        "colab": {
          "base_uri": "https://localhost:8080/",
          "height": 423
        },
        "outputId": "7131e88f-e469-46cb-ff94-090f0f4ca7c9"
      },
      "source": [
        "preds = model.evaluate(test_images, test_labels)\n",
        "print(\"Loss = \" + str(preds[0]))\n",
        "print(\"Test accuracy = \" + str(preds[1]))\n",
        "pred_y_=model.predict(test_images)\n",
        "cm=confusion_matrix(np.argmax(test_labels,axis=1),np.argmax(pred_y_,axis=1))\n",
        "print(cm)\n",
        "plt.imshow(cm, cmap='binary')"
      ],
      "execution_count": 47,
      "outputs": [
        {
          "output_type": "stream",
          "text": [
            "4/4 [==============================] - 1s 169ms/step - loss: 3.1311 - accuracy: 0.4175\n",
            "Loss = 3.131082773208618\n",
            "Test accuracy = 0.41747573018074036\n",
            "[[19  1  9  2  3]\n",
            " [ 4  0  1  0  0]\n",
            " [ 7  2 13  4  6]\n",
            " [ 4  0  2  8  5]\n",
            " [ 6  0  2  2  3]]\n"
          ],
          "name": "stdout"
        },
        {
          "output_type": "execute_result",
          "data": {
            "text/plain": [
              "<matplotlib.image.AxesImage at 0x7f23df87f8d0>"
            ]
          },
          "metadata": {
            "tags": []
          },
          "execution_count": 47
        },
        {
          "output_type": "display_data",
          "data": {
            "image/png": "[encoded data removed]",
            "text/plain": [
              "<Figure size 432x288 with 1 Axes>"
            ]
          },
          "metadata": {
            "tags": [],
            "needs_background": "light"
          }
        }
      ]
    },
    {
      "cell_type": "code",
      "metadata": {
        "id": "0goFKR6Uf23V"
      },
      "source": [
        ""
      ],
      "execution_count": 47,
      "outputs": []
    },
    {
      "cell_type": "code",
      "metadata": {
        "id": "jfIAqaWQk-px"
      },
      "source": [
        ""
      ],
      "execution_count": 47,
      "outputs": []
    },
    {
      "cell_type": "code",
      "metadata": {
        "id": "Qi_cwlj0lFeG"
      },
      "source": [
        ""
      ],
      "execution_count": null,
      "outputs": []
    }
  ]
}