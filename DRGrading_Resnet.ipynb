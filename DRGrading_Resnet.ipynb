{
  "nbformat": 4,
  "nbformat_minor": 0,
  "metadata": {
    "accelerator": "GPU",
    "colab": {
      "name": "DRGrading_IIT.ipynb",
      "provenance": [],
      "collapsed_sections": [],
      "include_colab_link": true
    },
    "kernelspec": {
      "display_name": "Python 3",
      "name": "python3"
    }
  },
  "cells": [
    {
      "cell_type": "markdown",
      "metadata": {
        "id": "view-in-github",
        "colab_type": "text"
      },
      "source": [
        "<a href=\"https://colab.research.google.com/github/varJATIN/Ocular-fundus-image-Analysis/blob/main/DRGrading_Resnet.ipynb\" target=\"_parent\"><img src=\"https://colab.research.google.com/assets/colab-badge.svg\" alt=\"Open In Colab\"/></a>"
      ]
    },
    {
      "cell_type": "code",
      "metadata": {
        "id": "vfodokJYms-G"
      },
      "source": [
        "import os\n",
        "import sys\n",
        "import random\n",
        "import IPython\n",
        "\n",
        "import numpy as np\n",
        "import pandas as pd\n",
        "import cv2\n",
        "import matplotlib.pyplot as plt\n",
        "\n",
        "import tensorflow as tf\n",
        "from tensorflow import keras\n",
        "\n",
        "from sklearn.utils import shuffle\n",
        "from sklearn.datasets import make_classification\n",
        "from sklearn.metrics import confusion_matrix\n",
        "\n",
        "from matplotlib.pyplot import imread\n",
        "from cv2 import resize\n",
        "import cv2\n",
        "\n",
        "from keras import layers\n",
        "from keras.layers import Input, Add, Dense, Activation, ZeroPadding2D, BatchNormalization, Flatten, Conv2D, AveragePooling2D, MaxPooling2D\n",
        "from keras.models import Model, load_model\n",
        "from keras.preprocessing import image\n",
        "from keras.utils import layer_utils\n",
        "from keras.utils.data_utils import get_file\n",
        "from keras.applications.imagenet_utils import preprocess_input\n",
        "import pydot\n",
        "from keras.utils.vis_utils import model_to_dot\n",
        "from keras.utils import plot_model\n",
        "from sklearn.preprocessing import OneHotEncoder\n",
        "\n",
        "from keras.initializers import glorot_uniform\n",
        "import scipy.misc\n",
        "from matplotlib.pyplot import imshow\n",
        "\n",
        "random.seed = 2\n",
        "np.random.seed = 2\n",
        "tf.seed = 2\n",
        "tf.random.set_seed(2)"
      ],
      "execution_count": null,
      "outputs": []
    },
    {
      "cell_type": "code",
      "metadata": {
        "colab": {
          "base_uri": "https://localhost:8080/"
        },
        "id": "Qaubk1cQm6av",
        "outputId": "1fbf3da5-cd9d-40a7-f4fd-0780e0868a63"
      },
      "source": [
        "from google.colab import drive\n",
        "drive.mount('/content/drive')"
      ],
      "execution_count": null,
      "outputs": [
        {
          "output_type": "stream",
          "text": [
            "Drive already mounted at /content/drive; to attempt to forcibly remount, call drive.mount(\"/content/drive\", force_remount=True).\n"
          ],
          "name": "stdout"
        }
      ]
    },
    {
      "cell_type": "markdown",
      "metadata": {
        "id": "58gCbRzVOjYL"
      },
      "source": [
        "# Train Data Read"
      ]
    },
    {
      "cell_type": "code",
      "metadata": {
        "colab": {
          "base_uri": "https://localhost:8080/",
          "height": 195
        },
        "id": "NSS_ciiCoJ8l",
        "outputId": "282569c0-222b-4f10-dfff-c77a9ef9c26d"
      },
      "source": [
        "dataset_images_location = \"/content/drive/MyDrive/IDRid/B. Disease Grading/1. Original Images/a. Training Set\"\n",
        "dataset_groundtruth_location = \"/content/drive/MyDrive/IDRid/B. Disease Grading/2. Groundtruths/a. IDRiD_Disease Grading_Training Labels.csv\"\n",
        "\n",
        "df = pd.read_csv(dataset_groundtruth_location)\n",
        "df_ = pd.DataFrame();\n",
        "df_['Image name'] = df['Image name']\n",
        "df_['Retinopathy grade'] = df['Retinopathy grade']\n",
        "\n",
        "labels = np.array(df_['Retinopathy grade']).reshape(-1, 1)\n",
        "enc = OneHotEncoder(categories='auto', drop=None, sparse=False, dtype = np.int, handle_unknown='error')\n",
        "labels = enc.fit_transform(labels)\n",
        "\n",
        "a = []\n",
        "for i in range(len(labels)):\n",
        "    a.append(labels[i])\n",
        "    \n",
        "df_['Retinopathy grade encoded'] = a\n",
        "\n",
        "df = df_\n",
        "df.head()"
      ],
      "execution_count": null,
      "outputs": [
        {
          "output_type": "execute_result",
          "data": {
            "text/html": [
              "<div>\n",
              "<style scoped>\n",
              "    .dataframe tbody tr th:only-of-type {\n",
              "        vertical-align: middle;\n",
              "    }\n",
              "\n",
              "    .dataframe tbody tr th {\n",
              "        vertical-align: top;\n",
              "    }\n",
              "\n",
              "    .dataframe thead th {\n",
              "        text-align: right;\n",
              "    }\n",
              "</style>\n",
              "<table border=\"1\" class=\"dataframe\">\n",
              "  <thead>\n",
              "    <tr style=\"text-align: right;\">\n",
              "      <th></th>\n",
              "      <th>Image name</th>\n",
              "      <th>Retinopathy grade</th>\n",
              "      <th>Retinopathy grade encoded</th>\n",
              "    </tr>\n",
              "  </thead>\n",
              "  <tbody>\n",
              "    <tr>\n",
              "      <th>0</th>\n",
              "      <td>IDRiD_001</td>\n",
              "      <td>3</td>\n",
              "      <td>[0, 0, 0, 1, 0]</td>\n",
              "    </tr>\n",
              "    <tr>\n",
              "      <th>1</th>\n",
              "      <td>IDRiD_002</td>\n",
              "      <td>3</td>\n",
              "      <td>[0, 0, 0, 1, 0]</td>\n",
              "    </tr>\n",
              "    <tr>\n",
              "      <th>2</th>\n",
              "      <td>IDRiD_003</td>\n",
              "      <td>2</td>\n",
              "      <td>[0, 0, 1, 0, 0]</td>\n",
              "    </tr>\n",
              "    <tr>\n",
              "      <th>3</th>\n",
              "      <td>IDRiD_004</td>\n",
              "      <td>3</td>\n",
              "      <td>[0, 0, 0, 1, 0]</td>\n",
              "    </tr>\n",
              "    <tr>\n",
              "      <th>4</th>\n",
              "      <td>IDRiD_005</td>\n",
              "      <td>4</td>\n",
              "      <td>[0, 0, 0, 0, 1]</td>\n",
              "    </tr>\n",
              "  </tbody>\n",
              "</table>\n",
              "</div>"
            ],
            "text/plain": [
              "  Image name  Retinopathy grade Retinopathy grade encoded\n",
              "0  IDRiD_001                  3           [0, 0, 0, 1, 0]\n",
              "1  IDRiD_002                  3           [0, 0, 0, 1, 0]\n",
              "2  IDRiD_003                  2           [0, 0, 1, 0, 0]\n",
              "3  IDRiD_004                  3           [0, 0, 0, 1, 0]\n",
              "4  IDRiD_005                  4           [0, 0, 0, 0, 1]"
            ]
          },
          "metadata": {
            "tags": []
          },
          "execution_count": 5
        }
      ]
    },
    {
      "cell_type": "code",
      "metadata": {
        "colab": {
          "base_uri": "https://localhost:8080/",
          "height": 337
        },
        "id": "QRhohPiHmrGu",
        "outputId": "93174cec-4be7-4169-b495-d0756418463a"
      },
      "source": [
        "df['Retinopathy grade'].hist(figsize = (10, 5))"
      ],
      "execution_count": null,
      "outputs": [
        {
          "output_type": "execute_result",
          "data": {
            "text/plain": [
              "<matplotlib.axes._subplots.AxesSubplot at 0x7f74497d8b00>"
            ]
          },
          "metadata": {
            "tags": []
          },
          "execution_count": 6
        },
        {
          "output_type": "display_data",
          "data": {
            "image/png": "[encoded data removed]",
            "text/plain": [
              "<Figure size 720x360 with 1 Axes>"
            ]
          },
          "metadata": {
            "tags": [],
            "needs_background": "light"
          }
        }
      ]
    },
    {
      "cell_type": "code",
      "metadata": {
        "colab": {
          "base_uri": "https://localhost:8080/"
        },
        "id": "amPT26rpmuqG",
        "outputId": "9c5c0686-efd8-4fce-d7d8-0003dfe81d2c"
      },
      "source": [
        "pt = df.pivot_table(index='Retinopathy grade', aggfunc=len)\n",
        "print(pt)"
      ],
      "execution_count": null,
      "outputs": [
        {
          "output_type": "stream",
          "text": [
            "                   Image name  Retinopathy grade encoded\n",
            "Retinopathy grade                                       \n",
            "0                         134                        134\n",
            "1                          20                         20\n",
            "2                         136                        136\n",
            "3                          74                         74\n",
            "4                          49                         49\n"
          ],
          "name": "stdout"
        }
      ]
    },
    {
      "cell_type": "code",
      "metadata": {
        "id": "7bOu7C63nDy0"
      },
      "source": [
        "def balance_data(class_size, df):\n",
        "    train_df = df.groupby(['Retinopathy grade']).apply(lambda x: x.sample(class_size, replace = True)).reset_index(drop = True)\n",
        "    train_df = train_df.sample(frac=1).reset_index(drop=True)\n",
        "    print('New Data Size:', train_df.shape[0], 'Old Size:', df.shape[0])\n",
        "    train_df['Retinopathy grade'].hist(figsize = (10, 5))\n",
        "    return train_df"
      ],
      "execution_count": null,
      "outputs": []
    },
    {
      "cell_type": "code",
      "metadata": {
        "id": "-qXbQdOMnWwN"
      },
      "source": [
        "from sklearn.model_selection import train_test_split\n",
        "train_df, val_df = train_test_split(df,test_size=0.1) # Here we will perform an 90%/10% split of the dataset, with stratification to keep similar distribution in validation set"
      ],
      "execution_count": null,
      "outputs": []
    },
    {
      "cell_type": "code",
      "metadata": {
        "colab": {
          "base_uri": "https://localhost:8080/",
          "height": 337
        },
        "id": "BWfZ8KGQBHjo",
        "outputId": "aa163ba9-723b-42fb-80aa-55d679d2a481"
      },
      "source": [
        "train_df['Retinopathy grade'].hist(figsize = (10, 5))\n",
        "len(val_df)\n"
      ],
      "execution_count": null,
      "outputs": [
        {
          "output_type": "execute_result",
          "data": {
            "text/plain": [
              "42"
            ]
          },
          "metadata": {
            "tags": []
          },
          "execution_count": 10
        },
        {
          "output_type": "display_data",
          "data": {
            "image/png": "[encoded data removed]",
            "text/plain": [
              "<Figure size 720x360 with 1 Axes>"
            ]
          },
          "metadata": {
            "tags": [],
            "needs_background": "light"
          }
        }
      ]
    },
    {
      "cell_type": "code",
      "metadata": {
        "colab": {
          "base_uri": "https://localhost:8080/",
          "height": 225
        },
        "id": "bIxig-9GbVmJ",
        "outputId": "84ec0f55-7c83-4a02-fde3-5e5193f32b14"
      },
      "source": [
        "train_df.pivot_table(index='Retinopathy grade', aggfunc=len)"
      ],
      "execution_count": null,
      "outputs": [
        {
          "output_type": "execute_result",
          "data": {
            "text/html": [
              "<div>\n",
              "<style scoped>\n",
              "    .dataframe tbody tr th:only-of-type {\n",
              "        vertical-align: middle;\n",
              "    }\n",
              "\n",
              "    .dataframe tbody tr th {\n",
              "        vertical-align: top;\n",
              "    }\n",
              "\n",
              "    .dataframe thead th {\n",
              "        text-align: right;\n",
              "    }\n",
              "</style>\n",
              "<table border=\"1\" class=\"dataframe\">\n",
              "  <thead>\n",
              "    <tr style=\"text-align: right;\">\n",
              "      <th></th>\n",
              "      <th>Image name</th>\n",
              "      <th>Retinopathy grade encoded</th>\n",
              "    </tr>\n",
              "    <tr>\n",
              "      <th>Retinopathy grade</th>\n",
              "      <th></th>\n",
              "      <th></th>\n",
              "    </tr>\n",
              "  </thead>\n",
              "  <tbody>\n",
              "    <tr>\n",
              "      <th>0</th>\n",
              "      <td>123</td>\n",
              "      <td>123</td>\n",
              "    </tr>\n",
              "    <tr>\n",
              "      <th>1</th>\n",
              "      <td>16</td>\n",
              "      <td>16</td>\n",
              "    </tr>\n",
              "    <tr>\n",
              "      <th>2</th>\n",
              "      <td>123</td>\n",
              "      <td>123</td>\n",
              "    </tr>\n",
              "    <tr>\n",
              "      <th>3</th>\n",
              "      <td>67</td>\n",
              "      <td>67</td>\n",
              "    </tr>\n",
              "    <tr>\n",
              "      <th>4</th>\n",
              "      <td>42</td>\n",
              "      <td>42</td>\n",
              "    </tr>\n",
              "  </tbody>\n",
              "</table>\n",
              "</div>"
            ],
            "text/plain": [
              "                   Image name  Retinopathy grade encoded\n",
              "Retinopathy grade                                       \n",
              "0                         123                        123\n",
              "1                          16                         16\n",
              "2                         123                        123\n",
              "3                          67                         67\n",
              "4                          42                         42"
            ]
          },
          "metadata": {
            "tags": []
          },
          "execution_count": 11
        }
      ]
    },
    {
      "cell_type": "code",
      "metadata": {
        "colab": {
          "base_uri": "https://localhost:8080/",
          "height": 354
        },
        "id": "vAGfVG3LcNVK",
        "outputId": "ba841fd3-678c-499c-e8ca-7190b552d068"
      },
      "source": [
        "train_df = balance_data(train_df.pivot_table(index='Retinopathy grade', aggfunc=len).max().max(),train_df) # I will oversample such that all classes have the same number of images as the maximum\n",
        "train_df['Retinopathy grade'].hist(figsize = (10, 5))\n",
        "print(len(train_df))"
      ],
      "execution_count": null,
      "outputs": [
        {
          "output_type": "stream",
          "text": [
            "New Data Size: 615 Old Size: 371\n",
            "615\n"
          ],
          "name": "stdout"
        },
        {
          "output_type": "display_data",
          "data": {
            "image/png": "[encoded data removed]",
            "text/plain": [
              "<Figure size 720x360 with 1 Axes>"
            ]
          },
          "metadata": {
            "tags": [],
            "needs_background": "light"
          }
        }
      ]
    },
    {
      "cell_type": "markdown",
      "metadata": {
        "id": "mBB03Vc3caXk"
      },
      "source": [
        "#Data Generator"
      ]
    },
    {
      "cell_type": "code",
      "metadata": {
        "id": "SvmkJkNocc5J"
      },
      "source": [
        "bs = 8"
      ],
      "execution_count": null,
      "outputs": []
    },
    {
      "cell_type": "code",
      "metadata": {
        "id": "Dudmx6wkchIo"
      },
      "source": [
        "def data_gen(df, enc):\n",
        "    rot=[-4,-3,-2,-1,1,2,3,4]\n",
        "    images = np.zeros(shape = (bs * 4, 224, 224, 3))\n",
        "    labels = np.zeros(shape = (bs * 4, 5))\n",
        "    im_size = 224\n",
        "    \n",
        "    counter = 0\n",
        "    index = 0\n",
        "    while True:\n",
        "        if(counter + bs - 1 < len(df)):\n",
        "            for i in range(bs):\n",
        "                    # filling images\n",
        "                    img = cv2.imread(dataset_images_location + '/' + df['Image name'][counter + i] + \".jpg\")\n",
        "                    img = cv2.resize(img, (im_size, im_size))\n",
        "                    images[index] = img\n",
        "                    images[index + 1] = (np.flip(img, axis = 0))\n",
        "                    images[index + 2] = (np.flip(img, axis = 1))\n",
        "                    images[index + 3] = (np.rot90(np.rot90(img)))\n",
        "\n",
        "                    #filling labels\n",
        "                    labels[index] = df['Retinopathy grade encoded'][counter + i]\n",
        "                    labels[index + 1] = df['Retinopathy grade encoded'][counter + i]\n",
        "                    labels[index + 2] = df['Retinopathy grade encoded'][counter + i]\n",
        "                    labels[index + 3] = df['Retinopathy grade encoded'][counter + i]\n",
        "                    \n",
        "                    index = index + 4\n",
        "            \n",
        "            counter = counter + bs\n",
        "            images = images.astype('float') / np.max(images)\n",
        "            index = 0\n",
        "            yield images, labels\n",
        "            \n",
        "        if counter + bs - 1 >= len(df):\n",
        "            counter = 0\n",
        "            index = 0\n"
      ],
      "execution_count": null,
      "outputs": []
    },
    {
      "cell_type": "code",
      "metadata": {
        "id": "LTrIf3_bMsAo"
      },
      "source": [
        "# image_names = df['Image name'];\n",
        "# im_size = 224;\n",
        "\n",
        "# labels = [];\n",
        "# for label in df['Retinopathy grade']:\n",
        "#     for i in range(5): # 5 times for data augmentation\n",
        "#         labels.append(label)\n",
        "\n",
        "# images_0 = []\n",
        "# for image_name in image_names:\n",
        "#     img = cv2.imread(dataset_images_location + '/' + image_name + \".jpg\");\n",
        "#     img = cv2.resize(img, (im_size, im_size));\n",
        "#     images_0.append(img);"
      ],
      "execution_count": null,
      "outputs": []
    },
    {
      "cell_type": "markdown",
      "metadata": {
        "id": "yzbOk3CW54LL"
      },
      "source": [
        "Data Augmentation"
      ]
    },
    {
      "cell_type": "code",
      "metadata": {
        "id": "deNtfRS7-DHv"
      },
      "source": [
        "# rot=[-4,-3,-2,-1,1,2,3,4]\n",
        "\n",
        "# no_images = 5 * len(images_0)\n",
        "# images = np.zeros(shape = (no_images, im_size, im_size, 3))\n",
        "\n",
        "# index = 0\n",
        "\n",
        "# for image in images_0:\n",
        "#     images[index] = image\n",
        "#     images[index + 1] = np.flip(image, axis = 0)\n",
        "#     images[index + 2] = np.flip(image, axis = 1)\n",
        "#     images[index + 3] = np.rot90(np.rot90(image))\n",
        "#     images[index + 4] = scipy.ndimage.rotate(image, random.choice(rot), reshape = False)\n",
        "#     index = index + 5\n",
        "\n",
        "# images = np.array(images)\n",
        "# images = images.astype('float32') / np.max(images)\n",
        "# labels = np.array(labels, ndmin = 2)\n",
        "# labels = np.transpose(labels)\n",
        "\n",
        "# enc = OneHotEncoder(categories='auto', drop=None, sparse=False, dtype = np.int, handle_unknown='error')\n",
        "# labels = enc.fit_transform(labels)\n",
        "\n",
        "# print(images.shape)\n",
        "# print(labels.shape) \n",
        "# labels"
      ],
      "execution_count": null,
      "outputs": []
    },
    {
      "cell_type": "markdown",
      "metadata": {
        "id": "bW2O2MnLCDi9"
      },
      "source": [
        "# Test Data Read"
      ]
    },
    {
      "cell_type": "code",
      "metadata": {
        "colab": {
          "base_uri": "https://localhost:8080/"
        },
        "id": "-_y3AplFCC8_",
        "outputId": "efdaa8af-205a-41ce-d150-041253e1169e"
      },
      "source": [
        "test_images_location = \"/content/drive/My Drive/IDRid/B. Disease Grading/1. Original Images/b. Testing Set\"\n",
        "test_groundtruth_location = \"/content/drive/MyDrive/IDRid/B. Disease Grading/2. Groundtruths/b. IDRiD_Disease Grading_Testing Labels.csv\"\n",
        "\n",
        "test_df = pd.read_csv(test_groundtruth_location)\n",
        "test_df_ = pd.DataFrame();\n",
        "test_df_['Image name'] = test_df['Image name']\n",
        "test_df_['Retinopathy grade'] = test_df['Retinopathy grade']\n",
        "test_df = test_df_\n",
        "print(test_df)"
      ],
      "execution_count": null,
      "outputs": [
        {
          "output_type": "stream",
          "text": [
            "    Image name  Retinopathy grade\n",
            "0    IDRiD_001                  4\n",
            "1    IDRiD_002                  4\n",
            "2    IDRiD_003                  4\n",
            "3    IDRiD_004                  4\n",
            "4    IDRiD_005                  4\n",
            "..         ...                ...\n",
            "98   IDRiD_099                  0\n",
            "99   IDRiD_100                  2\n",
            "100  IDRiD_101                  1\n",
            "101  IDRiD_102                  2\n",
            "102  IDRiD_103                  0\n",
            "\n",
            "[103 rows x 2 columns]\n"
          ],
          "name": "stdout"
        }
      ]
    },
    {
      "cell_type": "code",
      "metadata": {
        "colab": {
          "base_uri": "https://localhost:8080/"
        },
        "id": "BoQX2UZDcVeC",
        "outputId": "9dba9d9b-d0df-4a24-909f-9c916d1686c9"
      },
      "source": [
        "test_image_names = [];\n",
        "test_image_names = test_df['Image name'];\n",
        "im_size = 224;\n",
        "\n",
        "test_labels = [];\n",
        "test_labels = test_df['Retinopathy grade'];\n",
        "\n",
        "test_images = []\n",
        "for image_name in test_image_names:\n",
        "    img = cv2.imread(test_images_location + '/' + image_name + \".jpg\");\n",
        "    img = cv2.resize(img, (im_size, im_size));\n",
        "    test_images.append(img);\n",
        "\n",
        "\n",
        "test_images = np.array(test_images)\n",
        "test_images = test_images.astype('float32') / np.max(test_images)\n",
        "test_labels = np.array(test_labels, ndmin = 2)\n",
        "test_labels = np.transpose(test_labels)\n",
        "\n",
        "test_labels = enc.transform(test_labels)\n",
        "\n",
        "print(test_images.shape)\n",
        "print(test_labels.shape) \n",
        "test_labels"
      ],
      "execution_count": null,
      "outputs": [
        {
          "output_type": "stream",
          "text": [
            "(103, 224, 224, 3)\n",
            "(103, 5)\n"
          ],
          "name": "stdout"
        },
        {
          "output_type": "execute_result",
          "data": {
            "text/plain": [
              "array([[0, 0, 0, 0, 1],\n",
              "       [0, 0, 0, 0, 1],\n",
              "       [0, 0, 0, 0, 1],\n",
              "       [0, 0, 0, 0, 1],\n",
              "       [0, 0, 0, 0, 1],\n",
              "       [0, 0, 0, 1, 0],\n",
              "       [0, 0, 0, 1, 0],\n",
              "       [0, 0, 1, 0, 0],\n",
              "       [0, 0, 1, 0, 0],\n",
              "       [0, 0, 1, 0, 0],\n",
              "       [0, 0, 1, 0, 0],\n",
              "       [0, 0, 1, 0, 0],\n",
              "       [0, 0, 0, 1, 0],\n",
              "       [0, 0, 0, 1, 0],\n",
              "       [0, 0, 1, 0, 0],\n",
              "       [0, 0, 0, 1, 0],\n",
              "       [0, 0, 1, 0, 0],\n",
              "       [0, 0, 0, 1, 0],\n",
              "       [0, 0, 1, 0, 0],\n",
              "       [0, 0, 1, 0, 0],\n",
              "       [0, 0, 0, 1, 0],\n",
              "       [0, 0, 0, 1, 0],\n",
              "       [0, 0, 1, 0, 0],\n",
              "       [0, 0, 1, 0, 0],\n",
              "       [0, 0, 0, 1, 0],\n",
              "       [0, 0, 0, 1, 0],\n",
              "       [0, 0, 0, 1, 0],\n",
              "       [0, 0, 1, 0, 0],\n",
              "       [1, 0, 0, 0, 0],\n",
              "       [1, 0, 0, 0, 0],\n",
              "       [0, 0, 0, 1, 0],\n",
              "       [0, 0, 0, 0, 1],\n",
              "       [0, 0, 1, 0, 0],\n",
              "       [0, 0, 0, 1, 0],\n",
              "       [0, 0, 0, 1, 0],\n",
              "       [0, 0, 0, 1, 0],\n",
              "       [1, 0, 0, 0, 0],\n",
              "       [1, 0, 0, 0, 0],\n",
              "       [1, 0, 0, 0, 0],\n",
              "       [0, 0, 0, 0, 1],\n",
              "       [1, 0, 0, 0, 0],\n",
              "       [0, 0, 0, 1, 0],\n",
              "       [1, 0, 0, 0, 0],\n",
              "       [1, 0, 0, 0, 0],\n",
              "       [1, 0, 0, 0, 0],\n",
              "       [0, 0, 1, 0, 0],\n",
              "       [1, 0, 0, 0, 0],\n",
              "       [0, 0, 0, 0, 1],\n",
              "       [0, 0, 1, 0, 0],\n",
              "       [1, 0, 0, 0, 0],\n",
              "       [0, 0, 1, 0, 0],\n",
              "       [1, 0, 0, 0, 0],\n",
              "       [0, 0, 0, 0, 1],\n",
              "       [1, 0, 0, 0, 0],\n",
              "       [1, 0, 0, 0, 0],\n",
              "       [1, 0, 0, 0, 0],\n",
              "       [0, 0, 0, 0, 1],\n",
              "       [1, 0, 0, 0, 0],\n",
              "       [0, 0, 1, 0, 0],\n",
              "       [0, 0, 0, 1, 0],\n",
              "       [0, 0, 0, 0, 1],\n",
              "       [0, 0, 0, 0, 1],\n",
              "       [0, 1, 0, 0, 0],\n",
              "       [0, 0, 0, 1, 0],\n",
              "       [0, 0, 1, 0, 0],\n",
              "       [0, 0, 0, 1, 0],\n",
              "       [0, 0, 1, 0, 0],\n",
              "       [1, 0, 0, 0, 0],\n",
              "       [1, 0, 0, 0, 0],\n",
              "       [1, 0, 0, 0, 0],\n",
              "       [1, 0, 0, 0, 0],\n",
              "       [0, 0, 1, 0, 0],\n",
              "       [0, 1, 0, 0, 0],\n",
              "       [0, 1, 0, 0, 0],\n",
              "       [1, 0, 0, 0, 0],\n",
              "       [0, 0, 1, 0, 0],\n",
              "       [1, 0, 0, 0, 0],\n",
              "       [1, 0, 0, 0, 0],\n",
              "       [0, 0, 1, 0, 0],\n",
              "       [1, 0, 0, 0, 0],\n",
              "       [0, 0, 1, 0, 0],\n",
              "       [0, 0, 1, 0, 0],\n",
              "       [0, 0, 1, 0, 0],\n",
              "       [0, 0, 1, 0, 0],\n",
              "       [0, 1, 0, 0, 0],\n",
              "       [0, 0, 1, 0, 0],\n",
              "       [0, 0, 0, 0, 1],\n",
              "       [0, 0, 1, 0, 0],\n",
              "       [0, 0, 1, 0, 0],\n",
              "       [1, 0, 0, 0, 0],\n",
              "       [0, 0, 1, 0, 0],\n",
              "       [1, 0, 0, 0, 0],\n",
              "       [1, 0, 0, 0, 0],\n",
              "       [1, 0, 0, 0, 0],\n",
              "       [1, 0, 0, 0, 0],\n",
              "       [1, 0, 0, 0, 0],\n",
              "       [1, 0, 0, 0, 0],\n",
              "       [1, 0, 0, 0, 0],\n",
              "       [1, 0, 0, 0, 0],\n",
              "       [0, 0, 1, 0, 0],\n",
              "       [0, 1, 0, 0, 0],\n",
              "       [0, 0, 1, 0, 0],\n",
              "       [1, 0, 0, 0, 0]])"
            ]
          },
          "metadata": {
            "tags": []
          },
          "execution_count": 18
        }
      ]
    },
    {
      "cell_type": "code",
      "metadata": {
        "colab": {
          "base_uri": "https://localhost:8080/"
        },
        "id": "oy9GLPeUDh4h",
        "outputId": "cd4eda71-3503-45d3-f6c0-85fb6f8f4415"
      },
      "source": [
        "# from sklearn.utils import shuffle\n",
        "# from sklearn.model_selection import train_test_split\n",
        "\n",
        "# images, labels = shuffle(images, labels, random_state = 1)\n",
        "\n",
        "# train_x, val_x, train_y, val_y = train_test_split(images, labels, test_size = 0.1, random_state = 415);\n",
        "\n",
        "# If train and test are from respective sets\n",
        "# train_x = images\n",
        "# train_y = labels\n",
        "test_x = test_images\n",
        "test_y = test_labels\n",
        "\n",
        "# print(train_x.shape)\n",
        "# print(train_y.shape)\n",
        "print(test_x.shape)\n",
        "print(test_y.shape)\n",
        "# print(val_x.shape)\n",
        "# print(val_y.shape)"
      ],
      "execution_count": null,
      "outputs": [
        {
          "output_type": "stream",
          "text": [
            "(103, 224, 224, 3)\n",
            "(103, 5)\n"
          ],
          "name": "stdout"
        }
      ]
    },
    {
      "cell_type": "markdown",
      "metadata": {
        "id": "HEe1AZWKiOY9"
      },
      "source": [
        "# Resnet 50 model"
      ]
    },
    {
      "cell_type": "code",
      "metadata": {
        "id": "8IkDFhSvHbfe"
      },
      "source": [
        "def identity_block(X, f, filters, d = 0.05):\n",
        "\n",
        "    #Retrieve filters\n",
        "    F1, F2, F3 = filters\n",
        "    \n",
        "    X_shortcut = X;\n",
        "\n",
        "    #First Layer\n",
        "    X = Conv2D(filters = F1, kernel_size = (1, 1), strides = (1, 1), padding = 'valid')(X)\n",
        "    X = BatchNormalization(axis = 3)(X)\n",
        "    X = Activation('relu')(X)\n",
        "    X = layers.Dropout(d)(X)\n",
        "\n",
        "    #Second Layer\n",
        "    X = Conv2D(filters = F2, kernel_size = (f, f), strides = (1, 1), padding = 'same')(X)\n",
        "    X = BatchNormalization(axis = 3)(X)\n",
        "    X = Activation('relu')(X)\n",
        "    X = layers.Dropout(d)(X)\n",
        "\n",
        "    #Third Layer\n",
        "    X = Conv2D(filters = F3, kernel_size = (1, 1), strides = (1, 1), padding = 'valid')(X)\n",
        "    X = BatchNormalization(axis = 3)(X)\n",
        "\n",
        "    #Final Step: Add shortcut to F(X) and pass it through relu activation\n",
        "    X = Add()([X, X_shortcut]) \n",
        "    X = Activation('relu')(X)\n",
        "    X = layers.Dropout(d)(X)\n",
        "\n",
        "    return X"
      ],
      "execution_count": null,
      "outputs": []
    },
    {
      "cell_type": "code",
      "metadata": {
        "id": "p--bg07kVr2r"
      },
      "source": [
        "def convolutional_block(X, f, filters, s = 2, d = 0.05):\n",
        "\n",
        "    #Retrieve Filters\n",
        "    F1, F2, F3 = filters\n",
        "\n",
        "    X_shortcut = X\n",
        "\n",
        "    # First Layer\n",
        "    X = Conv2D(filters = F1, kernel_size = (1, 1), strides = (s, s))(X)\n",
        "    X = BatchNormalization(axis = 3)(X)\n",
        "    X = Activation('relu')(X)  \n",
        "    X = layers.Dropout(d)(X)  \n",
        "\n",
        "    # Second Layer\n",
        "    X = Conv2D(filters = F2, kernel_size = (f, f), strides = (1, 1), padding = 'same')(X)\n",
        "    X = BatchNormalization(axis = 3)(X)\n",
        "    X = Activation('relu')(X)   \n",
        "    X = layers.Dropout(d)(X) \n",
        "\n",
        "    # Third Layer\n",
        "    X = Conv2D(filters = F3, kernel_size = (1, 1), strides = (1, 1), padding = 'valid')(X)\n",
        "    X = BatchNormalization(axis = 3)(X)\n",
        "\n",
        "    # Shortcut Path\n",
        "    X_shortcut = Conv2D(filters = F3, kernel_size = (1, 1), strides = (s, s), padding = 'valid')(X_shortcut)\n",
        "    X_shortcut = BatchNormalization(axis = 3)(X_shortcut)\n",
        "\n",
        "    X = Add()([X, X_shortcut])\n",
        "    X = Activation('relu')(X)\n",
        "    X = layers.Dropout(d)(X)\n",
        "\n",
        "    return X"
      ],
      "execution_count": null,
      "outputs": []
    },
    {
      "cell_type": "code",
      "metadata": {
        "id": "IqOOTH-254iO"
      },
      "source": [
        "def Resnet50(input_shape = (224, 224, 3), classes = 5, d = 0.05):\n",
        "\n",
        "    X_input = Input(input_shape)\n",
        "\n",
        "    X = ZeroPadding2D((3, 3))(X_input)\n",
        "\n",
        "    # Stage 1\n",
        "    X = Conv2D(64, (7, 7), strides = (2, 2))(X)\n",
        "    X = BatchNormalization(axis = 3)(X)\n",
        "    X = Activation('relu')(X)\n",
        "    X = MaxPooling2D((3, 3), strides = (2, 2))(X)\n",
        "    X = layers.Dropout(d)(X)\n",
        "\n",
        "    # Stage 2\n",
        "    X = convolutional_block(X, f = 3, filters = [64, 64, 256], s = 1)\n",
        "    X = identity_block(X, 3, [64, 64, 256])\n",
        "    X = identity_block(X, 3, [64, 64, 256])\n",
        "\n",
        "    # Stage 3\n",
        "    X = convolutional_block(X, f = 3, filters = [128, 128, 512], s = 2)\n",
        "    X = identity_block(X, 3, [128, 128, 512])\n",
        "    X = identity_block(X, 3, [128, 128, 512])\n",
        "    X = identity_block(X, 3, [128, 128, 512])\n",
        "\n",
        "    #Stage 4\n",
        "    X = convolutional_block(X, f = 3, filters = [256, 256, 1024], s = 2)\n",
        "    X = identity_block(X, 3, [256, 256, 1024])\n",
        "    X = identity_block(X, 3, [256, 256, 1024])\n",
        "    X = identity_block(X, 3, [256, 256, 1024])\n",
        "    X = identity_block(X, 3, [256, 256, 1024])\n",
        "    X = identity_block(X, 3, [256, 256, 1024])\n",
        "\n",
        "    # Stage 5\n",
        "    X = convolutional_block(X, f = 3, filters = [512, 512, 2048], s = 2)\n",
        "    X = identity_block(X, 3, [512, 512, 2048])\n",
        "    X = identity_block(X, 3, [512, 512, 2048])        \n",
        "\n",
        "    X = AveragePooling2D((2, 2), name = \"avg_pool\")(X)\n",
        "    X = layers.Dropout(d)(X)\n",
        "\n",
        "    # output layer\n",
        "    X = Flatten()(X)\n",
        "    X = Dense(classes, activation = 'softmax', name = 'fc' + str(classes), kernel_initializer = glorot_uniform(seed = 0))(X)\n",
        "\n",
        "    # Create model\n",
        "    model = Model(inputs = X_input, outputs = X, name = 'Resnet50')\n",
        "\n",
        "    return model"
      ],
      "execution_count": null,
      "outputs": []
    },
    {
      "cell_type": "markdown",
      "metadata": {
        "id": "Oi0XdCJ5iTkl"
      },
      "source": [
        "# Model Compile and Fit"
      ]
    },
    {
      "cell_type": "code",
      "metadata": {
        "id": "VKJcmnsITZru",
        "colab": {
          "base_uri": "https://localhost:8080/"
        },
        "outputId": "2530efbc-05b7-4dec-e9c1-eb86a3d6e8e1"
      },
      "source": [
        "random.seed = 2\n",
        "np.random.seed = 2\n",
        "tf.seed = 2\n",
        "tf.random.set_seed(2)\n",
        "\n",
        "model = Resnet50(input_shape = (224, 224, 3), classes = 5)\n",
        "opt = keras.optimizers.Adam(learning_rate = 0.00008, beta_1 = 0.9)\n",
        "model.compile(optimizer = opt, loss = 'categorical_crossentropy', metrics = ['accuracy'])\n",
        "early_stopping= tf.keras.callbacks.EarlyStopping(monitor = 'accuracy', min_delta = 0.01, patience = 10)\n",
        "\n",
        "# model.summary()\n",
        "# hist = model.fit(train_x, train_y, epochs = 500, batch_size = 32, validation_data = (val_x, val_y), callbacks = [early_stopping], shuffle = True);\n",
        "\n",
        "train_generator = data_gen(train_df, enc)\n",
        "# val_generator = data_gen(val_df, enc)\n",
        "\n",
        "hist = model.fit(train_generator,\n",
        "                 steps_per_epoch = int(len(train_df)/bs),\n",
        "                 epochs = 500, \n",
        "                #  validation_data = val_generator, \n",
        "                #  validation_steps = int(len(val_df) / bs),\n",
        "                 callbacks = [early_stopping], \n",
        "                 shuffle = True)\n"
      ],
      "execution_count": null,
      "outputs": [
        {
          "output_type": "stream",
          "text": [
            "Epoch 1/500\n",
            "76/76 [==============================] - 292s 4s/step - loss: 2.5493 - accuracy: 0.2414\n",
            "Epoch 2/500\n",
            "76/76 [==============================] - 90s 1s/step - loss: 2.3558 - accuracy: 0.2627\n",
            "Epoch 3/500\n",
            "76/76 [==============================] - 90s 1s/step - loss: 2.1705 - accuracy: 0.2821\n",
            "Epoch 4/500\n",
            "76/76 [==============================] - 89s 1s/step - loss: 2.0251 - accuracy: 0.2870\n",
            "Epoch 5/500\n",
            "76/76 [==============================] - 89s 1s/step - loss: 1.9448 - accuracy: 0.3076\n",
            "Epoch 6/500\n",
            "76/76 [==============================] - 89s 1s/step - loss: 1.8897 - accuracy: 0.3236\n",
            "Epoch 7/500\n",
            "76/76 [==============================] - 89s 1s/step - loss: 1.7583 - accuracy: 0.3536\n",
            "Epoch 8/500\n",
            "76/76 [==============================] - 88s 1s/step - loss: 1.6636 - accuracy: 0.3721\n",
            "Epoch 9/500\n",
            "76/76 [==============================] - 88s 1s/step - loss: 1.5895 - accuracy: 0.3902\n",
            "Epoch 10/500\n",
            "76/76 [==============================] - 88s 1s/step - loss: 1.5195 - accuracy: 0.4202\n",
            "Epoch 11/500\n",
            "76/76 [==============================] - 87s 1s/step - loss: 1.4446 - accuracy: 0.4297\n",
            "Epoch 12/500\n",
            "76/76 [==============================] - 88s 1s/step - loss: 1.4141 - accuracy: 0.4375\n",
            "Epoch 13/500\n",
            "76/76 [==============================] - 88s 1s/step - loss: 1.3680 - accuracy: 0.4618\n",
            "Epoch 14/500\n",
            "76/76 [==============================] - 88s 1s/step - loss: 1.3241 - accuracy: 0.4930\n",
            "Epoch 15/500\n",
            "76/76 [==============================] - 88s 1s/step - loss: 1.2874 - accuracy: 0.4877\n",
            "Epoch 16/500\n",
            "76/76 [==============================] - 87s 1s/step - loss: 1.2491 - accuracy: 0.5115\n",
            "Epoch 17/500\n",
            "76/76 [==============================] - 87s 1s/step - loss: 1.2490 - accuracy: 0.5086\n",
            "Epoch 18/500\n",
            "76/76 [==============================] - 87s 1s/step - loss: 1.1897 - accuracy: 0.5366\n",
            "Epoch 19/500\n",
            "76/76 [==============================] - 86s 1s/step - loss: 1.1422 - accuracy: 0.5543\n",
            "Epoch 20/500\n",
            "76/76 [==============================] - 87s 1s/step - loss: 1.0918 - accuracy: 0.5617\n",
            "Epoch 21/500\n",
            "76/76 [==============================] - 87s 1s/step - loss: 1.0656 - accuracy: 0.5773\n",
            "Epoch 22/500\n",
            "76/76 [==============================] - 87s 1s/step - loss: 1.0292 - accuracy: 0.5872\n",
            "Epoch 23/500\n",
            "76/76 [==============================] - 86s 1s/step - loss: 1.0116 - accuracy: 0.6028\n",
            "Epoch 24/500\n",
            "76/76 [==============================] - 86s 1s/step - loss: 0.9567 - accuracy: 0.6229\n",
            "Epoch 25/500\n",
            "76/76 [==============================] - 85s 1s/step - loss: 0.9128 - accuracy: 0.6575\n",
            "Epoch 26/500\n",
            "76/76 [==============================] - 85s 1s/step - loss: 0.8591 - accuracy: 0.6612\n",
            "Epoch 27/500\n",
            "76/76 [==============================] - 85s 1s/step - loss: 0.8115 - accuracy: 0.6805\n",
            "Epoch 28/500\n",
            "76/76 [==============================] - 86s 1s/step - loss: 0.7486 - accuracy: 0.7076\n",
            "Epoch 29/500\n",
            "76/76 [==============================] - 86s 1s/step - loss: 0.7166 - accuracy: 0.7233\n",
            "Epoch 30/500\n",
            "76/76 [==============================] - 86s 1s/step - loss: 0.6663 - accuracy: 0.7488\n",
            "Epoch 31/500\n",
            "76/76 [==============================] - 86s 1s/step - loss: 0.6150 - accuracy: 0.7718\n",
            "Epoch 32/500\n",
            "76/76 [==============================] - 86s 1s/step - loss: 0.5674 - accuracy: 0.7821\n",
            "Epoch 33/500\n",
            "76/76 [==============================] - 86s 1s/step - loss: 0.5076 - accuracy: 0.8072\n",
            "Epoch 34/500\n",
            "76/76 [==============================] - 87s 1s/step - loss: 0.4504 - accuracy: 0.8331\n",
            "Epoch 35/500\n",
            "76/76 [==============================] - 87s 1s/step - loss: 0.4143 - accuracy: 0.8413\n",
            "Epoch 36/500\n",
            "76/76 [==============================] - 87s 1s/step - loss: 0.3856 - accuracy: 0.8647\n",
            "Epoch 37/500\n",
            "76/76 [==============================] - 86s 1s/step - loss: 0.3640 - accuracy: 0.8709\n",
            "Epoch 38/500\n",
            "76/76 [==============================] - 87s 1s/step - loss: 0.2855 - accuracy: 0.8980\n",
            "Epoch 39/500\n",
            "76/76 [==============================] - 86s 1s/step - loss: 0.3237 - accuracy: 0.8832\n",
            "Epoch 40/500\n",
            "76/76 [==============================] - 86s 1s/step - loss: 0.3132 - accuracy: 0.8803\n",
            "Epoch 41/500\n",
            "76/76 [==============================] - 86s 1s/step - loss: 0.2668 - accuracy: 0.9009\n",
            "Epoch 42/500\n",
            "76/76 [==============================] - 86s 1s/step - loss: 0.2400 - accuracy: 0.9112\n",
            "Epoch 43/500\n",
            "76/76 [==============================] - 86s 1s/step - loss: 0.2121 - accuracy: 0.9219\n",
            "Epoch 44/500\n",
            "76/76 [==============================] - 86s 1s/step - loss: 0.1935 - accuracy: 0.9309\n",
            "Epoch 45/500\n",
            "76/76 [==============================] - 86s 1s/step - loss: 0.2314 - accuracy: 0.9161\n",
            "Epoch 46/500\n",
            "76/76 [==============================] - 85s 1s/step - loss: 0.1703 - accuracy: 0.9396\n",
            "Epoch 47/500\n",
            "76/76 [==============================] - 84s 1s/step - loss: 0.1577 - accuracy: 0.9433\n",
            "Epoch 48/500\n",
            "76/76 [==============================] - 85s 1s/step - loss: 0.1496 - accuracy: 0.9437\n",
            "Epoch 49/500\n",
            "76/76 [==============================] - 85s 1s/step - loss: 0.1530 - accuracy: 0.9461\n",
            "Epoch 50/500\n",
            "76/76 [==============================] - 84s 1s/step - loss: 0.1477 - accuracy: 0.9498\n",
            "Epoch 51/500\n",
            "76/76 [==============================] - 84s 1s/step - loss: 0.1309 - accuracy: 0.9568\n",
            "Epoch 52/500\n",
            "76/76 [==============================] - 84s 1s/step - loss: 0.1547 - accuracy: 0.9449\n",
            "Epoch 53/500\n",
            "76/76 [==============================] - 85s 1s/step - loss: 0.1091 - accuracy: 0.9585\n",
            "Epoch 54/500\n",
            "76/76 [==============================] - 84s 1s/step - loss: 0.1109 - accuracy: 0.9626\n",
            "Epoch 55/500\n",
            "76/76 [==============================] - 84s 1s/step - loss: 0.1112 - accuracy: 0.9622\n",
            "Epoch 56/500\n",
            "76/76 [==============================] - 84s 1s/step - loss: 0.1051 - accuracy: 0.9650\n",
            "Epoch 57/500\n",
            "76/76 [==============================] - 85s 1s/step - loss: 0.1287 - accuracy: 0.9593\n",
            "Epoch 58/500\n",
            "76/76 [==============================] - 85s 1s/step - loss: 0.0665 - accuracy: 0.9778\n",
            "Epoch 59/500\n",
            "76/76 [==============================] - 85s 1s/step - loss: 0.0732 - accuracy: 0.9700\n",
            "Epoch 60/500\n",
            "76/76 [==============================] - 85s 1s/step - loss: 0.0723 - accuracy: 0.9790\n",
            "Epoch 61/500\n",
            "76/76 [==============================] - 85s 1s/step - loss: 0.0753 - accuracy: 0.9753\n",
            "Epoch 62/500\n",
            "76/76 [==============================] - 85s 1s/step - loss: 0.0397 - accuracy: 0.9864\n",
            "Epoch 63/500\n",
            "76/76 [==============================] - 84s 1s/step - loss: 0.0518 - accuracy: 0.9836\n",
            "Epoch 64/500\n",
            "76/76 [==============================] - 85s 1s/step - loss: 0.0585 - accuracy: 0.9815\n",
            "Epoch 65/500\n",
            "76/76 [==============================] - 85s 1s/step - loss: 0.0712 - accuracy: 0.9720\n",
            "Epoch 66/500\n",
            "76/76 [==============================] - 84s 1s/step - loss: 0.0743 - accuracy: 0.9753\n",
            "Epoch 67/500\n",
            "76/76 [==============================] - 84s 1s/step - loss: 0.1703 - accuracy: 0.9420\n",
            "Epoch 68/500\n",
            "76/76 [==============================] - 84s 1s/step - loss: 0.2669 - accuracy: 0.9169\n"
          ],
          "name": "stdout"
        }
      ]
    },
    {
      "cell_type": "code",
      "metadata": {
        "id": "DNTLo-ZWv3qx",
        "colab": {
          "base_uri": "https://localhost:8080/",
          "height": 282
        },
        "outputId": "d411463e-d7da-4809-afb5-653719e3b285"
      },
      "source": [
        "plt.plot(hist.history['loss'])"
      ],
      "execution_count": null,
      "outputs": [
        {
          "output_type": "execute_result",
          "data": {
            "text/plain": [
              "[<matplotlib.lines.Line2D at 0x7f73e57fa208>]"
            ]
          },
          "metadata": {
            "tags": []
          },
          "execution_count": 24
        },
        {
          "output_type": "display_data",
          "data": {
            "image/png": "[encoded data removed]",
            "text/plain": [
              "<Figure size 432x288 with 1 Axes>"
            ]
          },
          "metadata": {
            "tags": [],
            "needs_background": "light"
          }
        }
      ]
    },
    {
      "cell_type": "markdown",
      "metadata": {
        "id": "RogIFRCsim7N"
      },
      "source": [
        "Testing"
      ]
    },
    {
      "cell_type": "code",
      "metadata": {
        "id": "IsVvNv7hZdsk",
        "colab": {
          "base_uri": "https://localhost:8080/"
        },
        "outputId": "adbea868-7c07-41d6-a6b9-a6605ae5a738"
      },
      "source": [
        "preds = model.evaluate(test_x, test_y)\n",
        "print(\"Loss = \" + str(preds[0]))\n",
        "print(\"Test accuracy = \" + str(preds[1]))"
      ],
      "execution_count": null,
      "outputs": [
        {
          "output_type": "stream",
          "text": [
            "4/4 [==============================] - 0s 112ms/step - loss: 4.1115 - accuracy: 0.4369\n",
            "Loss = 4.1114912033081055\n",
            "Test accuracy = 0.43689319491386414\n"
          ],
          "name": "stdout"
        }
      ]
    },
    {
      "cell_type": "code",
      "metadata": {
        "id": "YqkzFoJ2d3Zk",
        "colab": {
          "base_uri": "https://localhost:8080/"
        },
        "outputId": "e449f220-0d3b-4c1d-947c-532aa0818c71"
      },
      "source": [
        "pred_y = model.predict(test_x)\n",
        "\n",
        "# By definition a confusion matrix C is such that C[i][j] is equal to the number of observations known to be in group i and predicted to be in group j.\n",
        "cm = confusion_matrix(np.argmax(test_y, axis = 1), np.argmax(pred_y, axis = 1)) \n",
        "print(cm)\n",
        "plt.imshow(cm, cmap = 'binary')"
      ],
      "execution_count": null,
      "outputs": [
        {
          "output_type": "stream",
          "text": [
            "[[18  1  8  1  6]\n",
            " [ 2  0  1  1  1]\n",
            " [11  1 11  3  6]\n",
            " [ 7  0  1  8  3]\n",
            " [ 1  0  0  4  8]]\n"
          ],
          "name": "stdout"
        },
        {
          "output_type": "execute_result",
          "data": {
            "text/plain": [
              "<matplotlib.image.AxesImage at 0x7f73e43708d0>"
            ]
          },
          "metadata": {
            "tags": []
          },
          "execution_count": 26
        },
        {
          "output_type": "display_data",
          "data": {
            "image/png": "[encoded data removed]",
            "text/plain": [
              "<Figure size 432x288 with 1 Axes>"
            ]
          },
          "metadata": {
            "tags": [],
            "needs_background": "light"
          }
        }
      ]
    },
    {
      "cell_type": "code",
      "metadata": {
        "id": "kt9-px_cpz7F"
      },
      "source": [
        "# pred_y = model.predict(train_x)\n",
        "\n",
        "# # By definition a confusion matrix C is such that C[i][j] is equal to the number of observations known to be in group i and predicted to be in group j.\n",
        "# cm = confusion_matrix(np.argmax(train_y, axis = 1), np.argmax(pred_y, axis = 1)) \n",
        "# print(cm)\n",
        "# plt.imshow(cm, cmap = 'binary')"
      ],
      "execution_count": null,
      "outputs": []
    }
  ]
}