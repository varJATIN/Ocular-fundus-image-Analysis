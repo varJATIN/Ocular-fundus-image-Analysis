{
  "nbformat": 4,
  "nbformat_minor": 0,
  "metadata": {
    "colab": {
      "name": "Late_fusion_Attention_based_lesion.ipynb",
      "provenance": [],
      "collapsed_sections": [],
      "include_colab_link": true
    },
    "kernelspec": {
      "name": "python3",
      "display_name": "Python 3"
    },
    "language_info": {
      "name": "python"
    },
    "accelerator": "GPU"
  },
  "cells": [
    {
      "cell_type": "markdown",
      "metadata": {
        "id": "view-in-github",
        "colab_type": "text"
      },
      "source": [
        "<a href=\"https://colab.research.google.com/github/varJATIN/Ocular-fundus-image-Analysis/blob/main/Late_fusion_Attention_based_lesion_1.ipynb\" target=\"_parent\"><img src=\"https://colab.research.google.com/assets/colab-badge.svg\" alt=\"Open In Colab\"/></a>"
      ]
    },
    {
      "cell_type": "code",
      "metadata": {
        "id": "xRSLXUpbXIid",
        "colab": {
          "base_uri": "https://localhost:8080/"
        },
        "outputId": "184203e8-6a78-4fad-ccda-ea3381eec960"
      },
      "source": [
        "from google.colab import drive\n",
        "drive.mount('/content/drive')"
      ],
      "execution_count": 2,
      "outputs": [
        {
          "output_type": "stream",
          "text": [
            "Go to this URL in a browser: https://accounts.google.com/o/oauth2/auth?client_id=947318989803-6bn6qk8qdgf4n4g3pfee6491hc0brc4i.apps.googleusercontent.com&redirect_uri=urn%3aietf%3awg%3aoauth%3a2.0%3aoob&scope=email%20https%3a%2f%2fwww.googleapis.com%2fauth%2fdocs.test%20https%3a%2f%2fwww.googleapis.com%2fauth%2fdrive%20https%3a%2f%2fwww.googleapis.com%2fauth%2fdrive.photos.readonly%20https%3a%2f%2fwww.googleapis.com%2fauth%2fpeopleapi.readonly%20https%3a%2f%2fwww.googleapis.com%2fauth%2fdrive.activity.readonly%20https%3a%2f%2fwww.googleapis.com%2fauth%2fexperimentsandconfigs%20https%3a%2f%2fwww.googleapis.com%2fauth%2fphotos.native&response_type=code\n",
            "\n",
            "Enter your authorization code:\n",
            "4/1AY0e-g7l7l3q0bUXqLUQpsiTVdpPfXVodfPVOarGNKV-g2KFTeaa3IDPvBg\n",
            "Mounted at /content/drive\n"
          ],
          "name": "stdout"
        }
      ]
    },
    {
      "cell_type": "code",
      "metadata": {
        "id": "R56eJzH7TpT9"
      },
      "source": [
        "import os\n",
        "import sys\n",
        "import random\n",
        "import IPython\n",
        "\n",
        "from sklearn.utils import shuffle\n",
        "from sklearn.model_selection import train_test_split\n",
        "\n",
        "import numpy as np\n",
        "import pandas as pd\n",
        "import cv2\n",
        "import matplotlib.pyplot as plt\n",
        "from matplotlib.pyplot import imread\n",
        "\n",
        "import tensorflow as tf\n",
        "from tensorflow import keras\n",
        "\n",
        "from sklearn.utils import shuffle\n",
        "from sklearn.datasets import make_classification\n",
        "from sklearn.metrics import plot_confusion_matrix,confusion_matrix\n",
        "\n",
        "from matplotlib.pyplot import imread\n",
        "from cv2 import resize\n",
        "\n",
        "from keras import layers\n",
        "from keras.layers import Input, Add, Dense, Activation, ZeroPadding2D, BatchNormalization, Flatten, Conv2D, AveragePooling2D, MaxPooling2D, Dropout\n",
        "from keras.models import Model, load_model\n",
        "from keras.preprocessing import image\n",
        "from keras.utils import layer_utils\n",
        "from keras.utils.data_utils import get_file\n",
        "from keras.applications.imagenet_utils import preprocess_input\n",
        "import pydot\n",
        "from keras.utils.vis_utils import model_to_dot\n",
        "from keras.utils import plot_model\n",
        "from sklearn.preprocessing import OneHotEncoder\n",
        "\n",
        "from keras.initializers import glorot_uniform\n",
        "import scipy.misc\n",
        "from matplotlib.pyplot import imshow\n"
      ],
      "execution_count": 3,
      "outputs": []
    },
    {
      "cell_type": "markdown",
      "metadata": {
        "id": "NsTMfRzmWydA"
      },
      "source": [
        "## Read, Split train_val & oversample train set\n"
      ]
    },
    {
      "cell_type": "code",
      "metadata": {
        "id": "GiiAamo7Wu4Z",
        "colab": {
          "base_uri": "https://localhost:8080/",
          "height": 197
        },
        "outputId": "aa82549d-37ae-433d-95c4-a419046e932d"
      },
      "source": [
        "dataset_images_location = \"/content/drive/My Drive/IDRid/B. Disease Grading/1. Original Images/a. Training Set\"\n",
        "dataset_groundtruth_location = \"/content/drive/MyDrive/IDRid/B. Disease Grading/2. Groundtruths/a. IDRiD_Disease Grading_Training Labels.csv\"\n",
        "\n",
        "df = pd.read_csv(dataset_groundtruth_location)\n",
        "df_ = pd.DataFrame();\n",
        "df_['Image name'] = df['Image name']\n",
        "\n",
        "df_['Retinopathy grade'] = df['Retinopathy grade']\n",
        "\n",
        "train_df, val_df = train_test_split(df_, test_size = 0.15, random_state = 25);\n",
        "train_df.head()"
      ],
      "execution_count": 4,
      "outputs": [
        {
          "output_type": "execute_result",
          "data": {
            "text/html": [
              "<div>\n",
              "<style scoped>\n",
              "    .dataframe tbody tr th:only-of-type {\n",
              "        vertical-align: middle;\n",
              "    }\n",
              "\n",
              "    .dataframe tbody tr th {\n",
              "        vertical-align: top;\n",
              "    }\n",
              "\n",
              "    .dataframe thead th {\n",
              "        text-align: right;\n",
              "    }\n",
              "</style>\n",
              "<table border=\"1\" class=\"dataframe\">\n",
              "  <thead>\n",
              "    <tr style=\"text-align: right;\">\n",
              "      <th></th>\n",
              "      <th>Image name</th>\n",
              "      <th>Retinopathy grade</th>\n",
              "    </tr>\n",
              "  </thead>\n",
              "  <tbody>\n",
              "    <tr>\n",
              "      <th>72</th>\n",
              "      <td>IDRiD_073</td>\n",
              "      <td>2</td>\n",
              "    </tr>\n",
              "    <tr>\n",
              "      <th>256</th>\n",
              "      <td>IDRiD_257</td>\n",
              "      <td>0</td>\n",
              "    </tr>\n",
              "    <tr>\n",
              "      <th>290</th>\n",
              "      <td>IDRiD_291</td>\n",
              "      <td>1</td>\n",
              "    </tr>\n",
              "    <tr>\n",
              "      <th>311</th>\n",
              "      <td>IDRiD_312</td>\n",
              "      <td>0</td>\n",
              "    </tr>\n",
              "    <tr>\n",
              "      <th>389</th>\n",
              "      <td>IDRiD_390</td>\n",
              "      <td>4</td>\n",
              "    </tr>\n",
              "  </tbody>\n",
              "</table>\n",
              "</div>"
            ],
            "text/plain": [
              "    Image name  Retinopathy grade\n",
              "72   IDRiD_073                  2\n",
              "256  IDRiD_257                  0\n",
              "290  IDRiD_291                  1\n",
              "311  IDRiD_312                  0\n",
              "389  IDRiD_390                  4"
            ]
          },
          "metadata": {
            "tags": []
          },
          "execution_count": 4
        }
      ]
    },
    {
      "cell_type": "code",
      "metadata": {
        "id": "LNyGiE1WXzYw",
        "colab": {
          "base_uri": "https://localhost:8080/",
          "height": 283
        },
        "outputId": "a829a9f6-9725-43e2-d1a4-dd2de8a7df7e"
      },
      "source": [
        "val_df['Retinopathy grade'].hist()"
      ],
      "execution_count": 5,
      "outputs": [
        {
          "output_type": "execute_result",
          "data": {
            "text/plain": [
              "<matplotlib.axes._subplots.AxesSubplot at 0x7fe3cd8abdd0>"
            ]
          },
          "metadata": {
            "tags": []
          },
          "execution_count": 5
        },
        {
          "output_type": "display_data",
          "data": {
            "image/png": "[encoded data removed]",
            "text/plain": [
              "<Figure size 432x288 with 1 Axes>"
            ]
          },
          "metadata": {
            "tags": [],
            "needs_background": "light"
          }
        }
      ]
    },
    {
      "cell_type": "code",
      "metadata": {
        "id": "G3qr-lOfXsBf"
      },
      "source": [
        "def balance_data(class_size, df):\n",
        "    train_df = df.groupby(['Retinopathy grade']).apply(lambda x: x.sample(class_size, replace = True)).reset_index(drop = True)\n",
        "    train_df = train_df.sample(frac=1).reset_index(drop=True)\n",
        "    print('New Data Size:', train_df.shape[0], 'Old Size:', df.shape[0])\n",
        "    train_df['Retinopathy grade'].hist(figsize = (10, 5))\n",
        "    return train_df"
      ],
      "execution_count": 6,
      "outputs": []
    },
    {
      "cell_type": "code",
      "metadata": {
        "id": "S4tcksqqXwre",
        "colab": {
          "base_uri": "https://localhost:8080/",
          "height": 355
        },
        "outputId": "86b0ec65-ed6a-4c73-e793-67d57f6e80fa"
      },
      "source": [
        "train_df = balance_data(train_df.pivot_table(index='Retinopathy grade', aggfunc=len).max().max(),train_df) # I will oversample such that all classes have the same number of images as the maximum\n",
        "train_df['Retinopathy grade'].hist(figsize = (10, 5))"
      ],
      "execution_count": 7,
      "outputs": [
        {
          "output_type": "stream",
          "text": [
            "New Data Size: 600 Old Size: 351\n"
          ],
          "name": "stdout"
        },
        {
          "output_type": "execute_result",
          "data": {
            "text/plain": [
              "<matplotlib.axes._subplots.AxesSubplot at 0x7fe3cd7b19d0>"
            ]
          },
          "metadata": {
            "tags": []
          },
          "execution_count": 7
        },
        {
          "output_type": "display_data",
          "data": {
            "image/png": "[encoded data removed]",
            "text/plain": [
              "<Figure size 720x360 with 1 Axes>"
            ]
          },
          "metadata": {
            "tags": [],
            "needs_background": "light"
          }
        }
      ]
    },
    {
      "cell_type": "code",
      "metadata": {
        "id": "1Ly7b2KygvHf"
      },
      "source": [
        "def crop_image_from_gray(img, tol=7):\n",
        "    \"\"\"\n",
        "    Applies masks to the orignal image and \n",
        "    returns the a preprocessed image with \n",
        "    3 channels\n",
        "    :param img: A NumPy Array that will be cropped\n",
        "    :param tol: The tolerance used for masking\n",
        "    :return: A NumPy array containing the cropped image\n",
        "    \"\"\"\n",
        "    # If for some reason we only have two channels\n",
        "    if img.ndim == 2:\n",
        "        mask = img > tol\n",
        "        return img[np.ix_(mask.any(1),mask.any(0))]\n",
        "    # If we have a normal RGB images\n",
        "    elif img.ndim == 3:\n",
        "        gray_img = cv2.cvtColor(img, cv2.COLOR_RGB2GRAY)\n",
        "        mask = gray_img > tol\n",
        "        \n",
        "        check_shape = img[:,:,0][np.ix_(mask.any(1),mask.any(0))].shape[0]\n",
        "        if (check_shape == 0): # image is too dark so that we crop out everything,\n",
        "            return img # return original image\n",
        "        else:\n",
        "            img1=img[:,:,0][np.ix_(mask.any(1),mask.any(0))]\n",
        "            img2=img[:,:,1][np.ix_(mask.any(1),mask.any(0))]\n",
        "            img3=img[:,:,2][np.ix_(mask.any(1),mask.any(0))]\n",
        "            img = np.stack([img1,img2,img3],axis=-1)\n",
        "        return img"
      ],
      "execution_count": 8,
      "outputs": []
    },
    {
      "cell_type": "code",
      "metadata": {
        "id": "ZDnLOaZ1X2Sr",
        "colab": {
          "base_uri": "https://localhost:8080/"
        },
        "outputId": "5fa7ee15-a8e7-4acb-930c-a54ffc5698cf"
      },
      "source": [
        "image_names = train_df['Image name'];\n",
        "im_size = 512;\n",
        "\n",
        "train_labels = [];\n",
        "for label in train_df['Retinopathy grade']:\n",
        "    #for i in range(2): # 2 times for data augmentation\n",
        "    train_labels.append(label)\n",
        "\n",
        "print(\"len of labels \",len(train_labels))\n",
        "\n",
        "train_images= np.zeros((len(train_labels),im_size,im_size,3))\n",
        "\n",
        "index=0\n",
        "for image_name in image_names:\n",
        "    #read image\n",
        "    img = imread(dataset_images_location + '/' + image_name + \".jpg\");\n",
        "    img=crop_image_from_gray(img)\n",
        "    img = cv2.resize(img, (im_size, im_size));\n",
        "    #load into array\n",
        "    train_images[index,:,:,:] = img\n",
        "\n",
        "    #rot 180\n",
        "    #train_images[index + 1] = np.rot90(np.rot90(img))\n",
        "    index = index + 1\n",
        "\n",
        "train_images = train_images.astype('float32') / np.max(train_images)\n",
        "train_labels = np.array(train_labels, ndmin = 2)\n",
        "train_labels = np.transpose(train_labels)\n",
        "\n",
        "enc = OneHotEncoder(categories='auto', drop=None, sparse=False, dtype = np.int, handle_unknown='error')\n",
        "enc.fit(train_labels)\n",
        "train_labels = enc.transform(train_labels)\n",
        "\n",
        "print(train_images.shape)\n",
        "print(train_labels.shape) \n",
        "train_labels[0:5]"
      ],
      "execution_count": 9,
      "outputs": [
        {
          "output_type": "stream",
          "text": [
            "len of labels  600\n",
            "(600, 512, 512, 3)\n",
            "(600, 5)\n"
          ],
          "name": "stdout"
        },
        {
          "output_type": "execute_result",
          "data": {
            "text/plain": [
              "array([[0, 1, 0, 0, 0],\n",
              "       [0, 0, 1, 0, 0],\n",
              "       [0, 0, 1, 0, 0],\n",
              "       [0, 0, 0, 0, 1],\n",
              "       [0, 1, 0, 0, 0]])"
            ]
          },
          "metadata": {
            "tags": []
          },
          "execution_count": 9
        }
      ]
    },
    {
      "cell_type": "code",
      "metadata": {
        "id": "ZXCiTunxYFHI"
      },
      "source": [
        "from tensorflow.keras.preprocessing.image import ImageDataGenerator\n",
        "train_datagen = ImageDataGenerator(\n",
        "    shear_range=0.0,\n",
        "    zoom_range=[0.75,1],\n",
        "    #brightness_range=[0.,0.01],\n",
        "    #zca_whitening\t=True,\n",
        "    width_shift_range=1.1,\n",
        "    height_shift_range=0.05,\n",
        "    rotation_range=15,\n",
        "    fill_mode='nearest',\n",
        "    horizontal_flip=True,\n",
        "    vertical_flip=True)\n",
        "train_datagen.fit(train_images)"
      ],
      "execution_count": 10,
      "outputs": []
    },
    {
      "cell_type": "markdown",
      "metadata": {
        "id": "CgZsQfELYF99"
      },
      "source": [
        "## Read test_df\n"
      ]
    },
    {
      "cell_type": "code",
      "metadata": {
        "id": "H56u-I1AYL5T",
        "colab": {
          "base_uri": "https://localhost:8080/"
        },
        "outputId": "d5f327d1-3dea-413a-aad5-5448fab1e890"
      },
      "source": [
        "test_images_location = \"/content/drive/My Drive/IDRid/B. Disease Grading/1. Original Images/b. Testing Set\"\n",
        "test_groundtruth_location = \"/content/drive/MyDrive/IDRid/B. Disease Grading/2. Groundtruths/b. IDRiD_Disease Grading_Testing Labels.csv\"\n",
        "\n",
        "test_df = pd.read_csv(test_groundtruth_location)\n",
        "test_df_ = pd.DataFrame();\n",
        "test_df_['Image name'] = test_df['Image name']\n",
        "test_df_['Retinopathy grade'] = test_df['Retinopathy grade']\n",
        "test_df = test_df_\n",
        "print(test_df.head())"
      ],
      "execution_count": 11,
      "outputs": [
        {
          "output_type": "stream",
          "text": [
            "  Image name  Retinopathy grade\n",
            "0  IDRiD_001                  4\n",
            "1  IDRiD_002                  4\n",
            "2  IDRiD_003                  4\n",
            "3  IDRiD_004                  4\n",
            "4  IDRiD_005                  4\n"
          ],
          "name": "stdout"
        }
      ]
    },
    {
      "cell_type": "code",
      "metadata": {
        "id": "ng7pzZCycN4u",
        "colab": {
          "base_uri": "https://localhost:8080/",
          "height": 283
        },
        "outputId": "2f6b3f66-2613-4530-8032-694f34f85e74"
      },
      "source": [
        "test_df['Retinopathy grade'].hist()"
      ],
      "execution_count": 12,
      "outputs": [
        {
          "output_type": "execute_result",
          "data": {
            "text/plain": [
              "<matplotlib.axes._subplots.AxesSubplot at 0x7fe3cbfc4610>"
            ]
          },
          "metadata": {
            "tags": []
          },
          "execution_count": 12
        },
        {
          "output_type": "display_data",
          "data": {
            "image/png": "[encoded data removed]",
            "text/plain": [
              "<Figure size 432x288 with 1 Axes>"
            ]
          },
          "metadata": {
            "tags": [],
            "needs_background": "light"
          }
        }
      ]
    },
    {
      "cell_type": "code",
      "metadata": {
        "id": "CddZqHRtYQfD",
        "colab": {
          "base_uri": "https://localhost:8080/"
        },
        "outputId": "a8872f69-11e7-4aa4-e64f-78591fb9aa68"
      },
      "source": [
        "test_image_names = [];\n",
        "test_image_names = test_df['Image name'];\n",
        "print(\"len of test set \",len(test_image_names))\n",
        "im_size = 512;\n",
        "\n",
        "test_labels = [];\n",
        "test_labels = test_df['Retinopathy grade'];\n",
        "\n",
        "test_images = []\n",
        "for image_name in test_image_names:\n",
        "    img = imread(test_images_location + '/' + image_name + \".jpg\");\n",
        "    img=crop_image_from_gray(img)\n",
        "    img = cv2.resize(img, (im_size, im_size));\n",
        "    test_images.append(img);\n",
        "\n",
        "test_images = np.array(test_images)\n",
        "test_images = test_images.astype('float32') / np.max(test_images)\n",
        "test_labels = np.array(test_labels, ndmin = 2)\n",
        "test_labels = np.transpose(test_labels)\n",
        "\n",
        "test_labels = enc.transform(test_labels)\n",
        "\n",
        "print(test_images.shape)\n",
        "print(test_labels.shape) "
      ],
      "execution_count": 13,
      "outputs": [
        {
          "output_type": "stream",
          "text": [
            "len of test set  103\n",
            "(103, 512, 512, 3)\n",
            "(103, 5)\n"
          ],
          "name": "stdout"
        }
      ]
    },
    {
      "cell_type": "code",
      "metadata": {
        "id": "GNrZzFL7YUZq",
        "colab": {
          "base_uri": "https://localhost:8080/"
        },
        "outputId": "2de215e8-6488-4a69-f97a-b01df29e4302"
      },
      "source": [
        "val_image_names = [];\n",
        "val_image_names = val_df['Image name'];\n",
        "print(\"len of val set \",len(val_image_names))\n",
        "im_size = 512;\n",
        "\n",
        "val_labels = [];\n",
        "val_labels = val_df['Retinopathy grade'];\n",
        "\n",
        "val_images = []\n",
        "for image_name in val_image_names:\n",
        "    img = imread(dataset_images_location + '/' + image_name + \".jpg\");\n",
        "    img=crop_image_from_gray(img)\n",
        "    img = cv2.resize(img, (im_size, im_size));\n",
        "    val_images.append(img);\n",
        "print(\"max value of image \",np.max(val_images))\n",
        "val_images = np.array(val_images)\n",
        "val_images = val_images.astype('float32') / np.max(val_images)\n",
        "val_labels = np.array(val_labels, ndmin = 2)\n",
        "val_labels = np.transpose(val_labels)\n",
        "\n",
        "#use encoder fitted on train data for both val and test data\n",
        "val_labels = enc.transform(val_labels)\n",
        "\n",
        "print(val_images.shape)\n",
        "print(val_labels.shape) "
      ],
      "execution_count": 14,
      "outputs": [
        {
          "output_type": "stream",
          "text": [
            "len of val set  62\n",
            "max value of image  255\n",
            "(62, 512, 512, 3)\n",
            "(62, 5)\n"
          ],
          "name": "stdout"
        }
      ]
    },
    {
      "cell_type": "code",
      "metadata": {
        "id": "1MVRTsgqImVs"
      },
      "source": [
        "val_datagen = ImageDataGenerator(\n",
        "    shear_range=0.0,\n",
        "    zoom_range=[0.75,1],\n",
        "    width_shift_range=1.1,\n",
        "    height_shift_range=0.05,\n",
        "    rotation_range=15,\n",
        "    fill_mode='nearest',\n",
        "    horizontal_flip=True,\n",
        "    vertical_flip=True)\n",
        "val_datagen.fit(val_images)"
      ],
      "execution_count": 15,
      "outputs": []
    },
    {
      "cell_type": "code",
      "metadata": {
        "id": "MMQT_8peYegH",
        "colab": {
          "base_uri": "https://localhost:8080/"
        },
        "outputId": "b8854cc1-2f43-4243-fea5-0440d750005e"
      },
      "source": [
        "from sklearn.utils import shuffle\n",
        "train_images, train_labels = shuffle(train_images, train_labels, random_state = 1)\n",
        "# If train and test are from respective sets\n",
        "print(\"train x size \",train_images.shape)\n",
        "print(\"train y size \",train_labels.shape)\n",
        "print(\"test x size \",test_images.shape)\n",
        "print(\"test y size \",test_labels.shape)\n",
        "print(\"val x size \",val_images.shape)\n",
        "print(\"val y size \",val_labels.shape)"
      ],
      "execution_count": 16,
      "outputs": [
        {
          "output_type": "stream",
          "text": [
            "train x size  (600, 512, 512, 3)\n",
            "train y size  (600, 5)\n",
            "test x size  (103, 512, 512, 3)\n",
            "test y size  (103, 5)\n",
            "val x size  (62, 512, 512, 3)\n",
            "val y size  (62, 5)\n"
          ],
          "name": "stdout"
        }
      ]
    },
    {
      "cell_type": "code",
      "metadata": {
        "id": "x0EgVEcFct7X",
        "colab": {
          "base_uri": "https://localhost:8080/",
          "height": 264
        },
        "outputId": "4e46ce76-6ad3-4fad-fb33-d21db5a134df"
      },
      "source": [
        "for i in range(9):\n",
        "  ax=plt.subplot(3,3,i+1)\n",
        "  plt.imshow(train_images[2*i+1])\n",
        "  plt.title(\"{}\".format(np.argmax(train_labels[2*i+1]))) \n",
        "  plt.axis('off')"
      ],
      "execution_count": 17,
      "outputs": [
        {
          "output_type": "display_data",
          "data": {
            "image/png": "[encoded data removed]",
            "text/plain": [
              "<Figure size 432x288 with 9 Axes>"
            ]
          },
          "metadata": {
            "tags": [],
            "needs_background": "light"
          }
        }
      ]
    },
    {
      "cell_type": "code",
      "metadata": {
        "colab": {
          "base_uri": "https://localhost:8080/",
          "height": 264
        },
        "id": "L4S6mXct4Ryj",
        "outputId": "c90288fb-0568-4fcb-a40f-e87c49843bf0"
      },
      "source": [
        "x=train_datagen.flow(train_images, train_labels,batch_size=9,shuffle=True)\n",
        "for i,(img,lbl) in enumerate(x):\n",
        "  for j in range(9):\n",
        "    ax=plt.subplot(3,3,j+1)  \n",
        "    plt.imshow(img[j])\n",
        "    plt.title(\"{}\".format(np.argmax(lbl[j]))) \n",
        "    plt.axis('off')\n",
        "  break\n",
        "del x"
      ],
      "execution_count": 18,
      "outputs": [
        {
          "output_type": "display_data",
          "data": {
            "image/png": "[encoded data removed]",
            "text/plain": [
              "<Figure size 432x288 with 9 Axes>"
            ]
          },
          "metadata": {
            "tags": [],
            "needs_background": "light"
          }
        }
      ]
    },
    {
      "cell_type": "code",
      "metadata": {
        "id": "uMlPKA68YoGb"
      },
      "source": [
        "from keras.models import Sequential\n",
        "from tensorflow.keras.applications import EfficientNetB0\n",
        "from tensorflow.keras.applications.densenet import DenseNet121#,Resnet50\n",
        "from keras.models import Model"
      ],
      "execution_count": 19,
      "outputs": []
    },
    {
      "cell_type": "markdown",
      "metadata": {
        "id": "Mb_ARf8b-Q91"
      },
      "source": [
        "## Load Segmentation model \n"
      ]
    },
    {
      "cell_type": "code",
      "metadata": {
        "id": "OmTjutGCKR8r"
      },
      "source": [
        "from tensorflow.keras.models import model_from_json\n",
        "def load_seg_model(model_name):\n",
        "    \"\"\"\n",
        "    loads the pretrained seg model of given lesion\n",
        "    \"\"\"\n",
        "    # # load json and create model\n",
        "    json_file = open('/content/drive/MyDrive/IDRid/{}.json'.format(model_name), 'r')\n",
        "    loaded_model_json = json_file.read()\n",
        "    json_file.close()\n",
        "    loaded_model = model_from_json(loaded_model_json)\n",
        "\n",
        "    # # load weights into new model\n",
        "    loaded_model.load_weights(\"/content/drive/MyDrive/IDRid/{}.h5\".format(model_name))\n",
        "    # print(\"Loaded model from disk\")\n",
        "\n",
        "    # # evaluate loaded model on test data\n",
        "    loaded_model.compile()\n",
        "    print(model_name,\" Model loaded and compiled\")\n",
        "    return loaded_model"
      ],
      "execution_count": 20,
      "outputs": []
    },
    {
      "cell_type": "code",
      "metadata": {
        "id": "k4YdC1TeEBPL"
      },
      "source": [
        ""
      ],
      "execution_count": 20,
      "outputs": []
    },
    {
      "cell_type": "code",
      "metadata": {
        "id": "ffnijUOR9Kkr"
      },
      "source": [
        "def convolutional_block(X, f, filters, stage, block, s = 2):\n",
        "    \"\"\"\n",
        "    Implementation of the convolutional block\n",
        "    Arguments:\n",
        "    X -- input tensor of shape (m, n_H_prev, n_W_prev, n_C_prev)\n",
        "    f -- integer, specifying the shape of the middle CONV's window for the main path\n",
        "    filters -- python list of integers, defining the number of filters in the CONV layers of the main path\n",
        "    stage -- integer, used to name the layers, depending on their position in the network\n",
        "    block -- string/character, used to name the layers, depending on their position in the network\n",
        "    s -- Integer, specifying the stride to be used\n",
        "    \n",
        "    Returns:\n",
        "    X -- output of the convolutional block, tensor of shape (n_H, n_W, n_C)\n",
        "    \"\"\"\n",
        "    \n",
        "    # defining name basis\n",
        "    conv_name_base = 'res' + str(stage) + block + '_branch'\n",
        "    bn_name_base = 'bn' + str(stage) + block + '_branch'\n",
        "    \n",
        "    # Retrieve Filters\n",
        "    F1, F2, F3 = filters\n",
        "    \n",
        "    # Save the input value\n",
        "    X_shortcut = X\n",
        "    ##### MAIN PATH #####\n",
        "    # First component of main path \n",
        "    X = Conv2D(F1, (1, 1), strides = (s,s), name = conv_name_base + '2a', kernel_initializer = glorot_uniform(seed=0))(X)\n",
        "    X = BatchNormalization(axis = 3, name = bn_name_base + '2a')(X)\n",
        "    X = Activation('relu')(X)\n",
        "    \n",
        "    # Second component of main path \n",
        "    X = Conv2D(F2, (f,f), strides = (1,1), padding = 'same', name = conv_name_base + '2b', kernel_initializer=glorot_uniform(seed =0))(X)\n",
        "    X = BatchNormalization(axis = 3, name = bn_name_base + '2b')(X)\n",
        "    X = Activation('relu') (X)\n",
        "\n",
        "    # Third component of main path \n",
        "    X = Conv2D(F3, (1,1), strides = (1,1), padding = 'valid', name = conv_name_base + '2c', kernel_initializer=glorot_uniform(seed =0))(X)\n",
        "    X = BatchNormalization(axis = 3, name = bn_name_base + '2c')(X)\n",
        "\n",
        "    ##### SHORTCUT PATH #### \n",
        "    X_shortcut = Conv2D(F3, (1,1), strides = (s,s), padding = 'valid', name = conv_name_base + '1', kernel_initializer=glorot_uniform(seed =0))(X_shortcut)\n",
        "    X_shortcut = BatchNormalization(axis = 3, name = bn_name_base + '1')(X_shortcut)\n",
        "\n",
        "    # Final step: Add shortcut value to main path, and pass it through a RELU activation \n",
        "    X = Add()([X, X_shortcut])\n",
        "    X = Activation('relu')(X)\n",
        "    return X\n"
      ],
      "execution_count": 21,
      "outputs": []
    },
    {
      "cell_type": "code",
      "metadata": {
        "id": "KPTSnf07_pjM"
      },
      "source": [
        "def build_model(num_classes,model_name):\n",
        "    random.seed = 1337\n",
        "    tf.seed = 1337\n",
        "    tf.random.set_seed(1337)\n",
        "    IMG_SIZE=224\n",
        "    NUM_CLASSES=num_classes\n",
        "    # define inputs\n",
        "    input_0 =layers.Input(shape=(512,512, 3))\n",
        "    input_1=tf.keras.layers.experimental.preprocessing.Resizing(IMG_SIZE,IMG_SIZE,  name='resize_input')(input_0)\n",
        "    if model_name=='DenseNet121':\n",
        "      base_model = DenseNet121(include_top=False, input_tensor=input_1, weights=\"imagenet\")\n",
        "    elif model_name=='EfficientNetB0':\n",
        "      base_model = EfficientNetB0(include_top=False, input_tensor=input_1*255, weights=\"imagenet\")\n",
        "    ex_model=load_seg_model(\"model_EX\")\n",
        "    ma_model=load_seg_model(\"model_MA\")\n",
        "    se_model=load_seg_model(\"model_SE\")\n",
        "    he_model=load_seg_model(\"model_HE_1\")\n",
        "    # Freeze the pretrained weights\n",
        "    base_model.trainable = False\n",
        "    ex_model.trainable=False\n",
        "    se_model.trainable=False\n",
        "    ma_model.trainable=False\n",
        "    he_model.trainable=False\n",
        "    ex_model._name='model_ex'\n",
        "    ma_model._name='model_ma'\n",
        "    se_model._name='model_se'\n",
        "    he_model._name='model_he'\n",
        "    #pass image for lesion\n",
        "    les_ex=ex_model(input_0)\n",
        "    les_se=se_model(input_0)\n",
        "    les_ma=ma_model(input_0)\n",
        "    les_he=he_model(input_0)\n",
        "\n",
        "    #attention based input\n",
        "    att=layers.Concatenate(name='concat_lesion')([les_ex,les_se,les_ma,les_he])\n",
        "    #att= layers.Add(name='lesion_Add')([les_ex,les_se,les_ma,les_he])\n",
        "    #att=Conv2D(3,3,strides=(1,1),padding='same')(att)\n",
        "    #att=layers.BatchNormalization(name='0_bn')(att)\n",
        "    #att=tf.keras.activations.sigmoid(att)\n",
        "    #f_lesions=layers.Add()([input_0,att])\n",
        "    \n",
        "    W_g=keras.layers.Conv2D(6, kernel_size=1, padding='same', strides=1,name='Wg')(att)\n",
        "    W_g=tf.keras.layers.BatchNormalization()(W_g)\n",
        "    #input image\n",
        "    W_x=keras.layers.Conv2D(6, kernel_size=1, padding='same', strides=1,name='Wx')(input_0)\n",
        "    W_x=tf.keras.layers.BatchNormalization()(W_x)\n",
        "    # convolve to  attention filter\n",
        "    att=layers.Add(name='additive_enhance_layer')([W_x,W_g])\n",
        "    att=tf.keras.activations.relu(att, alpha=0.0, max_value=None, threshold=0)\n",
        "    att=keras.layers.Conv2D(3, kernel_size=1, padding='same', strides=1)(att)\n",
        "    att=tf.keras.activations.sigmoid(tf.keras.layers.BatchNormalization()(att))\n",
        "    f_lesions=tf.keras.layers.Multiply()([att,input_0])\n",
        "    #print(f_lesions.shape)\n",
        "    #block1\n",
        "    f_lesions=convolutional_block(f_lesions,3,(3,3,8),1,'1')\n",
        "    f_lesions=convolutional_block(f_lesions,3,(8,8,16),2,'2')\n",
        "    f_lesions=convolutional_block(f_lesions,3,(16,16,32),3,'3')\n",
        "    f_lesions=convolutional_block(f_lesions,3,(32,32,64),4,'4')\n",
        "    f_lesions=layers.GlobalAveragePooling2D()(f_lesions)\n",
        "    #print(f_lesions.shape)\n",
        "    top_dropout_rate = 0.2\n",
        "    #f_lesions = Dense(256, activation=\"relu\", name=\"last_dense_1\")(f_lesions)\n",
        "    #f_lesions = Dropout(top_dropout_rate, name=\"top_dropout_1\")(f_lesions)\n",
        "    #output_1 = Dense(5, activation=\"softmax\", name=\"pred_1\")(f_lesions)\n",
        "    \n",
        "    #predection_2\n",
        "    x=base_model.output\n",
        "    x=layers.GlobalAveragePooling2D()(x)\n",
        "    x=layers.Concatenate()([x,f_lesions])\n",
        "    # Rebuild top\n",
        "    x = Flatten(name=\"flatten_2\")(x)\n",
        "    x = Dropout(top_dropout_rate, name=\"top_dropout_1\")(x)\n",
        "    x = Dense(256, activation=\"relu\", name=\"last_dense_2\")(x)\n",
        "    x = Dropout(top_dropout_rate, name=\"top_dropout_2\")(x)\n",
        "    x = Dense(NUM_CLASSES, activation=\"softmax\", name=\"pred_2\")(x)\n",
        "  \n",
        "    # Compile\n",
        "    model = tf.keras.Model(input_0, x, name=\"Segnet\")\n",
        "    optimizer = tf.keras.optimizers.Adam(learning_rate=1e-4,beta_1=0.9)\n",
        "    model.compile(\n",
        "        optimizer=optimizer, loss=\"categorical_crossentropy\", metrics=[\"accuracy\"]\n",
        "    )\n",
        "    return model"
      ],
      "execution_count": 29,
      "outputs": []
    },
    {
      "cell_type": "code",
      "metadata": {
        "colab": {
          "base_uri": "https://localhost:8080/"
        },
        "id": "ZRIFcWk2Kotu",
        "outputId": "7dcc0780-811e-4f4b-f934-cc908bdd69f2"
      },
      "source": [
        "random.seed = 1337\n",
        "tf.seed = 1337\n",
        "tf.random.set_seed(1337)\n",
        "model=build_model(5,'EfficientNetB0')"
      ],
      "execution_count": 30,
      "outputs": [
        {
          "output_type": "stream",
          "text": [
            "model_EX  Model loaded and compiled\n",
            "model_MA  Model loaded and compiled\n",
            "model_SE  Model loaded and compiled\n",
            "model_HE_1  Model loaded and compiled\n"
          ],
          "name": "stdout"
        }
      ]
    },
    {
      "cell_type": "code",
      "metadata": {
        "id": "TSKp_gY5Cweq",
        "colab": {
          "base_uri": "https://localhost:8080/"
        },
        "outputId": "21971cc5-2a3a-4f9a-f40d-2e321c22c66a"
      },
      "source": [
        "from keras.utils.layer_utils import count_params\n",
        "trainable_count = count_params(model.trainable_weights)\n",
        "non_trainable_count = count_params(model.non_trainable_weights)\n",
        "\n",
        "print('Total params: {:,}'.format(trainable_count + non_trainable_count))\n",
        "print('Trainable params: {:,}'.format(trainable_count))\n",
        "print('Non-trainable params: {:,}'.format(non_trainable_count))"
      ],
      "execution_count": 31,
      "outputs": [
        {
          "output_type": "stream",
          "text": [
            "Total params: 6,224,757\n",
            "Trainable params: 365,738\n",
            "Non-trainable params: 5,859,019\n"
          ],
          "name": "stdout"
        }
      ]
    },
    {
      "cell_type": "code",
      "metadata": {
        "id": "gt7iQMw3OOuX",
        "colab": {
          "base_uri": "https://localhost:8080/",
          "height": 53
        },
        "outputId": "0f66ec61-00c0-4d21-db01-f4f09653370c"
      },
      "source": [
        "\"\"\"plot_model(\n",
        "    model,\n",
        "    to_file=\"model.png\",\n",
        "    show_shapes=False,\n",
        "    show_dtype=False,\n",
        "    show_layer_names=True,\n",
        "    rankdir=\"TB\",\n",
        "    expand_nested=False,\n",
        "    dpi=48,\n",
        ")\"\"\""
      ],
      "execution_count": 25,
      "outputs": [
        {
          "output_type": "execute_result",
          "data": {
            "application/vnd.google.colaboratory.intrinsic+json": {
              "type": "string"
            },
            "text/plain": [
              "'plot_model(\\n    model,\\n    to_file=\"model.png\",\\n    show_shapes=False,\\n    show_dtype=False,\\n    show_layer_names=True,\\n    rankdir=\"TB\",\\n    expand_nested=False,\\n    dpi=48,\\n)'"
            ]
          },
          "metadata": {
            "tags": []
          },
          "execution_count": 25
        }
      ]
    },
    {
      "cell_type": "code",
      "metadata": {
        "colab": {
          "base_uri": "https://localhost:8080/"
        },
        "id": "eNuxR4wvDBiO",
        "outputId": "f00dbbe0-887b-4d4f-c31b-f0a02e752d6c"
      },
      "source": [
        "es = tf.keras.callbacks.EarlyStopping(monitor='accuracy', mode='auto', verbose=1, patience=4)\n",
        "rlr = tf.keras.callbacks.ReduceLROnPlateau(monitor='val_loss', \n",
        "                        factor=0.5, \n",
        "                        patience=4, \n",
        "                        verbose=1, \n",
        "                        mode='auto',  \n",
        "                        min_delta=0.01)\n",
        "hist=model.fit(train_datagen.flow(train_images, train_labels,batch_size=6,shuffle=True),steps_per_epoch=len(train_images) / 6,\n",
        "               epochs =100, callbacks = [es,rlr],validation_data=val_datagen.flow(val_images,val_labels,batch_size=8));"
      ],
      "execution_count": 32,
      "outputs": [
        {
          "output_type": "stream",
          "text": [
            "Epoch 1/100\n",
            "100/100 [==============================] - 214s 2s/step - loss: 1.4899 - accuracy: 0.3257 - val_loss: 1.2256 - val_accuracy: 0.4839\n",
            "Epoch 2/100\n",
            "100/100 [==============================] - 144s 1s/step - loss: 1.1877 - accuracy: 0.5108 - val_loss: 1.2652 - val_accuracy: 0.4032\n",
            "Epoch 3/100\n",
            "100/100 [==============================] - 145s 1s/step - loss: 1.0880 - accuracy: 0.5470 - val_loss: 1.1887 - val_accuracy: 0.4194\n",
            "Epoch 4/100\n",
            "100/100 [==============================] - 144s 1s/step - loss: 0.9942 - accuracy: 0.5933 - val_loss: 1.2366 - val_accuracy: 0.3065\n",
            "Epoch 5/100\n",
            "100/100 [==============================] - 145s 1s/step - loss: 0.9706 - accuracy: 0.5696 - val_loss: 1.1306 - val_accuracy: 0.5000\n",
            "Epoch 6/100\n",
            "100/100 [==============================] - 144s 1s/step - loss: 0.8762 - accuracy: 0.6608 - val_loss: 0.9903 - val_accuracy: 0.5806\n",
            "Epoch 7/100\n",
            "100/100 [==============================] - 145s 1s/step - loss: 0.8667 - accuracy: 0.6331 - val_loss: 1.0818 - val_accuracy: 0.5161\n",
            "Epoch 8/100\n",
            "100/100 [==============================] - 144s 1s/step - loss: 0.8474 - accuracy: 0.6588 - val_loss: 1.0372 - val_accuracy: 0.5000\n",
            "Epoch 9/100\n",
            "100/100 [==============================] - 145s 1s/step - loss: 0.8182 - accuracy: 0.6918 - val_loss: 1.0958 - val_accuracy: 0.4516\n",
            "Epoch 10/100\n",
            "100/100 [==============================] - 144s 1s/step - loss: 0.7929 - accuracy: 0.6672 - val_loss: 1.0667 - val_accuracy: 0.4194\n",
            "\n",
            "Epoch 00010: ReduceLROnPlateau reducing learning rate to 4.999999873689376e-05.\n",
            "Epoch 11/100\n",
            "100/100 [==============================] - 145s 1s/step - loss: 0.7616 - accuracy: 0.7000 - val_loss: 1.0641 - val_accuracy: 0.5161\n",
            "Epoch 12/100\n",
            "100/100 [==============================] - 144s 1s/step - loss: 0.7638 - accuracy: 0.6929 - val_loss: 0.9971 - val_accuracy: 0.4677\n",
            "Epoch 13/100\n",
            "100/100 [==============================] - 144s 1s/step - loss: 0.7664 - accuracy: 0.6790 - val_loss: 1.0100 - val_accuracy: 0.5161\n",
            "Epoch 14/100\n",
            "100/100 [==============================] - 144s 1s/step - loss: 0.7510 - accuracy: 0.7010 - val_loss: 0.9431 - val_accuracy: 0.5968\n",
            "Epoch 15/100\n",
            "100/100 [==============================] - 143s 1s/step - loss: 0.7702 - accuracy: 0.6948 - val_loss: 1.0491 - val_accuracy: 0.5000\n",
            "Epoch 16/100\n",
            "100/100 [==============================] - 143s 1s/step - loss: 0.6560 - accuracy: 0.7601 - val_loss: 1.1243 - val_accuracy: 0.5000\n",
            "Epoch 17/100\n",
            "100/100 [==============================] - 143s 1s/step - loss: 0.7348 - accuracy: 0.7160 - val_loss: 1.0720 - val_accuracy: 0.4355\n",
            "Epoch 18/100\n",
            "100/100 [==============================] - 143s 1s/step - loss: 0.6856 - accuracy: 0.7425 - val_loss: 1.0338 - val_accuracy: 0.5323\n",
            "\n",
            "Epoch 00018: ReduceLROnPlateau reducing learning rate to 2.499999936844688e-05.\n",
            "Epoch 19/100\n",
            "100/100 [==============================] - 143s 1s/step - loss: 0.6230 - accuracy: 0.7733 - val_loss: 0.9565 - val_accuracy: 0.6129\n",
            "Epoch 20/100\n",
            "100/100 [==============================] - 143s 1s/step - loss: 0.6556 - accuracy: 0.7503 - val_loss: 0.9921 - val_accuracy: 0.5484\n",
            "Epoch 21/100\n",
            "100/100 [==============================] - 143s 1s/step - loss: 0.6302 - accuracy: 0.7667 - val_loss: 0.9950 - val_accuracy: 0.5484\n",
            "Epoch 22/100\n",
            "100/100 [==============================] - 143s 1s/step - loss: 0.6635 - accuracy: 0.7315 - val_loss: 0.9972 - val_accuracy: 0.5323\n",
            "\n",
            "Epoch 00022: ReduceLROnPlateau reducing learning rate to 1.249999968422344e-05.\n",
            "Epoch 23/100\n",
            "100/100 [==============================] - 143s 1s/step - loss: 0.6689 - accuracy: 0.7263 - val_loss: 1.0525 - val_accuracy: 0.5323\n",
            "Epoch 24/100\n",
            "100/100 [==============================] - 144s 1s/step - loss: 0.6179 - accuracy: 0.7608 - val_loss: 0.9867 - val_accuracy: 0.5968\n",
            "Epoch 25/100\n",
            "100/100 [==============================] - 144s 1s/step - loss: 0.6643 - accuracy: 0.7702 - val_loss: 0.9019 - val_accuracy: 0.5806\n",
            "Epoch 26/100\n",
            "100/100 [==============================] - 143s 1s/step - loss: 0.6149 - accuracy: 0.7728 - val_loss: 0.9937 - val_accuracy: 0.5968\n",
            "Epoch 27/100\n",
            "100/100 [==============================] - 143s 1s/step - loss: 0.6443 - accuracy: 0.7339 - val_loss: 0.9901 - val_accuracy: 0.5161\n",
            "Epoch 28/100\n",
            "100/100 [==============================] - 143s 1s/step - loss: 0.6342 - accuracy: 0.7555 - val_loss: 1.0149 - val_accuracy: 0.5484\n",
            "Epoch 29/100\n",
            "100/100 [==============================] - 143s 1s/step - loss: 0.6407 - accuracy: 0.7497 - val_loss: 1.0318 - val_accuracy: 0.5484\n",
            "\n",
            "Epoch 00029: ReduceLROnPlateau reducing learning rate to 6.24999984211172e-06.\n",
            "Epoch 00029: early stopping\n"
          ],
          "name": "stdout"
        }
      ]
    },
    {
      "cell_type": "code",
      "metadata": {
        "id": "4GA4taOUE2nL",
        "colab": {
          "base_uri": "https://localhost:8080/",
          "height": 573
        },
        "outputId": "83902b70-6c4c-406b-d938-8d9b461217df"
      },
      "source": [
        "plt.plot(hist.history[\"loss\"])\n",
        "plt.plot(hist.history[\"val_loss\"])\n",
        "plt.title(\"Loss plot\")\n",
        "plt.ylabel(\"Loss\")\n",
        "plt.xlabel(\"epoch\")\n",
        "plt.legend([\"train\", \"validation\"], loc=\"upper left\")\n",
        "plt.show()\n",
        "\n",
        "plt.plot(hist.history[\"accuracy\"])\n",
        "plt.plot(hist.history[\"val_accuracy\"])\n",
        "plt.title(\"model accuracy\")\n",
        "plt.ylabel(\"accuracy\")\n",
        "plt.xlabel(\"epoch\")\n",
        "plt.legend([\"train\", \"validation\"], loc=\"upper left\")\n",
        "plt.show()"
      ],
      "execution_count": 33,
      "outputs": [
        {
          "output_type": "display_data",
          "data": {
            "image/png": "[encoded data removed]",
            "text/plain": [
              "<Figure size 432x288 with 1 Axes>"
            ]
          },
          "metadata": {
            "tags": [],
            "needs_background": "light"
          }
        },
        {
          "output_type": "display_data",
          "data": {
            "image/png": "[encoded data removed]",
            "text/plain": [
              "<Figure size 432x288 with 1 Axes>"
            ]
          },
          "metadata": {
            "tags": [],
            "needs_background": "light"
          }
        }
      ]
    },
    {
      "cell_type": "code",
      "metadata": {
        "id": "T1ZS1V8AsN8f"
      },
      "source": [
        "\"\"\"es = tf.keras.callbacks.EarlyStopping(monitor='val_loss', mode='auto', verbose=1, patience=8)\n",
        "rlr = tf.keras.callbacks.ReduceLROnPlateau(monitor='val_loss', \n",
        "                        factor=0.5, \n",
        "                        patience=4,verbose=1, \n",
        "                        mode='auto',min_delta=0.01)\n",
        "model.trainable=True\n",
        "opt = keras.optimizers.Adam(learning_rate = 1e-4, beta_1 = 0.8)\n",
        "model.compile(loss='categorical_crossentropy',optimizer=opt,metrics=['accuracy'])\n",
        "hist=model.fit(train_datagen.flow(train_images, train_labels,batch_size=4,shuffle=True),steps_per_epoch=len(train_images) / 4,\n",
        "               epochs =50, callbacks = [es,rlr],validation_data=val_datagen.flow(val_images,val_labels,batch_size=4));\"\"\""
      ],
      "execution_count": null,
      "outputs": []
    },
    {
      "cell_type": "code",
      "metadata": {
        "id": "sj41Cx4LqH7r"
      },
      "source": [
        "from sklearn.metrics import cohen_kappa_score\n",
        "def quadratic_kappa(y_hat, y):\n",
        "    return cohen_kappa_score(y_hat, y, weights='quadratic')"
      ],
      "execution_count": 41,
      "outputs": []
    },
    {
      "cell_type": "code",
      "metadata": {
        "id": "uwFjYjXuaWIv",
        "colab": {
          "base_uri": "https://localhost:8080/",
          "height": 388
        },
        "outputId": "aaa45b33-d268-4abf-9912-5680e62db1ae"
      },
      "source": [
        "from sklearn.metrics import precision_score,accuracy_score\n",
        "pred_y_1=np.zeros((val_labels.shape))\n",
        "#pred_y_2=np.zeros((val_labels.shape))\n",
        "for i in range(7):\n",
        "  pred_both=model.predict(val_images[6*i:6*i+6])\n",
        "  pred_y_1[6*i:6*i+6]=pred_both\n",
        "  #pred_y_2[6*i:6*i+6]=pred_both[1]\n",
        "pred_y_=pred_y_1#+pred_y_2\n",
        "cm=confusion_matrix(np.argmax(val_labels,axis=1),np.argmax(pred_y_,axis=1))\n",
        "print(cm)\n",
        "plt.imshow(cm, cmap='binary')\n",
        "print(\"accuracy \",accuracy_score(np.argmax(val_labels,axis=1),np.argmax(pred_y_,axis=1)),\" accuracy\")\n",
        "print(\"quadratic kappa \",quadratic_kappa(np.argmax(pred_y_,axis=1),np.argmax(val_labels,axis=1)))"
      ],
      "execution_count": 42,
      "outputs": [
        {
          "output_type": "stream",
          "text": [
            "[[15  2  5  0  0]\n",
            " [ 3  0  1  0  0]\n",
            " [ 8  0  6  1  1]\n",
            " [ 6  0  2  7  2]\n",
            " [ 1  0  1  1  0]]\n",
            "accuracy  0.45161290322580644  accuracy\n",
            "quadratic kappa  0.39123219471718984\n"
          ],
          "name": "stdout"
        },
        {
          "output_type": "display_data",
          "data": {
            "image/png": "[encoded data removed]",
            "text/plain": [
              "<Figure size 432x288 with 1 Axes>"
            ]
          },
          "metadata": {
            "tags": [],
            "needs_background": "light"
          }
        }
      ]
    },
    {
      "cell_type": "code",
      "metadata": {
        "id": "-ySXYdPrRNR2",
        "colab": {
          "base_uri": "https://localhost:8080/",
          "height": 388
        },
        "outputId": "b451d8a8-258b-4942-bf78-5b293202033b"
      },
      "source": [
        "#preds = model.evaluate(test_images, test_labels)\n",
        "#print(\"Loss = \" + str(preds[0]))\n",
        "#print(\"Test accuracy = \" + str(preds[1]))\n",
        "pred_y_=np.zeros((test_labels.shape))\n",
        "for i in range(18):\n",
        "  pred_y_[6*i:6*i+6]=model.predict(test_images[6*i:6*i+6])\n",
        "cm=confusion_matrix(np.argmax(test_labels,axis=1),np.argmax(pred_y_,axis=1))\n",
        "print(cm)\n",
        "plt.imshow(cm, cmap='binary')\n",
        "score=accuracy_score(np.argmax(test_labels,axis=1),np.argmax(pred_y_,axis=1))\n",
        "print(score,\" accuracy\")\n",
        "print(\"quadratic kappa \",quadratic_kappa(np.argmax(pred_y_,axis=1),np.argmax(test_labels,axis=1)))"
      ],
      "execution_count": 43,
      "outputs": [
        {
          "output_type": "stream",
          "text": [
            "[[17  5 10  0  2]\n",
            " [ 1  1  3  0  0]\n",
            " [ 2  2 18  6  4]\n",
            " [ 1  0  5 10  3]\n",
            " [ 2  0  2  6  3]]\n",
            "0.47572815533980584  accuracy\n",
            "quadratic kappa  0.5339606149416423\n"
          ],
          "name": "stdout"
        },
        {
          "output_type": "display_data",
          "data": {
            "image/png": "[encoded data removed]",
            "text/plain": [
              "<Figure size 432x288 with 1 Axes>"
            ]
          },
          "metadata": {
            "tags": [],
            "needs_background": "light"
          }
        }
      ]
    },
    {
      "cell_type": "markdown",
      "metadata": {
        "id": "suvln6fxBVTd"
      },
      "source": [
        "## acc with TTA"
      ]
    },
    {
      "cell_type": "code",
      "metadata": {
        "id": "_A-nwD0PBUfv"
      },
      "source": [
        "test_datagen = ImageDataGenerator(\n",
        "    shear_range=0.0,\n",
        "    zoom_range=[0.75,1],\n",
        "    width_shift_range=1.1,\n",
        "    height_shift_range=0.05,\n",
        "    rotation_range=15,\n",
        "    fill_mode='nearest',\n",
        "    horizontal_flip=True,\n",
        "    vertical_flip=True)\n",
        "test_datagen.fit(test_images)\n",
        "pred_y_tta=np.zeros((102,5))\n",
        "x=test_datagen.flow(test_images,test_labels,batch_size=6)\n",
        "test_y_=np.zeros((102,5))"
      ],
      "execution_count": 49,
      "outputs": []
    },
    {
      "cell_type": "code",
      "metadata": {
        "id": "dyx113PJDaIs",
        "colab": {
          "base_uri": "https://localhost:8080/",
          "height": 388
        },
        "outputId": "806c7594-6c51-456a-ba28-8f543c648d5c"
      },
      "source": [
        "for i,(img,lbl) in enumerate(x):\n",
        "  #print(img.shape,lbl.shape)\n",
        "  pred_y_tta[6*i:6*i+6]=model.predict(img)\n",
        "  test_y_[6*i:6*i+6,:]=lbl\n",
        "  if i==17:\n",
        "    break\n",
        "cm=confusion_matrix(np.argmax(test_y_,axis=1),np.argmax(pred_y_tta,axis=1))\n",
        "print(cm)\n",
        "plt.imshow(cm, cmap='binary')\n",
        "score=accuracy_score(np.argmax(test_y_,axis=1),np.argmax(pred_y_tta,axis=1))\n",
        "print(score,\" accuracy\")\n",
        "print(\"quadratic kappa \",quadratic_kappa(np.argmax(pred_y_tta,axis=1),np.argmax(test_y_,axis=1)))"
      ],
      "execution_count": 50,
      "outputs": [
        {
          "output_type": "stream",
          "text": [
            "[[15 12  5  0  2]\n",
            " [ 2  1  1  1  0]\n",
            " [ 2  4 18  6  1]\n",
            " [ 1  1  4 10  3]\n",
            " [ 2  0  4  3  4]]\n",
            "0.47058823529411764  acuracy\n",
            "quadratic kappa  0.5518165255599614\n"
          ],
          "name": "stdout"
        },
        {
          "output_type": "display_data",
          "data": {
            "image/png": "[encoded data removed]",
            "text/plain": [
              "<Figure size 432x288 with 1 Axes>"
            ]
          },
          "metadata": {
            "tags": [],
            "needs_background": "light"
          }
        }
      ]
    },
    {
      "cell_type": "code",
      "metadata": {
        "id": "eUbsFIRTEP6P"
      },
      "source": [
        "#del test_datagen"
      ],
      "execution_count": null,
      "outputs": []
    },
    {
      "cell_type": "code",
      "metadata": {
        "id": "uaovl69LApc9"
      },
      "source": [
        "# serialize model to JSON\n",
        "model_json = model.to_json()\n",
        "with open(\"/content/drive/My Drive/IDRid/model_eff_Late_fusion_Attention_based_lesion.json\", \"w\") as json_file:\n",
        "    json_file.write(model_json)\n",
        "# serialize weights to HDF5\n",
        "model.save_weights(\"/content/drive/My Drive/IDRid/model_eff_Late_fusion_Attention_based_lesion.h5\")\n",
        "print(\"Saved model to disk\")"
      ],
      "execution_count": null,
      "outputs": []
    },
    {
      "cell_type": "markdown",
      "metadata": {
        "id": "vs25uvuZQLTK"
      },
      "source": [
        "## unfreeze and train"
      ]
    },
    {
      "cell_type": "code",
      "metadata": {
        "id": "Jr96w2WVSadY",
        "colab": {
          "base_uri": "https://localhost:8080/"
        },
        "outputId": "e58a5c0b-b579-42ed-8e5d-1439f0dd3525"
      },
      "source": [
        "count=0\n",
        "model.trainable=True\n",
        "for layer in model.layers:\n",
        "  if layer.name[-2:] == 'bn':\n",
        "    layer.trainable=False\n",
        "    count+=1\n",
        "  if layer.name[-2:] in ['he','ex','se','ma' ]:\n",
        "    layer.trainable=False\n",
        "    print(layer.name,\" freezed\")\n",
        "    count+=1\n",
        "print(count-4,\" layers of bn freezed+ 4 seg model freezed\")\n",
        "trainable_count = count_params(model.trainable_weights)\n",
        "non_trainable_count = count_params(model.non_trainable_weights)\n",
        "print('Total params: {:,}'.format(trainable_count + non_trainable_count))\n",
        "print('Trainable params: {:,}'.format(trainable_count))\n",
        "print('Non-trainable params: {:,}'.format(non_trainable_count))"
      ],
      "execution_count": 53,
      "outputs": [
        {
          "output_type": "stream",
          "text": [
            "model_ex  freezed\n",
            "model_se  freezed\n",
            "model_ma  freezed\n",
            "model_he  freezed\n",
            "49  layers of bn freezed+ 4 seg model freezed\n",
            "Total params: 6,224,757\n",
            "Trainable params: 4,331,270\n",
            "Non-trainable params: 1,893,487\n"
          ],
          "name": "stdout"
        }
      ]
    },
    {
      "cell_type": "code",
      "metadata": {
        "id": "lOaZ3fRSQb_N",
        "colab": {
          "base_uri": "https://localhost:8080/"
        },
        "outputId": "b462bc42-e74a-4d09-d0fc-7f0aa879eca5"
      },
      "source": [
        "random.seed = 2\n",
        "tf.seed = 2\n",
        "tf.random.set_seed(2)\n",
        "from keras.callbacks import ModelCheckpoint\n",
        "filepath=\"weights-improvement-{epoch:02d}-{val_accuracy:.2f}.hdf5\"\n",
        "checkpoint = ModelCheckpoint(filepath, monitor='val_accuracy', verbose=1, save_best_only=True, mode='max')\n",
        "\n",
        "opt = keras.optimizers.Adam(learning_rate = 1e-5, beta_1 = 0.9)\n",
        "model.compile(loss='categorical_crossentropy',\n",
        "              optimizer=opt,\n",
        "              metrics=['accuracy'])\n",
        "early_stopping= tf.keras.callbacks.EarlyStopping(monitor = 'accuracy', min_delta = 0.01, patience = 5)\n",
        "hist=model.fit(train_datagen.flow(train_images, train_labels,batch_size=6,shuffle=True),steps_per_epoch=len(train_images) / 6,\n",
        "               epochs = 20,callbacks=[early_stopping],validation_data=val_datagen.flow(val_images,val_labels,batch_size=6));"
      ],
      "execution_count": 77,
      "outputs": [
        {
          "output_type": "stream",
          "text": [
            "Epoch 1/20\n",
            "100/100 [==============================] - 189s 2s/step - loss: 0.5626 - accuracy: 0.7985 - val_loss: 0.8971 - val_accuracy: 0.6129\n",
            "Epoch 2/20\n",
            "100/100 [==============================] - 157s 2s/step - loss: 0.3857 - accuracy: 0.8651 - val_loss: 1.0912 - val_accuracy: 0.4839\n",
            "Epoch 3/20\n",
            "100/100 [==============================] - 157s 2s/step - loss: 0.3636 - accuracy: 0.8604 - val_loss: 1.0995 - val_accuracy: 0.5484\n",
            "Epoch 4/20\n",
            "100/100 [==============================] - 157s 2s/step - loss: 0.4002 - accuracy: 0.8462 - val_loss: 0.9385 - val_accuracy: 0.6290\n",
            "Epoch 5/20\n",
            "100/100 [==============================] - 158s 2s/step - loss: 0.3854 - accuracy: 0.8705 - val_loss: 1.0269 - val_accuracy: 0.6452\n",
            "Epoch 6/20\n",
            "100/100 [==============================] - 158s 2s/step - loss: 0.3497 - accuracy: 0.8761 - val_loss: 0.9958 - val_accuracy: 0.5806\n",
            "Epoch 7/20\n",
            "100/100 [==============================] - 157s 2s/step - loss: 0.3456 - accuracy: 0.8662 - val_loss: 0.9621 - val_accuracy: 0.6129\n",
            "Epoch 8/20\n",
            "100/100 [==============================] - 157s 2s/step - loss: 0.3349 - accuracy: 0.8781 - val_loss: 1.1130 - val_accuracy: 0.5645\n",
            "Epoch 9/20\n",
            "100/100 [==============================] - 158s 2s/step - loss: 0.3274 - accuracy: 0.8935 - val_loss: 1.1501 - val_accuracy: 0.6129\n",
            "Epoch 10/20\n",
            "100/100 [==============================] - 158s 2s/step - loss: 0.2837 - accuracy: 0.9019 - val_loss: 1.0555 - val_accuracy: 0.6290\n",
            "Epoch 11/20\n",
            "100/100 [==============================] - 158s 2s/step - loss: 0.2915 - accuracy: 0.9021 - val_loss: 1.0220 - val_accuracy: 0.6290\n",
            "Epoch 12/20\n",
            "100/100 [==============================] - 157s 2s/step - loss: 0.2233 - accuracy: 0.9350 - val_loss: 1.1242 - val_accuracy: 0.5806\n",
            "Epoch 13/20\n",
            "100/100 [==============================] - 157s 2s/step - loss: 0.2631 - accuracy: 0.9323 - val_loss: 0.9832 - val_accuracy: 0.6290\n",
            "Epoch 14/20\n",
            "100/100 [==============================] - 158s 2s/step - loss: 0.2715 - accuracy: 0.8996 - val_loss: 1.0919 - val_accuracy: 0.5968\n",
            "Epoch 15/20\n",
            "100/100 [==============================] - 158s 2s/step - loss: 0.2475 - accuracy: 0.9098 - val_loss: 1.1266 - val_accuracy: 0.6290\n",
            "Epoch 16/20\n",
            "100/100 [==============================] - 157s 2s/step - loss: 0.2552 - accuracy: 0.8860 - val_loss: 1.1100 - val_accuracy: 0.5645\n",
            "Epoch 17/20\n",
            "100/100 [==============================] - 157s 2s/step - loss: 0.2150 - accuracy: 0.9331 - val_loss: 1.0007 - val_accuracy: 0.6935\n"
          ],
          "name": "stdout"
        }
      ]
    },
    {
      "cell_type": "code",
      "metadata": {
        "id": "tIVkuXoOCr7h",
        "colab": {
          "base_uri": "https://localhost:8080/",
          "height": 573
        },
        "outputId": "80aeb685-3bfc-4660-e5ae-60585f393bc8"
      },
      "source": [
        "plt.plot(hist.history[\"loss\"])\n",
        "plt.plot(hist.history[\"val_loss\"])\n",
        "plt.title(\"Loss plot\")\n",
        "plt.ylabel(\"Loss\")\n",
        "plt.xlabel(\"epoch\")\n",
        "plt.legend([\"train\", \"validation\"], loc=\"upper left\")\n",
        "plt.show()\n",
        "\n",
        "plt.plot(hist.history[\"accuracy\"])\n",
        "plt.plot(hist.history[\"val_accuracy\"])\n",
        "plt.title(\"model accuracy\")\n",
        "plt.ylabel(\"accuracy\")\n",
        "plt.xlabel(\"epoch\")\n",
        "plt.legend([\"train\", \"validation\"], loc=\"upper left\")\n",
        "plt.show()"
      ],
      "execution_count": 78,
      "outputs": [
        {
          "output_type": "display_data",
          "data": {
            "image/png": "[encoded data removed]",
            "text/plain": [
              "<Figure size 432x288 with 1 Axes>"
            ]
          },
          "metadata": {
            "tags": [],
            "needs_background": "light"
          }
        },
        {
          "output_type": "display_data",
          "data": {
            "image/png": "[encoded data removed]",
            "text/plain": [
              "<Figure size 432x288 with 1 Axes>"
            ]
          },
          "metadata": {
            "tags": [],
            "needs_background": "light"
          }
        }
      ]
    },
    {
      "cell_type": "code",
      "metadata": {
        "id": "x-mAv-F_gI_Y"
      },
      "source": [
        "#model.load_weights(\"weights.best.hdf5\") "
      ],
      "execution_count": 80,
      "outputs": []
    },
    {
      "cell_type": "code",
      "metadata": {
        "id": "7jBH9XOYXbWo",
        "colab": {
          "base_uri": "https://localhost:8080/",
          "height": 388
        },
        "outputId": "90b777a4-84f1-4814-9a50-65b8f89ebe54"
      },
      "source": [
        "pred_y_=np.zeros((test_labels.shape))\n",
        "for i in range(18):\n",
        "  pred_y_[6*i:6*i+6]=model.predict(test_images[6*i:6*i+6])\n",
        "cm=confusion_matrix(np.argmax(test_labels,axis=1),np.argmax(pred_y_,axis=1))\n",
        "print(cm)\n",
        "plt.imshow(cm, cmap='binary')\n",
        "score=accuracy_score(np.argmax(test_labels,axis=1),np.argmax(pred_y_,axis=1))\n",
        "print(score,\" acuracy\")\n",
        "print(\"quadratic kappa \",quadratic_kappa(np.argmax(pred_y_,axis=1),np.argmax(test_labels,axis=1)))"
      ],
      "execution_count": 82,
      "outputs": [
        {
          "output_type": "stream",
          "text": [
            "[[21  3  9  0  1]\n",
            " [ 2  1  2  0  0]\n",
            " [ 3  2 16  8  3]\n",
            " [ 1  0  6  9  3]\n",
            " [ 2  0  3  4  4]]\n",
            "0.49514563106796117  acuracy\n",
            "quadratic kappa  0.5897647854512662\n"
          ],
          "name": "stdout"
        },
        {
          "output_type": "display_data",
          "data": {
            "image/png": "[encoded data removed]",
            "text/plain": [
              "<Figure size 432x288 with 1 Axes>"
            ]
          },
          "metadata": {
            "tags": [],
            "needs_background": "light"
          }
        }
      ]
    },
    {
      "cell_type": "code",
      "metadata": {
        "id": "jQ1arohQY-nE"
      },
      "source": [
        "del train_images,train_labels\n",
        "del train_datagen"
      ],
      "execution_count": null,
      "outputs": []
    },
    {
      "cell_type": "code",
      "metadata": {
        "id": "WckI8C8YfVgl"
      },
      "source": [
        "del x,test_datagen,test_y_,pred_y_tta"
      ],
      "execution_count": null,
      "outputs": []
    },
    {
      "cell_type": "code",
      "metadata": {
        "id": "Oq_pweIsZhdb"
      },
      "source": [
        "test_datagen = ImageDataGenerator(\n",
        "    shear_range=0.0,\n",
        "    zoom_range=[0.75,1],\n",
        "    width_shift_range=1.1,\n",
        "    height_shift_range=0.05,\n",
        "    rotation_range=15,\n",
        "    fill_mode='nearest',\n",
        "    horizontal_flip=True,\n",
        "    vertical_flip=True)\n",
        "test_datagen.fit(test_images)\n",
        "pred_y_tta=np.zeros((102,5))\n",
        "x=test_datagen.flow(test_images,test_labels,batch_size=6)\n",
        "test_y_=np.zeros((102,5))"
      ],
      "execution_count": 93,
      "outputs": []
    },
    {
      "cell_type": "code",
      "metadata": {
        "id": "rrFa49dDZxVn",
        "colab": {
          "base_uri": "https://localhost:8080/",
          "height": 388
        },
        "outputId": "49c2eba6-a3fc-43d5-c55d-f995d3e9bc98"
      },
      "source": [
        "for i,(img,lbl) in enumerate(x):\n",
        "  #print(img.shape,lbl.shape)\n",
        "  pred_y_tta[6*i:6*i+6]=model.predict(img)\n",
        "  test_y_[6*i:6*i+6,:]=lbl\n",
        "  if i==16:\n",
        "    break\n",
        "cm=confusion_matrix(np.argmax(test_y_,axis=1),np.argmax(pred_y_tta,axis=1))\n",
        "print(cm)\n",
        "plt.imshow(cm, cmap='binary')\n",
        "score=accuracy_score(np.argmax(test_y_,axis=1),np.argmax(pred_y_tta,axis=1))\n",
        "print(score,\" accuracy\")\n",
        "print(\"quadratic kappa \",quadratic_kappa(np.argmax(pred_y_tta,axis=1),np.argmax(test_y_,axis=1)))"
      ],
      "execution_count": 98,
      "outputs": [
        {
          "output_type": "stream",
          "text": [
            "[[28  2  3  0  1]\n",
            " [ 2  2  1  0  0]\n",
            " [ 5  4 13  5  3]\n",
            " [ 2  0  4 12  1]\n",
            " [ 2  0  4  2  6]]\n",
            "0.5980392156862745  accuracy\n",
            "quadratic kappa  0.6500490127433133\n"
          ],
          "name": "stdout"
        },
        {
          "output_type": "display_data",
          "data": {
            "image/png": "[encoded data removed]",
            "text/plain": [
              "<Figure size 432x288 with 1 Axes>"
            ]
          },
          "metadata": {
            "tags": [],
            "needs_background": "light"
          }
        }
      ]
    },
    {
      "cell_type": "code",
      "metadata": {
        "colab": {
          "base_uri": "https://localhost:8080/",
          "height": 318
        },
        "id": "dU-XPBFMwMca",
        "outputId": "0574e97b-3045-4fda-a525-41ab9a499f42"
      },
      "source": [
        "plt.hist(np.argmax(test_y_,axis=1))"
      ],
      "execution_count": 97,
      "outputs": [
        {
          "output_type": "execute_result",
          "data": {
            "text/plain": [
              "(array([31.,  0., 12.,  0.,  0., 30.,  0., 18.,  0., 11.]),\n",
              " array([0. , 0.4, 0.8, 1.2, 1.6, 2. , 2.4, 2.8, 3.2, 3.6, 4. ]),\n",
              " <a list of 10 Patch objects>)"
            ]
          },
          "metadata": {
            "tags": []
          },
          "execution_count": 97
        },
        {
          "output_type": "display_data",
          "data": {
            "image/png": "[encoded data removed]",
            "text/plain": [
              "<Figure size 432x288 with 1 Axes>"
            ]
          },
          "metadata": {
            "tags": [],
            "needs_background": "light"
          }
        }
      ]
    },
    {
      "cell_type": "code",
      "metadata": {
        "id": "mN56S0nOecro",
        "colab": {
          "base_uri": "https://localhost:8080/"
        },
        "outputId": "815439e5-0e40-4af4-bceb-1b1d236b1f5e"
      },
      "source": [
        "test_y_[-2:],pred_y_tta[-2:]"
      ],
      "execution_count": 57,
      "outputs": [
        {
          "output_type": "execute_result",
          "data": {
            "text/plain": [
              "(array([[1., 0., 0., 0., 0.],\n",
              "        [0., 0., 1., 0., 0.]]),\n",
              " array([[0.75685525, 0.02656854, 0.20760806, 0.00734078, 0.0016275 ],\n",
              "        [0.25984338, 0.03923734, 0.49217466, 0.17607862, 0.03266602]]))"
            ]
          },
          "metadata": {
            "tags": []
          },
          "execution_count": 57
        }
      ]
    },
    {
      "cell_type": "code",
      "metadata": {
        "id": "tOt5_aVdhaXO",
        "colab": {
          "base_uri": "https://localhost:8080/"
        },
        "outputId": "49ba9676-3f89-4a0a-c0b2-bb72a4e4bde2"
      },
      "source": [
        "pred_y_tta.shape"
      ],
      "execution_count": 59,
      "outputs": [
        {
          "output_type": "execute_result",
          "data": {
            "text/plain": [
              "(102, 5)"
            ]
          },
          "metadata": {
            "tags": []
          },
          "execution_count": 59
        }
      ]
    },
    {
      "cell_type": "code",
      "metadata": {
        "id": "shOZraL91zhq"
      },
      "source": [
        ""
      ],
      "execution_count": 73,
      "outputs": []
    },
    {
      "cell_type": "code",
      "metadata": {
        "id": "TDIkHu1c13vb"
      },
      "source": [
        ""
      ],
      "execution_count": null,
      "outputs": []
    }
  ]
}