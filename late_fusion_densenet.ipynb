{
  "nbformat": 4,
  "nbformat_minor": 0,
  "metadata": {
    "colab": {
      "name": "late_fusion_densenet.ipynb",
      "provenance": [],
      "collapsed_sections": [],
      "include_colab_link": true
    },
    "kernelspec": {
      "name": "python3",
      "display_name": "Python 3"
    },
    "language_info": {
      "name": "python"
    },
    "accelerator": "GPU"
  },
  "cells": [
    {
      "cell_type": "markdown",
      "metadata": {
        "id": "view-in-github",
        "colab_type": "text"
      },
      "source": [
        "<a href=\"https://colab.research.google.com/github/varJATIN/Ocular-fundus-image-Analysis/blob/main/late_fusion_densenet.ipynb\" target=\"_parent\"><img src=\"https://colab.research.google.com/assets/colab-badge.svg\" alt=\"Open In Colab\"/></a>"
      ]
    },
    {
      "cell_type": "code",
      "metadata": {
        "id": "R56eJzH7TpT9"
      },
      "source": [
        "import os\n",
        "import sys\n",
        "import random\n",
        "import IPython\n",
        "\n",
        "from sklearn.utils import shuffle\n",
        "from sklearn.model_selection import train_test_split\n",
        "\n",
        "import numpy as np\n",
        "import pandas as pd\n",
        "import cv2\n",
        "import matplotlib.pyplot as plt\n",
        "from matplotlib.pyplot import imread\n",
        "\n",
        "import tensorflow as tf\n",
        "from tensorflow import keras\n",
        "\n",
        "from sklearn.utils import shuffle\n",
        "from sklearn.datasets import make_classification\n",
        "from sklearn.metrics import plot_confusion_matrix,confusion_matrix\n",
        "\n",
        "from matplotlib.pyplot import imread\n",
        "from cv2 import resize\n",
        "\n",
        "from keras import layers\n",
        "from keras.layers import Input, Add, Dense, Activation, ZeroPadding2D, BatchNormalization, Flatten, Conv2D, AveragePooling2D, MaxPooling2D, Dropout\n",
        "from keras.models import Model, load_model\n",
        "from keras.preprocessing import image\n",
        "from keras.utils import layer_utils\n",
        "from keras.utils.data_utils import get_file\n",
        "from keras.applications.imagenet_utils import preprocess_input\n",
        "import pydot\n",
        "from keras.utils.vis_utils import model_to_dot\n",
        "from keras.utils import plot_model\n",
        "from sklearn.preprocessing import OneHotEncoder\n",
        "\n",
        "from keras.initializers import glorot_uniform\n",
        "import scipy.misc\n",
        "from matplotlib.pyplot import imshow\n",
        "\n",
        "random.seed = 2\n",
        "#np.random.seed = 2\n",
        "tf.seed = 2\n",
        "tf.random.set_seed(2)"
      ],
      "execution_count": 1,
      "outputs": []
    },
    {
      "cell_type": "code",
      "metadata": {
        "id": "xRSLXUpbXIid",
        "colab": {
          "base_uri": "https://localhost:8080/"
        },
        "outputId": "00e0f2fd-776d-4cdc-f551-9126de2d0ac3"
      },
      "source": [
        "from google.colab import drive\n",
        "drive.mount('/content/drive')"
      ],
      "execution_count": 2,
      "outputs": [
        {
          "output_type": "stream",
          "text": [
            "Mounted at /content/drive\n"
          ],
          "name": "stdout"
        }
      ]
    },
    {
      "cell_type": "markdown",
      "metadata": {
        "id": "NsTMfRzmWydA"
      },
      "source": [
        "## Read, Split train_val & oversample train set\n"
      ]
    },
    {
      "cell_type": "code",
      "metadata": {
        "id": "GiiAamo7Wu4Z",
        "colab": {
          "base_uri": "https://localhost:8080/",
          "height": 197
        },
        "outputId": "36ab36d1-707d-4aae-b21e-78688883523b"
      },
      "source": [
        "dataset_images_location = \"/content/drive/My Drive/IDRid/B. Disease Grading/1. Original Images/a. Training Set\"\n",
        "dataset_groundtruth_location = \"/content/drive/MyDrive/IDRid/B. Disease Grading/2. Groundtruths/a. IDRiD_Disease Grading_Training Labels.csv\"\n",
        "\n",
        "df = pd.read_csv(dataset_groundtruth_location)\n",
        "df_ = pd.DataFrame();\n",
        "df_['Image name'] = df['Image name']\n",
        "\n",
        "df_['Retinopathy grade'] = df['Retinopathy grade']\n",
        "\n",
        "train_df, val_df = train_test_split(df_, test_size = 0.15, random_state = 25);\n",
        "train_df.head()"
      ],
      "execution_count": 3,
      "outputs": [
        {
          "output_type": "execute_result",
          "data": {
            "text/html": [
              "<div>\n",
              "<style scoped>\n",
              "    .dataframe tbody tr th:only-of-type {\n",
              "        vertical-align: middle;\n",
              "    }\n",
              "\n",
              "    .dataframe tbody tr th {\n",
              "        vertical-align: top;\n",
              "    }\n",
              "\n",
              "    .dataframe thead th {\n",
              "        text-align: right;\n",
              "    }\n",
              "</style>\n",
              "<table border=\"1\" class=\"dataframe\">\n",
              "  <thead>\n",
              "    <tr style=\"text-align: right;\">\n",
              "      <th></th>\n",
              "      <th>Image name</th>\n",
              "      <th>Retinopathy grade</th>\n",
              "    </tr>\n",
              "  </thead>\n",
              "  <tbody>\n",
              "    <tr>\n",
              "      <th>72</th>\n",
              "      <td>IDRiD_073</td>\n",
              "      <td>2</td>\n",
              "    </tr>\n",
              "    <tr>\n",
              "      <th>256</th>\n",
              "      <td>IDRiD_257</td>\n",
              "      <td>0</td>\n",
              "    </tr>\n",
              "    <tr>\n",
              "      <th>290</th>\n",
              "      <td>IDRiD_291</td>\n",
              "      <td>1</td>\n",
              "    </tr>\n",
              "    <tr>\n",
              "      <th>311</th>\n",
              "      <td>IDRiD_312</td>\n",
              "      <td>0</td>\n",
              "    </tr>\n",
              "    <tr>\n",
              "      <th>389</th>\n",
              "      <td>IDRiD_390</td>\n",
              "      <td>4</td>\n",
              "    </tr>\n",
              "  </tbody>\n",
              "</table>\n",
              "</div>"
            ],
            "text/plain": [
              "    Image name  Retinopathy grade\n",
              "72   IDRiD_073                  2\n",
              "256  IDRiD_257                  0\n",
              "290  IDRiD_291                  1\n",
              "311  IDRiD_312                  0\n",
              "389  IDRiD_390                  4"
            ]
          },
          "metadata": {
            "tags": []
          },
          "execution_count": 3
        }
      ]
    },
    {
      "cell_type": "code",
      "metadata": {
        "id": "LNyGiE1WXzYw",
        "colab": {
          "base_uri": "https://localhost:8080/",
          "height": 283
        },
        "outputId": "c9b499eb-6f2a-4507-e66d-b6d82ce0723a"
      },
      "source": [
        "val_df['Retinopathy grade'].hist()"
      ],
      "execution_count": 4,
      "outputs": [
        {
          "output_type": "execute_result",
          "data": {
            "text/plain": [
              "<matplotlib.axes._subplots.AxesSubplot at 0x7f0ed2cd83d0>"
            ]
          },
          "metadata": {
            "tags": []
          },
          "execution_count": 4
        },
        {
          "output_type": "display_data",
          "data": {
            "image/png": "[encoded data removed]",
            "text/plain": [
              "<Figure size 432x288 with 1 Axes>"
            ]
          },
          "metadata": {
            "tags": [],
            "needs_background": "light"
          }
        }
      ]
    },
    {
      "cell_type": "code",
      "metadata": {
        "id": "G3qr-lOfXsBf"
      },
      "source": [
        "def balance_data(class_size, df):\n",
        "    train_df = df.groupby(['Retinopathy grade']).apply(lambda x: x.sample(class_size, replace = True)).reset_index(drop = True)\n",
        "    train_df = train_df.sample(frac=1).reset_index(drop=True)\n",
        "    print('New Data Size:', train_df.shape[0], 'Old Size:', df.shape[0])\n",
        "    train_df['Retinopathy grade'].hist(figsize = (10, 5))\n",
        "    return train_df"
      ],
      "execution_count": 5,
      "outputs": []
    },
    {
      "cell_type": "code",
      "metadata": {
        "id": "S4tcksqqXwre",
        "colab": {
          "base_uri": "https://localhost:8080/",
          "height": 355
        },
        "outputId": "16794db2-8720-482c-aa30-46f2f0df0730"
      },
      "source": [
        "train_df = balance_data(train_df.pivot_table(index='Retinopathy grade', aggfunc=len).max().max(),train_df) # I will oversample such that all classes have the same number of images as the maximum\n",
        "train_df['Retinopathy grade'].hist(figsize = (10, 5))"
      ],
      "execution_count": 6,
      "outputs": [
        {
          "output_type": "stream",
          "text": [
            "New Data Size: 600 Old Size: 351\n"
          ],
          "name": "stdout"
        },
        {
          "output_type": "execute_result",
          "data": {
            "text/plain": [
              "<matplotlib.axes._subplots.AxesSubplot at 0x7f0ed249d390>"
            ]
          },
          "metadata": {
            "tags": []
          },
          "execution_count": 6
        },
        {
          "output_type": "display_data",
          "data": {
            "image/png": "[encoded data removed]",
            "text/plain": [
              "<Figure size 720x360 with 1 Axes>"
            ]
          },
          "metadata": {
            "tags": [],
            "needs_background": "light"
          }
        }
      ]
    },
    {
      "cell_type": "code",
      "metadata": {
        "id": "ZDnLOaZ1X2Sr",
        "colab": {
          "base_uri": "https://localhost:8080/"
        },
        "outputId": "85ebf5ae-208f-462f-c714-e9bcd43a3358"
      },
      "source": [
        "image_names = train_df['Image name'];\n",
        "im_size = 512;\n",
        "\n",
        "train_labels = [];\n",
        "for label in train_df['Retinopathy grade']:\n",
        "    for i in range(2): # 2 times for data augmentation\n",
        "      train_labels.append(label)\n",
        "\n",
        "print(\"len of labels \",len(train_labels))\n",
        "\n",
        "train_images= np.zeros((2*len(train_df['Image name']),im_size,im_size,3))\n",
        "\n",
        "index=0\n",
        "for image_name in image_names:\n",
        "    #read image\n",
        "    img = imread(dataset_images_location + '/' + image_name + \".jpg\");\n",
        "    img = cv2.resize(img, (im_size, im_size));\n",
        "    #load into array\n",
        "    train_images[index,:,:,0:3] = img\n",
        "\n",
        "    #rot 180\n",
        "    train_images[index + 1] = np.rot90(np.rot90(img))\n",
        "    \n",
        "    index = index + 2\n",
        "\n",
        "train_images = train_images.astype('float32') / np.max(train_images)\n",
        "train_labels = np.array(train_labels, ndmin = 2)\n",
        "train_labels = np.transpose(train_labels)\n",
        "\n",
        "enc = OneHotEncoder(categories='auto', drop=None, sparse=False, dtype = np.int, handle_unknown='error')\n",
        "enc.fit(train_labels)\n",
        "train_labels = enc.transform(train_labels)\n",
        "\n",
        "print(train_images.shape)\n",
        "print(train_labels.shape) \n",
        "train_labels[0:5]"
      ],
      "execution_count": 7,
      "outputs": [
        {
          "output_type": "stream",
          "text": [
            "len of labels  1200\n",
            "(1200, 512, 512, 3)\n",
            "(1200, 5)\n"
          ],
          "name": "stdout"
        },
        {
          "output_type": "execute_result",
          "data": {
            "text/plain": [
              "array([[0, 0, 0, 0, 1],\n",
              "       [0, 0, 0, 0, 1],\n",
              "       [0, 0, 1, 0, 0],\n",
              "       [0, 0, 1, 0, 0],\n",
              "       [0, 0, 0, 1, 0]])"
            ]
          },
          "metadata": {
            "tags": []
          },
          "execution_count": 7
        }
      ]
    },
    {
      "cell_type": "code",
      "metadata": {
        "id": "ZXCiTunxYFHI"
      },
      "source": [
        "from tensorflow.keras.preprocessing.image import ImageDataGenerator\n",
        "train_datagen = ImageDataGenerator(\n",
        "    shear_range=0.0,\n",
        "    zoom_range=[0.75,1],\n",
        "    #brightness_range=[0.,0.01],\n",
        "    #zca_whitening\t=True,\n",
        "    width_shift_range=1.1,\n",
        "    height_shift_range=0.05,\n",
        "    rotation_range=15,\n",
        "    fill_mode='nearest',\n",
        "    horizontal_flip=True,\n",
        "    vertical_flip=True)\n",
        "train_datagen.fit(train_images)"
      ],
      "execution_count": 8,
      "outputs": []
    },
    {
      "cell_type": "markdown",
      "metadata": {
        "id": "CgZsQfELYF99"
      },
      "source": [
        "## Read test_df\n"
      ]
    },
    {
      "cell_type": "code",
      "metadata": {
        "id": "H56u-I1AYL5T",
        "colab": {
          "base_uri": "https://localhost:8080/"
        },
        "outputId": "b0f46861-80ea-4dd8-ded6-6c6c9c648b67"
      },
      "source": [
        "test_images_location = \"/content/drive/My Drive/IDRid/B. Disease Grading/1. Original Images/b. Testing Set\"\n",
        "test_groundtruth_location = \"/content/drive/MyDrive/IDRid/B. Disease Grading/2. Groundtruths/b. IDRiD_Disease Grading_Testing Labels.csv\"\n",
        "\n",
        "test_df = pd.read_csv(test_groundtruth_location)\n",
        "test_df_ = pd.DataFrame();\n",
        "test_df_['Image name'] = test_df['Image name']\n",
        "test_df_['Retinopathy grade'] = test_df['Retinopathy grade']\n",
        "test_df = test_df_\n",
        "print(test_df.head())"
      ],
      "execution_count": 19,
      "outputs": [
        {
          "output_type": "stream",
          "text": [
            "  Image name  Retinopathy grade\n",
            "0  IDRiD_001                  4\n",
            "1  IDRiD_002                  4\n",
            "2  IDRiD_003                  4\n",
            "3  IDRiD_004                  4\n",
            "4  IDRiD_005                  4\n"
          ],
          "name": "stdout"
        }
      ]
    },
    {
      "cell_type": "code",
      "metadata": {
        "colab": {
          "base_uri": "https://localhost:8080/",
          "height": 283
        },
        "id": "ng7pzZCycN4u",
        "outputId": "de6fdd73-0e90-4a0f-da94-2d4d827fe66d"
      },
      "source": [
        "test_df['Retinopathy grade'].hist()"
      ],
      "execution_count": 20,
      "outputs": [
        {
          "output_type": "execute_result",
          "data": {
            "text/plain": [
              "<matplotlib.axes._subplots.AxesSubplot at 0x7f0e7c6ef790>"
            ]
          },
          "metadata": {
            "tags": []
          },
          "execution_count": 20
        },
        {
          "output_type": "display_data",
          "data": {
            "image/png": "[encoded data removed]",
            "text/plain": [
              "<Figure size 432x288 with 1 Axes>"
            ]
          },
          "metadata": {
            "tags": [],
            "needs_background": "light"
          }
        }
      ]
    },
    {
      "cell_type": "code",
      "metadata": {
        "id": "CddZqHRtYQfD",
        "colab": {
          "base_uri": "https://localhost:8080/"
        },
        "outputId": "9f810566-8b29-4cda-8b1c-c082d8e1d632"
      },
      "source": [
        "test_image_names = [];\n",
        "test_image_names = test_df['Image name'];\n",
        "print(\"len of test set \",len(test_image_names))\n",
        "im_size = 512;\n",
        "\n",
        "test_labels = [];\n",
        "test_labels = test_df['Retinopathy grade'];\n",
        "\n",
        "test_images = []\n",
        "for image_name in test_image_names:\n",
        "    img = cv2.imread(test_images_location + '/' + image_name + \".jpg\");\n",
        "    img = cv2.resize(img, (im_size, im_size));\n",
        "    test_images.append(img);\n",
        "\n",
        "test_images = np.array(test_images)\n",
        "test_images = test_images.astype('float32') / np.max(test_images)\n",
        "test_labels = np.array(test_labels, ndmin = 2)\n",
        "test_labels = np.transpose(test_labels)\n",
        "\n",
        "test_labels = enc.transform(test_labels)\n",
        "\n",
        "print(test_images.shape)\n",
        "print(test_labels.shape) "
      ],
      "execution_count": 21,
      "outputs": [
        {
          "output_type": "stream",
          "text": [
            "len of test set  103\n",
            "(103, 512, 512, 3)\n",
            "(103, 5)\n"
          ],
          "name": "stdout"
        }
      ]
    },
    {
      "cell_type": "code",
      "metadata": {
        "id": "GNrZzFL7YUZq",
        "colab": {
          "base_uri": "https://localhost:8080/"
        },
        "outputId": "9fa92d12-528a-4c71-9988-0460b9e6f581"
      },
      "source": [
        "val_image_names = [];\n",
        "val_image_names = val_df['Image name'];\n",
        "print(\"len of val set \",len(val_image_names))\n",
        "im_size = 512;\n",
        "\n",
        "val_labels = [];\n",
        "val_labels = val_df['Retinopathy grade'];\n",
        "\n",
        "val_images = []\n",
        "for image_name in val_image_names:\n",
        "    img = cv2.imread(dataset_images_location + '/' + image_name + \".jpg\");\n",
        "    img = cv2.resize(img, (im_size, im_size));\n",
        "    val_images.append(img);\n",
        "\n",
        "val_images = np.array(val_images)\n",
        "val_images = val_images.astype('float32') / np.max(val_images)\n",
        "val_labels = np.array(val_labels, ndmin = 2)\n",
        "val_labels = np.transpose(val_labels)\n",
        "\n",
        "#use encoder fitted on train data for both val and test data\n",
        "val_labels = enc.transform(val_labels)\n",
        "\n",
        "print(val_images.shape)\n",
        "print(val_labels.shape) "
      ],
      "execution_count": 9,
      "outputs": [
        {
          "output_type": "stream",
          "text": [
            "len of val set  62\n",
            "(62, 512, 512, 3)\n",
            "(62, 5)\n"
          ],
          "name": "stdout"
        }
      ]
    },
    {
      "cell_type": "code",
      "metadata": {
        "id": "1MVRTsgqImVs"
      },
      "source": [
        "val_datagen = ImageDataGenerator(\n",
        "    shear_range=0.0,\n",
        "    zoom_range=[0.75,1],\n",
        "    width_shift_range=1.1,\n",
        "    height_shift_range=0.05,\n",
        "    rotation_range=15,\n",
        "    fill_mode='nearest',\n",
        "    horizontal_flip=True,\n",
        "    vertical_flip=True)\n",
        "val_datagen.fit(val_images)"
      ],
      "execution_count": 10,
      "outputs": []
    },
    {
      "cell_type": "code",
      "metadata": {
        "id": "MMQT_8peYegH",
        "colab": {
          "base_uri": "https://localhost:8080/"
        },
        "outputId": "006cbfb4-fc84-4f17-f8d9-3d3666aabe46"
      },
      "source": [
        "from sklearn.utils import shuffle\n",
        "train_images, train_labels = shuffle(train_images, train_labels, random_state = 1)\n",
        "# If train and test are from respective sets\n",
        "print(\"train x size \",train_images.shape)\n",
        "print(\"train y size \",train_labels.shape)\n",
        "print(\"test x size \",test_images.shape)\n",
        "print(\"test y size \",test_labels.shape)\n",
        "print(\"val x size \",val_images.shape)\n",
        "print(\"val y size \",val_labels.shape)"
      ],
      "execution_count": null,
      "outputs": [
        {
          "output_type": "stream",
          "text": [
            "train x size  (1200, 512, 512, 3)\n",
            "train y size  (1200, 5)\n",
            "test x size  (103, 512, 512, 3)\n",
            "test y size  (103, 5)\n",
            "val x size  (42, 512, 512, 3)\n",
            "val y size  (42, 5)\n"
          ],
          "name": "stdout"
        }
      ]
    },
    {
      "cell_type": "code",
      "metadata": {
        "id": "x0EgVEcFct7X",
        "colab": {
          "base_uri": "https://localhost:8080/",
          "height": 264
        },
        "outputId": "a810cb37-df49-4034-cafd-a39587b13986"
      },
      "source": [
        "for i in range(9):\n",
        "  ax=plt.subplot(3,3,i+1)\n",
        "  plt.imshow(train_images[2*i+1])\n",
        "  plt.title(\"{}\".format(np.argmax(train_labels[2*i+1]))) \n",
        "  plt.axis('off')"
      ],
      "execution_count": 13,
      "outputs": [
        {
          "output_type": "display_data",
          "data": {
            "image/png": "[encoded data removed]",
            "text/plain": [
              "<Figure size 432x288 with 9 Axes>"
            ]
          },
          "metadata": {
            "tags": [],
            "needs_background": "light"
          }
        }
      ]
    },
    {
      "cell_type": "code",
      "metadata": {
        "colab": {
          "base_uri": "https://localhost:8080/",
          "height": 264
        },
        "id": "L4S6mXct4Ryj",
        "outputId": "1130c13e-da54-4dd7-bb11-f953eae71f68"
      },
      "source": [
        "x=train_datagen.flow(train_images, train_labels,batch_size=9,shuffle=True)\n",
        "for i,(img,lbl) in enumerate(x):\n",
        "  for j in range(9):\n",
        "    ax=plt.subplot(3,3,j+1)  \n",
        "    plt.imshow(img[j])\n",
        "    plt.title(\"{}\".format(np.argmax(lbl[j]))) \n",
        "    plt.axis('off')\n",
        "  break\n",
        "del x"
      ],
      "execution_count": 29,
      "outputs": [
        {
          "output_type": "display_data",
          "data": {
            "image/png": "[encoded data removed]",
            "text/plain": [
              "<Figure size 432x288 with 9 Axes>"
            ]
          },
          "metadata": {
            "tags": [],
            "needs_background": "light"
          }
        }
      ]
    },
    {
      "cell_type": "code",
      "metadata": {
        "id": "uMlPKA68YoGb"
      },
      "source": [
        "from keras.models import Sequential\n",
        "from tensorflow.keras.applications.densenet import DenseNet121#,Resnet50\n",
        "from keras.models import Model"
      ],
      "execution_count": 11,
      "outputs": []
    },
    {
      "cell_type": "markdown",
      "metadata": {
        "id": "Mb_ARf8b-Q91"
      },
      "source": [
        "## Load Segmentation model \n"
      ]
    },
    {
      "cell_type": "code",
      "metadata": {
        "id": "OmTjutGCKR8r"
      },
      "source": [
        "from tensorflow.keras.models import model_from_json\n",
        "\n",
        "def load_seg_model(model_name):\n",
        "    \"\"\"\n",
        "    loads the pretrained seg model of given lesion\n",
        "    \"\"\"\n",
        "    # # load json and create model\n",
        "    json_file = open('/content/drive/MyDrive/IDRid/{}.json'.format(model_name), 'r')\n",
        "    loaded_model_json = json_file.read()\n",
        "    json_file.close()\n",
        "    loaded_model = model_from_json(loaded_model_json)\n",
        "\n",
        "    # # load weights into new model\n",
        "    loaded_model.load_weights(\"/content/drive/MyDrive/IDRid/{}.h5\".format(model_name))\n",
        "    # print(\"Loaded model from disk\")\n",
        "\n",
        "    # # evaluate loaded model on test data\n",
        "    loaded_model.compile()\n",
        "    print(model_name,\" Model loaded and compiled\")\n",
        "    return loaded_model"
      ],
      "execution_count": 12,
      "outputs": []
    },
    {
      "cell_type": "code",
      "metadata": {
        "id": "KPTSnf07_pjM"
      },
      "source": [
        "def build_model(num_classes):\n",
        "    random.seed = 1337\n",
        "    tf.seed = 1337\n",
        "    tf.random.set_seed(1337)\n",
        "    \n",
        "    IMG_SIZE=224\n",
        "    NUM_CLASSES=num_classes\n",
        "    # define inputs\n",
        "    input_0 =layers.Input(shape=(512,512, 3))\n",
        "    input_1=tf.keras.layers.experimental.preprocessing.Resizing(IMG_SIZE,IMG_SIZE,  name='resize_densenet')(input_0)\n",
        "    #input_0_ma  =tf.keras.layers.experimental.preprocessing.Resizing(640,640,  name='resize_ma')(input_0)\n",
        "    #input_1 = layers.Input(shape=(IMG_SIZE, IMG_SIZE, 3))\n",
        "    \n",
        "    #input_ex=layers.Input(shape=(512,512,1))\n",
        "    #input_se=layers.Input(shape=(512,512,1))\n",
        "    #input_ma=layers.Input(shape=(640,640,1))\n",
        "    \n",
        "    base_model = DenseNet121(include_top=False, input_tensor=input_1, weights=\"imagenet\")\n",
        "    ex_model=load_seg_model(\"model_EX\")\n",
        "    ma_model=load_seg_model(\"model_MA\")\n",
        "    se_model=load_seg_model(\"model_SE\")\n",
        "    he_model=load_seg_model(\"model_HE\")\n",
        "    # Freeze the pretrained weights\n",
        "    base_model.trainable = False\n",
        "    ex_model.trainable=False\n",
        "    se_model.trainable=False\n",
        "    ma_model.trainable=False\n",
        "    he_model.trainable=False\n",
        "    ex_model._name='model_ex'\n",
        "    ma_model._name='model_ma'\n",
        "    se_model._name='model_se'\n",
        "    he_model._name='model_he'\n",
        "    for layer in he_model.layers:\n",
        "      layer._name = layer.name + '_he'\n",
        "    for layer in se_model.layers:\n",
        "      layer._name = layer.name + '_se'\n",
        "    for layer in ex_model.layers:\n",
        "      layer._name = layer.name + '_ex'\n",
        "    for layer in ma_model.layers:\n",
        "      layer._name = layer.name + '_ma'\n",
        "    #pass image for lesion\n",
        "    les_ex=ex_model(input_0)\n",
        "    les_se=se_model(input_0)\n",
        "    les_ma=ma_model(input_0)\n",
        "    les_he=he_model(input_0)\n",
        "    #les_ma=tf.keras.layers.experimental.preprocessing.Resizing(640,640,  name='resize_ma')(les_ma)\n",
        "    lesions=layers.Concatenate()([input_0,les_ex,les_se,les_ma,les_he])\n",
        "    #block1\n",
        "    f_lesions=Conv2D(16,3,strides=(1,1),padding='same')(lesions)\n",
        "    f_lesions=layers.BatchNormalization(name='1_bn')(f_lesions)\n",
        "    f_lesions=layers.Activation('relu')(f_lesions)\n",
        "    f_lesions=MaxPooling2D()(f_lesions)\n",
        "    #block2\n",
        "    f_lesions=Conv2D(32,3,strides=(1,1),padding='same')(f_lesions)\n",
        "    f_lesions=layers.BatchNormalization(name='2_bn')(f_lesions)\n",
        "    f_lesions=layers.Activation('relu')(f_lesions)\n",
        "    f_lesions=MaxPooling2D()(f_lesions)\n",
        "    #block3\n",
        "    f_lesions=Conv2D(64,3,strides=(1,1),padding='same')(f_lesions)\n",
        "    f_lesions=layers.BatchNormalization(name='3_bn')(f_lesions)\n",
        "    f_lesions=layers.Activation('relu')(f_lesions)\n",
        "    f_lesions=MaxPooling2D()(f_lesions)\n",
        "    #block4\n",
        "    f_lesions=Conv2D(64,3,strides=(1,1),padding='same')(f_lesions)\n",
        "    f_lesions=layers.BatchNormalization(name='5_bn')(f_lesions)\n",
        "    f_lesions=layers.Activation('relu')(f_lesions)\n",
        "    f_lesions=MaxPooling2D()(f_lesions)\n",
        "    #block5\n",
        "    f_lesions=Conv2D(64,3,strides=(1,1),padding='same')(f_lesions)\n",
        "    f_lesions=layers.BatchNormalization(name='6_bn')(f_lesions)\n",
        "    f_lesions=layers.Activation('relu',)(f_lesions)\n",
        "    f_lesions=MaxPooling2D()(f_lesions)\n",
        "    #block6\n",
        "    f_lesions=Conv2D(64,3,strides=(1,1),padding='valid')(f_lesions)\n",
        "    f_lesions=layers.BatchNormalization(name='7_bn')(f_lesions)\n",
        "    f_lesions=layers.Activation('relu')(f_lesions)\n",
        "    f_lesions=MaxPooling2D()(f_lesions)\n",
        "    \n",
        "    #f_lesions=layers.GlobalMaxPooling2D()(f_lesions)\n",
        "    #print(f_lesions.shape)\n",
        "    #x=layers.GlobalMaxPooling2D()(model.output)\n",
        "    x=layers.Concatenate()([base_model.output,f_lesions])\n",
        "    # Rebuild top\n",
        "    x = Flatten(name=\"flatten\")(x)\n",
        "    \n",
        "    top_dropout_rate = 0.2\n",
        "    x = Dropout(top_dropout_rate, name=\"top_dropout_1\")(x)\n",
        "    x = Dense(256, activation=\"relu\", name=\"last_dense_1\")(x)\n",
        "    x = Dropout(top_dropout_rate, name=\"top_dropout_2\")(x)\n",
        "    x = Dense(256, activation=\"relu\", name=\"last_dense_2\")(x)\n",
        "    outputs = Dense(NUM_CLASSES, activation=\"softmax\", name=\"pred\")(x)\n",
        "\n",
        "    # Compile\n",
        "    model = tf.keras.Model(input_0, outputs, name=\"Segnet\")\n",
        "    optimizer = tf.keras.optimizers.Adam(learning_rate=1e-4,beta_1=0.9)\n",
        "    model.compile(\n",
        "        optimizer=optimizer, loss=\"categorical_crossentropy\", metrics=[\"accuracy\"]\n",
        "    )\n",
        "    return model"
      ],
      "execution_count": 13,
      "outputs": []
    },
    {
      "cell_type": "code",
      "metadata": {
        "colab": {
          "base_uri": "https://localhost:8080/"
        },
        "id": "ZRIFcWk2Kotu",
        "outputId": "f695ac0c-7222-4ed4-d7bd-5340bdf39d14"
      },
      "source": [
        "random.seed = 1337\n",
        "tf.seed = 1337\n",
        "tf.random.set_seed(1337)\n",
        "model=build_model(5)"
      ],
      "execution_count": 14,
      "outputs": [
        {
          "output_type": "stream",
          "text": [
            "Downloading data from https://storage.googleapis.com/tensorflow/keras-applications/densenet/densenet121_weights_tf_dim_ordering_tf_kernels_notop.h5\n",
            "29089792/29084464 [==============================] - 0s 0us/step\n",
            "model_EX  Model loaded and compiled\n",
            "model_MA  Model loaded and compiled\n",
            "model_SE  Model loaded and compiled\n",
            "model_HE  Model loaded and compiled\n"
          ],
          "name": "stdout"
        }
      ]
    },
    {
      "cell_type": "code",
      "metadata": {
        "id": "TSKp_gY5Cweq"
      },
      "source": [
        "from keras.utils.layer_utils import count_params\n",
        "trainable_count = count_params(model.trainable_weights)\n",
        "non_trainable_count = count_params(model.non_trainable_weights)\n",
        "\n",
        "print('Total params: {:,}'.format(trainable_count + non_trainable_count))\n",
        "print('Trainable params: {:,}'.format(trainable_count))\n",
        "print('Non-trainable params: {:,}'.format(non_trainable_count))"
      ],
      "execution_count": null,
      "outputs": []
    },
    {
      "cell_type": "code",
      "metadata": {
        "id": "gt7iQMw3OOuX"
      },
      "source": [
        "plot_model(\n",
        "    model,\n",
        "    to_file=\"model.png\",\n",
        "    show_shapes=False,\n",
        "    show_dtype=False,\n",
        "    show_layer_names=True,\n",
        "    rankdir=\"TB\",\n",
        "    expand_nested=False,\n",
        "    dpi=96,\n",
        ")"
      ],
      "execution_count": null,
      "outputs": []
    },
    {
      "cell_type": "code",
      "metadata": {
        "colab": {
          "base_uri": "https://localhost:8080/"
        },
        "id": "eNuxR4wvDBiO",
        "outputId": "f2074785-3a25-493d-e95e-a9a74480105a"
      },
      "source": [
        "random.seed = 1337\n",
        "tf.seed = 1337\n",
        "tf.random.set_seed(1337)\n",
        "early_stopping= tf.keras.callbacks.EarlyStopping(monitor = 'accuracy', min_delta = 0.01, patience = 6)\n",
        "hist=model.fit(train_datagen.flow(train_images, train_labels,batch_size=6,shuffle=True),steps_per_epoch=len(train_images) / 6,\n",
        "               epochs = 50, callbacks = [early_stopping],validation_data=val_datagen.flow(val_images,val_labels,batch_size=6));"
      ],
      "execution_count": 15,
      "outputs": [
        {
          "output_type": "stream",
          "text": [
            "Epoch 1/50\n",
            "200/200 [==============================] - 173s 596ms/step - loss: 2.0144 - accuracy: 0.3820 - val_loss: 1.7363 - val_accuracy: 0.2258\n",
            "Epoch 2/50\n",
            "200/200 [==============================] - 114s 571ms/step - loss: 1.0998 - accuracy: 0.5397 - val_loss: 1.9808 - val_accuracy: 0.3710\n",
            "Epoch 3/50\n",
            "200/200 [==============================] - 115s 573ms/step - loss: 1.0177 - accuracy: 0.5503 - val_loss: 1.2504 - val_accuracy: 0.5000\n",
            "Epoch 4/50\n",
            "200/200 [==============================] - 115s 573ms/step - loss: 0.9354 - accuracy: 0.5959 - val_loss: 1.2323 - val_accuracy: 0.4516\n",
            "Epoch 5/50\n",
            "200/200 [==============================] - 115s 572ms/step - loss: 0.8187 - accuracy: 0.6434 - val_loss: 1.3553 - val_accuracy: 0.5323\n",
            "Epoch 6/50\n",
            "200/200 [==============================] - 115s 573ms/step - loss: 0.8121 - accuracy: 0.6610 - val_loss: 1.3604 - val_accuracy: 0.4355\n",
            "Epoch 7/50\n",
            "200/200 [==============================] - 115s 573ms/step - loss: 0.7079 - accuracy: 0.7362 - val_loss: 1.1838 - val_accuracy: 0.5161\n",
            "Epoch 8/50\n",
            "200/200 [==============================] - 115s 572ms/step - loss: 0.7241 - accuracy: 0.6981 - val_loss: 1.9014 - val_accuracy: 0.4032\n",
            "Epoch 9/50\n",
            "200/200 [==============================] - 115s 571ms/step - loss: 0.5965 - accuracy: 0.7709 - val_loss: 1.6054 - val_accuracy: 0.5000\n",
            "Epoch 10/50\n",
            "200/200 [==============================] - 115s 573ms/step - loss: 0.5497 - accuracy: 0.7816 - val_loss: 1.7635 - val_accuracy: 0.4677\n",
            "Epoch 11/50\n",
            "200/200 [==============================] - 115s 572ms/step - loss: 0.5496 - accuracy: 0.7756 - val_loss: 1.7938 - val_accuracy: 0.4677\n",
            "Epoch 12/50\n",
            "200/200 [==============================] - 115s 573ms/step - loss: 0.5546 - accuracy: 0.7912 - val_loss: 1.8789 - val_accuracy: 0.4839\n",
            "Epoch 13/50\n",
            "200/200 [==============================] - 115s 574ms/step - loss: 0.4888 - accuracy: 0.8087 - val_loss: 1.4801 - val_accuracy: 0.5161\n",
            "Epoch 14/50\n",
            "200/200 [==============================] - 115s 573ms/step - loss: 0.4121 - accuracy: 0.8530 - val_loss: 2.5681 - val_accuracy: 0.4355\n",
            "Epoch 15/50\n",
            "200/200 [==============================] - 115s 573ms/step - loss: 0.4807 - accuracy: 0.8065 - val_loss: 2.2617 - val_accuracy: 0.4194\n",
            "Epoch 16/50\n",
            "200/200 [==============================] - 115s 573ms/step - loss: 0.4476 - accuracy: 0.8422 - val_loss: 1.4729 - val_accuracy: 0.5323\n",
            "Epoch 17/50\n",
            "200/200 [==============================] - 115s 573ms/step - loss: 0.3916 - accuracy: 0.8616 - val_loss: 1.7289 - val_accuracy: 0.5323\n",
            "Epoch 18/50\n",
            "200/200 [==============================] - 115s 572ms/step - loss: 0.4183 - accuracy: 0.8277 - val_loss: 2.3939 - val_accuracy: 0.4839\n",
            "Epoch 19/50\n",
            "200/200 [==============================] - 115s 573ms/step - loss: 0.3568 - accuracy: 0.8580 - val_loss: 3.1189 - val_accuracy: 0.3871\n",
            "Epoch 20/50\n",
            "200/200 [==============================] - 115s 572ms/step - loss: 0.4058 - accuracy: 0.8337 - val_loss: 2.1527 - val_accuracy: 0.5484\n",
            "Epoch 21/50\n",
            "200/200 [==============================] - 115s 572ms/step - loss: 0.3266 - accuracy: 0.8786 - val_loss: 2.7917 - val_accuracy: 0.5161\n",
            "Epoch 22/50\n",
            "200/200 [==============================] - 115s 573ms/step - loss: 0.4130 - accuracy: 0.8449 - val_loss: 2.6345 - val_accuracy: 0.5484\n",
            "Epoch 23/50\n",
            "200/200 [==============================] - 115s 574ms/step - loss: 0.3251 - accuracy: 0.8804 - val_loss: 2.3617 - val_accuracy: 0.4677\n",
            "Epoch 24/50\n",
            "200/200 [==============================] - 115s 572ms/step - loss: 0.3369 - accuracy: 0.8687 - val_loss: 2.9764 - val_accuracy: 0.5323\n",
            "Epoch 25/50\n",
            "200/200 [==============================] - 115s 574ms/step - loss: 0.3149 - accuracy: 0.8825 - val_loss: 3.1684 - val_accuracy: 0.5323\n",
            "Epoch 26/50\n",
            "200/200 [==============================] - 115s 573ms/step - loss: 0.2902 - accuracy: 0.8906 - val_loss: 2.6374 - val_accuracy: 0.5323\n",
            "Epoch 27/50\n",
            "200/200 [==============================] - 115s 573ms/step - loss: 0.4069 - accuracy: 0.8439 - val_loss: 2.8184 - val_accuracy: 0.5806\n"
          ],
          "name": "stdout"
        }
      ]
    },
    {
      "cell_type": "code",
      "metadata": {
        "colab": {
          "base_uri": "https://localhost:8080/",
          "height": 370
        },
        "id": "uwFjYjXuaWIv",
        "outputId": "cd9cd222-fa42-44a2-abf1-44df4c7ab739"
      },
      "source": [
        "from sklearn.metrics import precision_score,accuracy_score\n",
        "pred_y_=np.zeros((val_labels.shape))\n",
        "for i in range(7):\n",
        "  pred_y_[6*i:6*i+6]=model.predict(val_images[6*i:6*i+6])\n",
        "cm=confusion_matrix(np.argmax(val_labels,axis=1),np.argmax(pred_y_,axis=1))\n",
        "print(cm)\n",
        "plt.imshow(cm, cmap='binary')\n",
        "print(accuracy_score(np.argmax(val_labels,axis=1),np.argmax(pred_y_,axis=1)),\" accuracy\")"
      ],
      "execution_count": 16,
      "outputs": [
        {
          "output_type": "stream",
          "text": [
            "[[22  0  0  0  0]\n",
            " [ 4  0  0  0  0]\n",
            " [10  0  0  6  0]\n",
            " [ 9  0  0  8  0]\n",
            " [ 1  0  0  2  0]]\n",
            "0.4838709677419355  accuracy\n"
          ],
          "name": "stdout"
        },
        {
          "output_type": "display_data",
          "data": {
            "image/png": "[encoded data removed]",
            "text/plain": [
              "<Figure size 432x288 with 1 Axes>"
            ]
          },
          "metadata": {
            "tags": [],
            "needs_background": "light"
          }
        }
      ]
    },
    {
      "cell_type": "code",
      "metadata": {
        "id": "jQ1arohQY-nE"
      },
      "source": [
        "del train_images,train_labels,val_images,val_labels"
      ],
      "execution_count": 17,
      "outputs": []
    },
    {
      "cell_type": "code",
      "metadata": {
        "id": "4GA4taOUE2nL",
        "colab": {
          "base_uri": "https://localhost:8080/",
          "height": 573
        },
        "outputId": "372d9b23-4648-4df1-c38a-c1309fc8acf9"
      },
      "source": [
        "plt.plot(hist.history[\"loss\"])\n",
        "plt.plot(hist.history[\"val_loss\"])\n",
        "plt.title(\"Loss plot\")\n",
        "plt.ylabel(\"Loss\")\n",
        "plt.xlabel(\"epoch\")\n",
        "plt.show()\n",
        "\n",
        "plt.plot(hist.history[\"accuracy\"])\n",
        "plt.plot(hist.history[\"val_accuracy\"])\n",
        "plt.title(\"model accuracy\")\n",
        "plt.ylabel(\"accuracy\")\n",
        "plt.xlabel(\"epoch\")\n",
        "plt.legend([\"train\", \"validation\"], loc=\"upper left\")\n",
        "plt.show()"
      ],
      "execution_count": 18,
      "outputs": [
        {
          "output_type": "display_data",
          "data": {
            "image/png": "[encoded data removed]",
            "text/plain": [
              "<Figure size 432x288 with 1 Axes>"
            ]
          },
          "metadata": {
            "tags": [],
            "needs_background": "light"
          }
        },
        {
          "output_type": "display_data",
          "data": {
            "image/png": "[encoded data removed]",
            "text/plain": [
              "<Figure size 432x288 with 1 Axes>"
            ]
          },
          "metadata": {
            "tags": [],
            "needs_background": "light"
          }
        }
      ]
    },
    {
      "cell_type": "code",
      "metadata": {
        "colab": {
          "base_uri": "https://localhost:8080/",
          "height": 370
        },
        "id": "-ySXYdPrRNR2",
        "outputId": "a8182a57-2dd8-4883-b608-f54db39c15e1"
      },
      "source": [
        "#preds = model.evaluate(test_images, test_labels)\n",
        "#print(\"Loss = \" + str(preds[0]))\n",
        "#print(\"Test accuracy = \" + str(preds[1]))\n",
        "pred_y_=np.zeros((test_labels.shape))\n",
        "for i in range(15):\n",
        "  pred_y_[6*i:6*i+6]=model.predict(test_images[6*i:6*i+6])\n",
        "cm=confusion_matrix(np.argmax(test_labels,axis=1),np.argmax(pred_y_,axis=1))\n",
        "print(cm)\n",
        "plt.imshow(cm, cmap='binary')\n",
        "score=accuracy_score(np.argmax(test_labels,axis=1),np.argmax(pred_y_,axis=1))\n",
        "print(score,\" acuracy\")"
      ],
      "execution_count": 22,
      "outputs": [
        {
          "output_type": "stream",
          "text": [
            "[[34  0  0  0  0]\n",
            " [ 5  0  0  0  0]\n",
            " [15  0  0 17  0]\n",
            " [ 6  0  0 13  0]\n",
            " [ 3  0  1  8  1]]\n",
            "0.46601941747572817  acuracy\n"
          ],
          "name": "stdout"
        },
        {
          "output_type": "display_data",
          "data": {
            "image/png": "[encoded data removed]",
            "text/plain": [
              "<Figure size 432x288 with 1 Axes>"
            ]
          },
          "metadata": {
            "tags": [],
            "needs_background": "light"
          }
        }
      ]
    },
    {
      "cell_type": "markdown",
      "metadata": {
        "id": "vs25uvuZQLTK"
      },
      "source": [
        "## unfreeze and train"
      ]
    },
    {
      "cell_type": "code",
      "metadata": {
        "id": "Jr96w2WVSadY"
      },
      "source": [
        "count=0\n",
        "model.trainable=True\n",
        "for layer in model.layers:\n",
        "  if layer.name[-2:]=='bn':\n",
        "    layer.trainable=False\n",
        "    count+=1\n",
        "print(count,\" layers of bn freezed\")\n",
        "trainable_count = count_params(model.trainable_weights)\n",
        "non_trainable_count = count_params(model.non_trainable_weights)\n",
        "\n",
        "print('Total params: {:,}'.format(trainable_count + non_trainable_count))\n",
        "print('Trainable params: {:,}'.format(trainable_count))\n",
        "print('Non-trainable params: {:,}'.format(non_trainable_count))"
      ],
      "execution_count": null,
      "outputs": []
    },
    {
      "cell_type": "code",
      "metadata": {
        "colab": {
          "base_uri": "https://localhost:8080/",
          "height": 238
        },
        "id": "lOaZ3fRSQb_N",
        "outputId": "aaec683d-4f46-446a-f6d5-6de18fe2235a"
      },
      "source": [
        "random.seed = 2\n",
        "tf.seed = 2\n",
        "tf.random.set_seed(2)\n",
        "opt = keras.optimizers.Adam(learning_rate = 1e-7, beta_1 = 0.9)\n",
        "model.compile(loss='categorical_crossentropy',\n",
        "              optimizer=opt,\n",
        "              metrics=['accuracy'])\n",
        "early_stopping= tf.keras.callbacks.EarlyStopping(monitor = 'accuracy', min_delta = 0.01, patience = 5)\n",
        "hist=model.fit(train_datagen.flow(train_images, train_labels,batch_size=4,shuffle=True),steps_per_epoch=len(train_images) / 4,\n",
        "               epochs = 20,callbacks=[early_stopping]);"
      ],
      "execution_count": 23,
      "outputs": [
        {
          "output_type": "error",
          "ename": "NameError",
          "evalue": "ignored",
          "traceback": [
            "\u001b[0;31m---------------------------------------------------------------------------\u001b[0m",
            "\u001b[0;31mNameError\u001b[0m                                 Traceback (most recent call last)",
            "\u001b[0;32m<ipython-input-23-1391d08b205d>\u001b[0m in \u001b[0;36m<module>\u001b[0;34m()\u001b[0m\n\u001b[1;32m      7\u001b[0m               metrics=['accuracy'])\n\u001b[1;32m      8\u001b[0m \u001b[0mearly_stopping\u001b[0m\u001b[0;34m=\u001b[0m \u001b[0mtf\u001b[0m\u001b[0;34m.\u001b[0m\u001b[0mkeras\u001b[0m\u001b[0;34m.\u001b[0m\u001b[0mcallbacks\u001b[0m\u001b[0;34m.\u001b[0m\u001b[0mEarlyStopping\u001b[0m\u001b[0;34m(\u001b[0m\u001b[0mmonitor\u001b[0m \u001b[0;34m=\u001b[0m \u001b[0;34m'accuracy'\u001b[0m\u001b[0;34m,\u001b[0m \u001b[0mmin_delta\u001b[0m \u001b[0;34m=\u001b[0m \u001b[0;36m0.01\u001b[0m\u001b[0;34m,\u001b[0m \u001b[0mpatience\u001b[0m \u001b[0;34m=\u001b[0m \u001b[0;36m5\u001b[0m\u001b[0;34m)\u001b[0m\u001b[0;34m\u001b[0m\u001b[0;34m\u001b[0m\u001b[0m\n\u001b[0;32m----> 9\u001b[0;31m hist=model.fit(train_datagen.flow(train_images, train_labels,batch_size=4,shuffle=True),steps_per_epoch=len(train_images) / 4,\n\u001b[0m\u001b[1;32m     10\u001b[0m                epochs = 20,callbacks=[early_stopping]);\n",
            "\u001b[0;31mNameError\u001b[0m: name 'train_images' is not defined"
          ]
        }
      ]
    },
    {
      "cell_type": "code",
      "metadata": {
        "colab": {
          "base_uri": "https://localhost:8080/",
          "height": 238
        },
        "id": "7jBH9XOYXbWo",
        "outputId": "fd1e6f07-2b01-4f73-f2d8-91996ff7b82e"
      },
      "source": [
        "#preds = model.evaluate(test_images, test_labels)\n",
        "#print(\"Loss = \" + str(preds[0]))\n",
        "#print(\"Test accuracy = \" + str(preds[1]))\n",
        "pred_y_=np.zeros((test_labels.shape))\n",
        "for i in range(11):\n",
        "  pred_y_[10*i:10*i+10]=model.predict(test_images[10*i:10*i+10])\n",
        "cm=confusion_matrix(np.argmax(test_labels,axis=1),np.argmax(pred_y_,axis=1))\n",
        "print(cm)\n",
        "plt.imshow(cm, cmap='binary')"
      ],
      "execution_count": null,
      "outputs": [
        {
          "output_type": "error",
          "ename": "NameError",
          "evalue": "ignored",
          "traceback": [
            "\u001b[0;31m---------------------------------------------------------------------------\u001b[0m",
            "\u001b[0;31mNameError\u001b[0m                                 Traceback (most recent call last)",
            "\u001b[0;32m<ipython-input-1-1279b47ee2f1>\u001b[0m in \u001b[0;36m<module>\u001b[0;34m()\u001b[0m\n\u001b[1;32m      2\u001b[0m \u001b[0;31m#print(\"Loss = \" + str(preds[0]))\u001b[0m\u001b[0;34m\u001b[0m\u001b[0;34m\u001b[0m\u001b[0;34m\u001b[0m\u001b[0m\n\u001b[1;32m      3\u001b[0m \u001b[0;31m#print(\"Test accuracy = \" + str(preds[1]))\u001b[0m\u001b[0;34m\u001b[0m\u001b[0;34m\u001b[0m\u001b[0;34m\u001b[0m\u001b[0m\n\u001b[0;32m----> 4\u001b[0;31m \u001b[0mpred_y_\u001b[0m\u001b[0;34m=\u001b[0m\u001b[0mnp\u001b[0m\u001b[0;34m.\u001b[0m\u001b[0mzeros\u001b[0m\u001b[0;34m(\u001b[0m\u001b[0;34m(\u001b[0m\u001b[0mtest_labels\u001b[0m\u001b[0;34m.\u001b[0m\u001b[0mshape\u001b[0m\u001b[0;34m)\u001b[0m\u001b[0;34m)\u001b[0m\u001b[0;34m\u001b[0m\u001b[0;34m\u001b[0m\u001b[0m\n\u001b[0m\u001b[1;32m      5\u001b[0m \u001b[0;32mfor\u001b[0m \u001b[0mi\u001b[0m \u001b[0;32min\u001b[0m \u001b[0mrange\u001b[0m\u001b[0;34m(\u001b[0m\u001b[0;36m11\u001b[0m\u001b[0;34m)\u001b[0m\u001b[0;34m:\u001b[0m\u001b[0;34m\u001b[0m\u001b[0;34m\u001b[0m\u001b[0m\n\u001b[1;32m      6\u001b[0m   \u001b[0mpred_y_\u001b[0m\u001b[0;34m[\u001b[0m\u001b[0;36m10\u001b[0m\u001b[0;34m*\u001b[0m\u001b[0mi\u001b[0m\u001b[0;34m:\u001b[0m\u001b[0;36m10\u001b[0m\u001b[0;34m*\u001b[0m\u001b[0mi\u001b[0m\u001b[0;34m+\u001b[0m\u001b[0;36m10\u001b[0m\u001b[0;34m]\u001b[0m\u001b[0;34m=\u001b[0m\u001b[0mmodel\u001b[0m\u001b[0;34m.\u001b[0m\u001b[0mpredict\u001b[0m\u001b[0;34m(\u001b[0m\u001b[0mtest_images\u001b[0m\u001b[0;34m[\u001b[0m\u001b[0;36m10\u001b[0m\u001b[0;34m*\u001b[0m\u001b[0mi\u001b[0m\u001b[0;34m:\u001b[0m\u001b[0;36m10\u001b[0m\u001b[0;34m*\u001b[0m\u001b[0mi\u001b[0m\u001b[0;34m+\u001b[0m\u001b[0;36m10\u001b[0m\u001b[0;34m]\u001b[0m\u001b[0;34m)\u001b[0m\u001b[0;34m\u001b[0m\u001b[0;34m\u001b[0m\u001b[0m\n",
            "\u001b[0;31mNameError\u001b[0m: name 'np' is not defined"
          ]
        }
      ]
    },
    {
      "cell_type": "code",
      "metadata": {
        "id": "2V4O2D8aXfmX"
      },
      "source": [
        "from sklearn.metrics import precision_score,accuracy_score\n",
        "score=accuracy_score(np.argmax(test_labels,axis=1),np.argmax(pred_y_,axis=1))\n",
        "print(score,\" acuracy\")"
      ],
      "execution_count": null,
      "outputs": []
    },
    {
      "cell_type": "code",
      "metadata": {
        "id": "Oq_pweIsZhdb"
      },
      "source": [
        "np.argmax(pred_y_,axis=1)"
      ],
      "execution_count": null,
      "outputs": []
    },
    {
      "cell_type": "code",
      "metadata": {
        "id": "rrFa49dDZxVn"
      },
      "source": [
        "np.argmax(test_labels,axis=1)"
      ],
      "execution_count": null,
      "outputs": []
    },
    {
      "cell_type": "code",
      "metadata": {
        "id": "U9WWHetkvjSk"
      },
      "source": [
        "def merge_seg_model_starting():\n",
        "    IMG_SIZE=224\n",
        "    NUM_CLASSES=5\n",
        "    input_0=Input(shape=(IMG_SIZE, IMG_SIZE, 7),name=\"image input\")\n",
        "    output_0=Conv2D(filters=32,kernel_size=3,padding='same',activation='relu')(input_0)\n",
        "    output_0=Conv2D(filters=3,kernel_size=3,padding='same',activation='relu')(output_0)\n",
        "    \n",
        "    model_0=Model(input_0,output_0)\n",
        "\n",
        "    input_1 = Input(shape=(IMG_SIZE, IMG_SIZE, 3),name=\"image input\")\n",
        "    \n",
        "    model = DenseNet121(include_top=False, input_tensor=input_1, weights=\"imagenet\")\n",
        "    # Freeze the pretrained weights\n",
        "    model.trainable = False\n",
        "    # Rebuild top\n",
        "\n",
        "    x = Flatten(name=\"flatten\")(model.output)\n",
        "    \n",
        "    top_dropout_rate = 0.2\n",
        "    x = Dropout(top_dropout_rate, name=\"top_dropout_1\")(x)\n",
        "    x = Dense(256, activation=\"relu\", name=\"last_dense_1\")(x)\n",
        "    x = Dropout(top_dropout_rate, name=\"top_dropout_2\")(x)\n",
        "    x = Dense(256, activation=\"relu\", name=\"last_dense_2\")(x)\n",
        "    outputs = Dense(NUM_CLASSES, activation=\"softmax\", name=\"pred\")(x)\n",
        "\n",
        "    model_1 = tf.keras.Model(input_1, outputs, name=\"DenseNet\")\n",
        "    optimizer = tf.keras.optimizers.Adam(learning_rate=1e-5,beta_1=0.9)\n",
        "    \n",
        "    model_fin=Sequential()\n",
        "    model_fin.add(model_0)\n",
        "    model_fin.add(model_1)\n",
        "    \n",
        "    model_fin.compile(\n",
        "        optimizer=optimizer, loss=\"categorical_crossentropy\", metrics=[\"accuracy\"]\n",
        "    ) \n",
        "    return model_fin"
      ],
      "execution_count": null,
      "outputs": []
    },
    {
      "cell_type": "code",
      "metadata": {
        "id": "H45MArSFDhIm"
      },
      "source": [
        "plt.plot(hist.history[\"accuracy\"])\n",
        "plt.plot(hist.history[\"val_accuracy\"])\n",
        "plt.title(\"model accuracy\")\n",
        "plt.ylabel(\"accuracy\")\n",
        "plt.xlabel(\"epoch\")\n",
        "plt.legend([\"train\", \"validation\"], loc=\"upper left\")\n",
        "plt.show()"
      ],
      "execution_count": null,
      "outputs": []
    },
    {
      "cell_type": "code",
      "metadata": {
        "id": "CaNhHa9wKPW_"
      },
      "source": [
        ""
      ],
      "execution_count": null,
      "outputs": []
    },
    {
      "cell_type": "code",
      "metadata": {
        "id": "1PxGs1T5Jp4T"
      },
      "source": [
        ""
      ],
      "execution_count": null,
      "outputs": []
    },
    {
      "cell_type": "code",
      "metadata": {
        "id": "sF46O6UprdVu"
      },
      "source": [
        ""
      ],
      "execution_count": null,
      "outputs": []
    },
    {
      "cell_type": "code",
      "metadata": {
        "id": "2yo_Lw7zT7Xg"
      },
      "source": [
        "def merge_seg_model():\n",
        "    IMG_SIZE=224\n",
        "    NUM_CLASSES=5\n",
        "    input_1 = Input(shape=(IMG_SIZE, IMG_SIZE, 3),name=\"image input\")\n",
        "    input_2 = Input(shape=(454,454,7),name=\"image+lesion input\")\n",
        "\n",
        "    lesion_features=Conv2D(kernel_size=3,filters=32)(input_2)\n",
        "    lesion_features=layers.MaxPooling2D()(lesion_features)\n",
        "    lesion_features=Conv2D(kernel_size=3,filters=64)(lesion_features)\n",
        "    lesion_features=layers.MaxPooling2D()(lesion_features)\n",
        "    \n",
        "    model = DenseNet121(include_top=False, input_tensor=input_1, weights=\"imagenet\")\n",
        "    # Freeze the pretrained weights\n",
        "    model.trainable = False\n",
        "\n",
        "    output=layers.Concatenate()([model.layers[4].output,lesion_features])\n",
        "    output=Conv2D(kernel_size=3,filters=64,padding='same')(output)\n",
        "    \n",
        "    #first part\n",
        "    model_1=Model([input_1,input_2],[output])\n",
        "    #model_1([input_1,input_2])\n",
        "    model_1.summary()\n",
        "    \n",
        "    model_2=Model(output,model.output)\n",
        "    \"\"\"seq model don't work for concate layer\"\"\"\n",
        "    #model_seq=Sequential(name='seq_model')\n",
        "    #model_seq.add(model_1)\n",
        "    #output=model_2(output)\n",
        "    #for i in range(len(model.layers)-5):\n",
        "      #output=model.layers[i+5](output)\n",
        "      #model_seq.add(model.layers[i+5])\n",
        "    \n",
        "    # Rebuild top\n",
        "    \n",
        "    \"\"\"top_dropout_rate = 0.2\n",
        "    model_seq.add(Flatten(name='flatten'))\n",
        "    model_seq.add(Dropout(top_dropout_rate, name=\"top_dropout_1\"))\n",
        "    model_seq.add(Dense(256, activation=\"relu\", name=\"last_dense_1\"))\n",
        "    model_seq.add(Dropout(top_dropout_rate, name=\"top_dropout_2\"))\n",
        "    model_seq.add(Dense(256, activation=\"relu\", name=\"last_dense_2\"))\n",
        "    model_seq.add(Dense(5, activation=\"softmax\", name=\"pred\"))\n",
        "    \"\"\"\n",
        "    \"\"\"\n",
        "    # Rebuild top\n",
        "    n bx = Flatten(name=\"flatten\")(output)\n",
        "    \n",
        "    top_dropout_rate = 0.2\n",
        "    x = Dropout(top_dropout_rate, name=\"top_dropout_1\")(x)\n",
        "    x = Dense(256, activation=\"relu\", name=\"last_dense_1\")(x)\n",
        "    x = Dropout(top_dropout_rate, name=\"top_dropout_2\")(x)\n",
        "    x = Dense(256, activation=\"relu\", name=\"last_dense_2\")(x)\n",
        "    outputs = Dense(NUM_CLASSES, activation=\"softmax\", name=\"pred\")(x)\n",
        "\n",
        "    model_fin = tf.keras.Model([input_1,input_2], outputs, name=\"DenseNet\")\n",
        "    \"\"\"\n",
        "    #output=model_1([input_1,input_2])\n",
        "    #output=model_seq(output)\n",
        "    optimizer = tf.keras.optimizers.Adam(learning_rate=1e-5,beta_1=0.9)\n",
        "    model_seq.compile(\n",
        "        optimizer=optimizer, loss=\"categorical_crossentropy\", metrics=[\"accuracy\"]\n",
        "    )\n",
        "    return model_seq\n"
      ],
      "execution_count": null,
      "outputs": []
    },
    {
      "cell_type": "code",
      "metadata": {
        "id": "6aK-ML68cz4T"
      },
      "source": [
        "model_=merge_seg_model()\n",
        "model_.summary()"
      ],
      "execution_count": null,
      "outputs": []
    },
    {
      "cell_type": "code",
      "metadata": {
        "id": "NWeO82dVxn0v"
      },
      "source": [
        "model_merged_inp.summary()"
      ],
      "execution_count": null,
      "outputs": []
    },
    {
      "cell_type": "code",
      "metadata": {
        "id": "sjFLN0GHiarI"
      },
      "source": [
        "input_3=Input(shape=(None,112,112,64))\n",
        "model_2=Model(input_3,model.output)"
      ],
      "execution_count": null,
      "outputs": []
    },
    {
      "cell_type": "code",
      "metadata": {
        "id": "ERqxBbA53ba_"
      },
      "source": [
        "class denseLayer(tf.keras.layers.Layer)\n",
        "  def __init__(self, original_dim, intermediate_dim=64, name=\"decoder\", **kwargs):\n",
        "        super(denseLayer, self).__init__(name=name, **kwargs)\n",
        "        self.dense_proj = layers.Dense(intermediate_dim, activation=\"relu\")\n",
        "        self.dense_output = layers.Dense(original_dim, activation=\"sigmoid\")\n",
        "\n",
        "    def call(self, inputs):\n",
        "        x = self.dense_proj(inputs)\n",
        "        return self.dense_output(x)\n",
        "\n",
        "class myModel(tf.keras.Model):\n"
      ],
      "execution_count": null,
      "outputs": []
    }
  ]
}