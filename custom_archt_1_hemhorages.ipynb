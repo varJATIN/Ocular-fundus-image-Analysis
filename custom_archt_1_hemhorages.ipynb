{
  "nbformat": 4,
  "nbformat_minor": 0,
  "metadata": {
    "colab": {
      "name": "custom_archt_1_hemhorages.ipynb",
      "provenance": [],
      "collapsed_sections": [],
      "authorship_tag": "ABX9TyOH093A6eRHwOR8ZpLv4V3F",
      "include_colab_link": true
    },
    "kernelspec": {
      "name": "python3",
      "display_name": "Python 3"
    },
    "accelerator": "GPU"
  },
  "cells": [
    {
      "cell_type": "markdown",
      "metadata": {
        "id": "view-in-github",
        "colab_type": "text"
      },
      "source": [
        "<a href=\"https://colab.research.google.com/github/varJATIN/Ocular-fundus-image-Analysis/blob/main/custom_archt_1_hemhorages.ipynb\" target=\"_parent\"><img src=\"https://colab.research.google.com/assets/colab-badge.svg\" alt=\"Open In Colab\"/></a>"
      ]
    },
    {
      "cell_type": "code",
      "metadata": {
        "id": "BcHGHKQZyZdM"
      },
      "source": [
        "import os\r\n",
        "import sys\r\n",
        "import random\r\n",
        "\r\n",
        "import numpy as np\r\n",
        "import cv2\r\n",
        "import matplotlib.pyplot as plt\r\n",
        "\r\n",
        "import tensorflow as tf\r\n",
        "from tensorflow import keras\r\n",
        "\r\n",
        "from sklearn.utils import shuffle\r\n",
        "from matplotlib.pyplot import imread\r\n",
        "from cv2 import resize\r\n",
        "import matplotlib.pyplot as plt\r\n",
        "import cv2\r\n",
        "import scipy\r\n"
      ],
      "execution_count": 5,
      "outputs": []
    },
    {
      "cell_type": "code",
      "metadata": {
        "colab": {
          "base_uri": "https://localhost:8080/"
        },
        "id": "41bIuxOVygxP",
        "outputId": "08e8cabd-bcf0-4283-987f-52b0e902976a"
      },
      "source": [
        "from google.colab import drive\r\n",
        "drive.mount('/content/drive')"
      ],
      "execution_count": 1,
      "outputs": [
        {
          "output_type": "stream",
          "text": [
            "Mounted at /content/drive\n"
          ],
          "name": "stdout"
        }
      ]
    },
    {
      "cell_type": "code",
      "metadata": {
        "id": "1srgdYz0ymY5"
      },
      "source": [
        "def down_block(x, filters, kernel_size=(3, 3), padding=\"same\", strides=1):\r\n",
        "    c = keras.layers.Conv2D(filters, kernel_size, padding=padding, strides=strides, activation=\"relu\")(x)\r\n",
        "    c=tf.keras.layers.BatchNormalization()(c)\r\n",
        "    c = keras.layers.Conv2D(filters, kernel_size, padding=padding, strides=strides, activation=\"relu\")(c)\r\n",
        "    c=tf.keras.layers.BatchNormalization()(c)\r\n",
        "    p = keras.layers.MaxPool2D((2, 2), (2, 2))(c)\r\n",
        "    return c, p\r\n",
        "\r\n",
        "def atten(x,g,F_x,F_g,F_int,kernel_size=(3,3), padding=\"same\", strides=1):\r\n",
        "    # upsample lower decoder filters\r\n",
        "    us = keras.layers.UpSampling2D((2, 2))(g)\r\n",
        "    gate = keras.layers.Conv2D(F_g, kernel_size, padding=padding, strides=strides, activation=\"relu\")(us)\r\n",
        "    gate=tf.keras.layers.BatchNormalization()(gate)\r\n",
        "    \r\n",
        "    # convolve the upsampled decoder filter for F_int filters\r\n",
        "    W_g=keras.layers.Conv2D(F_int, kernel_size=1, padding=padding, strides=strides)(gate)\r\n",
        "    W_g=tf.keras.layers.BatchNormalization()(W_g)\r\n",
        "    \r\n",
        "    # convolve encoder output for F_int filters\r\n",
        "    W_x=keras.layers.Conv2D(F_int, kernel_size=1, padding=padding, strides=strides)(x)\r\n",
        "    W_x=tf.keras.layers.BatchNormalization()(W_x)\r\n",
        "    \r\n",
        "    # convolve to  attention filter\r\n",
        "    psi=tf.keras.activations.relu(W_x+W_g, alpha=0.0, max_value=None, threshold=0)\r\n",
        "    psi=keras.layers.Conv2D(F_x, kernel_size=1, padding=padding, strides=strides)(psi)\r\n",
        "    psi=tf.keras.activations.sigmoid(tf.keras.layers.BatchNormalization()(psi))\r\n",
        "    \r\n",
        "    # return the filtered encoder output for concat\r\n",
        "    return x*psi\r\n",
        "\r\n",
        "def up_block(x, skip, filters, kernel_size=(3, 3), padding=\"same\", strides=1):\r\n",
        "    us = keras.layers.UpSampling2D((2, 2))(x)\r\n",
        "    us = keras.layers.Conv2D(filters, kernel_size, padding=padding, strides=strides, activation=\"relu\")(us)\r\n",
        "    us = tf.keras.layers.BatchNormalization()(us)\r\n",
        "    # here skip is from encoder and x if from dec previous layer \r\n",
        "    filtered_skip=atten(skip,x,filters,filters,filters/2)\r\n",
        "    #concat filtrd skip and upsampled us\r\n",
        "    concat = keras.layers.Concatenate()([us, filtered_skip])\r\n",
        "    c = keras.layers.Conv2D(filters, kernel_size, padding=padding, strides=strides, activation=\"relu\")(concat)\r\n",
        "    c=tf.keras.layers.BatchNormalization()(c)\r\n",
        "    c = keras.layers.Conv2D(filters, kernel_size, padding=padding, strides=strides, activation=\"relu\")(c)\r\n",
        "    c=tf.keras.layers.BatchNormalization()(c)\r\n",
        "    return c\r\n",
        "\r\n",
        "def bottleneck(x, filters, kernel_size=(3, 3), padding=\"same\", strides=1):\r\n",
        "    c = keras.layers.Conv2D(filters, kernel_size, padding=padding, strides=strides, activation=\"relu\")(x)\r\n",
        "    c=tf.keras.layers.BatchNormalization()(c)\r\n",
        "    c = keras.layers.Conv2D(filters, kernel_size, padding=padding, strides=strides, activation=\"relu\")(c)\r\n",
        "    c=tf.keras.layers.BatchNormalization()(c) \r\n",
        "    return c"
      ],
      "execution_count": 2,
      "outputs": []
    },
    {
      "cell_type": "code",
      "metadata": {
        "id": "ROI3AnlrzLb2"
      },
      "source": [
        "def UNet_modular(depth=4,f=3,image_size=512):\r\n",
        "    \"\"\" returns a modular code for the UNet multihead attention with\r\n",
        "        deep supervision.\r\n",
        "        depth is depth of model excluding bottleneck.\r\n",
        "        f is no of filters in first layer.\r\n",
        "        image_size is image pixel \r\n",
        "    \"\"\"\r\n",
        "    # define input container with 3 input channels\r\n",
        "    input_channels=3\r\n",
        "    inputs= keras.layers.Input((image_size, image_size, input_channels))\r\n",
        "    pooled_out=inputs\r\n",
        "    skip_memory=[]\r\n",
        "    filters=[]\r\n",
        "    for layer in range(depth):\r\n",
        "      filters.append(f*2**layer)\r\n",
        "    print(filters)\r\n",
        "\r\n",
        "    for layer in range(depth):\r\n",
        "      x,pooled_out=down_block(pooled_out,filters[layer])\r\n",
        "      skip_memory.append(x)\t\r\n",
        "\r\n",
        "    # bottleneck_factor \r\n",
        "    bn_factor=2**depth\r\n",
        "    upsample_out=bottleneck(pooled_out,f*bn_factor)\r\n",
        "    upsample_memory=[upsample_out]\r\n",
        "    for layer in range(depth):\r\n",
        "      upsample_out=up_block(upsample_out,skip_memory[depth-1-layer],filters[depth-1-layer])\r\n",
        "      upsample_memory.append(upsample_out)\r\n",
        "\r\n",
        "    #up sample layer\r\n",
        "    up=keras.layers.UpSampling2D((2,2))\r\n",
        "    #create empty list for storing skip up samples \r\n",
        "    skip_up_list=[]\r\n",
        "    # upsample the outputs of upsample layers stored in upsample_memory\r\n",
        "    for i in range(depth):\r\n",
        "      skip_up=upsample_memory[i]\r\n",
        "      for j in range(depth-i):\r\n",
        "        skip_up=up(skip_up)\r\n",
        "      skip_up_list.append(skip_up)\r\n",
        "    skip_up_list.append(upsample_memory[depth])\r\n",
        "    deep_supervised = keras.layers.Concatenate()(skip_up_list)\r\n",
        "    outputs=keras.layers.Conv2D(1,(1,1),padding=\"same\",activation=\"sigmoid\")(deep_supervised)\r\n",
        "    model=keras.models.Model(inputs,outputs)\r\n",
        "    return model\r\n"
      ],
      "execution_count": 3,
      "outputs": []
    },
    {
      "cell_type": "code",
      "metadata": {
        "colab": {
          "base_uri": "https://localhost:8080/"
        },
        "id": "NFnoO4eSzPC9",
        "outputId": "c95e3f5f-daa8-4adf-af9a-57bbea43744b"
      },
      "source": [
        "# data\r\n",
        "data_location = \"/content/drive/My Drive/IDRid/A. Segmentation/1. Original Images/a. Training Set\"\r\n",
        "train_data = []  # create an empty list\r\n",
        "for (dirName, subdirList, fileList) in sorted(os.walk(data_location)):\r\n",
        "    for fileName in sorted(fileList):\r\n",
        "        if \".jpg\" in fileName.lower() :\r\n",
        "            train_data.append(os.path.join(dirName,fileName))\r\n",
        " \r\n",
        "print(len(train_data))\r\n",
        "\r\n",
        "\r\n",
        "# groundtruths for hard exudates\r\n",
        "target_root_location = \"/content/drive/My Drive/IDRid/A. Segmentation/2. All Segmentation Groundtruths/a. Training Set/\"\r\n",
        "#data_location = \"/content/drive/My Drive/IDRid/A. Segmentation/2. All Segmentation Groundtruths/a. Training Set/3. Hard Exudates\"\r\n",
        "train_data_gt = []  # create an empty list\r\n",
        "segs=['1. Microaneurysms','2. Haemorrhages','3. Hard Exudates','4. Soft Exudates']\r\n",
        "for seg in segs:\r\n",
        "  data_location=target_root_location+seg\r\n",
        "  print(data_location)\r\n",
        "  seg_mask=[]\r\n",
        "  for dirName, subdirList, fileList in sorted(os.walk(data_location)):\r\n",
        "      for filename in sorted(fileList):\r\n",
        "          if \".tif\" in filename.lower() :\r\n",
        "              seg_mask.append(os.path.join(dirName,filename))\r\n",
        "              #train_data_gt.append(os.path.join(dirName,filename))\r\n",
        "  train_data_gt.append(seg_mask)\r\n",
        "print(len(train_data_gt));"
      ],
      "execution_count": 6,
      "outputs": [
        {
          "output_type": "stream",
          "text": [
            "54\n",
            "/content/drive/My Drive/IDRid/A. Segmentation/2. All Segmentation Groundtruths/a. Training Set/1. Microaneurysms\n",
            "/content/drive/My Drive/IDRid/A. Segmentation/2. All Segmentation Groundtruths/a. Training Set/2. Haemorrhages\n",
            "/content/drive/My Drive/IDRid/A. Segmentation/2. All Segmentation Groundtruths/a. Training Set/3. Hard Exudates\n",
            "/content/drive/My Drive/IDRid/A. Segmentation/2. All Segmentation Groundtruths/a. Training Set/4. Soft Exudates\n",
            "4\n"
          ],
          "name": "stdout"
        }
      ]
    },
    {
      "cell_type": "code",
      "metadata": {
        "id": "KiVrHwOqzTpB"
      },
      "source": [
        "#image load\r\n",
        "train_batch_ = np.zeros(shape = (len(train_data), 512, 512, 3),dtype=int);\r\n",
        "for file_index in range(0,len(train_data)):\r\n",
        "  #print(file_index)\r\n",
        "  # image\r\n",
        "  train_batch_[file_index, :, :,:] = resize(imread(train_data[int(file_index)]), (512, 512))\r\n",
        "\r\n",
        "#label load\r\n",
        "train_label_ = np.zeros(shape = (len(train_data_gt[1]), 512, 512, 1));\r\n",
        "# but i am filing the test_label serially ie if one mask is not there i am not leaving that place balnk but filing the next mask in its place\r\n",
        "for file_index in range(0,len(train_data_gt[1])):  \r\n",
        "  img = cv2.cvtColor(imread(train_data_gt[1][file_index]), cv2.COLOR_BGRA2BGR)\r\n",
        "  img = cv2.cvtColor(img, cv2.COLOR_BGR2GRAY) \r\n",
        "  train_label_[file_index, :, :,:] = np.expand_dims(resize(img, (512, 512)), axis = 2)"
      ],
      "execution_count": 7,
      "outputs": []
    },
    {
      "cell_type": "code",
      "metadata": {
        "colab": {
          "base_uri": "https://localhost:8080/"
        },
        "id": "Yo3ghBM9zrNz",
        "outputId": "8243cd34-aa34-4c85-f1c2-643003daf0eb"
      },
      "source": [
        "print(np.max(train_batch_),np.max(train_label_))\r\n",
        "print(\"image shape \",train_batch_.shape,\" label shape-\",train_label_.shape)"
      ],
      "execution_count": 11,
      "outputs": [
        {
          "output_type": "stream",
          "text": [
            "255 29.0\n",
            "image shape  (54, 512, 512, 3)  label shape- (53, 512, 512, 1)\n"
          ],
          "name": "stdout"
        }
      ]
    },
    {
      "cell_type": "code",
      "metadata": {
        "colab": {
          "base_uri": "https://localhost:8080/"
        },
        "id": "zLhCad380H1Q",
        "outputId": "9e545405-4769-4328-c1fd-a662320f0d56"
      },
      "source": [
        "ind=[]\r\n",
        "for i in range(len(train_data_gt[1])):\r\n",
        "  ind.append(int(train_data_gt[1][i][-9:-7]))\r\n",
        "print(ind)\r\n",
        "train_batch_soft=np.zeros(shape = (len(ind), 512, 512, 3),dtype=int);\r\n",
        "for i,index in enumerate(ind):\r\n",
        "  train_batch_soft[i,:,:,:]=train_batch_[index-1,:,:,:]\r\n",
        "print(len(ind))"
      ],
      "execution_count": 12,
      "outputs": [
        {
          "output_type": "stream",
          "text": [
            "[1, 2, 3, 4, 5, 6, 7, 8, 9, 10, 11, 12, 13, 14, 15, 16, 17, 18, 19, 20, 21, 22, 23, 24, 25, 26, 27, 28, 29, 30, 31, 32, 33, 34, 35, 36, 37, 38, 39, 40, 41, 42, 44, 45, 46, 47, 48, 49, 50, 51, 52, 53, 54]\n",
            "53\n"
          ],
          "name": "stdout"
        }
      ]
    },
    {
      "cell_type": "code",
      "metadata": {
        "colab": {
          "base_uri": "https://localhost:8080/"
        },
        "id": "GWGbjWfd0ixo",
        "outputId": "b167e0b7-ad35-48f0-8d12-70ab9f3c3878"
      },
      "source": [
        "train_batch = np.zeros(shape = (len(train_batch_soft)*5, 512, 512, 3));\r\n",
        "train_label = np.zeros(shape = (len(train_batch_soft)*5, 512, 512, 1));\r\n",
        "rot=[-4,-3,-2,-1,1,2,3,4]\r\n",
        "for file_index in range(0,len(train_batch_soft)*5,5):\r\n",
        "    #print(file_index)\r\n",
        "    # image\r\n",
        "    train_batch[file_index, :, :,:] = train_batch_soft[int(file_index/5)]\r\n",
        "    # label\r\n",
        "    train_label[file_index, :, :,:] = train_label_[int(file_index/5)]\r\n",
        "    #print(np.max(train_batch),np.max(train_label))\r\n",
        "    #flip\r\n",
        "    train_batch[file_index+1, :, :,:]=np.flip(train_batch[file_index, :, :,:],axis=1)\r\n",
        "    train_label[file_index+1, :, :,:]=np.flip(train_label[file_index, :, :,:],axis=1)\r\n",
        "    #flip\r\n",
        "    train_batch[file_index+2, :, :,:]=np.flip(train_batch[file_index, :, :,:],axis=0)\r\n",
        "    train_label[file_index+2, :, :,:]=np.flip(train_label[file_index, :, :,:],axis=0)\r\n",
        "    #rotate\r\n",
        "    train_batch[file_index+3, :, :,:]=np.rot90(np.rot90(train_batch[file_index, :, :,:]))\r\n",
        "    train_label[file_index+3, :, :,:]=np.rot90(np.rot90(train_label[file_index, :, :,:]))\r\n",
        "\r\n",
        "    #random rotate\r\n",
        "    ang=random.choice(rot)\r\n",
        "    train_batch[file_index+4, :, :,:]=scipy.ndimage.rotate(train_batch[file_index, :, :,:],ang,reshape=False)\r\n",
        "    train_label[file_index+4, :, :,:]=scipy.ndimage.rotate(train_label[file_index, :, :,:],ang,reshape=False)\r\n",
        "\r\n",
        "\r\n",
        "train_batch[:,:,:,0]  = (train_batch[:,:,:,0])/np.max(train_batch)# - train_batch[:,:,:,0].min(axis=0)) / (train_batch[:,:,:,0].max(axis=0) - train_batch[:,:,:,0].min(axis=0)+1e-10)\r\n",
        "train_batch[:,:,:,1]  = (train_batch[:,:,:,1])/np.max(train_batch)# - train_batch[:,:,:,1].min(axis=0)) / (train_batch[:,:,:,1].max(axis=0) - train_batch[:,:,:,1].min(axis=0)+1e-10)\r\n",
        "train_batch[:,:,:,2]  = (train_batch[:,:,:,2])/np.max(train_batch)# - train_batch[:,:,:,2].min(axis=0)) / (train_batch[:,:,:,2].max(axis=0) - train_batch[:,:,:,2].min(axis=0)+1e-10)\r\n",
        "\r\n",
        "train_label[:,:,:,0]  = (train_label[:,:,:,0])/np.max(train_label)# - train_label[:,:,:,0].min(axis=0)) / (train_label[:,:,:,0].max(axis=0) - train_label[:,:,:,0].min(axis=0)+1e-10)\r\n",
        "mask = train_label[:,:,:,:] > 0.25\r\n",
        "train_label[mask] = 1.0\r\n",
        "train_label[~mask] = 0.0\r\n",
        "\r\n",
        "print(train_batch.shape)\r\n",
        "print(train_label.shape)"
      ],
      "execution_count": 13,
      "outputs": [
        {
          "output_type": "stream",
          "text": [
            "(265, 512, 512, 3)\n",
            "(265, 512, 512, 1)\n"
          ],
          "name": "stdout"
        }
      ]
    },
    {
      "cell_type": "code",
      "metadata": {
        "colab": {
          "base_uri": "https://localhost:8080/"
        },
        "id": "vkPcesEM00U3",
        "outputId": "94f4140c-09c7-4450-9204-31e6597c3a7f"
      },
      "source": [
        "print(np.max(train_batch),np.max(train_label))"
      ],
      "execution_count": 14,
      "outputs": [
        {
          "output_type": "stream",
          "text": [
            "1.0 1.0\n"
          ],
          "name": "stdout"
        }
      ]
    },
    {
      "cell_type": "code",
      "metadata": {
        "id": "0unZDN2M04SX"
      },
      "source": [
        "from keras import backend as K\r\n",
        "def dice_loss(y_true, y_pred, smooth=1):\r\n",
        "  intersection = K.sum(y_true * y_pred, axis=[1,2,3])\r\n",
        "  union = K.sum(y_true, axis=[1,2,3]) + K.sum(y_pred, axis=[1,2,3])\r\n",
        "  dice = K.mean((2. * intersection + smooth)/(union + smooth), axis=0)\r\n",
        "  return 1-dice\r\n",
        "def tversky(y_true, y_pred,smooth=1):\r\n",
        "    y_true_pos = K.flatten(y_true)\r\n",
        "    y_pred_pos = K.flatten(y_pred)\r\n",
        "    true_pos = K.sum(y_true_pos * y_pred_pos)\r\n",
        "    false_neg = K.sum(y_true_pos * (1-y_pred_pos))\r\n",
        "    false_pos = K.sum((1-y_true_pos)*y_pred_pos)\r\n",
        "    alpha = 0.5\r\n",
        "    return (true_pos + smooth)/(true_pos + alpha*false_neg + (1-alpha)*false_pos + smooth)"
      ],
      "execution_count": 16,
      "outputs": []
    },
    {
      "cell_type": "code",
      "metadata": {
        "colab": {
          "base_uri": "https://localhost:8080/"
        },
        "id": "bIz1zYmP090F",
        "outputId": "e247c1b6-71e8-4905-c0ca-811be544eff9"
      },
      "source": [
        "seed = 2\r\n",
        "random.seed = seed\r\n",
        "np.random.seed = seed\r\n",
        "tf.seed = seed\r\n",
        "tf.random.set_seed(2)\r\n",
        "depths=[3,4,5]\r\n",
        "models=[]\r\n",
        "histories=[]\r\n",
        "#for f in [3,4,5]:\r\n",
        "for depth in depths:\r\n",
        "  opt=keras.optimizers.Adam(learning_rate = 0.001,beta_1=0.80)\r\n",
        "  model = UNet_modular(depth=depth,f=4) \r\n",
        "  model.compile(optimizer=opt, loss=dice_loss, metrics=[tf.keras.metrics.MeanIoU(num_classes=2)])   \r\n",
        "  early_stopping= tf.keras.callbacks.EarlyStopping(monitor='loss',min_delta\t=0.001, patience=7)\r\n",
        "  #gen=data_gen(train_data,train_data_gt[3])\r\n",
        "  #hist = model.fit(gen, steps_per_epoch=len(train_data_gt[3]), epochs = 200, verbose = 1, callbacks=[early_stopping], shuffle = 'batch')\r\n",
        "  #hist = model.fit(train_generator, steps_per_epoch=train_label.shape[0]/4, epochs = 200, verbose = 1, callbacks=[early_stopping], shuffle = 'batch')\r\n",
        "  hist = model.fit(x = train_batch, y = train_label, batch_size = 4, epochs = 200, verbose = 1, callbacks=[early_stopping], validation_split = 8/150, shuffle = True)\r\n",
        "  models.append(model)\r\n",
        "  histories.append(hist) "
      ],
      "execution_count": 18,
      "outputs": [
        {
          "output_type": "stream",
          "text": [
            "[4, 8, 16]\n",
            "Epoch 1/200\n",
            "63/63 [==============================] - 10s 162ms/step - loss: 0.9588 - mean_io_u_1: 0.4940 - val_loss: 0.9944 - val_mean_io_u_1: 0.4981\n",
            "Epoch 2/200\n",
            "63/63 [==============================] - 9s 142ms/step - loss: 0.9136 - mean_io_u_1: 0.4785 - val_loss: 0.9975 - val_mean_io_u_1: 0.4981\n",
            "Epoch 3/200\n",
            "63/63 [==============================] - 9s 143ms/step - loss: 0.8338 - mean_io_u_1: 0.4818 - val_loss: 0.9960 - val_mean_io_u_1: 0.4981\n",
            "Epoch 4/200\n",
            "63/63 [==============================] - 9s 144ms/step - loss: 0.7931 - mean_io_u_1: 0.4906 - val_loss: 0.9912 - val_mean_io_u_1: 0.4981\n",
            "Epoch 5/200\n",
            "63/63 [==============================] - 9s 145ms/step - loss: 0.7500 - mean_io_u_1: 0.5300 - val_loss: 0.8601 - val_mean_io_u_1: 0.5038\n",
            "Epoch 6/200\n",
            "63/63 [==============================] - 9s 146ms/step - loss: 0.7094 - mean_io_u_1: 0.5484 - val_loss: 0.8609 - val_mean_io_u_1: 0.5226\n",
            "Epoch 7/200\n",
            "63/63 [==============================] - 9s 148ms/step - loss: 0.6628 - mean_io_u_1: 0.5838 - val_loss: 0.8291 - val_mean_io_u_1: 0.5256\n",
            "Epoch 8/200\n",
            "63/63 [==============================] - 9s 149ms/step - loss: 0.6042 - mean_io_u_1: 0.5994 - val_loss: 0.7698 - val_mean_io_u_1: 0.5525\n",
            "Epoch 9/200\n",
            "63/63 [==============================] - 10s 151ms/step - loss: 0.5860 - mean_io_u_1: 0.6023 - val_loss: 0.7035 - val_mean_io_u_1: 0.5784\n",
            "Epoch 10/200\n",
            "63/63 [==============================] - 10s 152ms/step - loss: 0.5607 - mean_io_u_1: 0.6025 - val_loss: 0.7088 - val_mean_io_u_1: 0.5593\n",
            "Epoch 11/200\n",
            "63/63 [==============================] - 10s 154ms/step - loss: 0.5671 - mean_io_u_1: 0.5960 - val_loss: 0.6749 - val_mean_io_u_1: 0.6516\n",
            "Epoch 12/200\n",
            "63/63 [==============================] - 10s 153ms/step - loss: 0.5529 - mean_io_u_1: 0.6007 - val_loss: 0.6673 - val_mean_io_u_1: 0.6543\n",
            "Epoch 13/200\n",
            "63/63 [==============================] - 10s 151ms/step - loss: 0.5372 - mean_io_u_1: 0.6116 - val_loss: 0.6552 - val_mean_io_u_1: 0.6609\n",
            "Epoch 14/200\n",
            "63/63 [==============================] - 10s 151ms/step - loss: 0.5259 - mean_io_u_1: 0.6120 - val_loss: 0.8076 - val_mean_io_u_1: 0.6610\n",
            "Epoch 15/200\n",
            "63/63 [==============================] - 9s 150ms/step - loss: 0.5327 - mean_io_u_1: 0.6111 - val_loss: 0.6649 - val_mean_io_u_1: 0.6194\n",
            "Epoch 16/200\n",
            "63/63 [==============================] - 9s 150ms/step - loss: 0.5096 - mean_io_u_1: 0.6237 - val_loss: 0.7140 - val_mean_io_u_1: 0.5866\n",
            "Epoch 17/200\n",
            "63/63 [==============================] - 9s 151ms/step - loss: 0.5106 - mean_io_u_1: 0.6206 - val_loss: 0.7223 - val_mean_io_u_1: 0.5920\n",
            "Epoch 18/200\n",
            "63/63 [==============================] - 10s 151ms/step - loss: 0.5010 - mean_io_u_1: 0.6245 - val_loss: 0.6486 - val_mean_io_u_1: 0.6724\n",
            "Epoch 19/200\n",
            "63/63 [==============================] - 10s 152ms/step - loss: 0.4861 - mean_io_u_1: 0.6270 - val_loss: 0.6450 - val_mean_io_u_1: 0.6576\n",
            "Epoch 20/200\n",
            "63/63 [==============================] - 10s 153ms/step - loss: 0.4745 - mean_io_u_1: 0.6358 - val_loss: 0.6501 - val_mean_io_u_1: 0.6461\n",
            "Epoch 21/200\n",
            "63/63 [==============================] - 10s 153ms/step - loss: 0.4671 - mean_io_u_1: 0.6399 - val_loss: 0.6972 - val_mean_io_u_1: 0.5991\n",
            "Epoch 22/200\n",
            "63/63 [==============================] - 10s 152ms/step - loss: 0.4726 - mean_io_u_1: 0.6400 - val_loss: 0.6528 - val_mean_io_u_1: 0.6540\n",
            "Epoch 23/200\n",
            "63/63 [==============================] - 10s 152ms/step - loss: 0.4699 - mean_io_u_1: 0.6372 - val_loss: 0.6633 - val_mean_io_u_1: 0.6224\n",
            "Epoch 24/200\n",
            "63/63 [==============================] - 10s 151ms/step - loss: 0.4550 - mean_io_u_1: 0.6450 - val_loss: 0.6478 - val_mean_io_u_1: 0.6586\n",
            "Epoch 25/200\n",
            "63/63 [==============================] - 10s 151ms/step - loss: 0.4609 - mean_io_u_1: 0.6478 - val_loss: 0.6310 - val_mean_io_u_1: 0.6612\n",
            "Epoch 26/200\n",
            "63/63 [==============================] - 10s 152ms/step - loss: 0.4462 - mean_io_u_1: 0.6496 - val_loss: 0.6537 - val_mean_io_u_1: 0.6680\n",
            "Epoch 27/200\n",
            "63/63 [==============================] - 10s 152ms/step - loss: 0.4540 - mean_io_u_1: 0.6458 - val_loss: 0.6405 - val_mean_io_u_1: 0.6545\n",
            "Epoch 28/200\n",
            "63/63 [==============================] - 9s 151ms/step - loss: 0.4565 - mean_io_u_1: 0.6419 - val_loss: 0.9716 - val_mean_io_u_1: 0.6264\n",
            "Epoch 29/200\n",
            "63/63 [==============================] - 10s 152ms/step - loss: 0.4469 - mean_io_u_1: 0.6460 - val_loss: 0.6609 - val_mean_io_u_1: 0.6684\n",
            "Epoch 30/200\n",
            "63/63 [==============================] - 10s 152ms/step - loss: 0.4403 - mean_io_u_1: 0.6532 - val_loss: 0.6389 - val_mean_io_u_1: 0.6603\n",
            "Epoch 31/200\n",
            "63/63 [==============================] - 10s 151ms/step - loss: 0.4297 - mean_io_u_1: 0.6539 - val_loss: 0.6598 - val_mean_io_u_1: 0.6263\n",
            "Epoch 32/200\n",
            "63/63 [==============================] - 10s 152ms/step - loss: 0.4336 - mean_io_u_1: 0.6534 - val_loss: 0.9592 - val_mean_io_u_1: 0.6264\n",
            "Epoch 33/200\n",
            "63/63 [==============================] - 10s 152ms/step - loss: 0.4280 - mean_io_u_1: 0.6580 - val_loss: 0.9678 - val_mean_io_u_1: 0.6320\n",
            "Epoch 34/200\n",
            "63/63 [==============================] - 10s 152ms/step - loss: 0.4275 - mean_io_u_1: 0.6528 - val_loss: 0.7074 - val_mean_io_u_1: 0.5896\n",
            "Epoch 35/200\n",
            "63/63 [==============================] - 10s 153ms/step - loss: 0.4270 - mean_io_u_1: 0.6530 - val_loss: 0.6358 - val_mean_io_u_1: 0.6540\n",
            "Epoch 36/200\n",
            "63/63 [==============================] - 10s 151ms/step - loss: 0.4090 - mean_io_u_1: 0.6604 - val_loss: 0.6365 - val_mean_io_u_1: 0.6554\n",
            "Epoch 37/200\n",
            "63/63 [==============================] - 10s 151ms/step - loss: 0.4247 - mean_io_u_1: 0.6558 - val_loss: 0.6568 - val_mean_io_u_1: 0.6354\n",
            "Epoch 38/200\n",
            "63/63 [==============================] - 10s 151ms/step - loss: 0.4270 - mean_io_u_1: 0.6624 - val_loss: 0.6409 - val_mean_io_u_1: 0.6626\n",
            "Epoch 39/200\n",
            "63/63 [==============================] - 10s 151ms/step - loss: 0.4017 - mean_io_u_1: 0.6632 - val_loss: 0.6321 - val_mean_io_u_1: 0.6607\n",
            "Epoch 40/200\n",
            "63/63 [==============================] - 10s 151ms/step - loss: 0.3936 - mean_io_u_1: 0.6724 - val_loss: 0.6383 - val_mean_io_u_1: 0.6641\n",
            "Epoch 41/200\n",
            "63/63 [==============================] - 10s 151ms/step - loss: 0.4261 - mean_io_u_1: 0.6612 - val_loss: 0.7007 - val_mean_io_u_1: 0.6046\n",
            "Epoch 42/200\n",
            "63/63 [==============================] - 10s 151ms/step - loss: 0.4060 - mean_io_u_1: 0.6651 - val_loss: 0.6350 - val_mean_io_u_1: 0.6628\n",
            "Epoch 43/200\n",
            "63/63 [==============================] - 10s 151ms/step - loss: 0.3957 - mean_io_u_1: 0.6737 - val_loss: 0.7066 - val_mean_io_u_1: 0.6431\n",
            "Epoch 44/200\n",
            "63/63 [==============================] - 10s 151ms/step - loss: 0.3868 - mean_io_u_1: 0.6703 - val_loss: 0.6389 - val_mean_io_u_1: 0.6424\n",
            "Epoch 45/200\n",
            "63/63 [==============================] - 10s 151ms/step - loss: 0.3872 - mean_io_u_1: 0.6754 - val_loss: 0.6841 - val_mean_io_u_1: 0.6094\n",
            "Epoch 46/200\n",
            "63/63 [==============================] - 9s 151ms/step - loss: 0.3804 - mean_io_u_1: 0.6784 - val_loss: 0.6531 - val_mean_io_u_1: 0.6683\n",
            "Epoch 47/200\n",
            "63/63 [==============================] - 10s 151ms/step - loss: 0.3794 - mean_io_u_1: 0.6790 - val_loss: 0.6523 - val_mean_io_u_1: 0.6514\n",
            "Epoch 48/200\n",
            "63/63 [==============================] - 10s 151ms/step - loss: 0.3910 - mean_io_u_1: 0.6728 - val_loss: 0.6505 - val_mean_io_u_1: 0.6530\n",
            "Epoch 49/200\n",
            "63/63 [==============================] - 10s 152ms/step - loss: 0.3796 - mean_io_u_1: 0.6800 - val_loss: 0.7221 - val_mean_io_u_1: 0.5894\n",
            "Epoch 50/200\n",
            "63/63 [==============================] - 9s 151ms/step - loss: 0.3717 - mean_io_u_1: 0.6815 - val_loss: 0.6452 - val_mean_io_u_1: 0.6646\n",
            "Epoch 51/200\n",
            "63/63 [==============================] - 10s 151ms/step - loss: 0.3681 - mean_io_u_1: 0.6837 - val_loss: 0.7003 - val_mean_io_u_1: 0.6437\n",
            "Epoch 52/200\n",
            "63/63 [==============================] - 10s 151ms/step - loss: 0.3718 - mean_io_u_1: 0.6822 - val_loss: 0.6449 - val_mean_io_u_1: 0.6581\n",
            "Epoch 53/200\n",
            "63/63 [==============================] - 10s 151ms/step - loss: 0.3683 - mean_io_u_1: 0.6839 - val_loss: 0.6458 - val_mean_io_u_1: 0.6459\n",
            "Epoch 54/200\n",
            "63/63 [==============================] - 10s 151ms/step - loss: 0.3652 - mean_io_u_1: 0.6856 - val_loss: 0.6433 - val_mean_io_u_1: 0.6628\n",
            "Epoch 55/200\n",
            "63/63 [==============================] - 10s 151ms/step - loss: 0.3652 - mean_io_u_1: 0.6879 - val_loss: 0.6700 - val_mean_io_u_1: 0.6238\n",
            "Epoch 56/200\n",
            "63/63 [==============================] - 10s 151ms/step - loss: 0.3925 - mean_io_u_1: 0.6738 - val_loss: 0.6464 - val_mean_io_u_1: 0.6698\n",
            "Epoch 57/200\n",
            "63/63 [==============================] - 10s 151ms/step - loss: 0.3685 - mean_io_u_1: 0.6826 - val_loss: 0.6434 - val_mean_io_u_1: 0.6728\n",
            "Epoch 58/200\n",
            "63/63 [==============================] - 10s 151ms/step - loss: 0.3569 - mean_io_u_1: 0.6912 - val_loss: 0.6565 - val_mean_io_u_1: 0.6423\n",
            "Epoch 59/200\n",
            "63/63 [==============================] - 10s 152ms/step - loss: 0.3568 - mean_io_u_1: 0.6885 - val_loss: 0.6509 - val_mean_io_u_1: 0.6610\n",
            "Epoch 60/200\n",
            "63/63 [==============================] - 10s 151ms/step - loss: 0.3500 - mean_io_u_1: 0.6887 - val_loss: 0.6482 - val_mean_io_u_1: 0.6630\n",
            "Epoch 61/200\n",
            "63/63 [==============================] - 10s 151ms/step - loss: 0.3641 - mean_io_u_1: 0.6848 - val_loss: 0.6436 - val_mean_io_u_1: 0.6753\n",
            "Epoch 62/200\n",
            "63/63 [==============================] - 10s 151ms/step - loss: 0.4019 - mean_io_u_1: 0.6751 - val_loss: 0.6405 - val_mean_io_u_1: 0.6645\n",
            "Epoch 63/200\n",
            "63/63 [==============================] - 10s 152ms/step - loss: 0.3686 - mean_io_u_1: 0.6853 - val_loss: 0.6393 - val_mean_io_u_1: 0.6735\n",
            "Epoch 64/200\n",
            "63/63 [==============================] - 10s 152ms/step - loss: 0.3547 - mean_io_u_1: 0.6883 - val_loss: 0.6515 - val_mean_io_u_1: 0.6458\n",
            "Epoch 65/200\n",
            "63/63 [==============================] - 10s 152ms/step - loss: 0.3540 - mean_io_u_1: 0.6899 - val_loss: 0.6509 - val_mean_io_u_1: 0.6431\n",
            "Epoch 66/200\n",
            "63/63 [==============================] - 10s 152ms/step - loss: 0.3495 - mean_io_u_1: 0.6938 - val_loss: 0.6435 - val_mean_io_u_1: 0.6561\n",
            "Epoch 67/200\n",
            "63/63 [==============================] - 10s 152ms/step - loss: 0.3525 - mean_io_u_1: 0.6893 - val_loss: 0.6460 - val_mean_io_u_1: 0.6553\n",
            "[4, 8, 16, 32]\n",
            "Epoch 1/200\n",
            "63/63 [==============================] - 12s 198ms/step - loss: 0.9648 - mean_io_u_2: 0.4946 - val_loss: 0.9936 - val_mean_io_u_2: 0.4981\n",
            "Epoch 2/200\n",
            "63/63 [==============================] - 12s 183ms/step - loss: 0.9319 - mean_io_u_2: 0.4696 - val_loss: 0.9924 - val_mean_io_u_2: 0.1449\n",
            "Epoch 3/200\n",
            "63/63 [==============================] - 12s 184ms/step - loss: 0.8945 - mean_io_u_2: 0.4926 - val_loss: 0.9999 - val_mean_io_u_2: 0.3784\n",
            "Epoch 4/200\n",
            "63/63 [==============================] - 12s 183ms/step - loss: 0.8246 - mean_io_u_2: 0.5200 - val_loss: 0.9958 - val_mean_io_u_2: 0.3722\n",
            "Epoch 5/200\n",
            "63/63 [==============================] - 11s 182ms/step - loss: 0.7769 - mean_io_u_2: 0.5353 - val_loss: 0.8992 - val_mean_io_u_2: 0.5162\n",
            "Epoch 6/200\n",
            "63/63 [==============================] - 11s 181ms/step - loss: 0.7154 - mean_io_u_2: 0.5497 - val_loss: 0.8511 - val_mean_io_u_2: 0.5049\n",
            "Epoch 7/200\n",
            "63/63 [==============================] - 11s 182ms/step - loss: 0.6421 - mean_io_u_2: 0.5490 - val_loss: 0.7778 - val_mean_io_u_2: 0.5290\n",
            "Epoch 8/200\n",
            "63/63 [==============================] - 12s 183ms/step - loss: 0.5990 - mean_io_u_2: 0.5602 - val_loss: 0.6949 - val_mean_io_u_2: 0.5739\n",
            "Epoch 9/200\n",
            "63/63 [==============================] - 11s 182ms/step - loss: 0.5867 - mean_io_u_2: 0.5650 - val_loss: 0.6595 - val_mean_io_u_2: 0.5729\n",
            "Epoch 10/200\n",
            "63/63 [==============================] - 11s 182ms/step - loss: 0.5575 - mean_io_u_2: 0.5699 - val_loss: 0.6753 - val_mean_io_u_2: 0.5350\n",
            "Epoch 11/200\n",
            "63/63 [==============================] - 11s 182ms/step - loss: 0.5738 - mean_io_u_2: 0.5684 - val_loss: 0.7242 - val_mean_io_u_2: 0.5336\n",
            "Epoch 12/200\n",
            "63/63 [==============================] - 11s 182ms/step - loss: 0.5391 - mean_io_u_2: 0.5741 - val_loss: 0.6475 - val_mean_io_u_2: 0.6261\n",
            "Epoch 13/200\n",
            "63/63 [==============================] - 11s 182ms/step - loss: 0.5322 - mean_io_u_2: 0.5783 - val_loss: 0.6563 - val_mean_io_u_2: 0.5876\n",
            "Epoch 14/200\n",
            "63/63 [==============================] - 11s 182ms/step - loss: 0.5116 - mean_io_u_2: 0.5848 - val_loss: 0.6775 - val_mean_io_u_2: 0.6314\n",
            "Epoch 15/200\n",
            "63/63 [==============================] - 11s 182ms/step - loss: 0.5104 - mean_io_u_2: 0.5815 - val_loss: 0.6483 - val_mean_io_u_2: 0.5956\n",
            "Epoch 16/200\n",
            "63/63 [==============================] - 12s 183ms/step - loss: 0.5097 - mean_io_u_2: 0.5838 - val_loss: 0.6372 - val_mean_io_u_2: 0.6024\n",
            "Epoch 17/200\n",
            "63/63 [==============================] - 11s 182ms/step - loss: 0.5146 - mean_io_u_2: 0.5828 - val_loss: 0.6458 - val_mean_io_u_2: 0.5975\n",
            "Epoch 18/200\n",
            "63/63 [==============================] - 11s 182ms/step - loss: 0.5013 - mean_io_u_2: 0.5959 - val_loss: 0.6536 - val_mean_io_u_2: 0.6311\n",
            "Epoch 19/200\n",
            "63/63 [==============================] - 12s 183ms/step - loss: 0.4787 - mean_io_u_2: 0.5967 - val_loss: 0.6516 - val_mean_io_u_2: 0.6396\n",
            "Epoch 20/200\n",
            "63/63 [==============================] - 12s 184ms/step - loss: 0.4841 - mean_io_u_2: 0.6008 - val_loss: 0.6365 - val_mean_io_u_2: 0.6223\n",
            "Epoch 21/200\n",
            "63/63 [==============================] - 11s 182ms/step - loss: 0.4737 - mean_io_u_2: 0.6054 - val_loss: 0.6472 - val_mean_io_u_2: 0.6107\n",
            "Epoch 22/200\n",
            "63/63 [==============================] - 12s 183ms/step - loss: 0.4473 - mean_io_u_2: 0.6118 - val_loss: 0.6410 - val_mean_io_u_2: 0.6249\n",
            "Epoch 23/200\n",
            "63/63 [==============================] - 11s 182ms/step - loss: 0.4647 - mean_io_u_2: 0.6009 - val_loss: 0.6294 - val_mean_io_u_2: 0.6396\n",
            "Epoch 24/200\n",
            "63/63 [==============================] - 11s 182ms/step - loss: 0.4481 - mean_io_u_2: 0.6025 - val_loss: 0.6228 - val_mean_io_u_2: 0.6392\n",
            "Epoch 25/200\n",
            "63/63 [==============================] - 11s 182ms/step - loss: 0.4544 - mean_io_u_2: 0.6117 - val_loss: 0.6313 - val_mean_io_u_2: 0.6323\n",
            "Epoch 26/200\n",
            "63/63 [==============================] - 12s 183ms/step - loss: 0.4442 - mean_io_u_2: 0.6225 - val_loss: 0.6413 - val_mean_io_u_2: 0.6141\n",
            "Epoch 27/200\n",
            "63/63 [==============================] - 11s 182ms/step - loss: 0.4411 - mean_io_u_2: 0.6238 - val_loss: 0.6359 - val_mean_io_u_2: 0.6397\n",
            "Epoch 28/200\n",
            "63/63 [==============================] - 12s 183ms/step - loss: 0.4371 - mean_io_u_2: 0.6176 - val_loss: 0.6507 - val_mean_io_u_2: 0.6116\n",
            "Epoch 29/200\n",
            "63/63 [==============================] - 11s 182ms/step - loss: 0.4530 - mean_io_u_2: 0.6146 - val_loss: 0.6268 - val_mean_io_u_2: 0.6471\n",
            "Epoch 30/200\n",
            "63/63 [==============================] - 11s 182ms/step - loss: 0.4317 - mean_io_u_2: 0.6258 - val_loss: 0.6406 - val_mean_io_u_2: 0.6223\n",
            "Epoch 31/200\n",
            "63/63 [==============================] - 12s 183ms/step - loss: 0.4258 - mean_io_u_2: 0.6297 - val_loss: 0.6601 - val_mean_io_u_2: 0.6013\n",
            "Epoch 32/200\n",
            "63/63 [==============================] - 11s 182ms/step - loss: 0.4228 - mean_io_u_2: 0.6287 - val_loss: 0.6425 - val_mean_io_u_2: 0.6520\n",
            "Epoch 33/200\n",
            "63/63 [==============================] - 11s 182ms/step - loss: 0.4575 - mean_io_u_2: 0.6146 - val_loss: 0.9521 - val_mean_io_u_2: 0.5020\n",
            "Epoch 34/200\n",
            "63/63 [==============================] - 11s 182ms/step - loss: 0.5984 - mean_io_u_2: 0.5671 - val_loss: 0.6763 - val_mean_io_u_2: 0.5828\n",
            "Epoch 35/200\n",
            "63/63 [==============================] - 11s 182ms/step - loss: 0.5270 - mean_io_u_2: 0.5883 - val_loss: 0.6304 - val_mean_io_u_2: 0.6257\n",
            "Epoch 36/200\n",
            "63/63 [==============================] - 11s 182ms/step - loss: 0.4744 - mean_io_u_2: 0.6038 - val_loss: 0.6443 - val_mean_io_u_2: 0.6465\n",
            "Epoch 37/200\n",
            "63/63 [==============================] - 11s 182ms/step - loss: 0.4682 - mean_io_u_2: 0.6050 - val_loss: 0.6530 - val_mean_io_u_2: 0.6166\n",
            "Epoch 38/200\n",
            "63/63 [==============================] - 11s 182ms/step - loss: 0.5136 - mean_io_u_2: 0.5803 - val_loss: 0.6378 - val_mean_io_u_2: 0.6162\n",
            "Epoch 39/200\n",
            "63/63 [==============================] - 11s 183ms/step - loss: 0.4640 - mean_io_u_2: 0.6010 - val_loss: 0.6369 - val_mean_io_u_2: 0.6351\n",
            "[4, 8, 16, 32, 64]\n",
            "Epoch 1/200\n",
            "63/63 [==============================] - 16s 257ms/step - loss: 0.9704 - mean_io_u_3: 0.4955 - val_loss: 0.9939 - val_mean_io_u_3: 0.4981\n",
            "Epoch 2/200\n",
            "63/63 [==============================] - 15s 242ms/step - loss: 0.9582 - mean_io_u_3: 0.4835 - val_loss: 0.9923 - val_mean_io_u_3: 0.1350\n",
            "Epoch 3/200\n",
            "63/63 [==============================] - 15s 241ms/step - loss: 0.9177 - mean_io_u_3: 0.4862 - val_loss: 0.9905 - val_mean_io_u_3: 0.4757\n",
            "Epoch 4/200\n",
            "63/63 [==============================] - 15s 238ms/step - loss: 0.8870 - mean_io_u_3: 0.5001 - val_loss: 0.9913 - val_mean_io_u_3: 0.1392\n",
            "Epoch 5/200\n",
            "63/63 [==============================] - 15s 239ms/step - loss: 0.8564 - mean_io_u_3: 0.5238 - val_loss: 0.9885 - val_mean_io_u_3: 0.2841\n",
            "Epoch 6/200\n",
            "63/63 [==============================] - 15s 240ms/step - loss: 0.7832 - mean_io_u_3: 0.5388 - val_loss: 0.9618 - val_mean_io_u_3: 0.4992\n",
            "Epoch 7/200\n",
            "63/63 [==============================] - 15s 242ms/step - loss: 0.7271 - mean_io_u_3: 0.5433 - val_loss: 0.8560 - val_mean_io_u_3: 0.5122\n",
            "Epoch 8/200\n",
            "63/63 [==============================] - 15s 242ms/step - loss: 0.6739 - mean_io_u_3: 0.5494 - val_loss: 0.7642 - val_mean_io_u_3: 0.5582\n",
            "Epoch 9/200\n",
            "63/63 [==============================] - 15s 241ms/step - loss: 0.6467 - mean_io_u_3: 0.5557 - val_loss: 0.7709 - val_mean_io_u_3: 0.5509\n",
            "Epoch 10/200\n",
            "63/63 [==============================] - 15s 240ms/step - loss: 0.6148 - mean_io_u_3: 0.5605 - val_loss: 0.7229 - val_mean_io_u_3: 0.5680\n",
            "Epoch 11/200\n",
            "63/63 [==============================] - 15s 241ms/step - loss: 0.6110 - mean_io_u_3: 0.5617 - val_loss: 0.7341 - val_mean_io_u_3: 0.6525\n",
            "Epoch 12/200\n",
            "63/63 [==============================] - 15s 239ms/step - loss: 0.5861 - mean_io_u_3: 0.5643 - val_loss: 0.7088 - val_mean_io_u_3: 0.5904\n",
            "Epoch 13/200\n",
            "63/63 [==============================] - 15s 240ms/step - loss: 0.5836 - mean_io_u_3: 0.5712 - val_loss: 0.6710 - val_mean_io_u_3: 0.6235\n",
            "Epoch 14/200\n",
            "63/63 [==============================] - 15s 239ms/step - loss: 0.5578 - mean_io_u_3: 0.5737 - val_loss: 0.7047 - val_mean_io_u_3: 0.5899\n",
            "Epoch 15/200\n",
            "63/63 [==============================] - 15s 240ms/step - loss: 0.5585 - mean_io_u_3: 0.5797 - val_loss: 0.6661 - val_mean_io_u_3: 0.6096\n",
            "Epoch 16/200\n",
            "63/63 [==============================] - 15s 240ms/step - loss: 0.5355 - mean_io_u_3: 0.5840 - val_loss: 0.6659 - val_mean_io_u_3: 0.5993\n",
            "Epoch 17/200\n",
            "63/63 [==============================] - 15s 240ms/step - loss: 0.5288 - mean_io_u_3: 0.5809 - val_loss: 0.6779 - val_mean_io_u_3: 0.6024\n",
            "Epoch 18/200\n",
            "63/63 [==============================] - 15s 240ms/step - loss: 0.5181 - mean_io_u_3: 0.5828 - val_loss: 0.6547 - val_mean_io_u_3: 0.6116\n",
            "Epoch 19/200\n",
            "63/63 [==============================] - 15s 241ms/step - loss: 0.5237 - mean_io_u_3: 0.5809 - val_loss: 0.6848 - val_mean_io_u_3: 0.6260\n",
            "Epoch 20/200\n",
            "63/63 [==============================] - 15s 241ms/step - loss: 0.4961 - mean_io_u_3: 0.5899 - val_loss: 0.6492 - val_mean_io_u_3: 0.6330\n",
            "Epoch 21/200\n",
            "63/63 [==============================] - 15s 240ms/step - loss: 0.4977 - mean_io_u_3: 0.5918 - val_loss: 0.6584 - val_mean_io_u_3: 0.6104\n",
            "Epoch 22/200\n",
            "63/63 [==============================] - 15s 240ms/step - loss: 0.4943 - mean_io_u_3: 0.5893 - val_loss: 0.6536 - val_mean_io_u_3: 0.6305\n",
            "Epoch 23/200\n",
            "63/63 [==============================] - 15s 241ms/step - loss: 0.4785 - mean_io_u_3: 0.5966 - val_loss: 0.6699 - val_mean_io_u_3: 0.6446\n",
            "Epoch 24/200\n",
            "63/63 [==============================] - 15s 241ms/step - loss: 0.4783 - mean_io_u_3: 0.5983 - val_loss: 0.6591 - val_mean_io_u_3: 0.6252\n",
            "Epoch 25/200\n",
            "63/63 [==============================] - 15s 241ms/step - loss: 0.4621 - mean_io_u_3: 0.6027 - val_loss: 0.6434 - val_mean_io_u_3: 0.5887\n",
            "Epoch 26/200\n",
            "63/63 [==============================] - 15s 241ms/step - loss: 0.4743 - mean_io_u_3: 0.5949 - val_loss: 0.6533 - val_mean_io_u_3: 0.6298\n",
            "Epoch 27/200\n",
            "63/63 [==============================] - 15s 241ms/step - loss: 0.4738 - mean_io_u_3: 0.6013 - val_loss: 0.7772 - val_mean_io_u_3: 0.6270\n",
            "Epoch 28/200\n",
            "63/63 [==============================] - 15s 241ms/step - loss: 0.4820 - mean_io_u_3: 0.5858 - val_loss: 0.6622 - val_mean_io_u_3: 0.6018\n",
            "Epoch 29/200\n",
            "63/63 [==============================] - 15s 241ms/step - loss: 0.4633 - mean_io_u_3: 0.5862 - val_loss: 0.7109 - val_mean_io_u_3: 0.6086\n",
            "Epoch 30/200\n",
            "63/63 [==============================] - 15s 241ms/step - loss: 0.4447 - mean_io_u_3: 0.5908 - val_loss: 0.6400 - val_mean_io_u_3: 0.5744\n",
            "Epoch 31/200\n",
            "63/63 [==============================] - 15s 241ms/step - loss: 0.4479 - mean_io_u_3: 0.5947 - val_loss: 0.7041 - val_mean_io_u_3: 0.5486\n",
            "Epoch 32/200\n",
            "63/63 [==============================] - 15s 241ms/step - loss: 0.4412 - mean_io_u_3: 0.5766 - val_loss: 0.6729 - val_mean_io_u_3: 0.6225\n",
            "Epoch 33/200\n",
            "63/63 [==============================] - 15s 242ms/step - loss: 0.4543 - mean_io_u_3: 0.5812 - val_loss: 0.6445 - val_mean_io_u_3: 0.6143\n",
            "Epoch 34/200\n",
            "63/63 [==============================] - 15s 241ms/step - loss: 0.4679 - mean_io_u_3: 0.5825 - val_loss: 0.6506 - val_mean_io_u_3: 0.5812\n",
            "Epoch 35/200\n",
            "63/63 [==============================] - 15s 240ms/step - loss: 0.4518 - mean_io_u_3: 0.5894 - val_loss: 0.6586 - val_mean_io_u_3: 0.5644\n",
            "Epoch 36/200\n",
            "63/63 [==============================] - 15s 241ms/step - loss: 0.4266 - mean_io_u_3: 0.5929 - val_loss: 0.6588 - val_mean_io_u_3: 0.5617\n",
            "Epoch 37/200\n",
            "63/63 [==============================] - 15s 241ms/step - loss: 0.4167 - mean_io_u_3: 0.5982 - val_loss: 0.6630 - val_mean_io_u_3: 0.5790\n",
            "Epoch 38/200\n",
            "63/63 [==============================] - 15s 240ms/step - loss: 0.4134 - mean_io_u_3: 0.5990 - val_loss: 0.6582 - val_mean_io_u_3: 0.5540\n",
            "Epoch 39/200\n",
            "63/63 [==============================] - 15s 240ms/step - loss: 0.4166 - mean_io_u_3: 0.5886 - val_loss: 0.6552 - val_mean_io_u_3: 0.5636\n",
            "Epoch 40/200\n",
            "63/63 [==============================] - 15s 240ms/step - loss: 0.4297 - mean_io_u_3: 0.5979 - val_loss: 0.6541 - val_mean_io_u_3: 0.5904\n",
            "Epoch 41/200\n",
            "63/63 [==============================] - 15s 241ms/step - loss: 0.4152 - mean_io_u_3: 0.6143 - val_loss: 0.6986 - val_mean_io_u_3: 0.5366\n",
            "Epoch 42/200\n",
            "63/63 [==============================] - 15s 241ms/step - loss: 0.4261 - mean_io_u_3: 0.6040 - val_loss: 0.6546 - val_mean_io_u_3: 0.5694\n",
            "Epoch 43/200\n",
            "63/63 [==============================] - 15s 241ms/step - loss: 0.4116 - mean_io_u_3: 0.6089 - val_loss: 0.6706 - val_mean_io_u_3: 0.5916\n",
            "Epoch 44/200\n",
            "63/63 [==============================] - 15s 241ms/step - loss: 0.4236 - mean_io_u_3: 0.6053 - val_loss: 0.6552 - val_mean_io_u_3: 0.5611\n",
            "Epoch 45/200\n",
            "63/63 [==============================] - 15s 240ms/step - loss: 0.4049 - mean_io_u_3: 0.6046 - val_loss: 0.6405 - val_mean_io_u_3: 0.5781\n",
            "Epoch 46/200\n",
            "63/63 [==============================] - 15s 241ms/step - loss: 0.3947 - mean_io_u_3: 0.6167 - val_loss: 0.6482 - val_mean_io_u_3: 0.6238\n",
            "Epoch 47/200\n",
            "63/63 [==============================] - 15s 240ms/step - loss: 0.4069 - mean_io_u_3: 0.6219 - val_loss: 0.6689 - val_mean_io_u_3: 0.5921\n",
            "Epoch 48/200\n",
            "63/63 [==============================] - 15s 240ms/step - loss: 0.3912 - mean_io_u_3: 0.6144 - val_loss: 0.6644 - val_mean_io_u_3: 0.5764\n",
            "Epoch 49/200\n",
            "63/63 [==============================] - 15s 241ms/step - loss: 0.3904 - mean_io_u_3: 0.6037 - val_loss: 0.6749 - val_mean_io_u_3: 0.5430\n",
            "Epoch 50/200\n",
            "63/63 [==============================] - 15s 240ms/step - loss: 0.4076 - mean_io_u_3: 0.6302 - val_loss: 0.7064 - val_mean_io_u_3: 0.5522\n",
            "Epoch 51/200\n",
            "63/63 [==============================] - 15s 241ms/step - loss: 0.4420 - mean_io_u_3: 0.6230 - val_loss: 0.6942 - val_mean_io_u_3: 0.5816\n",
            "Epoch 52/200\n",
            "63/63 [==============================] - 15s 241ms/step - loss: 0.4142 - mean_io_u_3: 0.6115 - val_loss: 0.6470 - val_mean_io_u_3: 0.5681\n",
            "Epoch 53/200\n",
            "63/63 [==============================] - 15s 241ms/step - loss: 0.3991 - mean_io_u_3: 0.6230 - val_loss: 0.6587 - val_mean_io_u_3: 0.5538\n",
            "Epoch 54/200\n",
            "63/63 [==============================] - 15s 241ms/step - loss: 0.3844 - mean_io_u_3: 0.6051 - val_loss: 0.6467 - val_mean_io_u_3: 0.5639\n",
            "Epoch 55/200\n",
            "63/63 [==============================] - 15s 241ms/step - loss: 0.3835 - mean_io_u_3: 0.6092 - val_loss: 0.6472 - val_mean_io_u_3: 0.5761\n",
            "Epoch 56/200\n",
            "63/63 [==============================] - 15s 242ms/step - loss: 0.3733 - mean_io_u_3: 0.6117 - val_loss: 0.6526 - val_mean_io_u_3: 0.5809\n",
            "Epoch 57/200\n",
            "63/63 [==============================] - 15s 240ms/step - loss: 0.3835 - mean_io_u_3: 0.6260 - val_loss: 0.6551 - val_mean_io_u_3: 0.5726\n",
            "Epoch 58/200\n",
            "63/63 [==============================] - 15s 241ms/step - loss: 0.3681 - mean_io_u_3: 0.6021 - val_loss: 0.6426 - val_mean_io_u_3: 0.5780\n",
            "Epoch 59/200\n",
            "63/63 [==============================] - 15s 240ms/step - loss: 0.3734 - mean_io_u_3: 0.6093 - val_loss: 0.6389 - val_mean_io_u_3: 0.6185\n",
            "Epoch 60/200\n",
            "63/63 [==============================] - 15s 240ms/step - loss: 0.3832 - mean_io_u_3: 0.6083 - val_loss: 0.6506 - val_mean_io_u_3: 0.5963\n",
            "Epoch 61/200\n",
            "63/63 [==============================] - 15s 240ms/step - loss: 0.3693 - mean_io_u_3: 0.6056 - val_loss: 0.6386 - val_mean_io_u_3: 0.5733\n",
            "Epoch 62/200\n",
            "63/63 [==============================] - 15s 240ms/step - loss: 0.3681 - mean_io_u_3: 0.6245 - val_loss: 0.6280 - val_mean_io_u_3: 0.6392\n",
            "Epoch 63/200\n",
            "63/63 [==============================] - 15s 241ms/step - loss: 0.3559 - mean_io_u_3: 0.6348 - val_loss: 0.6515 - val_mean_io_u_3: 0.6029\n",
            "Epoch 64/200\n",
            "63/63 [==============================] - 15s 243ms/step - loss: 0.3713 - mean_io_u_3: 0.6371 - val_loss: 0.6723 - val_mean_io_u_3: 0.5939\n",
            "Epoch 65/200\n",
            "63/63 [==============================] - 15s 241ms/step - loss: 0.3602 - mean_io_u_3: 0.6414 - val_loss: 0.6518 - val_mean_io_u_3: 0.6268\n",
            "Epoch 66/200\n",
            "63/63 [==============================] - 15s 241ms/step - loss: 0.4049 - mean_io_u_3: 0.6191 - val_loss: 0.6469 - val_mean_io_u_3: 0.5859\n",
            "Epoch 67/200\n",
            "63/63 [==============================] - 15s 241ms/step - loss: 0.3830 - mean_io_u_3: 0.6294 - val_loss: 0.6423 - val_mean_io_u_3: 0.5947\n",
            "Epoch 68/200\n",
            "63/63 [==============================] - 15s 241ms/step - loss: 0.3560 - mean_io_u_3: 0.6417 - val_loss: 0.6489 - val_mean_io_u_3: 0.6140\n",
            "Epoch 69/200\n",
            "63/63 [==============================] - 15s 242ms/step - loss: 0.3776 - mean_io_u_3: 0.6393 - val_loss: 0.6424 - val_mean_io_u_3: 0.6316\n",
            "Epoch 70/200\n",
            "63/63 [==============================] - 15s 241ms/step - loss: 0.3698 - mean_io_u_3: 0.6382 - val_loss: 0.6472 - val_mean_io_u_3: 0.6238\n"
          ],
          "name": "stdout"
        }
      ]
    },
    {
      "cell_type": "code",
      "metadata": {
        "colab": {
          "base_uri": "https://localhost:8080/",
          "height": 545
        },
        "id": "WzrK9WFg1YBU",
        "outputId": "0d388e94-4a99-497c-b766-28f167e67d4f"
      },
      "source": [
        "for i,hist in enumerate(histories):\r\n",
        "  plt.plot(hist.history['loss'],label=\"{} layers\".format(depths[i]))\r\n",
        "plt.legend()\r\n",
        "plt.title('loss')\r\n",
        "plt.show()\r\n",
        "for i,hist in enumerate(histories):\r\n",
        "  plt.plot(hist.history['mean_io_u_{}'.format(str(1+i))],label=\"{} layers\".format(depths[i]))\r\n",
        "plt.legend()\r\n",
        "plt.title('mean_io_u score')\r\n",
        "plt.show()"
      ],
      "execution_count": 19,
      "outputs": [
        {
          "output_type": "display_data",
          "data": {
            "image/png": "[encoded data removed]",
            "text/plain": [
              "<Figure size 432x288 with 1 Axes>"
            ]
          },
          "metadata": {
            "tags": [],
            "needs_background": "light"
          }
        },
        {
          "output_type": "display_data",
          "data": {
            "image/png": "[encoded data removed]",
            "text/plain": [
              "<Figure size 432x288 with 1 Axes>"
            ]
          },
          "metadata": {
            "tags": [],
            "needs_background": "light"
          }
        }
      ]
    },
    {
      "cell_type": "code",
      "metadata": {
        "id": "da4PokSm1pIi"
      },
      "source": [
        "from sklearn.metrics import accuracy_score\r\n",
        "from sklearn.metrics import roc_auc_score\r\n",
        "from sklearn.metrics import f1_score\r\n",
        "from sklearn.metrics import auc\r\n",
        "from sklearn.metrics import precision_recall_curve,precision_score,recall_score"
      ],
      "execution_count": 20,
      "outputs": []
    },
    {
      "cell_type": "markdown",
      "metadata": {
        "id": "UGX4DGP0-Jaw"
      },
      "source": [
        "#test data"
      ]
    },
    {
      "cell_type": "code",
      "metadata": {
        "colab": {
          "base_uri": "https://localhost:8080/"
        },
        "id": "7GbbkdGQ1sCs",
        "outputId": "da2635c6-e550-475d-9573-9c25c534a5ae"
      },
      "source": [
        "\r\n",
        "# data\r\n",
        "data_location = \"/content/drive/My Drive/IDRid/A. Segmentation/1. Original Images/b. Testing Set\"\r\n",
        "test_data = []  # create an empty list\r\n",
        "for (dirName, subdirList, fileList) in sorted(os.walk(data_location)):\r\n",
        "    for fileName in sorted(fileList):\r\n",
        "        if \".jpg\" in fileName.lower() :\r\n",
        "            test_data.append(os.path.join(dirName,fileName))\r\n",
        "    \r\n",
        "print(len(test_data))\r\n",
        "target_root_location = \"/content/drive/My Drive/IDRid/A. Segmentation/2. All Segmentation Groundtruths/b. Testing Set/\"\r\n",
        "\r\n",
        "test_data_gt = []  # create an empty list\r\n",
        "segs=['1. Microaneurysms','2. Haemorrhages','3. Hard Exudates','4. Soft Exudates']\r\n",
        "for seg in segs:\r\n",
        "  data_location=target_root_location+seg\r\n",
        "  print(data_location)\r\n",
        "  seg_mask=[]\r\n",
        "  for dirName, subdirList, fileList in sorted(os.walk(data_location)):\r\n",
        "      for filename in sorted(fileList):\r\n",
        "          if \".tif\" in filename.lower() :\r\n",
        "              seg_mask.append(os.path.join(dirName,filename))\r\n",
        "              \r\n",
        "  test_data_gt.append(seg_mask)\r\n",
        "print(len(test_data_gt));"
      ],
      "execution_count": 21,
      "outputs": [
        {
          "output_type": "stream",
          "text": [
            "27\n",
            "/content/drive/My Drive/IDRid/A. Segmentation/2. All Segmentation Groundtruths/b. Testing Set/1. Microaneurysms\n",
            "/content/drive/My Drive/IDRid/A. Segmentation/2. All Segmentation Groundtruths/b. Testing Set/2. Haemorrhages\n",
            "/content/drive/My Drive/IDRid/A. Segmentation/2. All Segmentation Groundtruths/b. Testing Set/3. Hard Exudates\n",
            "/content/drive/My Drive/IDRid/A. Segmentation/2. All Segmentation Groundtruths/b. Testing Set/4. Soft Exudates\n",
            "4\n"
          ],
          "name": "stdout"
        }
      ]
    },
    {
      "cell_type": "code",
      "metadata": {
        "id": "On-jP8mN-LTh"
      },
      "source": [
        "test_batch = np.zeros(shape = (len(test_data), 512,512, 3));\r\n",
        "for file_index in range(0,len(test_data)):\r\n",
        "    #print(file_index)\r\n",
        "    # image\r\n",
        "    test_batch[file_index, :, :,:] = resize(imread(test_data[int(file_index)]), (512,512))\r\n",
        "\r\n",
        "# Normalize\r\n",
        "test_batch  = test_batch/255\r\n",
        "test_label = np.zeros(shape = (len(test_data_gt[1]), 512,512, 1));\r\n",
        "# but i am filing the test_label serially ie if one mask is not there i am not leaving that place balnk but filing the next mask in its place\r\n",
        "for file_index in range(0,len(test_data_gt[1])):  \r\n",
        "  img = cv2.cvtColor(imread(test_data_gt[1][file_index]), cv2.COLOR_BGRA2BGR)\r\n",
        "  img = cv2.cvtColor(img, cv2.COLOR_BGR2GRAY) \r\n",
        "  test_label[file_index, :, :,:] = np.expand_dims(resize(img, (512,512)), axis = 2)\r\n",
        "# scale to 0-1\r\n",
        "test_label[:,:,:,0]  = (test_label[:,:,:,0])/np.max(test_label)# - test_label[:,:,:,0].min(axis=0)) / (test_label[:,:,:,0].max(axis=0) - test_label[:,:,:,0].min(axis=0)+1e-10)\r\n",
        "# binarize the masks\r\n",
        "mask = test_label[:,:,:,:] > 0.25\r\n",
        "test_label[mask] = 1\r\n",
        "test_label[~mask] = 0"
      ],
      "execution_count": 24,
      "outputs": []
    },
    {
      "cell_type": "code",
      "metadata": {
        "colab": {
          "base_uri": "https://localhost:8080/"
        },
        "id": "kdLI8LDF-lnx",
        "outputId": "61b27b02-c060-4044-ecc2-ef2a62fd2aa0"
      },
      "source": [
        "print(test_batch.shape)\r\n",
        "print(test_label.shape)"
      ],
      "execution_count": 25,
      "outputs": [
        {
          "output_type": "stream",
          "text": [
            "(27, 512, 512, 3)\n",
            "(27, 512, 512, 1)\n"
          ],
          "name": "stdout"
        }
      ]
    },
    {
      "cell_type": "code",
      "metadata": {
        "colab": {
          "base_uri": "https://localhost:8080/",
          "height": 1000
        },
        "id": "O5Rin7Fz-zuo",
        "outputId": "1e9313c8-2aa9-41f0-89ba-8daa98d928c3"
      },
      "source": [
        "for j,model in enumerate(models):\r\n",
        "  print(j+2, \"layers\")\r\n",
        "  predicted_test_label=np.zeros(test_label.shape)\r\n",
        "  for i in range(27):\r\n",
        "  #print(np.expand_dims(test_batch[i],axis=0).shape)\r\n",
        "    predicted_test_label[i]=models[j].predict(np.expand_dims(test_batch[i],axis=0))\r\n",
        "  #generate the masks\r\n",
        "  \r\n",
        "  # ROC\r\n",
        "  test_auc = roc_auc_score(test_label.reshape(-1),predicted_test_label.reshape(-1))\r\n",
        "  #train_auc = roc_auc_score(train_label.reshape(-1),predicted_train_label.reshape(-1))\r\n",
        "  print(\"train \",0,\" test roc\",test_auc)\r\n",
        "\r\n",
        "  # F1\r\n",
        "  testy, yhat_classes=(test_label.reshape(-1),np.round(predicted_test_label.reshape(-1)))\r\n",
        "  test_f1 = f1_score(testy, yhat_classes)\r\n",
        "  #testy, yhat_classes=train_label.reshape(-1),np.round(predicted_train_label.reshape(-1))\r\n",
        "  #train_f1 = f1_score(testy, yhat_classes)\r\n",
        "  train_f1=0\r\n",
        "  print('Train  F1 score: %f' % train_f1,'Test F1 score: %f' % test_f1)\r\n",
        "\r\n",
        "  \r\n",
        "  #accuracy\r\n",
        "  accuracy = accuracy_score(testy, yhat_classes)\r\n",
        "  print('Accuracy: %f' % accuracy)\r\n",
        "  #AUPR\r\n",
        "  \r\n",
        "  test_aupr = precision_recall_curve(test_label.reshape(-1),predicted_test_label.reshape(-1))\r\n",
        "  train_auc=0\r\n",
        "  test_auc=auc(test_aupr[1],test_aupr[0] )\r\n",
        "  print(\"natural threshold train AUPR\",train_auc,\" test AUPR\",test_auc)\r\n",
        "  \r\n",
        "  #plot Precision recall curve\r\n",
        "  plt.plot(test_aupr[1],test_aupr[0])\r\n",
        "  plt.ylabel('Precision')\r\n",
        "  plt.xlabel('Recall')\r\n",
        "  plt.show()\r\n",
        "  #del predicted_test_label "
      ],
      "execution_count": 26,
      "outputs": [
        {
          "output_type": "stream",
          "text": [
            "2 layers\n",
            "train  0  test roc 0.8073018563517282\n",
            "Train  F1 score: 0.000000 Test F1 score: 0.507119\n",
            "Accuracy: 0.990903\n",
            "natural threshold train AUPR 0  test AUPR 0.4264377948313264\n"
          ],
          "name": "stdout"
        },
        {
          "output_type": "display_data",
          "data": {
            "image/png": "[encoded data removed]",
            "text/plain": [
              "<Figure size 432x288 with 1 Axes>"
            ]
          },
          "metadata": {
            "tags": [],
            "needs_background": "light"
          }
        },
        {
          "output_type": "stream",
          "text": [
            "3 layers\n",
            "train  0  test roc 0.8412946328936375\n",
            "Train  F1 score: 0.000000 Test F1 score: 0.436412\n",
            "Accuracy: 0.990660\n",
            "natural threshold train AUPR 0  test AUPR 0.385207790609604\n"
          ],
          "name": "stdout"
        },
        {
          "output_type": "display_data",
          "data": {
            "image/png": "[encoded data removed]",
            "text/plain": [
              "<Figure size 432x288 with 1 Axes>"
            ]
          },
          "metadata": {
            "tags": [],
            "needs_background": "light"
          }
        },
        {
          "output_type": "stream",
          "text": [
            "4 layers\n",
            "train  0  test roc 0.8334799077275938\n",
            "Train  F1 score: 0.000000 Test F1 score: 0.510963\n",
            "Accuracy: 0.991694\n",
            "natural threshold train AUPR 0  test AUPR 0.434511949368213\n"
          ],
          "name": "stdout"
        },
        {
          "output_type": "display_data",
          "data": {
            "image/png": "[encoded data removed]",
            "text/plain": [
              "<Figure size 432x288 with 1 Axes>"
            ]
          },
          "metadata": {
            "tags": [],
            "needs_background": "light"
          }
        }
      ]
    },
    {
      "cell_type": "code",
      "metadata": {
        "id": "fAdhcMNt_J83"
      },
      "source": [
        ""
      ],
      "execution_count": null,
      "outputs": []
    }
  ]
}