{
  "nbformat": 4,
  "nbformat_minor": 0,
  "metadata": {
    "colab": {
      "name": "Late_fusion_Attention_based_lesion.ipynb",
      "provenance": [],
      "collapsed_sections": [],
      "include_colab_link": true
    },
    "kernelspec": {
      "name": "python3",
      "display_name": "Python 3"
    },
    "language_info": {
      "name": "python"
    },
    "accelerator": "GPU"
  },
  "cells": [
    {
      "cell_type": "markdown",
      "metadata": {
        "id": "view-in-github",
        "colab_type": "text"
      },
      "source": [
        "<a href=\"https://colab.research.google.com/github/varJATIN/Ocular-fundus-image-Analysis/blob/main/Late_fusion_Attention_based_lesion_2.ipynb\" target=\"_parent\"><img src=\"https://colab.research.google.com/assets/colab-badge.svg\" alt=\"Open In Colab\"/></a>"
      ]
    },
    {
      "cell_type": "code",
      "metadata": {
        "id": "xRSLXUpbXIid",
        "colab": {
          "base_uri": "https://localhost:8080/"
        },
        "outputId": "184203e8-6a78-4fad-ccda-ea3381eec960"
      },
      "source": [
        "from google.colab import drive\n",
        "drive.mount('/content/drive')"
      ],
      "execution_count": 2,
      "outputs": [
        {
          "output_type": "stream",
          "text": [
            "Go to this URL in a browser: https://accounts.google.com/o/oauth2/auth?client_id=947318989803-6bn6qk8qdgf4n4g3pfee6491hc0brc4i.apps.googleusercontent.com&redirect_uri=urn%3aietf%3awg%3aoauth%3a2.0%3aoob&scope=email%20https%3a%2f%2fwww.googleapis.com%2fauth%2fdocs.test%20https%3a%2f%2fwww.googleapis.com%2fauth%2fdrive%20https%3a%2f%2fwww.googleapis.com%2fauth%2fdrive.photos.readonly%20https%3a%2f%2fwww.googleapis.com%2fauth%2fpeopleapi.readonly%20https%3a%2f%2fwww.googleapis.com%2fauth%2fdrive.activity.readonly%20https%3a%2f%2fwww.googleapis.com%2fauth%2fexperimentsandconfigs%20https%3a%2f%2fwww.googleapis.com%2fauth%2fphotos.native&response_type=code\n",
            "\n",
            "Enter your authorization code:\n",
            "4/1AY0e-g7l7l3q0bUXqLUQpsiTVdpPfXVodfPVOarGNKV-g2KFTeaa3IDPvBg\n",
            "Mounted at /content/drive\n"
          ],
          "name": "stdout"
        }
      ]
    },
    {
      "cell_type": "code",
      "metadata": {
        "id": "R56eJzH7TpT9"
      },
      "source": [
        "import os\n",
        "import sys\n",
        "import random\n",
        "import IPython\n",
        "\n",
        "from sklearn.utils import shuffle\n",
        "from sklearn.model_selection import train_test_split\n",
        "\n",
        "import numpy as np\n",
        "import pandas as pd\n",
        "import cv2\n",
        "import matplotlib.pyplot as plt\n",
        "from matplotlib.pyplot import imread\n",
        "\n",
        "import tensorflow as tf\n",
        "from tensorflow import keras\n",
        "\n",
        "from sklearn.utils import shuffle\n",
        "from sklearn.datasets import make_classification\n",
        "from sklearn.metrics import plot_confusion_matrix,confusion_matrix\n",
        "\n",
        "from matplotlib.pyplot import imread\n",
        "from cv2 import resize\n",
        "\n",
        "from keras import layers\n",
        "from keras.layers import Input, Add, Dense, Activation, ZeroPadding2D, BatchNormalization, Flatten, Conv2D, AveragePooling2D, MaxPooling2D, Dropout\n",
        "from keras.models import Model, load_model\n",
        "from keras.preprocessing import image\n",
        "from keras.utils import layer_utils\n",
        "from keras.utils.data_utils import get_file\n",
        "from keras.applications.imagenet_utils import preprocess_input\n",
        "import pydot\n",
        "from keras.utils.vis_utils import model_to_dot\n",
        "from keras.utils import plot_model\n",
        "from sklearn.preprocessing import OneHotEncoder\n",
        "\n",
        "from keras.initializers import glorot_uniform\n",
        "import scipy.misc\n",
        "from matplotlib.pyplot import imshow\n"
      ],
      "execution_count": 3,
      "outputs": []
    },
    {
      "cell_type": "markdown",
      "metadata": {
        "id": "NsTMfRzmWydA"
      },
      "source": [
        "## Read, Split train_val & oversample train set\n"
      ]
    },
    {
      "cell_type": "code",
      "metadata": {
        "id": "GiiAamo7Wu4Z",
        "colab": {
          "base_uri": "https://localhost:8080/",
          "height": 197
        },
        "outputId": "aa82549d-37ae-433d-95c4-a419046e932d"
      },
      "source": [
        "dataset_images_location = \"/content/drive/My Drive/IDRid/B. Disease Grading/1. Original Images/a. Training Set\"\n",
        "dataset_groundtruth_location = \"/content/drive/MyDrive/IDRid/B. Disease Grading/2. Groundtruths/a. IDRiD_Disease Grading_Training Labels.csv\"\n",
        "\n",
        "df = pd.read_csv(dataset_groundtruth_location)\n",
        "df_ = pd.DataFrame();\n",
        "df_['Image name'] = df['Image name']\n",
        "\n",
        "df_['Retinopathy grade'] = df['Retinopathy grade']\n",
        "\n",
        "train_df, val_df = train_test_split(df_, test_size = 0.15, random_state = 25);\n",
        "train_df.head()"
      ],
      "execution_count": 4,
      "outputs": [
        {
          "output_type": "execute_result",
          "data": {
            "text/html": [
              "<div>\n",
              "<style scoped>\n",
              "    .dataframe tbody tr th:only-of-type {\n",
              "        vertical-align: middle;\n",
              "    }\n",
              "\n",
              "    .dataframe tbody tr th {\n",
              "        vertical-align: top;\n",
              "    }\n",
              "\n",
              "    .dataframe thead th {\n",
              "        text-align: right;\n",
              "    }\n",
              "</style>\n",
              "<table border=\"1\" class=\"dataframe\">\n",
              "  <thead>\n",
              "    <tr style=\"text-align: right;\">\n",
              "      <th></th>\n",
              "      <th>Image name</th>\n",
              "      <th>Retinopathy grade</th>\n",
              "    </tr>\n",
              "  </thead>\n",
              "  <tbody>\n",
              "    <tr>\n",
              "      <th>72</th>\n",
              "      <td>IDRiD_073</td>\n",
              "      <td>2</td>\n",
              "    </tr>\n",
              "    <tr>\n",
              "      <th>256</th>\n",
              "      <td>IDRiD_257</td>\n",
              "      <td>0</td>\n",
              "    </tr>\n",
              "    <tr>\n",
              "      <th>290</th>\n",
              "      <td>IDRiD_291</td>\n",
              "      <td>1</td>\n",
              "    </tr>\n",
              "    <tr>\n",
              "      <th>311</th>\n",
              "      <td>IDRiD_312</td>\n",
              "      <td>0</td>\n",
              "    </tr>\n",
              "    <tr>\n",
              "      <th>389</th>\n",
              "      <td>IDRiD_390</td>\n",
              "      <td>4</td>\n",
              "    </tr>\n",
              "  </tbody>\n",
              "</table>\n",
              "</div>"
            ],
            "text/plain": [
              "    Image name  Retinopathy grade\n",
              "72   IDRiD_073                  2\n",
              "256  IDRiD_257                  0\n",
              "290  IDRiD_291                  1\n",
              "311  IDRiD_312                  0\n",
              "389  IDRiD_390                  4"
            ]
          },
          "metadata": {
            "tags": []
          },
          "execution_count": 4
        }
      ]
    },
    {
      "cell_type": "code",
      "metadata": {
        "id": "LNyGiE1WXzYw",
        "colab": {
          "base_uri": "https://localhost:8080/",
          "height": 283
        },
        "outputId": "a829a9f6-9725-43e2-d1a4-dd2de8a7df7e"
      },
      "source": [
        "val_df['Retinopathy grade'].hist()"
      ],
      "execution_count": 5,
      "outputs": [
        {
          "output_type": "execute_result",
          "data": {
            "text/plain": [
              "<matplotlib.axes._subplots.AxesSubplot at 0x7fe3cd8abdd0>"
            ]
          },
          "metadata": {
            "tags": []
          },
          "execution_count": 5
        },
        {
          "output_type": "display_data",
          "data": {
            "image/png": "[encoded data removed]",
            "text/plain": [
              "<Figure size 432x288 with 1 Axes>"
            ]
          },
          "metadata": {
            "tags": [],
            "needs_background": "light"
          }
        }
      ]
    },
    {
      "cell_type": "code",
      "metadata": {
        "id": "G3qr-lOfXsBf"
      },
      "source": [
        "def balance_data(class_size, df):\n",
        "    train_df = df.groupby(['Retinopathy grade']).apply(lambda x: x.sample(class_size, replace = True)).reset_index(drop = True)\n",
        "    train_df = train_df.sample(frac=1).reset_index(drop=True)\n",
        "    print('New Data Size:', train_df.shape[0], 'Old Size:', df.shape[0])\n",
        "    train_df['Retinopathy grade'].hist(figsize = (10, 5))\n",
        "    return train_df"
      ],
      "execution_count": 6,
      "outputs": []
    },
    {
      "cell_type": "code",
      "metadata": {
        "id": "S4tcksqqXwre",
        "colab": {
          "base_uri": "https://localhost:8080/",
          "height": 355
        },
        "outputId": "86b0ec65-ed6a-4c73-e793-67d57f6e80fa"
      },
      "source": [
        "train_df = balance_data(train_df.pivot_table(index='Retinopathy grade', aggfunc=len).max().max(),train_df) # I will oversample such that all classes have the same number of images as the maximum\n",
        "train_df['Retinopathy grade'].hist(figsize = (10, 5))"
      ],
      "execution_count": 7,
      "outputs": [
        {
          "output_type": "stream",
          "text": [
            "New Data Size: 600 Old Size: 351\n"
          ],
          "name": "stdout"
        },
        {
          "output_type": "execute_result",
          "data": {
            "text/plain": [
              "<matplotlib.axes._subplots.AxesSubplot at 0x7fe3cd7b19d0>"
            ]
          },
          "metadata": {
            "tags": []
          },
          "execution_count": 7
        },
        {
          "output_type": "display_data",
          "data": {
            "image/png": "[encoded data removed]",
            "text/plain": [
              "<Figure size 720x360 with 1 Axes>"
            ]
          },
          "metadata": {
            "tags": [],
            "needs_background": "light"
          }
        }
      ]
    },
    {
      "cell_type": "code",
      "metadata": {
        "id": "1Ly7b2KygvHf"
      },
      "source": [
        "def crop_image_from_gray(img, tol=7):\n",
        "    \"\"\"\n",
        "    Applies masks to the orignal image and \n",
        "    returns the a preprocessed image with \n",
        "    3 channels\n",
        "    :param img: A NumPy Array that will be cropped\n",
        "    :param tol: The tolerance used for masking\n",
        "    :return: A NumPy array containing the cropped image\n",
        "    \"\"\"\n",
        "    # If for some reason we only have two channels\n",
        "    if img.ndim == 2:\n",
        "        mask = img > tol\n",
        "        return img[np.ix_(mask.any(1),mask.any(0))]\n",
        "    # If we have a normal RGB images\n",
        "    elif img.ndim == 3:\n",
        "        gray_img = cv2.cvtColor(img, cv2.COLOR_RGB2GRAY)\n",
        "        mask = gray_img > tol\n",
        "        \n",
        "        check_shape = img[:,:,0][np.ix_(mask.any(1),mask.any(0))].shape[0]\n",
        "        if (check_shape == 0): # image is too dark so that we crop out everything,\n",
        "            return img # return original image\n",
        "        else:\n",
        "            img1=img[:,:,0][np.ix_(mask.any(1),mask.any(0))]\n",
        "            img2=img[:,:,1][np.ix_(mask.any(1),mask.any(0))]\n",
        "            img3=img[:,:,2][np.ix_(mask.any(1),mask.any(0))]\n",
        "            img = np.stack([img1,img2,img3],axis=-1)\n",
        "        return img"
      ],
      "execution_count": 8,
      "outputs": []
    },
    {
      "cell_type": "code",
      "metadata": {
        "id": "ZDnLOaZ1X2Sr",
        "colab": {
          "base_uri": "https://localhost:8080/"
        },
        "outputId": "5fa7ee15-a8e7-4acb-930c-a54ffc5698cf"
      },
      "source": [
        "image_names = train_df['Image name'];\n",
        "im_size = 512;\n",
        "\n",
        "train_labels = [];\n",
        "for label in train_df['Retinopathy grade']:\n",
        "    #for i in range(2): # 2 times for data augmentation\n",
        "    train_labels.append(label)\n",
        "\n",
        "print(\"len of labels \",len(train_labels))\n",
        "\n",
        "train_images= np.zeros((len(train_labels),im_size,im_size,3))\n",
        "\n",
        "index=0\n",
        "for image_name in image_names:\n",
        "    #read image\n",
        "    img = imread(dataset_images_location + '/' + image_name + \".jpg\");\n",
        "    img=crop_image_from_gray(img)\n",
        "    img = cv2.resize(img, (im_size, im_size));\n",
        "    #load into array\n",
        "    train_images[index,:,:,:] = img\n",
        "\n",
        "    #rot 180\n",
        "    #train_images[index + 1] = np.rot90(np.rot90(img))\n",
        "    index = index + 1\n",
        "\n",
        "train_images = train_images.astype('float32') / np.max(train_images)\n",
        "train_labels = np.array(train_labels, ndmin = 2)\n",
        "train_labels = np.transpose(train_labels)\n",
        "\n",
        "enc = OneHotEncoder(categories='auto', drop=None, sparse=False, dtype = np.int, handle_unknown='error')\n",
        "enc.fit(train_labels)\n",
        "train_labels = enc.transform(train_labels)\n",
        "\n",
        "print(train_images.shape)\n",
        "print(train_labels.shape) \n",
        "train_labels[0:5]"
      ],
      "execution_count": 9,
      "outputs": [
        {
          "output_type": "stream",
          "text": [
            "len of labels  600\n",
            "(600, 512, 512, 3)\n",
            "(600, 5)\n"
          ],
          "name": "stdout"
        },
        {
          "output_type": "execute_result",
          "data": {
            "text/plain": [
              "array([[0, 1, 0, 0, 0],\n",
              "       [0, 0, 1, 0, 0],\n",
              "       [0, 0, 1, 0, 0],\n",
              "       [0, 0, 0, 0, 1],\n",
              "       [0, 1, 0, 0, 0]])"
            ]
          },
          "metadata": {
            "tags": []
          },
          "execution_count": 9
        }
      ]
    },
    {
      "cell_type": "code",
      "metadata": {
        "id": "ZXCiTunxYFHI"
      },
      "source": [
        "from tensorflow.keras.preprocessing.image import ImageDataGenerator\n",
        "train_datagen = ImageDataGenerator(\n",
        "    shear_range=0.0,\n",
        "    zoom_range=[0.75,1],\n",
        "    #brightness_range=[0.,0.01],\n",
        "    #zca_whitening\t=True,\n",
        "    width_shift_range=1.1,\n",
        "    height_shift_range=0.05,\n",
        "    rotation_range=15,\n",
        "    fill_mode='nearest',\n",
        "    horizontal_flip=True,\n",
        "    vertical_flip=True)\n",
        "train_datagen.fit(train_images)"
      ],
      "execution_count": 10,
      "outputs": []
    },
    {
      "cell_type": "markdown",
      "metadata": {
        "id": "CgZsQfELYF99"
      },
      "source": [
        "## Read test_df\n"
      ]
    },
    {
      "cell_type": "code",
      "metadata": {
        "id": "H56u-I1AYL5T",
        "colab": {
          "base_uri": "https://localhost:8080/"
        },
        "outputId": "d5f327d1-3dea-413a-aad5-5448fab1e890"
      },
      "source": [
        "test_images_location = \"/content/drive/My Drive/IDRid/B. Disease Grading/1. Original Images/b. Testing Set\"\n",
        "test_groundtruth_location = \"/content/drive/MyDrive/IDRid/B. Disease Grading/2. Groundtruths/b. IDRiD_Disease Grading_Testing Labels.csv\"\n",
        "\n",
        "test_df = pd.read_csv(test_groundtruth_location)\n",
        "test_df_ = pd.DataFrame();\n",
        "test_df_['Image name'] = test_df['Image name']\n",
        "test_df_['Retinopathy grade'] = test_df['Retinopathy grade']\n",
        "test_df = test_df_\n",
        "print(test_df.head())"
      ],
      "execution_count": 11,
      "outputs": [
        {
          "output_type": "stream",
          "text": [
            "  Image name  Retinopathy grade\n",
            "0  IDRiD_001                  4\n",
            "1  IDRiD_002                  4\n",
            "2  IDRiD_003                  4\n",
            "3  IDRiD_004                  4\n",
            "4  IDRiD_005                  4\n"
          ],
          "name": "stdout"
        }
      ]
    },
    {
      "cell_type": "code",
      "metadata": {
        "id": "ng7pzZCycN4u",
        "colab": {
          "base_uri": "https://localhost:8080/",
          "height": 283
        },
        "outputId": "2f6b3f66-2613-4530-8032-694f34f85e74"
      },
      "source": [
        "test_df['Retinopathy grade'].hist()"
      ],
      "execution_count": 12,
      "outputs": [
        {
          "output_type": "execute_result",
          "data": {
            "text/plain": [
              "<matplotlib.axes._subplots.AxesSubplot at 0x7fe3cbfc4610>"
            ]
          },
          "metadata": {
            "tags": []
          },
          "execution_count": 12
        },
        {
          "output_type": "display_data",
          "data": {
            "image/png": "[encoded data removed]",
            "text/plain": [
              "<Figure size 432x288 with 1 Axes>"
            ]
          },
          "metadata": {
            "tags": [],
            "needs_background": "light"
          }
        }
      ]
    },
    {
      "cell_type": "code",
      "metadata": {
        "id": "CddZqHRtYQfD",
        "colab": {
          "base_uri": "https://localhost:8080/"
        },
        "outputId": "a8872f69-11e7-4aa4-e64f-78591fb9aa68"
      },
      "source": [
        "test_image_names = [];\n",
        "test_image_names = test_df['Image name'];\n",
        "print(\"len of test set \",len(test_image_names))\n",
        "im_size = 512;\n",
        "\n",
        "test_labels = [];\n",
        "test_labels = test_df['Retinopathy grade'];\n",
        "\n",
        "test_images = []\n",
        "for image_name in test_image_names:\n",
        "    img = imread(test_images_location + '/' + image_name + \".jpg\");\n",
        "    img=crop_image_from_gray(img)\n",
        "    img = cv2.resize(img, (im_size, im_size));\n",
        "    test_images.append(img);\n",
        "\n",
        "test_images = np.array(test_images)\n",
        "test_images = test_images.astype('float32') / np.max(test_images)\n",
        "test_labels = np.array(test_labels, ndmin = 2)\n",
        "test_labels = np.transpose(test_labels)\n",
        "\n",
        "test_labels = enc.transform(test_labels)\n",
        "\n",
        "print(test_images.shape)\n",
        "print(test_labels.shape) "
      ],
      "execution_count": 13,
      "outputs": [
        {
          "output_type": "stream",
          "text": [
            "len of test set  103\n",
            "(103, 512, 512, 3)\n",
            "(103, 5)\n"
          ],
          "name": "stdout"
        }
      ]
    },
    {
      "cell_type": "code",
      "metadata": {
        "id": "GNrZzFL7YUZq",
        "colab": {
          "base_uri": "https://localhost:8080/"
        },
        "outputId": "2de215e8-6488-4a69-f97a-b01df29e4302"
      },
      "source": [
        "val_image_names = [];\n",
        "val_image_names = val_df['Image name'];\n",
        "print(\"len of val set \",len(val_image_names))\n",
        "im_size = 512;\n",
        "\n",
        "val_labels = [];\n",
        "val_labels = val_df['Retinopathy grade'];\n",
        "\n",
        "val_images = []\n",
        "for image_name in val_image_names:\n",
        "    img = imread(dataset_images_location + '/' + image_name + \".jpg\");\n",
        "    img=crop_image_from_gray(img)\n",
        "    img = cv2.resize(img, (im_size, im_size));\n",
        "    val_images.append(img);\n",
        "print(\"max value of image \",np.max(val_images))\n",
        "val_images = np.array(val_images)\n",
        "val_images = val_images.astype('float32') / np.max(val_images)\n",
        "val_labels = np.array(val_labels, ndmin = 2)\n",
        "val_labels = np.transpose(val_labels)\n",
        "\n",
        "#use encoder fitted on train data for both val and test data\n",
        "val_labels = enc.transform(val_labels)\n",
        "\n",
        "print(val_images.shape)\n",
        "print(val_labels.shape) "
      ],
      "execution_count": 14,
      "outputs": [
        {
          "output_type": "stream",
          "text": [
            "len of val set  62\n",
            "max value of image  255\n",
            "(62, 512, 512, 3)\n",
            "(62, 5)\n"
          ],
          "name": "stdout"
        }
      ]
    },
    {
      "cell_type": "code",
      "metadata": {
        "id": "1MVRTsgqImVs"
      },
      "source": [
        "val_datagen = ImageDataGenerator(\n",
        "    shear_range=0.0,\n",
        "    zoom_range=[0.75,1],\n",
        "    width_shift_range=1.1,\n",
        "    height_shift_range=0.05,\n",
        "    rotation_range=15,\n",
        "    fill_mode='nearest',\n",
        "    horizontal_flip=True,\n",
        "    vertical_flip=True)\n",
        "val_datagen.fit(val_images)"
      ],
      "execution_count": 15,
      "outputs": []
    },
    {
      "cell_type": "code",
      "metadata": {
        "id": "MMQT_8peYegH",
        "colab": {
          "base_uri": "https://localhost:8080/"
        },
        "outputId": "b8854cc1-2f43-4243-fea5-0440d750005e"
      },
      "source": [
        "from sklearn.utils import shuffle\n",
        "train_images, train_labels = shuffle(train_images, train_labels, random_state = 1)\n",
        "# If train and test are from respective sets\n",
        "print(\"train x size \",train_images.shape)\n",
        "print(\"train y size \",train_labels.shape)\n",
        "print(\"test x size \",test_images.shape)\n",
        "print(\"test y size \",test_labels.shape)\n",
        "print(\"val x size \",val_images.shape)\n",
        "print(\"val y size \",val_labels.shape)"
      ],
      "execution_count": 16,
      "outputs": [
        {
          "output_type": "stream",
          "text": [
            "train x size  (600, 512, 512, 3)\n",
            "train y size  (600, 5)\n",
            "test x size  (103, 512, 512, 3)\n",
            "test y size  (103, 5)\n",
            "val x size  (62, 512, 512, 3)\n",
            "val y size  (62, 5)\n"
          ],
          "name": "stdout"
        }
      ]
    },
    {
      "cell_type": "code",
      "metadata": {
        "id": "x0EgVEcFct7X",
        "colab": {
          "base_uri": "https://localhost:8080/",
          "height": 264
        },
        "outputId": "4e46ce76-6ad3-4fad-fb33-d21db5a134df"
      },
      "source": [
        "for i in range(9):\n",
        "  ax=plt.subplot(3,3,i+1)\n",
        "  plt.imshow(train_images[2*i+1])\n",
        "  plt.title(\"{}\".format(np.argmax(train_labels[2*i+1]))) \n",
        "  plt.axis('off')"
      ],
      "execution_count": 17,
      "outputs": [
        {
          "output_type": "display_data",
          "data": {
            "image/png": "[encoded data removed]",
            "text/plain": [
              "<Figure size 432x288 with 9 Axes>"
            ]
          },
          "metadata": {
            "tags": [],
            "needs_background": "light"
          }
        }
      ]
    },
    {
      "cell_type": "code",
      "metadata": {
        "colab": {
          "base_uri": "https://localhost:8080/",
          "height": 264
        },
        "id": "L4S6mXct4Ryj",
        "outputId": "3f8c8c87-0be5-4555-fe31-b96868c3e31b"
      },
      "source": [
        "x=train_datagen.flow(train_images, train_labels,batch_size=9,shuffle=True)\n",
        "for i,(img,lbl) in enumerate(x):\n",
        "  for j in range(9):\n",
        "    ax=plt.subplot(3,3,j+1)  \n",
        "    plt.imshow(img[j])\n",
        "    plt.title(\"{}\".format(np.argmax(lbl[j]))) \n",
        "    plt.axis('off')\n",
        "  break\n",
        "del x"
      ],
      "execution_count": 99,
      "outputs": [
        {
          "output_type": "display_data",
          "data": {
            "image/png": "[encoded data removed]",
            "text/plain": [
              "<Figure size 432x288 with 9 Axes>"
            ]
          },
          "metadata": {
            "tags": [],
            "needs_background": "light"
          }
        }
      ]
    },
    {
      "cell_type": "code",
      "metadata": {
        "id": "uMlPKA68YoGb"
      },
      "source": [
        "from keras.models import Sequential\n",
        "from tensorflow.keras.applications import EfficientNetB0,EfficientNetB4\n",
        "from tensorflow.keras.applications.densenet import DenseNet121#,Resnet50\n",
        "from keras.models import Model"
      ],
      "execution_count": 103,
      "outputs": []
    },
    {
      "cell_type": "markdown",
      "metadata": {
        "id": "Mb_ARf8b-Q91"
      },
      "source": [
        "## Load Segmentation model \n"
      ]
    },
    {
      "cell_type": "code",
      "metadata": {
        "id": "OmTjutGCKR8r"
      },
      "source": [
        "from tensorflow.keras.models import model_from_json\n",
        "def load_seg_model(model_name):\n",
        "    \"\"\"\n",
        "    loads the pretrained seg model of given lesion\n",
        "    \"\"\"\n",
        "    # # load json and create model\n",
        "    json_file = open('/content/drive/MyDrive/IDRid/{}.json'.format(model_name), 'r')\n",
        "    loaded_model_json = json_file.read()\n",
        "    json_file.close()\n",
        "    loaded_model = model_from_json(loaded_model_json)\n",
        "\n",
        "    # # load weights into new model\n",
        "    loaded_model.load_weights(\"/content/drive/MyDrive/IDRid/{}.h5\".format(model_name))\n",
        "    # print(\"Loaded model from disk\")\n",
        "\n",
        "    # # evaluate loaded model on test data\n",
        "    loaded_model.compile()\n",
        "    print(model_name,\" Model loaded and compiled\")\n",
        "    return loaded_model"
      ],
      "execution_count": 20,
      "outputs": []
    },
    {
      "cell_type": "code",
      "metadata": {
        "id": "k4YdC1TeEBPL"
      },
      "source": [
        ""
      ],
      "execution_count": 20,
      "outputs": []
    },
    {
      "cell_type": "code",
      "metadata": {
        "id": "ffnijUOR9Kkr"
      },
      "source": [
        "def convolutional_block(X, f, filters, stage, block, s = 2):\n",
        "    \"\"\"\n",
        "    Implementation of the convolutional block\n",
        "    Arguments:\n",
        "    X -- input tensor of shape (m, n_H_prev, n_W_prev, n_C_prev)\n",
        "    f -- integer, specifying the shape of the middle CONV's window for the main path\n",
        "    filters -- python list of integers, defining the number of filters in the CONV layers of the main path\n",
        "    stage -- integer, used to name the layers, depending on their position in the network\n",
        "    block -- string/character, used to name the layers, depending on their position in the network\n",
        "    s -- Integer, specifying the stride to be used\n",
        "    Returns:\n",
        "    X -- output of the convolutional block, tensor of shape (n_H, n_W, n_C)\n",
        "    \"\"\"\n",
        "    \n",
        "    # defining name basis\n",
        "    conv_name_base = 'res' + str(stage) + block + '_branch'\n",
        "    bn_name_base = 'bn' + str(stage) + block + '_branch'\n",
        "    \n",
        "    # Retrieve Filters\n",
        "    F1, F2, F3 = filters\n",
        "    \n",
        "    # Save the input value\n",
        "    X_shortcut = X\n",
        "    ##### MAIN PATH #####\n",
        "    # First component of main path \n",
        "    X = Conv2D(F1, (1, 1), strides = (s,s), name = conv_name_base + '2a', kernel_initializer = glorot_uniform(seed=0))(X)\n",
        "    X = BatchNormalization(axis = 3, name = bn_name_base + '2a')(X)\n",
        "    X = Activation('relu')(X)\n",
        "    \n",
        "    # Second component of main path \n",
        "    X = Conv2D(F2, (f,f), strides = (1,1), padding = 'same', name = conv_name_base + '2b', kernel_initializer=glorot_uniform(seed =0))(X)\n",
        "    X = BatchNormalization(axis = 3, name = bn_name_base + '2b')(X)\n",
        "    X = Activation('relu') (X)\n",
        "\n",
        "    # Third component of main path \n",
        "    X = Conv2D(F3, (1,1), strides = (1,1), padding = 'valid', name = conv_name_base + '2c', kernel_initializer=glorot_uniform(seed =0))(X)\n",
        "    X = BatchNormalization(axis = 3, name = bn_name_base + '2c')(X)\n",
        "\n",
        "    ##### SHORTCUT PATH #### \n",
        "    X_shortcut = Conv2D(F3, (1,1), strides = (s,s), padding = 'valid', name = conv_name_base + '1', kernel_initializer=glorot_uniform(seed =0))(X_shortcut)\n",
        "    X_shortcut = BatchNormalization(axis = 3, name = bn_name_base + '1')(X_shortcut)\n",
        "\n",
        "    # Final step: Add shortcut value to main path, and pass it through a RELU activation \n",
        "    X = Add()([X, X_shortcut])\n",
        "    X = Activation('relu')(X)\n",
        "    return X\n"
      ],
      "execution_count": 21,
      "outputs": []
    },
    {
      "cell_type": "code",
      "metadata": {
        "id": "KPTSnf07_pjM"
      },
      "source": [
        "def build_model(num_classes,model_name):\n",
        "    random.seed = 1337\n",
        "    tf.seed = 1337\n",
        "    tf.random.set_seed(1337)\n",
        "    IMG_SIZE=380#224\n",
        "    NUM_CLASSES=num_classes\n",
        "    # define inputs\n",
        "    input_0 =layers.Input(shape=(512,512, 3))\n",
        "    input_1=tf.keras.layers.experimental.preprocessing.Resizing(IMG_SIZE,IMG_SIZE,  name='resize_input')(input_0)\n",
        "    if model_name=='DenseNet121':\n",
        "      base_model = DenseNet121(include_top=False, input_tensor=input_1, weights=\"imagenet\")\n",
        "    elif model_name=='EfficientNetB4':\n",
        "      base_model = EfficientNetB4(include_top=False, input_tensor=input_1*255, weights=\"imagenet\")\n",
        "    ex_model=load_seg_model(\"model_EX\")\n",
        "    ma_model=load_seg_model(\"model_MA\")\n",
        "    se_model=load_seg_model(\"model_SE\")\n",
        "    he_model=load_seg_model(\"model_HE_1\")\n",
        "    # Freeze the pretrained weights\n",
        "    base_model.trainable = False\n",
        "    ex_model.trainable=False\n",
        "    se_model.trainable=False\n",
        "    ma_model.trainable=False\n",
        "    he_model.trainable=False\n",
        "    ex_model._name='model_ex'\n",
        "    ma_model._name='model_ma'\n",
        "    se_model._name='model_se'\n",
        "    he_model._name='model_he'\n",
        "    #pass image for lesion\n",
        "    les_ex=ex_model(input_0)\n",
        "    les_se=se_model(input_0)\n",
        "    les_ma=ma_model(input_0)\n",
        "    les_he=he_model(input_0)\n",
        "\n",
        "    #attention based input\n",
        "    att=layers.Concatenate(name='concat_lesion')([les_ex,les_se,les_ma,les_he])\n",
        "    #att= layers.Add(name='lesion_Add')([les_ex,les_se,les_ma,les_he])\n",
        "    #att=Conv2D(3,3,strides=(1,1),padding='same')(att)\n",
        "    #att=layers.BatchNormalization(name='0_bn')(att)\n",
        "    #att=tf.keras.activations.sigmoid(att)\n",
        "    #f_lesions=layers.Add()([input_0,att])\n",
        "    \n",
        "    W_g=keras.layers.Conv2D(6, kernel_size=1, padding='same', strides=1,name='Wg')(att)\n",
        "    W_g=tf.keras.layers.BatchNormalization()(W_g)\n",
        "    #input image\n",
        "    W_x=keras.layers.Conv2D(6, kernel_size=1, padding='same', strides=1,name='Wx')(input_0)\n",
        "    W_x=tf.keras.layers.BatchNormalization()(W_x)\n",
        "    # convolve to  attention filter\n",
        "    att=layers.Add(name='additive_enhance_layer')([W_x,W_g])\n",
        "    att=tf.keras.activations.relu(att, alpha=0.0, max_value=None, threshold=0)\n",
        "    att=keras.layers.Conv2D(3, kernel_size=1, padding='same', strides=1)(att)\n",
        "    att=tf.keras.activations.sigmoid(tf.keras.layers.BatchNormalization()(att))\n",
        "    f_lesions=tf.keras.layers.Multiply()([att,input_0])\n",
        "    #print(f_lesions.shape)\n",
        "    #block1\n",
        "    f_lesions=convolutional_block(f_lesions,3,(3,3,8),1,'1')\n",
        "    f_lesions=convolutional_block(f_lesions,3,(8,8,16),2,'2')\n",
        "    f_lesions=convolutional_block(f_lesions,3,(16,16,32),3,'3')\n",
        "    f_lesions=convolutional_block(f_lesions,3,(32,32,64),4,'4')\n",
        "    f_lesions=layers.GlobalAveragePooling2D()(f_lesions)\n",
        "    #print(f_lesions.shape)\n",
        "    top_dropout_rate = 0.2\n",
        "    #f_lesions = Dense(256, activation=\"relu\", name=\"last_dense_1\")(f_lesions)\n",
        "    #f_lesions = Dropout(top_dropout_rate, name=\"top_dropout_1\")(f_lesions)\n",
        "    #output_1 = Dense(5, activation=\"softmax\", name=\"pred_1\")(f_lesions)\n",
        "    \n",
        "    #predection_2\n",
        "    x=base_model.output\n",
        "    x=layers.GlobalAveragePooling2D()(x)\n",
        "    x=layers.Concatenate()([x,f_lesions])\n",
        "    # Rebuild top\n",
        "    x = Flatten(name=\"flatten_2\")(x)\n",
        "    x = Dropout(top_dropout_rate, name=\"top_dropout_1\")(x)\n",
        "    x = Dense(256, activation=\"relu\", name=\"last_dense_2\")(x)\n",
        "    x = Dropout(top_dropout_rate, name=\"top_dropout_2\")(x)\n",
        "    x = Dense(NUM_CLASSES, activation=\"softmax\", name=\"pred_2\")(x)\n",
        "  \n",
        "    # Compile\n",
        "    model = tf.keras.Model(input_0, x, name=\"Segnet\")\n",
        "    optimizer = tf.keras.optimizers.Adam(learning_rate=1e-4,beta_1=0.9)\n",
        "    model.compile(\n",
        "        optimizer=optimizer, loss=\"categorical_crossentropy\", metrics=[\"accuracy\"]\n",
        "    )\n",
        "    return model"
      ],
      "execution_count": 101,
      "outputs": []
    },
    {
      "cell_type": "code",
      "metadata": {
        "colab": {
          "base_uri": "https://localhost:8080/"
        },
        "id": "ZRIFcWk2Kotu",
        "outputId": "10dab600-9811-4357-aefb-a72b53c873a8"
      },
      "source": [
        "random.seed = 1337\n",
        "tf.seed = 1337\n",
        "tf.random.set_seed(1337)\n",
        "model=build_model(5,'EfficientNetB4')"
      ],
      "execution_count": 121,
      "outputs": [
        {
          "output_type": "stream",
          "text": [
            "model_EX  Model loaded and compiled\n",
            "model_MA  Model loaded and compiled\n",
            "model_SE  Model loaded and compiled\n",
            "model_HE_1  Model loaded and compiled\n"
          ],
          "name": "stdout"
        }
      ]
    },
    {
      "cell_type": "code",
      "metadata": {
        "id": "TSKp_gY5Cweq",
        "colab": {
          "base_uri": "https://localhost:8080/"
        },
        "outputId": "dbf0a129-5d9e-4523-f3e6-a58d614208a9"
      },
      "source": [
        "from keras.utils.layer_utils import count_params\n",
        "trainable_count = count_params(model.trainable_weights)\n",
        "non_trainable_count = count_params(model.non_trainable_weights)\n",
        "\n",
        "print('Total params: {:,}'.format(trainable_count + non_trainable_count))\n",
        "print('Trainable params: {:,}'.format(trainable_count))\n",
        "print('Non-trainable params: {:,}'.format(non_trainable_count))"
      ],
      "execution_count": 122,
      "outputs": [
        {
          "output_type": "stream",
          "text": [
            "Total params: 19,980,081\n",
            "Trainable params: 496,810\n",
            "Non-trainable params: 19,483,271\n"
          ],
          "name": "stdout"
        }
      ]
    },
    {
      "cell_type": "code",
      "metadata": {
        "id": "gt7iQMw3OOuX",
        "colab": {
          "base_uri": "https://localhost:8080/",
          "height": 53
        },
        "outputId": "4a78d21c-0c9f-4082-a395-57ebe933adc9"
      },
      "source": [
        "\"\"\"plot_model(\n",
        "    model,\n",
        "    to_file=\"model.png\",\n",
        "    show_shapes=False,\n",
        "    show_dtype=False,\n",
        "    show_layer_names=True,\n",
        "    rankdir=\"TB\",\n",
        "    expand_nested=False,\n",
        "    dpi=48,\n",
        ")\"\"\""
      ],
      "execution_count": 123,
      "outputs": [
        {
          "output_type": "execute_result",
          "data": {
            "application/vnd.google.colaboratory.intrinsic+json": {
              "type": "string"
            },
            "text/plain": [
              "'plot_model(\\n    model,\\n    to_file=\"model.png\",\\n    show_shapes=False,\\n    show_dtype=False,\\n    show_layer_names=True,\\n    rankdir=\"TB\",\\n    expand_nested=False,\\n    dpi=48,\\n)'"
            ]
          },
          "metadata": {
            "tags": []
          },
          "execution_count": 123
        }
      ]
    },
    {
      "cell_type": "code",
      "metadata": {
        "id": "aP0LFONWQKFH"
      },
      "source": [
        "class LRFinder:\n",
        "    \"\"\"\n",
        "    Plots the change of the loss function of a Keras model when the learning rate is exponentially increasing.\n",
        "    See for details:\n",
        "    https://towardsdatascience.com/estimating-optimal-learning-rate-for-a-deep-neural-network-ce32f2556ce0\n",
        "    \"\"\"\n",
        "    def __init__(self, model):\n",
        "        self.model = model\n",
        "        self.losses = []\n",
        "        self.lrs = []\n",
        "        self.best_loss = 1e9\n",
        "\n",
        "    def on_batch_end(self, batch, logs):\n",
        "        # Log the learning rate\n",
        "        lr = K.get_value(self.model.optimizer.lr)\n",
        "        self.lrs.append(lr)\n",
        "\n",
        "        # Log the loss\n",
        "        loss = logs['loss']\n",
        "        self.losses.append(loss)\n",
        "\n",
        "        # Check whether the loss got too large or NaN\n",
        "        if math.isnan(loss) or loss > self.best_loss * 4:\n",
        "            self.model.stop_training = True\n",
        "            return\n",
        "\n",
        "        if loss < self.best_loss:\n",
        "            self.best_loss = loss\n",
        "\n",
        "        # Increase the learning rate for the next batch\n",
        "        lr *= self.lr_mult\n",
        "        K.set_value(self.model.optimizer.lr, lr)\n",
        "\n",
        "    def find(self, x_train, y_train, start_lr, end_lr, batch_size=64, epochs=1):\n",
        "        num_batches = epochs * x_train.shape[0] / batch_size\n",
        "        self.lr_mult = (end_lr / start_lr) ** (1 / num_batches)\n",
        "\n",
        "        # Save weights into a file\n",
        "        self.model.save_weights('tmp.h5')\n",
        "\n",
        "        # Remember the original learning rate\n",
        "        original_lr = K.get_value(self.model.optimizer.lr)\n",
        "\n",
        "        # Set the initial learning rate\n",
        "        K.set_value(self.model.optimizer.lr, start_lr)\n",
        "\n",
        "        callback = LambdaCallback(on_batch_end=lambda batch, logs: self.on_batch_end(batch, logs))\n",
        "\n",
        "        self.model.fit(x_train, y_train,\n",
        "                        batch_size=batch_size, epochs=epochs,\n",
        "                        callbacks=[callback])\n",
        "\n",
        "        # Restore the weights to the state before model fitting\n",
        "        self.model.load_weights('tmp.h5')\n",
        "\n",
        "        # Restore the original learning rate\n",
        "        K.set_value(self.model.optimizer.lr, original_lr)\n",
        "\n",
        "    def plot_loss(self, n_skip_beginning=10, n_skip_end=5):\n",
        "        \"\"\"\n",
        "        Plots the loss.\n",
        "        Parameters:\n",
        "            n_skip_beginning - number of batches to skip on the left.\n",
        "            n_skip_end - number of batches to skip on the right.\n",
        "        \"\"\"\n",
        "        plt.ylabel(\"loss\")\n",
        "        plt.xlabel(\"learning rate (log scale)\")\n",
        "        plt.plot(self.lrs[n_skip_beginning:-n_skip_end], self.losses[n_skip_beginning:-n_skip_end])\n",
        "        plt.xscale('log')\n",
        "\n",
        "    def plot_loss_change(self, sma=1, n_skip_beginning=10, n_skip_end=5, y_lim=(-0.01, 0.01)):\n",
        "        \"\"\"\n",
        "        Plots rate of change of the loss function.\n",
        "        Parameters:\n",
        "            sma - number of batches for simple moving average to smooth out the curve.\n",
        "            n_skip_beginning - number of batches to skip on the left.\n",
        "            n_skip_end - number of batches to skip on the right.\n",
        "            y_lim - limits for the y axis.\n",
        "        \"\"\"\n",
        "        assert sma >= 1\n",
        "        derivatives = [0] * sma\n",
        "        for i in range(sma, len(self.lrs)):\n",
        "            derivative = (self.losses[i] - self.losses[i - sma]) / sma\n",
        "            derivatives.append(derivative)\n",
        "\n",
        "        plt.ylabel(\"rate of loss change\")\n",
        "        plt.xlabel(\"learning rate (log scale)\")\n",
        "        plt.plot(self.lrs[n_skip_beginning:-n_skip_end], derivatives[n_skip_beginning:-n_skip_end])\n",
        "        plt.xscale('log')\n",
        "        plt.ylim(y_lim)\n",
        "lr_finder = LRFinder(model)\n",
        "lr_finder.find(train_images,train_labels, start_lr=1e-6, end_lr=1e-2, batch_size=6, epochs=4)\n",
        "lr_finder.plot_loss(n_skip_beginning=20, n_skip_end=5)\n",
        "plt.show()"
      ],
      "execution_count": null,
      "outputs": []
    },
    {
      "cell_type": "code",
      "metadata": {
        "colab": {
          "base_uri": "https://localhost:8080/",
          "height": 862
        },
        "id": "eNuxR4wvDBiO",
        "outputId": "1757b4f2-d114-4f11-806f-a623f40a242c"
      },
      "source": [
        "es = tf.keras.callbacks.EarlyStopping(monitor='accuracy', mode='auto', verbose=1, patience=4)\n",
        "rlr = tf.keras.callbacks.ReduceLROnPlateau(monitor='val_loss', \n",
        "                        factor=0.5, \n",
        "                        patience=4, \n",
        "                        verbose=1, \n",
        "                        mode='auto',  \n",
        "                        min_delta=0.01)\n",
        "hist=model.fit(train_datagen.flow(train_images, train_labels,batch_size=6,shuffle=True),steps_per_epoch=len(train_images) / 6,\n",
        "               epochs =20, callbacks = [es,rlr],validation_data=val_datagen.flow(val_images,val_labels,batch_size=6));"
      ],
      "execution_count": 124,
      "outputs": [
        {
          "output_type": "stream",
          "text": [
            "Epoch 1/20\n",
            "100/100 [==============================] - 198s 2s/step - loss: 1.5958 - accuracy: 0.2426 - val_loss: 1.3503 - val_accuracy: 0.3871\n",
            "Epoch 2/20\n",
            "100/100 [==============================] - 162s 2s/step - loss: 1.2372 - accuracy: 0.4445 - val_loss: 1.1980 - val_accuracy: 0.5806\n",
            "Epoch 3/20\n",
            "100/100 [==============================] - 162s 2s/step - loss: 1.0233 - accuracy: 0.6021 - val_loss: 1.2251 - val_accuracy: 0.4677\n",
            "Epoch 4/20\n",
            "100/100 [==============================] - 162s 2s/step - loss: 0.9745 - accuracy: 0.6406 - val_loss: 0.9869 - val_accuracy: 0.5968\n",
            "Epoch 5/20\n",
            "100/100 [==============================] - 162s 2s/step - loss: 1.0144 - accuracy: 0.5439 - val_loss: 1.0994 - val_accuracy: 0.5484\n",
            "Epoch 6/20\n",
            "100/100 [==============================] - 162s 2s/step - loss: 0.9093 - accuracy: 0.6545 - val_loss: 1.1022 - val_accuracy: 0.5161\n",
            "Epoch 7/20\n",
            "100/100 [==============================] - 162s 2s/step - loss: 0.8909 - accuracy: 0.6264 - val_loss: 1.0120 - val_accuracy: 0.5806\n",
            "Epoch 8/20\n",
            "100/100 [==============================] - 162s 2s/step - loss: 0.8659 - accuracy: 0.6653 - val_loss: 1.0877 - val_accuracy: 0.4032\n",
            "\n",
            "Epoch 00008: ReduceLROnPlateau reducing learning rate to 4.999999873689376e-05.\n",
            "Epoch 9/20\n",
            "100/100 [==============================] - 162s 2s/step - loss: 0.8360 - accuracy: 0.6572 - val_loss: 1.0977 - val_accuracy: 0.5000\n",
            "Epoch 10/20\n",
            "100/100 [==============================] - 162s 2s/step - loss: 0.8186 - accuracy: 0.6571 - val_loss: 0.9981 - val_accuracy: 0.5161\n",
            "Epoch 11/20\n",
            "100/100 [==============================] - 162s 2s/step - loss: 0.7997 - accuracy: 0.6681 - val_loss: 1.1095 - val_accuracy: 0.4677\n",
            "Epoch 12/20\n",
            " 68/100 [===================>..........] - ETA: 46s - loss: 0.8390 - accuracy: 0.6688"
          ],
          "name": "stdout"
        },
        {
          "output_type": "error",
          "ename": "KeyboardInterrupt",
          "evalue": "ignored",
          "traceback": [
            "\u001b[0;31m---------------------------------------------------------------------------\u001b[0m",
            "\u001b[0;31mKeyboardInterrupt\u001b[0m                         Traceback (most recent call last)",
            "\u001b[0;32m<ipython-input-124-1e00ddd9a8ad>\u001b[0m in \u001b[0;36m<module>\u001b[0;34m()\u001b[0m\n\u001b[1;32m      7\u001b[0m                         min_delta=0.01)\n\u001b[1;32m      8\u001b[0m hist=model.fit(train_datagen.flow(train_images, train_labels,batch_size=6,shuffle=True),steps_per_epoch=len(train_images) / 6,\n\u001b[0;32m----> 9\u001b[0;31m                epochs =20, callbacks = [es,rlr],validation_data=val_datagen.flow(val_images,val_labels,batch_size=6));\n\u001b[0m",
            "\u001b[0;32m/usr/local/lib/python3.7/dist-packages/tensorflow/python/keras/engine/training.py\u001b[0m in \u001b[0;36mfit\u001b[0;34m(self, x, y, batch_size, epochs, verbose, callbacks, validation_split, validation_data, shuffle, class_weight, sample_weight, initial_epoch, steps_per_epoch, validation_steps, validation_batch_size, validation_freq, max_queue_size, workers, use_multiprocessing)\u001b[0m\n\u001b[1;32m   1098\u001b[0m                 _r=1):\n\u001b[1;32m   1099\u001b[0m               \u001b[0mcallbacks\u001b[0m\u001b[0;34m.\u001b[0m\u001b[0mon_train_batch_begin\u001b[0m\u001b[0;34m(\u001b[0m\u001b[0mstep\u001b[0m\u001b[0;34m)\u001b[0m\u001b[0;34m\u001b[0m\u001b[0;34m\u001b[0m\u001b[0m\n\u001b[0;32m-> 1100\u001b[0;31m               \u001b[0mtmp_logs\u001b[0m \u001b[0;34m=\u001b[0m \u001b[0mself\u001b[0m\u001b[0;34m.\u001b[0m\u001b[0mtrain_function\u001b[0m\u001b[0;34m(\u001b[0m\u001b[0miterator\u001b[0m\u001b[0;34m)\u001b[0m\u001b[0;34m\u001b[0m\u001b[0;34m\u001b[0m\u001b[0m\n\u001b[0m\u001b[1;32m   1101\u001b[0m               \u001b[0;32mif\u001b[0m \u001b[0mdata_handler\u001b[0m\u001b[0;34m.\u001b[0m\u001b[0mshould_sync\u001b[0m\u001b[0;34m:\u001b[0m\u001b[0;34m\u001b[0m\u001b[0;34m\u001b[0m\u001b[0m\n\u001b[1;32m   1102\u001b[0m                 \u001b[0mcontext\u001b[0m\u001b[0;34m.\u001b[0m\u001b[0masync_wait\u001b[0m\u001b[0;34m(\u001b[0m\u001b[0;34m)\u001b[0m\u001b[0;34m\u001b[0m\u001b[0;34m\u001b[0m\u001b[0m\n",
            "\u001b[0;32m/usr/local/lib/python3.7/dist-packages/tensorflow/python/eager/def_function.py\u001b[0m in \u001b[0;36m__call__\u001b[0;34m(self, *args, **kwds)\u001b[0m\n\u001b[1;32m    826\u001b[0m     \u001b[0mtracing_count\u001b[0m \u001b[0;34m=\u001b[0m \u001b[0mself\u001b[0m\u001b[0;34m.\u001b[0m\u001b[0mexperimental_get_tracing_count\u001b[0m\u001b[0;34m(\u001b[0m\u001b[0;34m)\u001b[0m\u001b[0;34m\u001b[0m\u001b[0;34m\u001b[0m\u001b[0m\n\u001b[1;32m    827\u001b[0m     \u001b[0;32mwith\u001b[0m \u001b[0mtrace\u001b[0m\u001b[0;34m.\u001b[0m\u001b[0mTrace\u001b[0m\u001b[0;34m(\u001b[0m\u001b[0mself\u001b[0m\u001b[0;34m.\u001b[0m\u001b[0m_name\u001b[0m\u001b[0;34m)\u001b[0m \u001b[0;32mas\u001b[0m \u001b[0mtm\u001b[0m\u001b[0;34m:\u001b[0m\u001b[0;34m\u001b[0m\u001b[0;34m\u001b[0m\u001b[0m\n\u001b[0;32m--> 828\u001b[0;31m       \u001b[0mresult\u001b[0m \u001b[0;34m=\u001b[0m \u001b[0mself\u001b[0m\u001b[0;34m.\u001b[0m\u001b[0m_call\u001b[0m\u001b[0;34m(\u001b[0m\u001b[0;34m*\u001b[0m\u001b[0margs\u001b[0m\u001b[0;34m,\u001b[0m \u001b[0;34m**\u001b[0m\u001b[0mkwds\u001b[0m\u001b[0;34m)\u001b[0m\u001b[0;34m\u001b[0m\u001b[0;34m\u001b[0m\u001b[0m\n\u001b[0m\u001b[1;32m    829\u001b[0m       \u001b[0mcompiler\u001b[0m \u001b[0;34m=\u001b[0m \u001b[0;34m\"xla\"\u001b[0m \u001b[0;32mif\u001b[0m \u001b[0mself\u001b[0m\u001b[0;34m.\u001b[0m\u001b[0m_experimental_compile\u001b[0m \u001b[0;32melse\u001b[0m \u001b[0;34m\"nonXla\"\u001b[0m\u001b[0;34m\u001b[0m\u001b[0;34m\u001b[0m\u001b[0m\n\u001b[1;32m    830\u001b[0m       \u001b[0mnew_tracing_count\u001b[0m \u001b[0;34m=\u001b[0m \u001b[0mself\u001b[0m\u001b[0;34m.\u001b[0m\u001b[0mexperimental_get_tracing_count\u001b[0m\u001b[0;34m(\u001b[0m\u001b[0;34m)\u001b[0m\u001b[0;34m\u001b[0m\u001b[0;34m\u001b[0m\u001b[0m\n",
            "\u001b[0;32m/usr/local/lib/python3.7/dist-packages/tensorflow/python/eager/def_function.py\u001b[0m in \u001b[0;36m_call\u001b[0;34m(self, *args, **kwds)\u001b[0m\n\u001b[1;32m    853\u001b[0m       \u001b[0;31m# In this case we have created variables on the first call, so we run the\u001b[0m\u001b[0;34m\u001b[0m\u001b[0;34m\u001b[0m\u001b[0;34m\u001b[0m\u001b[0m\n\u001b[1;32m    854\u001b[0m       \u001b[0;31m# defunned version which is guaranteed to never create variables.\u001b[0m\u001b[0;34m\u001b[0m\u001b[0;34m\u001b[0m\u001b[0;34m\u001b[0m\u001b[0m\n\u001b[0;32m--> 855\u001b[0;31m       \u001b[0;32mreturn\u001b[0m \u001b[0mself\u001b[0m\u001b[0;34m.\u001b[0m\u001b[0m_stateless_fn\u001b[0m\u001b[0;34m(\u001b[0m\u001b[0;34m*\u001b[0m\u001b[0margs\u001b[0m\u001b[0;34m,\u001b[0m \u001b[0;34m**\u001b[0m\u001b[0mkwds\u001b[0m\u001b[0;34m)\u001b[0m  \u001b[0;31m# pylint: disable=not-callable\u001b[0m\u001b[0;34m\u001b[0m\u001b[0;34m\u001b[0m\u001b[0m\n\u001b[0m\u001b[1;32m    856\u001b[0m     \u001b[0;32melif\u001b[0m \u001b[0mself\u001b[0m\u001b[0;34m.\u001b[0m\u001b[0m_stateful_fn\u001b[0m \u001b[0;32mis\u001b[0m \u001b[0;32mnot\u001b[0m \u001b[0;32mNone\u001b[0m\u001b[0;34m:\u001b[0m\u001b[0;34m\u001b[0m\u001b[0;34m\u001b[0m\u001b[0m\n\u001b[1;32m    857\u001b[0m       \u001b[0;31m# Release the lock early so that multiple threads can perform the call\u001b[0m\u001b[0;34m\u001b[0m\u001b[0;34m\u001b[0m\u001b[0;34m\u001b[0m\u001b[0m\n",
            "\u001b[0;32m/usr/local/lib/python3.7/dist-packages/tensorflow/python/eager/function.py\u001b[0m in \u001b[0;36m__call__\u001b[0;34m(self, *args, **kwargs)\u001b[0m\n\u001b[1;32m   2941\u001b[0m        filtered_flat_args) = self._maybe_define_function(args, kwargs)\n\u001b[1;32m   2942\u001b[0m     return graph_function._call_flat(\n\u001b[0;32m-> 2943\u001b[0;31m         filtered_flat_args, captured_inputs=graph_function.captured_inputs)  # pylint: disable=protected-access\n\u001b[0m\u001b[1;32m   2944\u001b[0m \u001b[0;34m\u001b[0m\u001b[0m\n\u001b[1;32m   2945\u001b[0m   \u001b[0;34m@\u001b[0m\u001b[0mproperty\u001b[0m\u001b[0;34m\u001b[0m\u001b[0;34m\u001b[0m\u001b[0m\n",
            "\u001b[0;32m/usr/local/lib/python3.7/dist-packages/tensorflow/python/eager/function.py\u001b[0m in \u001b[0;36m_call_flat\u001b[0;34m(self, args, captured_inputs, cancellation_manager)\u001b[0m\n\u001b[1;32m   1917\u001b[0m       \u001b[0;31m# No tape is watching; skip to running the function.\u001b[0m\u001b[0;34m\u001b[0m\u001b[0;34m\u001b[0m\u001b[0;34m\u001b[0m\u001b[0m\n\u001b[1;32m   1918\u001b[0m       return self._build_call_outputs(self._inference_function.call(\n\u001b[0;32m-> 1919\u001b[0;31m           ctx, args, cancellation_manager=cancellation_manager))\n\u001b[0m\u001b[1;32m   1920\u001b[0m     forward_backward = self._select_forward_and_backward_functions(\n\u001b[1;32m   1921\u001b[0m         \u001b[0margs\u001b[0m\u001b[0;34m,\u001b[0m\u001b[0;34m\u001b[0m\u001b[0;34m\u001b[0m\u001b[0m\n",
            "\u001b[0;32m/usr/local/lib/python3.7/dist-packages/tensorflow/python/eager/function.py\u001b[0m in \u001b[0;36mcall\u001b[0;34m(self, ctx, args, cancellation_manager)\u001b[0m\n\u001b[1;32m    558\u001b[0m               \u001b[0minputs\u001b[0m\u001b[0;34m=\u001b[0m\u001b[0margs\u001b[0m\u001b[0;34m,\u001b[0m\u001b[0;34m\u001b[0m\u001b[0;34m\u001b[0m\u001b[0m\n\u001b[1;32m    559\u001b[0m               \u001b[0mattrs\u001b[0m\u001b[0;34m=\u001b[0m\u001b[0mattrs\u001b[0m\u001b[0;34m,\u001b[0m\u001b[0;34m\u001b[0m\u001b[0;34m\u001b[0m\u001b[0m\n\u001b[0;32m--> 560\u001b[0;31m               ctx=ctx)\n\u001b[0m\u001b[1;32m    561\u001b[0m         \u001b[0;32melse\u001b[0m\u001b[0;34m:\u001b[0m\u001b[0;34m\u001b[0m\u001b[0;34m\u001b[0m\u001b[0m\n\u001b[1;32m    562\u001b[0m           outputs = execute.execute_with_cancellation(\n",
            "\u001b[0;32m/usr/local/lib/python3.7/dist-packages/tensorflow/python/eager/execute.py\u001b[0m in \u001b[0;36mquick_execute\u001b[0;34m(op_name, num_outputs, inputs, attrs, ctx, name)\u001b[0m\n\u001b[1;32m     58\u001b[0m     \u001b[0mctx\u001b[0m\u001b[0;34m.\u001b[0m\u001b[0mensure_initialized\u001b[0m\u001b[0;34m(\u001b[0m\u001b[0;34m)\u001b[0m\u001b[0;34m\u001b[0m\u001b[0;34m\u001b[0m\u001b[0m\n\u001b[1;32m     59\u001b[0m     tensors = pywrap_tfe.TFE_Py_Execute(ctx._handle, device_name, op_name,\n\u001b[0;32m---> 60\u001b[0;31m                                         inputs, attrs, num_outputs)\n\u001b[0m\u001b[1;32m     61\u001b[0m   \u001b[0;32mexcept\u001b[0m \u001b[0mcore\u001b[0m\u001b[0;34m.\u001b[0m\u001b[0m_NotOkStatusException\u001b[0m \u001b[0;32mas\u001b[0m \u001b[0me\u001b[0m\u001b[0;34m:\u001b[0m\u001b[0;34m\u001b[0m\u001b[0;34m\u001b[0m\u001b[0m\n\u001b[1;32m     62\u001b[0m     \u001b[0;32mif\u001b[0m \u001b[0mname\u001b[0m \u001b[0;32mis\u001b[0m \u001b[0;32mnot\u001b[0m \u001b[0;32mNone\u001b[0m\u001b[0;34m:\u001b[0m\u001b[0;34m\u001b[0m\u001b[0;34m\u001b[0m\u001b[0m\n",
            "\u001b[0;31mKeyboardInterrupt\u001b[0m: "
          ]
        }
      ]
    },
    {
      "cell_type": "code",
      "metadata": {
        "id": "4GA4taOUE2nL"
      },
      "source": [
        "plt.plot(hist.history[\"loss\"])\n",
        "plt.plot(hist.history[\"val_loss\"])\n",
        "plt.title(\"Loss plot\")\n",
        "plt.ylabel(\"Loss\")\n",
        "plt.xlabel(\"epoch\")\n",
        "plt.legend([\"train\", \"validation\"], loc=\"upper left\")\n",
        "plt.show()\n",
        "\n",
        "plt.plot(hist.history[\"accuracy\"])\n",
        "plt.plot(hist.history[\"val_accuracy\"])\n",
        "plt.title(\"model accuracy\")\n",
        "plt.ylabel(\"accuracy\")\n",
        "plt.xlabel(\"epoch\")\n",
        "plt.legend([\"train\", \"validation\"], loc=\"upper left\")\n",
        "plt.show()"
      ],
      "execution_count": null,
      "outputs": []
    },
    {
      "cell_type": "code",
      "metadata": {
        "id": "T1ZS1V8AsN8f"
      },
      "source": [
        "\"\"\"es = tf.keras.callbacks.EarlyStopping(monitor='val_loss', mode='auto', verbose=1, patience=8)\n",
        "rlr = tf.keras.callbacks.ReduceLROnPlateau(monitor='val_loss', \n",
        "                        factor=0.5, \n",
        "                        patience=4,verbose=1, \n",
        "                        mode='auto',min_delta=0.01)\n",
        "model.trainable=True\n",
        "opt = keras.optimizers.Adam(learning_rate = 1e-4, beta_1 = 0.8)\n",
        "model.compile(loss='categorical_crossentropy',optimizer=opt,metrics=['accuracy'])\n",
        "hist=model.fit(train_datagen.flow(train_images, train_labels,batch_size=4,shuffle=True),steps_per_epoch=len(train_images) / 4,\n",
        "               epochs =50, callbacks = [es,rlr],validation_data=val_datagen.flow(val_images,val_labels,batch_size=4));\"\"\""
      ],
      "execution_count": null,
      "outputs": []
    },
    {
      "cell_type": "code",
      "metadata": {
        "id": "sj41Cx4LqH7r"
      },
      "source": [
        "from sklearn.metrics import cohen_kappa_score\n",
        "def quadratic_kappa(y_hat, y):\n",
        "    return cohen_kappa_score(y_hat, y, weights='quadratic')"
      ],
      "execution_count": null,
      "outputs": []
    },
    {
      "cell_type": "code",
      "metadata": {
        "id": "uwFjYjXuaWIv",
        "colab": {
          "base_uri": "https://localhost:8080/",
          "height": 388
        },
        "outputId": "fd303a31-1669-4553-bf67-7efb70c2e0aa"
      },
      "source": [
        "from sklearn.metrics import precision_score,accuracy_score\n",
        "pred_y_1=np.zeros((val_labels.shape))\n",
        "#pred_y_2=np.zeros((val_labels.shape))\n",
        "for i in range(7):\n",
        "  pred_both=model.predict(val_images[6*i:6*i+6])\n",
        "  pred_y_1[6*i:6*i+6]=pred_both\n",
        "  #pred_y_2[6*i:6*i+6]=pred_both[1]\n",
        "pred_y_=pred_y_1#+pred_y_2\n",
        "cm=confusion_matrix(np.argmax(val_labels,axis=1),np.argmax(pred_y_,axis=1))\n",
        "print(cm)\n",
        "plt.imshow(cm, cmap='binary')\n",
        "print(\"accuracy \",accuracy_score(np.argmax(val_labels,axis=1),np.argmax(pred_y_,axis=1)),\" accuracy\")\n",
        "print(\"quadratic kappa \",quadratic_kappa(np.argmax(pred_y_,axis=1),np.argmax(val_labels,axis=1)))"
      ],
      "execution_count": 125,
      "outputs": [
        {
          "output_type": "stream",
          "text": [
            "[[18  1  3  0  0]\n",
            " [ 3  0  1  0  0]\n",
            " [ 8  0  5  2  1]\n",
            " [ 6  0  4  5  2]\n",
            " [ 1  0  1  0  1]]\n",
            "accuracy  0.46774193548387094  accuracy\n",
            "quadratic kappa  0.4426687974430684\n"
          ],
          "name": "stdout"
        },
        {
          "output_type": "display_data",
          "data": {
            "image/png": "[encoded data removed]",
            "text/plain": [
              "<Figure size 432x288 with 1 Axes>"
            ]
          },
          "metadata": {
            "tags": [],
            "needs_background": "light"
          }
        }
      ]
    },
    {
      "cell_type": "code",
      "metadata": {
        "id": "-ySXYdPrRNR2",
        "colab": {
          "base_uri": "https://localhost:8080/",
          "height": 388
        },
        "outputId": "020c2110-a035-4420-968c-9d4b7e736f30"
      },
      "source": [
        "#preds = model.evaluate(test_images, test_labels)\n",
        "#print(\"Loss = \" + str(preds[0]))\n",
        "#print(\"Test accuracy = \" + str(preds[1]))\n",
        "pred_y_=np.zeros((test_labels.shape))\n",
        "for i in range(18):\n",
        "  pred_y_[6*i:6*i+6]=model.predict(test_images[6*i:6*i+6])\n",
        "cm=confusion_matrix(np.argmax(test_labels,axis=1),np.argmax(pred_y_,axis=1))\n",
        "print(cm)\n",
        "plt.imshow(cm, cmap='binary')\n",
        "score=accuracy_score(np.argmax(test_labels,axis=1),np.argmax(pred_y_,axis=1))\n",
        "print(score,\" accuracy\")\n",
        "print(\"quadratic kappa \",quadratic_kappa(np.argmax(pred_y_,axis=1),np.argmax(test_labels,axis=1)))"
      ],
      "execution_count": 139,
      "outputs": [
        {
          "output_type": "stream",
          "text": [
            "[[27  1  4  1  1]\n",
            " [ 5  0  0  0  0]\n",
            " [ 2  2 20  7  1]\n",
            " [ 2  0  4 10  3]\n",
            " [ 2  0  3  3  5]]\n",
            "0.6019417475728155  accuracy\n",
            "quadratic kappa  0.6563066069215369\n"
          ],
          "name": "stdout"
        },
        {
          "output_type": "display_data",
          "data": {
            "image/png": "[encoded data removed]",
            "text/plain": [
              "<Figure size 432x288 with 1 Axes>"
            ]
          },
          "metadata": {
            "tags": [],
            "needs_background": "light"
          }
        }
      ]
    },
    {
      "cell_type": "markdown",
      "metadata": {
        "id": "suvln6fxBVTd"
      },
      "source": [
        "## acc with TTA"
      ]
    },
    {
      "cell_type": "code",
      "metadata": {
        "id": "_A-nwD0PBUfv"
      },
      "source": [
        "test_datagen = ImageDataGenerator(\n",
        "    shear_range=0.0,\n",
        "    zoom_range=[0.75,1],\n",
        "    width_shift_range=1.1,\n",
        "    height_shift_range=0.05,\n",
        "    rotation_range=15,\n",
        "    fill_mode='nearest',\n",
        "    horizontal_flip=True,\n",
        "    vertical_flip=True)\n",
        "test_datagen.fit(test_images)\n",
        "pred_y_tta=np.zeros((102,5))\n",
        "x=test_datagen.flow(test_images,test_labels,batch_size=6)\n",
        "test_y_=np.zeros((102,5))"
      ],
      "execution_count": 136,
      "outputs": []
    },
    {
      "cell_type": "code",
      "metadata": {
        "id": "dyx113PJDaIs",
        "colab": {
          "base_uri": "https://localhost:8080/",
          "height": 388
        },
        "outputId": "570cb860-5f31-4693-ad51-1178437d3843"
      },
      "source": [
        "for i,(img,lbl) in enumerate(x):\n",
        "  #print(img.shape,lbl.shape)\n",
        "  pred_y_tta[6*i:6*i+6]=model.predict(img)\n",
        "  test_y_[6*i:6*i+6,:]=lbl\n",
        "  if i==17:\n",
        "    break\n",
        "cm=confusion_matrix(np.argmax(test_y_,axis=1),np.argmax(pred_y_tta,axis=1))\n",
        "print(cm)\n",
        "plt.imshow(cm, cmap='binary')\n",
        "score=accuracy_score(np.argmax(test_y_,axis=1),np.argmax(pred_y_tta,axis=1))\n",
        "print(score,\" accuracy\")\n",
        "print(\"quadratic kappa \",quadratic_kappa(np.argmax(pred_y_tta,axis=1),np.argmax(test_y_,axis=1)))"
      ],
      "execution_count": 138,
      "outputs": [
        {
          "output_type": "stream",
          "text": [
            "[[21  5  7  0  0]\n",
            " [ 4  0  1  0  0]\n",
            " [ 4  4 17  5  2]\n",
            " [ 1  0  6  8  4]\n",
            " [ 2  0  2  4  5]]\n",
            "0.5  accuracy\n",
            "quadratic kappa  0.6552315608919382\n"
          ],
          "name": "stdout"
        },
        {
          "output_type": "display_data",
          "data": {
            "image/png": "[encoded data removed]",
            "text/plain": [
              "<Figure size 432x288 with 1 Axes>"
            ]
          },
          "metadata": {
            "tags": [],
            "needs_background": "light"
          }
        }
      ]
    },
    {
      "cell_type": "code",
      "metadata": {
        "id": "eUbsFIRTEP6P"
      },
      "source": [
        "#del test_datagen"
      ],
      "execution_count": null,
      "outputs": []
    },
    {
      "cell_type": "markdown",
      "metadata": {
        "id": "vs25uvuZQLTK"
      },
      "source": [
        "## unfreeze and train"
      ]
    },
    {
      "cell_type": "code",
      "metadata": {
        "id": "Jr96w2WVSadY",
        "colab": {
          "base_uri": "https://localhost:8080/"
        },
        "outputId": "35718068-45e8-4882-9b12-303a508af03d"
      },
      "source": [
        "count=0\n",
        "model.trainable=True\n",
        "for layer in model.layers:\n",
        "  if layer.name[-2:] == 'bn':\n",
        "    layer.trainable=False\n",
        "    count+=1\n",
        "  if layer.name[-2:] in ['he','ex','se','ma' ]:\n",
        "    layer.trainable=False\n",
        "    print(layer.name,\" freezed\")\n",
        "    count+=1\n",
        "print(count-4,\" layers of bn freezed+ 4 seg model freezed\")\n",
        "trainable_count = count_params(model.trainable_weights)\n",
        "non_trainable_count = count_params(model.non_trainable_weights)\n",
        "print('Total params: {:,}'.format(trainable_count + non_trainable_count))\n",
        "print('Trainable params: {:,}'.format(trainable_count))\n",
        "print('Non-trainable params: {:,}'.format(non_trainable_count))"
      ],
      "execution_count": 140,
      "outputs": [
        {
          "output_type": "stream",
          "text": [
            "model_ex  freezed\n",
            "model_se  freezed\n",
            "model_ma  freezed\n",
            "model_he  freezed\n",
            "96  layers of bn freezed+ 4 seg model freezed\n",
            "Total params: 19,980,081\n",
            "Trainable params: 17,920,226\n",
            "Non-trainable params: 2,059,855\n"
          ],
          "name": "stdout"
        }
      ]
    },
    {
      "cell_type": "code",
      "metadata": {
        "id": "lOaZ3fRSQb_N",
        "colab": {
          "base_uri": "https://localhost:8080/",
          "height": 1000
        },
        "outputId": "258636e5-51cb-4bfb-d2ba-95d134566035"
      },
      "source": [
        "random.seed = 2\n",
        "tf.seed = 2\n",
        "tf.random.set_seed(2)\n",
        "from keras.callbacks import ModelCheckpoint\n",
        "filepath=\"weights.{epoch:02d}-{val_accuracy:.2f}.hdf5\"\n",
        "checkpoint = ModelCheckpoint(filepath, monitor='val_accuracy', verbose=1, save_best_only=True, mode='max')\n",
        "\n",
        "opt = keras.optimizers.Adam(learning_rate = 1e-5, beta_1 = 0.9)\n",
        "model.compile(loss='categorical_crossentropy',\n",
        "              optimizer=opt,\n",
        "              metrics=['accuracy'])\n",
        "early_stopping= tf.keras.callbacks.EarlyStopping(monitor = 'accuracy', min_delta = 0.01, patience = 5)\n",
        "hist=model.fit(train_datagen.flow(train_images, train_labels,batch_size=6,shuffle=True),steps_per_epoch=len(train_images) / 6,\n",
        "               epochs = 20,callbacks=[early_stopping,checkpoint],validation_data=val_datagen.flow(val_images,val_labels,batch_size=6));"
      ],
      "execution_count": 141,
      "outputs": [
        {
          "output_type": "stream",
          "text": [
            "Epoch 1/20\n",
            "100/100 [==============================] - 280s 2s/step - loss: 0.7854 - accuracy: 0.7034 - val_loss: 0.8818 - val_accuracy: 0.5806\n",
            "\n",
            "Epoch 00001: val_accuracy improved from -inf to 0.58065, saving model to weights.01-0.58.hdf5\n",
            "Epoch 2/20\n",
            "100/100 [==============================] - 238s 2s/step - loss: 0.6642 - accuracy: 0.7456 - val_loss: 1.0631 - val_accuracy: 0.5000\n",
            "\n",
            "Epoch 00002: val_accuracy did not improve from 0.58065\n",
            "Epoch 3/20\n",
            "100/100 [==============================] - 239s 2s/step - loss: 0.5879 - accuracy: 0.7717 - val_loss: 0.8029 - val_accuracy: 0.6129\n",
            "\n",
            "Epoch 00003: val_accuracy improved from 0.58065 to 0.61290, saving model to weights.03-0.61.hdf5\n",
            "Epoch 4/20\n",
            "100/100 [==============================] - 239s 2s/step - loss: 0.5595 - accuracy: 0.8041 - val_loss: 0.8006 - val_accuracy: 0.6452\n",
            "\n",
            "Epoch 00004: val_accuracy improved from 0.61290 to 0.64516, saving model to weights.04-0.65.hdf5\n",
            "Epoch 5/20\n",
            "100/100 [==============================] - 239s 2s/step - loss: 0.4727 - accuracy: 0.8247 - val_loss: 0.7798 - val_accuracy: 0.6129\n",
            "\n",
            "Epoch 00005: val_accuracy did not improve from 0.64516\n",
            "Epoch 6/20\n",
            "100/100 [==============================] - 238s 2s/step - loss: 0.4278 - accuracy: 0.8547 - val_loss: 0.8207 - val_accuracy: 0.6613\n",
            "\n",
            "Epoch 00006: val_accuracy improved from 0.64516 to 0.66129, saving model to weights.06-0.66.hdf5\n",
            "Epoch 7/20\n",
            "100/100 [==============================] - 238s 2s/step - loss: 0.3948 - accuracy: 0.8430 - val_loss: 0.7980 - val_accuracy: 0.7097\n",
            "\n",
            "Epoch 00007: val_accuracy improved from 0.66129 to 0.70968, saving model to weights.07-0.71.hdf5\n",
            "Epoch 8/20\n",
            "100/100 [==============================] - 238s 2s/step - loss: 0.3204 - accuracy: 0.9046 - val_loss: 0.8170 - val_accuracy: 0.6613\n",
            "\n",
            "Epoch 00008: val_accuracy did not improve from 0.70968\n",
            "Epoch 9/20\n",
            "100/100 [==============================] - 238s 2s/step - loss: 0.2734 - accuracy: 0.9022 - val_loss: 0.8894 - val_accuracy: 0.6129\n",
            "\n",
            "Epoch 00009: val_accuracy did not improve from 0.70968\n",
            "Epoch 10/20\n",
            "100/100 [==============================] - 238s 2s/step - loss: 0.2416 - accuracy: 0.9203 - val_loss: 0.8695 - val_accuracy: 0.6290\n",
            "\n",
            "Epoch 00010: val_accuracy did not improve from 0.70968\n",
            "Epoch 11/20\n",
            "100/100 [==============================] - 238s 2s/step - loss: 0.2333 - accuracy: 0.9308 - val_loss: 0.9141 - val_accuracy: 0.6613\n",
            "\n",
            "Epoch 00011: val_accuracy did not improve from 0.70968\n",
            "Epoch 12/20\n",
            " 43/100 [===========>..................] - ETA: 2:06 - loss: 0.2209 - accuracy: 0.9435"
          ],
          "name": "stdout"
        },
        {
          "output_type": "error",
          "ename": "ResourceExhaustedError",
          "evalue": "ignored",
          "traceback": [
            "\u001b[0;31m---------------------------------------------------------------------------\u001b[0m",
            "\u001b[0;31mResourceExhaustedError\u001b[0m                    Traceback (most recent call last)",
            "\u001b[0;32m<ipython-input-141-4372344a5926>\u001b[0m in \u001b[0;36m<module>\u001b[0;34m()\u001b[0m\n\u001b[1;32m     12\u001b[0m \u001b[0mearly_stopping\u001b[0m\u001b[0;34m=\u001b[0m \u001b[0mtf\u001b[0m\u001b[0;34m.\u001b[0m\u001b[0mkeras\u001b[0m\u001b[0;34m.\u001b[0m\u001b[0mcallbacks\u001b[0m\u001b[0;34m.\u001b[0m\u001b[0mEarlyStopping\u001b[0m\u001b[0;34m(\u001b[0m\u001b[0mmonitor\u001b[0m \u001b[0;34m=\u001b[0m \u001b[0;34m'accuracy'\u001b[0m\u001b[0;34m,\u001b[0m \u001b[0mmin_delta\u001b[0m \u001b[0;34m=\u001b[0m \u001b[0;36m0.01\u001b[0m\u001b[0;34m,\u001b[0m \u001b[0mpatience\u001b[0m \u001b[0;34m=\u001b[0m \u001b[0;36m5\u001b[0m\u001b[0;34m)\u001b[0m\u001b[0;34m\u001b[0m\u001b[0;34m\u001b[0m\u001b[0m\n\u001b[1;32m     13\u001b[0m hist=model.fit(train_datagen.flow(train_images, train_labels,batch_size=6,shuffle=True),steps_per_epoch=len(train_images) / 6,\n\u001b[0;32m---> 14\u001b[0;31m                epochs = 20,callbacks=[early_stopping,checkpoint],validation_data=val_datagen.flow(val_images,val_labels,batch_size=6));\n\u001b[0m",
            "\u001b[0;32m/usr/local/lib/python3.7/dist-packages/tensorflow/python/keras/engine/training.py\u001b[0m in \u001b[0;36mfit\u001b[0;34m(self, x, y, batch_size, epochs, verbose, callbacks, validation_split, validation_data, shuffle, class_weight, sample_weight, initial_epoch, steps_per_epoch, validation_steps, validation_batch_size, validation_freq, max_queue_size, workers, use_multiprocessing)\u001b[0m\n\u001b[1;32m   1098\u001b[0m                 _r=1):\n\u001b[1;32m   1099\u001b[0m               \u001b[0mcallbacks\u001b[0m\u001b[0;34m.\u001b[0m\u001b[0mon_train_batch_begin\u001b[0m\u001b[0;34m(\u001b[0m\u001b[0mstep\u001b[0m\u001b[0;34m)\u001b[0m\u001b[0;34m\u001b[0m\u001b[0;34m\u001b[0m\u001b[0m\n\u001b[0;32m-> 1100\u001b[0;31m               \u001b[0mtmp_logs\u001b[0m \u001b[0;34m=\u001b[0m \u001b[0mself\u001b[0m\u001b[0;34m.\u001b[0m\u001b[0mtrain_function\u001b[0m\u001b[0;34m(\u001b[0m\u001b[0miterator\u001b[0m\u001b[0;34m)\u001b[0m\u001b[0;34m\u001b[0m\u001b[0;34m\u001b[0m\u001b[0m\n\u001b[0m\u001b[1;32m   1101\u001b[0m               \u001b[0;32mif\u001b[0m \u001b[0mdata_handler\u001b[0m\u001b[0;34m.\u001b[0m\u001b[0mshould_sync\u001b[0m\u001b[0;34m:\u001b[0m\u001b[0;34m\u001b[0m\u001b[0;34m\u001b[0m\u001b[0m\n\u001b[1;32m   1102\u001b[0m                 \u001b[0mcontext\u001b[0m\u001b[0;34m.\u001b[0m\u001b[0masync_wait\u001b[0m\u001b[0;34m(\u001b[0m\u001b[0;34m)\u001b[0m\u001b[0;34m\u001b[0m\u001b[0;34m\u001b[0m\u001b[0m\n",
            "\u001b[0;32m/usr/local/lib/python3.7/dist-packages/tensorflow/python/eager/def_function.py\u001b[0m in \u001b[0;36m__call__\u001b[0;34m(self, *args, **kwds)\u001b[0m\n\u001b[1;32m    826\u001b[0m     \u001b[0mtracing_count\u001b[0m \u001b[0;34m=\u001b[0m \u001b[0mself\u001b[0m\u001b[0;34m.\u001b[0m\u001b[0mexperimental_get_tracing_count\u001b[0m\u001b[0;34m(\u001b[0m\u001b[0;34m)\u001b[0m\u001b[0;34m\u001b[0m\u001b[0;34m\u001b[0m\u001b[0m\n\u001b[1;32m    827\u001b[0m     \u001b[0;32mwith\u001b[0m \u001b[0mtrace\u001b[0m\u001b[0;34m.\u001b[0m\u001b[0mTrace\u001b[0m\u001b[0;34m(\u001b[0m\u001b[0mself\u001b[0m\u001b[0;34m.\u001b[0m\u001b[0m_name\u001b[0m\u001b[0;34m)\u001b[0m \u001b[0;32mas\u001b[0m \u001b[0mtm\u001b[0m\u001b[0;34m:\u001b[0m\u001b[0;34m\u001b[0m\u001b[0;34m\u001b[0m\u001b[0m\n\u001b[0;32m--> 828\u001b[0;31m       \u001b[0mresult\u001b[0m \u001b[0;34m=\u001b[0m \u001b[0mself\u001b[0m\u001b[0;34m.\u001b[0m\u001b[0m_call\u001b[0m\u001b[0;34m(\u001b[0m\u001b[0;34m*\u001b[0m\u001b[0margs\u001b[0m\u001b[0;34m,\u001b[0m \u001b[0;34m**\u001b[0m\u001b[0mkwds\u001b[0m\u001b[0;34m)\u001b[0m\u001b[0;34m\u001b[0m\u001b[0;34m\u001b[0m\u001b[0m\n\u001b[0m\u001b[1;32m    829\u001b[0m       \u001b[0mcompiler\u001b[0m \u001b[0;34m=\u001b[0m \u001b[0;34m\"xla\"\u001b[0m \u001b[0;32mif\u001b[0m \u001b[0mself\u001b[0m\u001b[0;34m.\u001b[0m\u001b[0m_experimental_compile\u001b[0m \u001b[0;32melse\u001b[0m \u001b[0;34m\"nonXla\"\u001b[0m\u001b[0;34m\u001b[0m\u001b[0;34m\u001b[0m\u001b[0m\n\u001b[1;32m    830\u001b[0m       \u001b[0mnew_tracing_count\u001b[0m \u001b[0;34m=\u001b[0m \u001b[0mself\u001b[0m\u001b[0;34m.\u001b[0m\u001b[0mexperimental_get_tracing_count\u001b[0m\u001b[0;34m(\u001b[0m\u001b[0;34m)\u001b[0m\u001b[0;34m\u001b[0m\u001b[0;34m\u001b[0m\u001b[0m\n",
            "\u001b[0;32m/usr/local/lib/python3.7/dist-packages/tensorflow/python/eager/def_function.py\u001b[0m in \u001b[0;36m_call\u001b[0;34m(self, *args, **kwds)\u001b[0m\n\u001b[1;32m    853\u001b[0m       \u001b[0;31m# In this case we have created variables on the first call, so we run the\u001b[0m\u001b[0;34m\u001b[0m\u001b[0;34m\u001b[0m\u001b[0;34m\u001b[0m\u001b[0m\n\u001b[1;32m    854\u001b[0m       \u001b[0;31m# defunned version which is guaranteed to never create variables.\u001b[0m\u001b[0;34m\u001b[0m\u001b[0;34m\u001b[0m\u001b[0;34m\u001b[0m\u001b[0m\n\u001b[0;32m--> 855\u001b[0;31m       \u001b[0;32mreturn\u001b[0m \u001b[0mself\u001b[0m\u001b[0;34m.\u001b[0m\u001b[0m_stateless_fn\u001b[0m\u001b[0;34m(\u001b[0m\u001b[0;34m*\u001b[0m\u001b[0margs\u001b[0m\u001b[0;34m,\u001b[0m \u001b[0;34m**\u001b[0m\u001b[0mkwds\u001b[0m\u001b[0;34m)\u001b[0m  \u001b[0;31m# pylint: disable=not-callable\u001b[0m\u001b[0;34m\u001b[0m\u001b[0;34m\u001b[0m\u001b[0m\n\u001b[0m\u001b[1;32m    856\u001b[0m     \u001b[0;32melif\u001b[0m \u001b[0mself\u001b[0m\u001b[0;34m.\u001b[0m\u001b[0m_stateful_fn\u001b[0m \u001b[0;32mis\u001b[0m \u001b[0;32mnot\u001b[0m \u001b[0;32mNone\u001b[0m\u001b[0;34m:\u001b[0m\u001b[0;34m\u001b[0m\u001b[0;34m\u001b[0m\u001b[0m\n\u001b[1;32m    857\u001b[0m       \u001b[0;31m# Release the lock early so that multiple threads can perform the call\u001b[0m\u001b[0;34m\u001b[0m\u001b[0;34m\u001b[0m\u001b[0;34m\u001b[0m\u001b[0m\n",
            "\u001b[0;32m/usr/local/lib/python3.7/dist-packages/tensorflow/python/eager/function.py\u001b[0m in \u001b[0;36m__call__\u001b[0;34m(self, *args, **kwargs)\u001b[0m\n\u001b[1;32m   2941\u001b[0m        filtered_flat_args) = self._maybe_define_function(args, kwargs)\n\u001b[1;32m   2942\u001b[0m     return graph_function._call_flat(\n\u001b[0;32m-> 2943\u001b[0;31m         filtered_flat_args, captured_inputs=graph_function.captured_inputs)  # pylint: disable=protected-access\n\u001b[0m\u001b[1;32m   2944\u001b[0m \u001b[0;34m\u001b[0m\u001b[0m\n\u001b[1;32m   2945\u001b[0m   \u001b[0;34m@\u001b[0m\u001b[0mproperty\u001b[0m\u001b[0;34m\u001b[0m\u001b[0;34m\u001b[0m\u001b[0m\n",
            "\u001b[0;32m/usr/local/lib/python3.7/dist-packages/tensorflow/python/eager/function.py\u001b[0m in \u001b[0;36m_call_flat\u001b[0;34m(self, args, captured_inputs, cancellation_manager)\u001b[0m\n\u001b[1;32m   1917\u001b[0m       \u001b[0;31m# No tape is watching; skip to running the function.\u001b[0m\u001b[0;34m\u001b[0m\u001b[0;34m\u001b[0m\u001b[0;34m\u001b[0m\u001b[0m\n\u001b[1;32m   1918\u001b[0m       return self._build_call_outputs(self._inference_function.call(\n\u001b[0;32m-> 1919\u001b[0;31m           ctx, args, cancellation_manager=cancellation_manager))\n\u001b[0m\u001b[1;32m   1920\u001b[0m     forward_backward = self._select_forward_and_backward_functions(\n\u001b[1;32m   1921\u001b[0m         \u001b[0margs\u001b[0m\u001b[0;34m,\u001b[0m\u001b[0;34m\u001b[0m\u001b[0;34m\u001b[0m\u001b[0m\n",
            "\u001b[0;32m/usr/local/lib/python3.7/dist-packages/tensorflow/python/eager/function.py\u001b[0m in \u001b[0;36mcall\u001b[0;34m(self, ctx, args, cancellation_manager)\u001b[0m\n\u001b[1;32m    558\u001b[0m               \u001b[0minputs\u001b[0m\u001b[0;34m=\u001b[0m\u001b[0margs\u001b[0m\u001b[0;34m,\u001b[0m\u001b[0;34m\u001b[0m\u001b[0;34m\u001b[0m\u001b[0m\n\u001b[1;32m    559\u001b[0m               \u001b[0mattrs\u001b[0m\u001b[0;34m=\u001b[0m\u001b[0mattrs\u001b[0m\u001b[0;34m,\u001b[0m\u001b[0;34m\u001b[0m\u001b[0;34m\u001b[0m\u001b[0m\n\u001b[0;32m--> 560\u001b[0;31m               ctx=ctx)\n\u001b[0m\u001b[1;32m    561\u001b[0m         \u001b[0;32melse\u001b[0m\u001b[0;34m:\u001b[0m\u001b[0;34m\u001b[0m\u001b[0;34m\u001b[0m\u001b[0m\n\u001b[1;32m    562\u001b[0m           outputs = execute.execute_with_cancellation(\n",
            "\u001b[0;32m/usr/local/lib/python3.7/dist-packages/tensorflow/python/eager/execute.py\u001b[0m in \u001b[0;36mquick_execute\u001b[0;34m(op_name, num_outputs, inputs, attrs, ctx, name)\u001b[0m\n\u001b[1;32m     58\u001b[0m     \u001b[0mctx\u001b[0m\u001b[0;34m.\u001b[0m\u001b[0mensure_initialized\u001b[0m\u001b[0;34m(\u001b[0m\u001b[0;34m)\u001b[0m\u001b[0;34m\u001b[0m\u001b[0;34m\u001b[0m\u001b[0m\n\u001b[1;32m     59\u001b[0m     tensors = pywrap_tfe.TFE_Py_Execute(ctx._handle, device_name, op_name,\n\u001b[0;32m---> 60\u001b[0;31m                                         inputs, attrs, num_outputs)\n\u001b[0m\u001b[1;32m     61\u001b[0m   \u001b[0;32mexcept\u001b[0m \u001b[0mcore\u001b[0m\u001b[0;34m.\u001b[0m\u001b[0m_NotOkStatusException\u001b[0m \u001b[0;32mas\u001b[0m \u001b[0me\u001b[0m\u001b[0;34m:\u001b[0m\u001b[0;34m\u001b[0m\u001b[0;34m\u001b[0m\u001b[0m\n\u001b[1;32m     62\u001b[0m     \u001b[0;32mif\u001b[0m \u001b[0mname\u001b[0m \u001b[0;32mis\u001b[0m \u001b[0;32mnot\u001b[0m \u001b[0;32mNone\u001b[0m\u001b[0;34m:\u001b[0m\u001b[0;34m\u001b[0m\u001b[0;34m\u001b[0m\u001b[0m\n",
            "\u001b[0;31mResourceExhaustedError\u001b[0m:  OOM when allocating tensor with shape[6,252,512,512] and type float on /job:localhost/replica:0/task:0/device:GPU:0 by allocator GPU_0_bfc\n\t [[node Segnet/model_he/concatenate_12/concat (defined at <ipython-input-141-4372344a5926>:14) ]]\nHint: If you want to see a list of allocated tensors when OOM happens, add report_tensor_allocations_upon_oom to RunOptions for current allocation info.\n [Op:__inference_train_function_622283]\n\nFunction call stack:\ntrain_function\n"
          ]
        }
      ]
    },
    {
      "cell_type": "code",
      "metadata": {
        "id": "tIVkuXoOCr7h",
        "colab": {
          "base_uri": "https://localhost:8080/",
          "height": 573
        },
        "outputId": "1338792a-2701-4ae3-9c8b-7de1e483adc4"
      },
      "source": [
        "plt.plot(hist.history[\"loss\"])\n",
        "plt.plot(hist.history[\"val_loss\"])\n",
        "plt.title(\"Loss plot\")\n",
        "plt.ylabel(\"Loss\")\n",
        "plt.xlabel(\"epoch\")\n",
        "plt.legend([\"train\", \"validation\"], loc=\"upper left\")\n",
        "plt.show()\n",
        "\n",
        "plt.plot(hist.history[\"accuracy\"])\n",
        "plt.plot(hist.history[\"val_accuracy\"])\n",
        "plt.title(\"model accuracy\")\n",
        "plt.ylabel(\"accuracy\")\n",
        "plt.xlabel(\"epoch\")\n",
        "plt.legend([\"train\", \"validation\"], loc=\"upper left\")\n",
        "plt.show()"
      ],
      "execution_count": 142,
      "outputs": [
        {
          "output_type": "display_data",
          "data": {
            "image/png": "[encoded data removed]",
            "text/plain": [
              "<Figure size 432x288 with 1 Axes>"
            ]
          },
          "metadata": {
            "tags": [],
            "needs_background": "light"
          }
        },
        {
          "output_type": "display_data",
          "data": {
            "image/png": "[encoded data removed]",
            "text/plain": [
              "<Figure size 432x288 with 1 Axes>"
            ]
          },
          "metadata": {
            "tags": [],
            "needs_background": "light"
          }
        }
      ]
    },
    {
      "cell_type": "code",
      "metadata": {
        "id": "7jBH9XOYXbWo",
        "colab": {
          "base_uri": "https://localhost:8080/",
          "height": 388
        },
        "outputId": "8dfe52df-41a7-461c-f379-09671fed46c7"
      },
      "source": [
        "pred_y_=np.zeros((test_labels.shape))\n",
        "for i in range(18):\n",
        "  pred_y_[6*i:6*i+6]=model.predict(test_images[6*i:6*i+6])\n",
        "cm=confusion_matrix(np.argmax(test_labels,axis=1),np.argmax(pred_y_,axis=1))\n",
        "print(cm)\n",
        "plt.imshow(cm, cmap='binary')\n",
        "score=accuracy_score(np.argmax(test_labels,axis=1),np.argmax(pred_y_,axis=1))\n",
        "print(score,\" acuracy\")\n",
        "print(\"quadratic kappa \",quadratic_kappa(np.argmax(pred_y_,axis=1),np.argmax(test_labels,axis=1)))"
      ],
      "execution_count": 143,
      "outputs": [
        {
          "output_type": "stream",
          "text": [
            "[[30  0  4  0  0]\n",
            " [ 5  0  0  0  0]\n",
            " [ 6  0 22  3  1]\n",
            " [ 2  0  7  9  1]\n",
            " [ 2  0  3  3  5]]\n",
            "0.6407766990291263  acuracy\n",
            "quadratic kappa  0.6889270095919205\n"
          ],
          "name": "stdout"
        },
        {
          "output_type": "display_data",
          "data": {
            "image/png": "[encoded data removed]",
            "text/plain": [
              "<Figure size 432x288 with 1 Axes>"
            ]
          },
          "metadata": {
            "tags": [],
            "needs_background": "light"
          }
        }
      ]
    },
    {
      "cell_type": "code",
      "metadata": {
        "id": "jQ1arohQY-nE"
      },
      "source": [
        "#del train_images,train_labels\n",
        "#del train_datagen"
      ],
      "execution_count": null,
      "outputs": []
    },
    {
      "cell_type": "code",
      "metadata": {
        "id": "WckI8C8YfVgl"
      },
      "source": [
        "#del x,test_datagen,test_y_,pred_y_tta"
      ],
      "execution_count": null,
      "outputs": []
    },
    {
      "cell_type": "code",
      "metadata": {
        "id": "Oq_pweIsZhdb"
      },
      "source": [
        "test_datagen = ImageDataGenerator(\n",
        "    shear_range=0.0,\n",
        "    zoom_range=[0.75,1],\n",
        "    width_shift_range=1.1,\n",
        "    height_shift_range=0.05,\n",
        "    rotation_range=15,\n",
        "    fill_mode='nearest',\n",
        "    horizontal_flip=True,\n",
        "    vertical_flip=True)\n",
        "test_datagen.fit(test_images)\n",
        "pred_y_tta=np.zeros((102,5))\n",
        "x=test_datagen.flow(test_images,test_labels,batch_size=6)\n",
        "test_y_=np.zeros((102,5))"
      ],
      "execution_count": 93,
      "outputs": []
    },
    {
      "cell_type": "code",
      "metadata": {
        "id": "rrFa49dDZxVn",
        "colab": {
          "base_uri": "https://localhost:8080/",
          "height": 388
        },
        "outputId": "11ca11b6-5a1c-4831-8f15-bee03063ce18"
      },
      "source": [
        "for i,(img,lbl) in enumerate(x):\n",
        "  #print(img.shape,lbl.shape)\n",
        "  pred_y_tta[6*i:6*i+6]=model.predict(img)\n",
        "  test_y_[6*i:6*i+6,:]=lbl\n",
        "  if i==16:\n",
        "    break\n",
        "cm=confusion_matrix(np.argmax(test_y_,axis=1),np.argmax(pred_y_tta,axis=1))\n",
        "print(cm)\n",
        "plt.imshow(cm, cmap='binary')\n",
        "score=accuracy_score(np.argmax(test_y_,axis=1),np.argmax(pred_y_tta,axis=1))\n",
        "print(score,\" accuracy\")\n",
        "print(\"quadratic kappa \",quadratic_kappa(np.argmax(pred_y_tta,axis=1),np.argmax(test_y_,axis=1)))"
      ],
      "execution_count": 149,
      "outputs": [
        {
          "output_type": "stream",
          "text": [
            "[[33  1  3  0  0]\n",
            " [ 5  1  0  0  0]\n",
            " [ 4  0 21  3  0]\n",
            " [ 0  0  5 10  2]\n",
            " [ 2  0  4  1  7]]\n",
            "0.7058823529411765  accuracy\n",
            "quadratic kappa  0.7760094451003542\n"
          ],
          "name": "stdout"
        },
        {
          "output_type": "display_data",
          "data": {
            "image/png": "[encoded data removed]",
            "text/plain": [
              "<Figure size 432x288 with 1 Axes>"
            ]
          },
          "metadata": {
            "tags": [],
            "needs_background": "light"
          }
        }
      ]
    },
    {
      "cell_type": "code",
      "metadata": {
        "colab": {
          "base_uri": "https://localhost:8080/",
          "height": 318
        },
        "id": "dU-XPBFMwMca",
        "outputId": "488bed9a-5baf-41d6-aa0d-870a2d3523a0"
      },
      "source": [
        "plt.hist(np.argmax(test_y_,axis=1))"
      ],
      "execution_count": 150,
      "outputs": [
        {
          "output_type": "execute_result",
          "data": {
            "text/plain": [
              "(array([37.,  0.,  6.,  0.,  0., 28.,  0., 17.,  0., 14.]),\n",
              " array([0. , 0.4, 0.8, 1.2, 1.6, 2. , 2.4, 2.8, 3.2, 3.6, 4. ]),\n",
              " <a list of 10 Patch objects>)"
            ]
          },
          "metadata": {
            "tags": []
          },
          "execution_count": 150
        },
        {
          "output_type": "display_data",
          "data": {
            "image/png": "[encoded data removed]",
            "text/plain": [
              "<Figure size 432x288 with 1 Axes>"
            ]
          },
          "metadata": {
            "tags": [],
            "needs_background": "light"
          }
        }
      ]
    },
    {
      "cell_type": "markdown",
      "metadata": {
        "id": "asmkJgCXmMi0"
      },
      "source": [
        "## save model to disk"
      ]
    },
    {
      "cell_type": "code",
      "metadata": {
        "id": "uaovl69LApc9",
        "colab": {
          "base_uri": "https://localhost:8080/"
        },
        "outputId": "b561f2f9-175b-4926-fee3-74283546701b"
      },
      "source": [
        "# serialize model to JSON\n",
        "model_json = model.to_json()\n",
        "with open(\"/content/drive/My Drive/IDRid/model_eff4_Late_fusion_Attention_based_lesion.json\", \"w\") as json_file:\n",
        "    json_file.write(model_json)\n",
        "# serialize weights to HDF5\n",
        "model.save_weights(\"/content/drive/My Drive/IDRid/model_eff4_Late_fusion_Attention_based_lesion.h5\")\n",
        "print(\"Saved model to disk\")"
      ],
      "execution_count": 151,
      "outputs": [
        {
          "output_type": "stream",
          "text": [
            "Saved model to disk\n"
          ],
          "name": "stdout"
        }
      ]
    },
    {
      "cell_type": "markdown",
      "metadata": {
        "id": "d7oKBPimmQdZ"
      },
      "source": [
        "## test on best validation model"
      ]
    },
    {
      "cell_type": "code",
      "metadata": {
        "id": "x-mAv-F_gI_Y",
        "colab": {
          "base_uri": "https://localhost:8080/"
        },
        "outputId": "3b708104-70c7-48f6-8419-47a3a6ccfc95"
      },
      "source": [
        "model_1=build_model(5,'EfficientNetB4')\n",
        "model_1.load_weights(\"weights.07-0.71.hdf5\") "
      ],
      "execution_count": 154,
      "outputs": [
        {
          "output_type": "stream",
          "text": [
            "model_EX  Model loaded and compiled\n",
            "model_MA  Model loaded and compiled\n",
            "model_SE  Model loaded and compiled\n",
            "model_HE_1  Model loaded and compiled\n"
          ],
          "name": "stdout"
        }
      ]
    },
    {
      "cell_type": "code",
      "metadata": {
        "colab": {
          "base_uri": "https://localhost:8080/",
          "height": 388
        },
        "id": "ZaNDWYINmVW0",
        "outputId": "25bc2c1e-99dc-45f4-ace8-89500350a73b"
      },
      "source": [
        "pred_y_=np.zeros((test_labels.shape))\n",
        "for i in range(18):\n",
        "  pred_y_[6*i:6*i+6]=model_1.predict(test_images[6*i:6*i+6])\n",
        "cm=confusion_matrix(np.argmax(test_labels,axis=1),np.argmax(pred_y_,axis=1))\n",
        "print(cm)\n",
        "plt.imshow(cm, cmap='binary')\n",
        "score=accuracy_score(np.argmax(test_labels,axis=1),np.argmax(pred_y_,axis=1))\n",
        "print(score,\" acuracy\")\n",
        "print(\"quadratic kappa \",quadratic_kappa(np.argmax(pred_y_,axis=1),np.argmax(test_labels,axis=1)))"
      ],
      "execution_count": 160,
      "outputs": [
        {
          "output_type": "stream",
          "text": [
            "[[28  2  4  0  0]\n",
            " [ 5  0  0  0  0]\n",
            " [ 4  4 19  4  1]\n",
            " [ 2  0  6  9  2]\n",
            " [ 2  0  3  5  3]]\n",
            "0.5728155339805825  acuracy\n",
            "quadratic kappa  0.6789530971699981\n"
          ],
          "name": "stdout"
        },
        {
          "output_type": "display_data",
          "data": {
            "image/png": "[encoded data removed]",
            "text/plain": [
              "<Figure size 432x288 with 1 Axes>"
            ]
          },
          "metadata": {
            "tags": [],
            "needs_background": "light"
          }
        }
      ]
    },
    {
      "cell_type": "code",
      "metadata": {
        "colab": {
          "base_uri": "https://localhost:8080/",
          "height": 388
        },
        "id": "rNhzC0fdrHV_",
        "outputId": "0eacac8f-2c4d-4cec-ea70-348e195533ce"
      },
      "source": [
        "for i,(img,lbl) in enumerate(x):\n",
        "  #print(img.shape,lbl.shape)\n",
        "  pred_y_tta[6*i:6*i+6]=model_1.predict(img)\n",
        "  test_y_[6*i:6*i+6,:]=lbl\n",
        "  if i==16:\n",
        "    break\n",
        "cm=confusion_matrix(np.argmax(test_y_,axis=1),np.argmax(pred_y_tta,axis=1))\n",
        "print(cm)\n",
        "plt.imshow(cm, cmap='binary')\n",
        "score=accuracy_score(np.argmax(test_y_,axis=1),np.argmax(pred_y_tta,axis=1))\n",
        "print(score,\" accuracy\")\n",
        "print(\"quadratic kappa \",quadratic_kappa(np.argmax(pred_y_tta,axis=1),np.argmax(test_y_,axis=1)))"
      ],
      "execution_count": 170,
      "outputs": [
        {
          "output_type": "stream",
          "text": [
            "[[25  6  3  0  0]\n",
            " [ 3  1  1  0  0]\n",
            " [ 3  3 22  3  0]\n",
            " [ 2  0  7  7  3]\n",
            " [ 1  0  5  2  5]]\n",
            "0.5882352941176471  accuracy\n",
            "quadratic kappa  0.7169929850277458\n"
          ],
          "name": "stdout"
        },
        {
          "output_type": "display_data",
          "data": {
            "image/png": "[encoded data removed]",
            "text/plain": [
              "<Figure size 432x288 with 1 Axes>"
            ]
          },
          "metadata": {
            "tags": [],
            "needs_background": "light"
          }
        }
      ]
    },
    {
      "cell_type": "code",
      "metadata": {
        "id": "mN56S0nOecro",
        "colab": {
          "base_uri": "https://localhost:8080/"
        },
        "outputId": "1dc34cbf-d3e3-4c2d-cfb6-1b8f7f6bf960"
      },
      "source": [
        "test_y_[-2:],pred_y_tta[-2:]"
      ],
      "execution_count": 152,
      "outputs": [
        {
          "output_type": "execute_result",
          "data": {
            "text/plain": [
              "(array([[1., 0., 0., 0., 0.],\n",
              "        [0., 1., 0., 0., 0.]]),\n",
              " array([[9.57671523e-01, 4.18191217e-02, 4.65519086e-04, 3.92664915e-05,\n",
              "         4.39963287e-06],\n",
              "        [9.27567184e-01, 1.46416007e-02, 3.63852642e-02, 3.45239928e-03,\n",
              "         1.79534964e-02]]))"
            ]
          },
          "metadata": {
            "tags": []
          },
          "execution_count": 152
        }
      ]
    },
    {
      "cell_type": "code",
      "metadata": {
        "id": "tOt5_aVdhaXO",
        "colab": {
          "base_uri": "https://localhost:8080/"
        },
        "outputId": "a7a48335-fd91-4625-be2a-aad0efcde1c4"
      },
      "source": [
        "pred_y_tta.shape"
      ],
      "execution_count": 153,
      "outputs": [
        {
          "output_type": "execute_result",
          "data": {
            "text/plain": [
              "(102, 5)"
            ]
          },
          "metadata": {
            "tags": []
          },
          "execution_count": 153
        }
      ]
    },
    {
      "cell_type": "code",
      "metadata": {
        "id": "shOZraL91zhq"
      },
      "source": [
        ""
      ],
      "execution_count": 73,
      "outputs": []
    },
    {
      "cell_type": "code",
      "metadata": {
        "id": "TDIkHu1c13vb"
      },
      "source": [
        ""
      ],
      "execution_count": null,
      "outputs": []
    }
  ]
}